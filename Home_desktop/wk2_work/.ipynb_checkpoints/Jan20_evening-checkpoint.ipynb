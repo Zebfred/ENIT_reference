{
 "cells": [
  {
   "cell_type": "code",
   "execution_count": 1,
   "metadata": {},
   "outputs": [],
   "source": [
    "'''\n",
    "You are given an array of integers. On each move you are allowed to increase exactly one of its element by one. Find the minimal number of moves required to obtain a strictly increasing sequence from the input.\n",
    "Example\n",
    "For inputArray = [1, 1, 1], the output should be\n",
    "arrayChange(inputArray) = 3.\n",
    "'''\n",
    "def arrayChange(inputArray):\n",
    "    c = []\n",
    "    for i in range(len(inputArray) - 1):\n",
    "        if inputArray[i] >= inputArray[i+1]:\n",
    "            c.append(inputArray[i] - inputArray[i+1] + 1)\n",
    "            inputArray[i+1] = inputArray[i]+ 1\n",
    "    return sum(c)"
   ]
  },
  {
   "cell_type": "code",
   "execution_count": 4,
   "metadata": {},
   "outputs": [],
   "source": [
    "inputArray = [1, 1, 1]\n",
    "inArr2 = [1 , 4 , 5]"
   ]
  },
  {
   "cell_type": "code",
   "execution_count": 3,
   "metadata": {},
   "outputs": [
    {
     "data": {
      "text/plain": [
       "3"
      ]
     },
     "execution_count": 3,
     "metadata": {},
     "output_type": "execute_result"
    }
   ],
   "source": [
    "arrayChange(inputArray)"
   ]
  },
  {
   "cell_type": "code",
   "execution_count": 5,
   "metadata": {},
   "outputs": [
    {
     "data": {
      "text/plain": [
       "0"
      ]
     },
     "execution_count": 5,
     "metadata": {},
     "output_type": "execute_result"
    }
   ],
   "source": [
    "arrayChange(inArr2)"
   ]
  },
  {
   "cell_type": "code",
   "execution_count": null,
   "metadata": {},
   "outputs": [],
   "source": [
    "def arrayChange(inputArray):\n",
    "    cou = []\n",
    "    for it in range(len(inputArray) - 1):\n",
    "        if inputArray[it] >= inputArray[it+ 1]:\n",
    "            cou.append(inputArray[it] - inputArray[it + 1] + 1)\n",
    "            inputArray[it + 1] = inputArray[it] + 1\n",
    "    return sum(cou) \n",
    "\n"
   ]
  },
  {
   "cell_type": "code",
   "execution_count": null,
   "metadata": {},
   "outputs": [],
   "source": [
    "\n",
    "/*Please add ; after each select statement*/\n",
    "CREATE PROCEDURE newsSubscribers()\n",
    "BEGIN\n",
    "    SELECT subscriber FROM half_year\n",
    "    WHERE newspaper LIKE \"%Daily%\"\n",
    "    UNION SELECT subscriber FROM full_year\n",
    "    WHERE newspaper LIKE \"%Daily%\"\n",
    "    ORDER BY subscriber ASC;\n",
    "END"
   ]
  }
 ],
 "metadata": {
  "kernelspec": {
   "display_name": "Python 3",
   "language": "python",
   "name": "python3"
  },
  "language_info": {
   "codemirror_mode": {
    "name": "ipython",
    "version": 3
   },
   "file_extension": ".py",
   "mimetype": "text/x-python",
   "name": "python",
   "nbconvert_exporter": "python",
   "pygments_lexer": "ipython3",
   "version": "3.8.3"
  }
 },
 "nbformat": 4,
 "nbformat_minor": 4
}
