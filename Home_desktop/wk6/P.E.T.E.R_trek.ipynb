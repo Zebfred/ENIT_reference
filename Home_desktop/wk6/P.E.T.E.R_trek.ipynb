{
 "cells": [
  {
   "cell_type": "code",
   "execution_count": 2,
   "metadata": {},
   "outputs": [],
   "source": [
    "import nltk\n",
    "import numpy as np\n",
    "import pandas as pd\n",
    "import re\n",
    "import string\n",
    "import matplotlib.pyplot as plt\n",
    "import pandas as pd\n",
    "\n",
    "from nltk import word_tokenize\n",
    "from nltk.corpus import stopwords\n",
    "from nltk.stem.porter import PorterStemmer\n",
    "from nltk import pos_tag\n",
    "from pandas import DataFrame"
   ]
  },
  {
   "cell_type": "code",
   "execution_count": 1,
   "metadata": {},
   "outputs": [
    {
     "data": {
      "text/html": [
       "<div>\n",
       "<style scoped>\n",
       "    .dataframe tbody tr th:only-of-type {\n",
       "        vertical-align: middle;\n",
       "    }\n",
       "\n",
       "    .dataframe tbody tr th {\n",
       "        vertical-align: top;\n",
       "    }\n",
       "\n",
       "    .dataframe thead th {\n",
       "        text-align: right;\n",
       "    }\n",
       "</style>\n",
       "<table border=\"1\" class=\"dataframe\">\n",
       "  <thead>\n",
       "    <tr style=\"text-align: right;\">\n",
       "      <th></th>\n",
       "      <th>DS9</th>\n",
       "      <th>TOS</th>\n",
       "      <th>TAS</th>\n",
       "      <th>TNG</th>\n",
       "      <th>VOY</th>\n",
       "      <th>ENT</th>\n",
       "    </tr>\n",
       "  </thead>\n",
       "  <tbody>\n",
       "    <tr>\n",
       "      <th>episode 0</th>\n",
       "      <td>\\n\\n\\n\\n\\n\\nThe Deep Space Nine Transcripts - ...</td>\n",
       "      <td>\\n\\n\\n\\n\\n\\nThe Star Trek Transcripts - The Ca...</td>\n",
       "      <td>\\n\\n\\n\\n\\n\\nThe Animated Star Trek Transcripts...</td>\n",
       "      <td>\\n\\n\\n\\n\\n\\nThe Next Generation Transcripts - ...</td>\n",
       "      <td>\\n\\n\\n\\n\\nThe Voyager Transcripts - Caretaker\\...</td>\n",
       "      <td>\\n\\n\\n\\n\\n\\nThe Enterprise Transcripts - Broke...</td>\n",
       "    </tr>\n",
       "    <tr>\n",
       "      <th>episode 1</th>\n",
       "      <td>\\n\\n\\n\\n\\n\\nThe Deep Space Nine Transcripts - ...</td>\n",
       "      <td>\\n\\n\\n\\n\\n\\nThe Star Trek Transcripts - The Ma...</td>\n",
       "      <td>\\n\\n\\n\\n\\n\\nThe Animated Star Trek Transcripts...</td>\n",
       "      <td>\\n\\n\\n\\n\\n\\nThe Next Generation Transcripts - ...</td>\n",
       "      <td>\\n\\n\\n\\n\\n\\nThe Voyager Transcripts - Parallax...</td>\n",
       "      <td>\\n\\n\\n\\n\\n\\nThe Enterprise Transcripts - Fight...</td>\n",
       "    </tr>\n",
       "    <tr>\n",
       "      <th>episode 2</th>\n",
       "      <td>\\n\\n\\n\\n\\n\\nThe Deep Space Nine Transcripts - ...</td>\n",
       "      <td>\\n\\n\\n\\n\\n\\nThe Star Trek Transcripts - Charli...</td>\n",
       "      <td>\\n\\n\\n\\n\\n\\nThe Animated Star Trek Transcripts...</td>\n",
       "      <td>\\n\\n\\n\\n\\n\\nThe Next Generation Transcripts - ...</td>\n",
       "      <td>\\n\\n\\n\\n\\n\\nThe Voyager Transcripts - Time and...</td>\n",
       "      <td>\\n\\n\\n\\n\\n\\nThe Enterprise Transcripts - Stran...</td>\n",
       "    </tr>\n",
       "    <tr>\n",
       "      <th>episode 3</th>\n",
       "      <td>\\n\\n\\n\\n\\n\\nThe Deep Space Nine Transcripts - ...</td>\n",
       "      <td>\\n\\n\\n\\n\\n\\nThe Star Trek Transcripts - Where ...</td>\n",
       "      <td>\\n\\n\\n\\n\\n\\nThe Animated Star Trek Transcripts...</td>\n",
       "      <td>\\n\\n\\n\\n\\n\\nThe Next Generation Transcripts - ...</td>\n",
       "      <td>\\n\\n\\n\\n\\n\\n\\nThe Voyager Transcripts - Phage\\...</td>\n",
       "      <td>\\n\\n\\n\\n\\n\\nThe Enterprise Transcripts - Unexp...</td>\n",
       "    </tr>\n",
       "    <tr>\n",
       "      <th>episode 4</th>\n",
       "      <td>\\n\\n\\n\\n\\n\\nThe Deep Space Nine Transcripts - ...</td>\n",
       "      <td>\\n\\n\\n\\n\\n\\nThe Star Trek Transcripts - The Na...</td>\n",
       "      <td>\\n\\n\\n\\n\\n\\nThe Animated Star Trek Transcripts...</td>\n",
       "      <td>\\n\\n\\n\\n\\n\\nThe Next Generation Transcripts - ...</td>\n",
       "      <td>\\n\\n\\n\\n\\n\\nThe Voyager Transcripts - The Clou...</td>\n",
       "      <td>\\n\\n\\n\\n\\n\\nThe Enterprise Transcripts - Terra...</td>\n",
       "    </tr>\n",
       "    <tr>\n",
       "      <th>...</th>\n",
       "      <td>...</td>\n",
       "      <td>...</td>\n",
       "      <td>...</td>\n",
       "      <td>...</td>\n",
       "      <td>...</td>\n",
       "      <td>...</td>\n",
       "    </tr>\n",
       "    <tr>\n",
       "      <th>episode 171</th>\n",
       "      <td>\\n\\n\\n\\n\\n\\nThe Deep Space Nine Transcripts - ...</td>\n",
       "      <td>NaN</td>\n",
       "      <td>NaN</td>\n",
       "      <td>\\n\\n\\n\\n\\n\\nThe Next Generation Transcripts - ...</td>\n",
       "      <td>NaN</td>\n",
       "      <td>NaN</td>\n",
       "    </tr>\n",
       "    <tr>\n",
       "      <th>episode 172</th>\n",
       "      <td>\\n\\n\\n\\n\\n\\nThe Deep Space Nine Transcripts - ...</td>\n",
       "      <td>NaN</td>\n",
       "      <td>NaN</td>\n",
       "      <td>\\n\\n\\n\\n\\n\\nThe Next Generation Transcripts - ...</td>\n",
       "      <td>NaN</td>\n",
       "      <td>NaN</td>\n",
       "    </tr>\n",
       "    <tr>\n",
       "      <th>episode 173</th>\n",
       "      <td>NaN</td>\n",
       "      <td>NaN</td>\n",
       "      <td>NaN</td>\n",
       "      <td>\\n\\n\\n\\n\\n\\nThe Next Generation Transcripts - ...</td>\n",
       "      <td>NaN</td>\n",
       "      <td>NaN</td>\n",
       "    </tr>\n",
       "    <tr>\n",
       "      <th>episode 174</th>\n",
       "      <td>NaN</td>\n",
       "      <td>NaN</td>\n",
       "      <td>NaN</td>\n",
       "      <td>\\n\\n\\n\\n\\n\\nThe Next Generation Transcripts - ...</td>\n",
       "      <td>NaN</td>\n",
       "      <td>NaN</td>\n",
       "    </tr>\n",
       "    <tr>\n",
       "      <th>episode 175</th>\n",
       "      <td>NaN</td>\n",
       "      <td>NaN</td>\n",
       "      <td>NaN</td>\n",
       "      <td>\\n\\n\\n\\n\\n\\nThe Next Generation Transcripts - ...</td>\n",
       "      <td>NaN</td>\n",
       "      <td>NaN</td>\n",
       "    </tr>\n",
       "  </tbody>\n",
       "</table>\n",
       "<p>176 rows × 6 columns</p>\n",
       "</div>"
      ],
      "text/plain": [
       "                                                           DS9  \\\n",
       "episode 0    \\n\\n\\n\\n\\n\\nThe Deep Space Nine Transcripts - ...   \n",
       "episode 1    \\n\\n\\n\\n\\n\\nThe Deep Space Nine Transcripts - ...   \n",
       "episode 2    \\n\\n\\n\\n\\n\\nThe Deep Space Nine Transcripts - ...   \n",
       "episode 3    \\n\\n\\n\\n\\n\\nThe Deep Space Nine Transcripts - ...   \n",
       "episode 4    \\n\\n\\n\\n\\n\\nThe Deep Space Nine Transcripts - ...   \n",
       "...                                                        ...   \n",
       "episode 171  \\n\\n\\n\\n\\n\\nThe Deep Space Nine Transcripts - ...   \n",
       "episode 172  \\n\\n\\n\\n\\n\\nThe Deep Space Nine Transcripts - ...   \n",
       "episode 173                                                NaN   \n",
       "episode 174                                                NaN   \n",
       "episode 175                                                NaN   \n",
       "\n",
       "                                                           TOS  \\\n",
       "episode 0    \\n\\n\\n\\n\\n\\nThe Star Trek Transcripts - The Ca...   \n",
       "episode 1    \\n\\n\\n\\n\\n\\nThe Star Trek Transcripts - The Ma...   \n",
       "episode 2    \\n\\n\\n\\n\\n\\nThe Star Trek Transcripts - Charli...   \n",
       "episode 3    \\n\\n\\n\\n\\n\\nThe Star Trek Transcripts - Where ...   \n",
       "episode 4    \\n\\n\\n\\n\\n\\nThe Star Trek Transcripts - The Na...   \n",
       "...                                                        ...   \n",
       "episode 171                                                NaN   \n",
       "episode 172                                                NaN   \n",
       "episode 173                                                NaN   \n",
       "episode 174                                                NaN   \n",
       "episode 175                                                NaN   \n",
       "\n",
       "                                                           TAS  \\\n",
       "episode 0    \\n\\n\\n\\n\\n\\nThe Animated Star Trek Transcripts...   \n",
       "episode 1    \\n\\n\\n\\n\\n\\nThe Animated Star Trek Transcripts...   \n",
       "episode 2    \\n\\n\\n\\n\\n\\nThe Animated Star Trek Transcripts...   \n",
       "episode 3    \\n\\n\\n\\n\\n\\nThe Animated Star Trek Transcripts...   \n",
       "episode 4    \\n\\n\\n\\n\\n\\nThe Animated Star Trek Transcripts...   \n",
       "...                                                        ...   \n",
       "episode 171                                                NaN   \n",
       "episode 172                                                NaN   \n",
       "episode 173                                                NaN   \n",
       "episode 174                                                NaN   \n",
       "episode 175                                                NaN   \n",
       "\n",
       "                                                           TNG  \\\n",
       "episode 0    \\n\\n\\n\\n\\n\\nThe Next Generation Transcripts - ...   \n",
       "episode 1    \\n\\n\\n\\n\\n\\nThe Next Generation Transcripts - ...   \n",
       "episode 2    \\n\\n\\n\\n\\n\\nThe Next Generation Transcripts - ...   \n",
       "episode 3    \\n\\n\\n\\n\\n\\nThe Next Generation Transcripts - ...   \n",
       "episode 4    \\n\\n\\n\\n\\n\\nThe Next Generation Transcripts - ...   \n",
       "...                                                        ...   \n",
       "episode 171  \\n\\n\\n\\n\\n\\nThe Next Generation Transcripts - ...   \n",
       "episode 172  \\n\\n\\n\\n\\n\\nThe Next Generation Transcripts - ...   \n",
       "episode 173  \\n\\n\\n\\n\\n\\nThe Next Generation Transcripts - ...   \n",
       "episode 174  \\n\\n\\n\\n\\n\\nThe Next Generation Transcripts - ...   \n",
       "episode 175  \\n\\n\\n\\n\\n\\nThe Next Generation Transcripts - ...   \n",
       "\n",
       "                                                           VOY  \\\n",
       "episode 0    \\n\\n\\n\\n\\nThe Voyager Transcripts - Caretaker\\...   \n",
       "episode 1    \\n\\n\\n\\n\\n\\nThe Voyager Transcripts - Parallax...   \n",
       "episode 2    \\n\\n\\n\\n\\n\\nThe Voyager Transcripts - Time and...   \n",
       "episode 3    \\n\\n\\n\\n\\n\\n\\nThe Voyager Transcripts - Phage\\...   \n",
       "episode 4    \\n\\n\\n\\n\\n\\nThe Voyager Transcripts - The Clou...   \n",
       "...                                                        ...   \n",
       "episode 171                                                NaN   \n",
       "episode 172                                                NaN   \n",
       "episode 173                                                NaN   \n",
       "episode 174                                                NaN   \n",
       "episode 175                                                NaN   \n",
       "\n",
       "                                                           ENT  \n",
       "episode 0    \\n\\n\\n\\n\\n\\nThe Enterprise Transcripts - Broke...  \n",
       "episode 1    \\n\\n\\n\\n\\n\\nThe Enterprise Transcripts - Fight...  \n",
       "episode 2    \\n\\n\\n\\n\\n\\nThe Enterprise Transcripts - Stran...  \n",
       "episode 3    \\n\\n\\n\\n\\n\\nThe Enterprise Transcripts - Unexp...  \n",
       "episode 4    \\n\\n\\n\\n\\n\\nThe Enterprise Transcripts - Terra...  \n",
       "...                                                        ...  \n",
       "episode 171                                                NaN  \n",
       "episode 172                                                NaN  \n",
       "episode 173                                                NaN  \n",
       "episode 174                                                NaN  \n",
       "episode 175                                                NaN  \n",
       "\n",
       "[176 rows x 6 columns]"
      ]
     },
     "execution_count": 1,
     "metadata": {},
     "output_type": "execute_result"
    }
   ],
   "source": [
    "\n",
    "pd.read_json(r'all_scripts_raw.json')"
   ]
  },
  {
   "cell_type": "code",
   "execution_count": 4,
   "metadata": {},
   "outputs": [
    {
     "data": {
      "text/html": [
       "<div>\n",
       "<style scoped>\n",
       "    .dataframe tbody tr th:only-of-type {\n",
       "        vertical-align: middle;\n",
       "    }\n",
       "\n",
       "    .dataframe tbody tr th {\n",
       "        vertical-align: top;\n",
       "    }\n",
       "\n",
       "    .dataframe thead th {\n",
       "        text-align: right;\n",
       "    }\n",
       "</style>\n",
       "<table border=\"1\" class=\"dataframe\">\n",
       "  <thead>\n",
       "    <tr style=\"text-align: right;\">\n",
       "      <th></th>\n",
       "      <th>ENT</th>\n",
       "      <th>DS9</th>\n",
       "      <th>TOS</th>\n",
       "      <th>TAS</th>\n",
       "      <th>TNG</th>\n",
       "      <th>VOY</th>\n",
       "    </tr>\n",
       "  </thead>\n",
       "  <tbody>\n",
       "    <tr>\n",
       "      <th>episode 0</th>\n",
       "      <td>{'KLAANG': ['', '', 'Pung ghap! Pung ghap!', '...</td>\n",
       "      <td>{'JENNIFER': ['Hey!', 'Yes?', 'I'm sorry did w...</td>\n",
       "      <td>{'HASKINS': ['Doctor Theodore Haskins, America...</td>\n",
       "      <td>{'MCCOY': ['If its pull is this strong, Jim, h...</td>\n",
       "      <td>{'BAILIFF': ['The prisoners will all stand.', ...</td>\n",
       "      <td>{'JANEWAY': ['Tom Paris? Kathryn Janeway. I se...</td>\n",
       "    </tr>\n",
       "    <tr>\n",
       "      <th>episode 1</th>\n",
       "      <td>{'KLAANG': [], 'DOCK': [], 'ARCHER': ['Come in...</td>\n",
       "      <td>{'JENNIFER': [], 'OPS': [], 'JASAD': [], 'PICA...</td>\n",
       "      <td>{'HASKINS': [], 'TALOSIAN': [], 'GEOLOGIST': [...</td>\n",
       "      <td>{'MCCOY': ['Who's he, Jim?', 'Afraid I don't, ...</td>\n",
       "      <td>{'BAILIFF': [], 'MCCOY': [], 'PICARD': ['Repor...</td>\n",
       "      <td>{'JANEWAY': ['What about alternative energy so...</td>\n",
       "    </tr>\n",
       "    <tr>\n",
       "      <th>episode 2</th>\n",
       "      <td>{'KLAANG': [], 'DOCK': [], 'ARCHER': ['T'Pol.'...</td>\n",
       "      <td>{'JENNIFER': [], 'OPS': [], 'JASAD': [], 'PICA...</td>\n",
       "      <td>{'HASKINS': [], 'TALOSIAN': [], 'GEOLOGIST': [...</td>\n",
       "      <td>{'MCCOY': ['Jim, if we can't stop it, millions...</td>\n",
       "      <td>{'BAILIFF': [], 'MCCOY': [], 'PICARD': ['On ou...</td>\n",
       "      <td>{'JANEWAY': ['Report!', 'Mister Paris, can you...</td>\n",
       "    </tr>\n",
       "    <tr>\n",
       "      <th>episode 3</th>\n",
       "      <td>{'KLAANG': [], 'DOCK': [], 'ARCHER': ['Archer ...</td>\n",
       "      <td>{'JENNIFER': [], 'OPS': [], 'JASAD': [], 'PICA...</td>\n",
       "      <td>{'HASKINS': [], 'TALOSIAN': [], 'GEOLOGIST': [...</td>\n",
       "      <td>{'MCCOY': ['Magnolias in blossom. Beautiful.',...</td>\n",
       "      <td>{'BAILIFF': [], 'MCCOY': [], 'PICARD': ['Enlar...</td>\n",
       "      <td>{'JANEWAY': ['Assuming we do find dilithium on...</td>\n",
       "    </tr>\n",
       "    <tr>\n",
       "      <th>episode 4</th>\n",
       "      <td>{'KLAANG': [], 'DOCK': [], 'ARCHER': ['Are we ...</td>\n",
       "      <td>{'JENNIFER': [], 'OPS': [], 'JASAD': [], 'PICA...</td>\n",
       "      <td>{'HASKINS': [], 'TALOSIAN': [], 'GEOLOGIST': [...</td>\n",
       "      <td>{'MCCOY': ['I don't want to think about it.', ...</td>\n",
       "      <td>{'BAILIFF': [], 'MCCOY': [], 'PICARD': ['I don...</td>\n",
       "      <td>{'JANEWAY': ['Personal log,Stardate 48546.2. O...</td>\n",
       "    </tr>\n",
       "    <tr>\n",
       "      <th>...</th>\n",
       "      <td>...</td>\n",
       "      <td>...</td>\n",
       "      <td>...</td>\n",
       "      <td>...</td>\n",
       "      <td>...</td>\n",
       "      <td>...</td>\n",
       "    </tr>\n",
       "    <tr>\n",
       "      <th>episode 171</th>\n",
       "      <td>NaN</td>\n",
       "      <td>{'JENNIFER': [], 'OPS': [], 'JASAD': [], 'PICA...</td>\n",
       "      <td>NaN</td>\n",
       "      <td>NaN</td>\n",
       "      <td>{'BAILIFF': [], 'MCCOY': [], 'PICARD': ['As a ...</td>\n",
       "      <td>NaN</td>\n",
       "    </tr>\n",
       "    <tr>\n",
       "      <th>episode 172</th>\n",
       "      <td>NaN</td>\n",
       "      <td>{'JENNIFER': [], 'OPS': [], 'JASAD': [], 'PICA...</td>\n",
       "      <td>NaN</td>\n",
       "      <td>NaN</td>\n",
       "      <td>{'BAILIFF': [], 'MCCOY': [], 'PICARD': ['Repor...</td>\n",
       "      <td>NaN</td>\n",
       "    </tr>\n",
       "    <tr>\n",
       "      <th>episode 173</th>\n",
       "      <td>NaN</td>\n",
       "      <td>NaN</td>\n",
       "      <td>NaN</td>\n",
       "      <td>NaN</td>\n",
       "      <td>{'BAILIFF': [], 'MCCOY': [], 'PICARD': ['Data,...</td>\n",
       "      <td>NaN</td>\n",
       "    </tr>\n",
       "    <tr>\n",
       "      <th>episode 174</th>\n",
       "      <td>NaN</td>\n",
       "      <td>NaN</td>\n",
       "      <td>NaN</td>\n",
       "      <td>NaN</td>\n",
       "      <td>{'BAILIFF': [], 'MCCOY': [], 'PICARD': ['Lieut...</td>\n",
       "      <td>NaN</td>\n",
       "    </tr>\n",
       "    <tr>\n",
       "      <th>episode 175</th>\n",
       "      <td>NaN</td>\n",
       "      <td>NaN</td>\n",
       "      <td>NaN</td>\n",
       "      <td>NaN</td>\n",
       "      <td>{'BAILIFF': [], 'MCCOY': [], 'PICARD': ['Couns...</td>\n",
       "      <td>NaN</td>\n",
       "    </tr>\n",
       "  </tbody>\n",
       "</table>\n",
       "<p>176 rows × 6 columns</p>\n",
       "</div>"
      ],
      "text/plain": [
       "                                                           ENT  \\\n",
       "episode 0    {'KLAANG': ['', '', 'Pung ghap! Pung ghap!', '...   \n",
       "episode 1    {'KLAANG': [], 'DOCK': [], 'ARCHER': ['Come in...   \n",
       "episode 2    {'KLAANG': [], 'DOCK': [], 'ARCHER': ['T'Pol.'...   \n",
       "episode 3    {'KLAANG': [], 'DOCK': [], 'ARCHER': ['Archer ...   \n",
       "episode 4    {'KLAANG': [], 'DOCK': [], 'ARCHER': ['Are we ...   \n",
       "...                                                        ...   \n",
       "episode 171                                                NaN   \n",
       "episode 172                                                NaN   \n",
       "episode 173                                                NaN   \n",
       "episode 174                                                NaN   \n",
       "episode 175                                                NaN   \n",
       "\n",
       "                                                           DS9  \\\n",
       "episode 0    {'JENNIFER': ['Hey!', 'Yes?', 'I'm sorry did w...   \n",
       "episode 1    {'JENNIFER': [], 'OPS': [], 'JASAD': [], 'PICA...   \n",
       "episode 2    {'JENNIFER': [], 'OPS': [], 'JASAD': [], 'PICA...   \n",
       "episode 3    {'JENNIFER': [], 'OPS': [], 'JASAD': [], 'PICA...   \n",
       "episode 4    {'JENNIFER': [], 'OPS': [], 'JASAD': [], 'PICA...   \n",
       "...                                                        ...   \n",
       "episode 171  {'JENNIFER': [], 'OPS': [], 'JASAD': [], 'PICA...   \n",
       "episode 172  {'JENNIFER': [], 'OPS': [], 'JASAD': [], 'PICA...   \n",
       "episode 173                                                NaN   \n",
       "episode 174                                                NaN   \n",
       "episode 175                                                NaN   \n",
       "\n",
       "                                                           TOS  \\\n",
       "episode 0    {'HASKINS': ['Doctor Theodore Haskins, America...   \n",
       "episode 1    {'HASKINS': [], 'TALOSIAN': [], 'GEOLOGIST': [...   \n",
       "episode 2    {'HASKINS': [], 'TALOSIAN': [], 'GEOLOGIST': [...   \n",
       "episode 3    {'HASKINS': [], 'TALOSIAN': [], 'GEOLOGIST': [...   \n",
       "episode 4    {'HASKINS': [], 'TALOSIAN': [], 'GEOLOGIST': [...   \n",
       "...                                                        ...   \n",
       "episode 171                                                NaN   \n",
       "episode 172                                                NaN   \n",
       "episode 173                                                NaN   \n",
       "episode 174                                                NaN   \n",
       "episode 175                                                NaN   \n",
       "\n",
       "                                                           TAS  \\\n",
       "episode 0    {'MCCOY': ['If its pull is this strong, Jim, h...   \n",
       "episode 1    {'MCCOY': ['Who's he, Jim?', 'Afraid I don't, ...   \n",
       "episode 2    {'MCCOY': ['Jim, if we can't stop it, millions...   \n",
       "episode 3    {'MCCOY': ['Magnolias in blossom. Beautiful.',...   \n",
       "episode 4    {'MCCOY': ['I don't want to think about it.', ...   \n",
       "...                                                        ...   \n",
       "episode 171                                                NaN   \n",
       "episode 172                                                NaN   \n",
       "episode 173                                                NaN   \n",
       "episode 174                                                NaN   \n",
       "episode 175                                                NaN   \n",
       "\n",
       "                                                           TNG  \\\n",
       "episode 0    {'BAILIFF': ['The prisoners will all stand.', ...   \n",
       "episode 1    {'BAILIFF': [], 'MCCOY': [], 'PICARD': ['Repor...   \n",
       "episode 2    {'BAILIFF': [], 'MCCOY': [], 'PICARD': ['On ou...   \n",
       "episode 3    {'BAILIFF': [], 'MCCOY': [], 'PICARD': ['Enlar...   \n",
       "episode 4    {'BAILIFF': [], 'MCCOY': [], 'PICARD': ['I don...   \n",
       "...                                                        ...   \n",
       "episode 171  {'BAILIFF': [], 'MCCOY': [], 'PICARD': ['As a ...   \n",
       "episode 172  {'BAILIFF': [], 'MCCOY': [], 'PICARD': ['Repor...   \n",
       "episode 173  {'BAILIFF': [], 'MCCOY': [], 'PICARD': ['Data,...   \n",
       "episode 174  {'BAILIFF': [], 'MCCOY': [], 'PICARD': ['Lieut...   \n",
       "episode 175  {'BAILIFF': [], 'MCCOY': [], 'PICARD': ['Couns...   \n",
       "\n",
       "                                                           VOY  \n",
       "episode 0    {'JANEWAY': ['Tom Paris? Kathryn Janeway. I se...  \n",
       "episode 1    {'JANEWAY': ['What about alternative energy so...  \n",
       "episode 2    {'JANEWAY': ['Report!', 'Mister Paris, can you...  \n",
       "episode 3    {'JANEWAY': ['Assuming we do find dilithium on...  \n",
       "episode 4    {'JANEWAY': ['Personal log,Stardate 48546.2. O...  \n",
       "...                                                        ...  \n",
       "episode 171                                                NaN  \n",
       "episode 172                                                NaN  \n",
       "episode 173                                                NaN  \n",
       "episode 174                                                NaN  \n",
       "episode 175                                                NaN  \n",
       "\n",
       "[176 rows x 6 columns]"
      ]
     },
     "execution_count": 4,
     "metadata": {},
     "output_type": "execute_result"
    }
   ],
   "source": [
    "\n",
    "pd.read_json(r'all_series_lines.json')"
   ]
  },
  {
   "cell_type": "code",
   "execution_count": 7,
   "metadata": {},
   "outputs": [],
   "source": [
    "import requests\n",
    "import pandas as pd\n",
    "from bs4 import BeautifulSoup\n",
    "import string\n",
    "import re\n",
    "import nltk\n",
    "import json\n",
    "import matplotlib.pyplot as plt"
   ]
  },
  {
   "cell_type": "code",
   "execution_count": 23,
   "metadata": {},
   "outputs": [],
   "source": [
    "import nltk\n",
    "import numpy as np\n",
    "import pandas as pd\n",
    "import re\n",
    "import string\n",
    "import matplotlib.pyplot as plt\n",
    "import pandas as pd\n",
    "\n",
    "from nltk import word_tokenize\n",
    "from nltk.corpus import stopwords\n",
    "from nltk.stem.porter import PorterStemmer\n",
    "from nltk import pos_tag\n",
    "from pandas import DataFrame"
   ]
  },
  {
   "cell_type": "code",
   "execution_count": 21,
   "metadata": {},
   "outputs": [
    {
     "ename": "LookupError",
     "evalue": "\n**********************************************************************\n  Resource \u001b[93mpunkt\u001b[0m not found.\n  Please use the NLTK Downloader to obtain the resource:\n\n  \u001b[31m>>> import nltk\n  >>> nltk.download('punkt')\n  \u001b[0m\n  For more information see: https://www.nltk.org/data.html\n\n  Attempted to load \u001b[93mtokenizers/punkt/PY3/english.pickle\u001b[0m\n\n  Searched in:\n    - '/home/zebfred/nltk_data'\n    - '/home/zebfred/miniconda3/nltk_data'\n    - '/home/zebfred/miniconda3/share/nltk_data'\n    - '/home/zebfred/miniconda3/lib/nltk_data'\n    - '/usr/share/nltk_data'\n    - '/usr/local/share/nltk_data'\n    - '/usr/lib/nltk_data'\n    - '/usr/local/lib/nltk_data'\n    - ''\n**********************************************************************\n",
     "output_type": "error",
     "traceback": [
      "\u001b[0;31m---------------------------------------------------------------------------\u001b[0m",
      "\u001b[0;31mLookupError\u001b[0m                               Traceback (most recent call last)",
      "\u001b[0;32m<ipython-input-21-905e50661301>\u001b[0m in \u001b[0;36m<module>\u001b[0;34m\u001b[0m\n\u001b[1;32m      2\u001b[0m \u001b[0;34m\u001b[0m\u001b[0m\n\u001b[1;32m      3\u001b[0m \u001b[0mdata\u001b[0m \u001b[0;34m=\u001b[0m \u001b[0;34m\"All work and no play makes jack dull boy. All work and no play makes jack a dull boy.\"\u001b[0m\u001b[0;34m\u001b[0m\u001b[0;34m\u001b[0m\u001b[0m\n\u001b[0;32m----> 4\u001b[0;31m \u001b[0mwords\u001b[0m \u001b[0;34m=\u001b[0m \u001b[0mword_tokenize\u001b[0m\u001b[0;34m(\u001b[0m\u001b[0mdata\u001b[0m\u001b[0;34m)\u001b[0m\u001b[0;34m\u001b[0m\u001b[0;34m\u001b[0m\u001b[0m\n\u001b[0m\u001b[1;32m      5\u001b[0m \u001b[0mprint\u001b[0m\u001b[0;34m(\u001b[0m\u001b[0mwords\u001b[0m\u001b[0;34m)\u001b[0m\u001b[0;34m\u001b[0m\u001b[0;34m\u001b[0m\u001b[0m\n",
      "\u001b[0;32m~/miniconda3/lib/python3.8/site-packages/nltk/tokenize/__init__.py\u001b[0m in \u001b[0;36mword_tokenize\u001b[0;34m(text, language, preserve_line)\u001b[0m\n\u001b[1;32m    127\u001b[0m     \u001b[0;34m:\u001b[0m\u001b[0mtype\u001b[0m \u001b[0mpreserve_line\u001b[0m\u001b[0;34m:\u001b[0m \u001b[0mbool\u001b[0m\u001b[0;34m\u001b[0m\u001b[0;34m\u001b[0m\u001b[0m\n\u001b[1;32m    128\u001b[0m     \"\"\"\n\u001b[0;32m--> 129\u001b[0;31m     \u001b[0msentences\u001b[0m \u001b[0;34m=\u001b[0m \u001b[0;34m[\u001b[0m\u001b[0mtext\u001b[0m\u001b[0;34m]\u001b[0m \u001b[0;32mif\u001b[0m \u001b[0mpreserve_line\u001b[0m \u001b[0;32melse\u001b[0m \u001b[0msent_tokenize\u001b[0m\u001b[0;34m(\u001b[0m\u001b[0mtext\u001b[0m\u001b[0;34m,\u001b[0m \u001b[0mlanguage\u001b[0m\u001b[0;34m)\u001b[0m\u001b[0;34m\u001b[0m\u001b[0;34m\u001b[0m\u001b[0m\n\u001b[0m\u001b[1;32m    130\u001b[0m     return [\n\u001b[1;32m    131\u001b[0m         \u001b[0mtoken\u001b[0m \u001b[0;32mfor\u001b[0m \u001b[0msent\u001b[0m \u001b[0;32min\u001b[0m \u001b[0msentences\u001b[0m \u001b[0;32mfor\u001b[0m \u001b[0mtoken\u001b[0m \u001b[0;32min\u001b[0m \u001b[0m_treebank_word_tokenizer\u001b[0m\u001b[0;34m.\u001b[0m\u001b[0mtokenize\u001b[0m\u001b[0;34m(\u001b[0m\u001b[0msent\u001b[0m\u001b[0;34m)\u001b[0m\u001b[0;34m\u001b[0m\u001b[0;34m\u001b[0m\u001b[0m\n",
      "\u001b[0;32m~/miniconda3/lib/python3.8/site-packages/nltk/tokenize/__init__.py\u001b[0m in \u001b[0;36msent_tokenize\u001b[0;34m(text, language)\u001b[0m\n\u001b[1;32m    104\u001b[0m     \u001b[0;34m:\u001b[0m\u001b[0mparam\u001b[0m \u001b[0mlanguage\u001b[0m\u001b[0;34m:\u001b[0m \u001b[0mthe\u001b[0m \u001b[0mmodel\u001b[0m \u001b[0mname\u001b[0m \u001b[0;32min\u001b[0m \u001b[0mthe\u001b[0m \u001b[0mPunkt\u001b[0m \u001b[0mcorpus\u001b[0m\u001b[0;34m\u001b[0m\u001b[0;34m\u001b[0m\u001b[0m\n\u001b[1;32m    105\u001b[0m     \"\"\"\n\u001b[0;32m--> 106\u001b[0;31m     \u001b[0mtokenizer\u001b[0m \u001b[0;34m=\u001b[0m \u001b[0mload\u001b[0m\u001b[0;34m(\u001b[0m\u001b[0;34m\"tokenizers/punkt/{0}.pickle\"\u001b[0m\u001b[0;34m.\u001b[0m\u001b[0mformat\u001b[0m\u001b[0;34m(\u001b[0m\u001b[0mlanguage\u001b[0m\u001b[0;34m)\u001b[0m\u001b[0;34m)\u001b[0m\u001b[0;34m\u001b[0m\u001b[0;34m\u001b[0m\u001b[0m\n\u001b[0m\u001b[1;32m    107\u001b[0m     \u001b[0;32mreturn\u001b[0m \u001b[0mtokenizer\u001b[0m\u001b[0;34m.\u001b[0m\u001b[0mtokenize\u001b[0m\u001b[0;34m(\u001b[0m\u001b[0mtext\u001b[0m\u001b[0;34m)\u001b[0m\u001b[0;34m\u001b[0m\u001b[0;34m\u001b[0m\u001b[0m\n\u001b[1;32m    108\u001b[0m \u001b[0;34m\u001b[0m\u001b[0m\n",
      "\u001b[0;32m~/miniconda3/lib/python3.8/site-packages/nltk/data.py\u001b[0m in \u001b[0;36mload\u001b[0;34m(resource_url, format, cache, verbose, logic_parser, fstruct_reader, encoding)\u001b[0m\n\u001b[1;32m    750\u001b[0m \u001b[0;34m\u001b[0m\u001b[0m\n\u001b[1;32m    751\u001b[0m     \u001b[0;31m# Load the resource.\u001b[0m\u001b[0;34m\u001b[0m\u001b[0;34m\u001b[0m\u001b[0;34m\u001b[0m\u001b[0m\n\u001b[0;32m--> 752\u001b[0;31m     \u001b[0mopened_resource\u001b[0m \u001b[0;34m=\u001b[0m \u001b[0m_open\u001b[0m\u001b[0;34m(\u001b[0m\u001b[0mresource_url\u001b[0m\u001b[0;34m)\u001b[0m\u001b[0;34m\u001b[0m\u001b[0;34m\u001b[0m\u001b[0m\n\u001b[0m\u001b[1;32m    753\u001b[0m \u001b[0;34m\u001b[0m\u001b[0m\n\u001b[1;32m    754\u001b[0m     \u001b[0;32mif\u001b[0m \u001b[0mformat\u001b[0m \u001b[0;34m==\u001b[0m \u001b[0;34m\"raw\"\u001b[0m\u001b[0;34m:\u001b[0m\u001b[0;34m\u001b[0m\u001b[0;34m\u001b[0m\u001b[0m\n",
      "\u001b[0;32m~/miniconda3/lib/python3.8/site-packages/nltk/data.py\u001b[0m in \u001b[0;36m_open\u001b[0;34m(resource_url)\u001b[0m\n\u001b[1;32m    875\u001b[0m \u001b[0;34m\u001b[0m\u001b[0m\n\u001b[1;32m    876\u001b[0m     \u001b[0;32mif\u001b[0m \u001b[0mprotocol\u001b[0m \u001b[0;32mis\u001b[0m \u001b[0;32mNone\u001b[0m \u001b[0;32mor\u001b[0m \u001b[0mprotocol\u001b[0m\u001b[0;34m.\u001b[0m\u001b[0mlower\u001b[0m\u001b[0;34m(\u001b[0m\u001b[0;34m)\u001b[0m \u001b[0;34m==\u001b[0m \u001b[0;34m\"nltk\"\u001b[0m\u001b[0;34m:\u001b[0m\u001b[0;34m\u001b[0m\u001b[0;34m\u001b[0m\u001b[0m\n\u001b[0;32m--> 877\u001b[0;31m         \u001b[0;32mreturn\u001b[0m \u001b[0mfind\u001b[0m\u001b[0;34m(\u001b[0m\u001b[0mpath_\u001b[0m\u001b[0;34m,\u001b[0m \u001b[0mpath\u001b[0m \u001b[0;34m+\u001b[0m \u001b[0;34m[\u001b[0m\u001b[0;34m\"\"\u001b[0m\u001b[0;34m]\u001b[0m\u001b[0;34m)\u001b[0m\u001b[0;34m.\u001b[0m\u001b[0mopen\u001b[0m\u001b[0;34m(\u001b[0m\u001b[0;34m)\u001b[0m\u001b[0;34m\u001b[0m\u001b[0;34m\u001b[0m\u001b[0m\n\u001b[0m\u001b[1;32m    878\u001b[0m     \u001b[0;32melif\u001b[0m \u001b[0mprotocol\u001b[0m\u001b[0;34m.\u001b[0m\u001b[0mlower\u001b[0m\u001b[0;34m(\u001b[0m\u001b[0;34m)\u001b[0m \u001b[0;34m==\u001b[0m \u001b[0;34m\"file\"\u001b[0m\u001b[0;34m:\u001b[0m\u001b[0;34m\u001b[0m\u001b[0;34m\u001b[0m\u001b[0m\n\u001b[1;32m    879\u001b[0m         \u001b[0;31m# urllib might not use mode='rb', so handle this one ourselves:\u001b[0m\u001b[0;34m\u001b[0m\u001b[0;34m\u001b[0m\u001b[0;34m\u001b[0m\u001b[0m\n",
      "\u001b[0;32m~/miniconda3/lib/python3.8/site-packages/nltk/data.py\u001b[0m in \u001b[0;36mfind\u001b[0;34m(resource_name, paths)\u001b[0m\n\u001b[1;32m    583\u001b[0m     \u001b[0msep\u001b[0m \u001b[0;34m=\u001b[0m \u001b[0;34m\"*\"\u001b[0m \u001b[0;34m*\u001b[0m \u001b[0;36m70\u001b[0m\u001b[0;34m\u001b[0m\u001b[0;34m\u001b[0m\u001b[0m\n\u001b[1;32m    584\u001b[0m     \u001b[0mresource_not_found\u001b[0m \u001b[0;34m=\u001b[0m \u001b[0;34m\"\\n%s\\n%s\\n%s\\n\"\u001b[0m \u001b[0;34m%\u001b[0m \u001b[0;34m(\u001b[0m\u001b[0msep\u001b[0m\u001b[0;34m,\u001b[0m \u001b[0mmsg\u001b[0m\u001b[0;34m,\u001b[0m \u001b[0msep\u001b[0m\u001b[0;34m)\u001b[0m\u001b[0;34m\u001b[0m\u001b[0;34m\u001b[0m\u001b[0m\n\u001b[0;32m--> 585\u001b[0;31m     \u001b[0;32mraise\u001b[0m \u001b[0mLookupError\u001b[0m\u001b[0;34m(\u001b[0m\u001b[0mresource_not_found\u001b[0m\u001b[0;34m)\u001b[0m\u001b[0;34m\u001b[0m\u001b[0;34m\u001b[0m\u001b[0m\n\u001b[0m\u001b[1;32m    586\u001b[0m \u001b[0;34m\u001b[0m\u001b[0m\n\u001b[1;32m    587\u001b[0m \u001b[0;34m\u001b[0m\u001b[0m\n",
      "\u001b[0;31mLookupError\u001b[0m: \n**********************************************************************\n  Resource \u001b[93mpunkt\u001b[0m not found.\n  Please use the NLTK Downloader to obtain the resource:\n\n  \u001b[31m>>> import nltk\n  >>> nltk.download('punkt')\n  \u001b[0m\n  For more information see: https://www.nltk.org/data.html\n\n  Attempted to load \u001b[93mtokenizers/punkt/PY3/english.pickle\u001b[0m\n\n  Searched in:\n    - '/home/zebfred/nltk_data'\n    - '/home/zebfred/miniconda3/nltk_data'\n    - '/home/zebfred/miniconda3/share/nltk_data'\n    - '/home/zebfred/miniconda3/lib/nltk_data'\n    - '/usr/share/nltk_data'\n    - '/usr/local/share/nltk_data'\n    - '/usr/lib/nltk_data'\n    - '/usr/local/lib/nltk_data'\n    - ''\n**********************************************************************\n"
     ]
    }
   ],
   "source": [
    "from nltk.tokenize import sent_tokenize, word_tokenize\n",
    " \n",
    "data = \"All work and no play makes jack dull boy. All work and no play makes jack a dull boy.\"\n",
    "words = word_tokenize(data)\n",
    "print(words)"
   ]
  },
  {
   "cell_type": "code",
   "execution_count": 6,
   "metadata": {},
   "outputs": [
    {
     "name": "stdout",
     "output_type": "stream",
     "text": [
      "Collecting bs4\n",
      "  Downloading bs4-0.0.1.tar.gz (1.1 kB)\n",
      "Collecting beautifulsoup4\n",
      "  Downloading beautifulsoup4-4.9.3-py3-none-any.whl (115 kB)\n",
      "\u001b[K     |████████████████████████████████| 115 kB 5.1 MB/s eta 0:00:01\n",
      "\u001b[?25hCollecting soupsieve>1.2; python_version >= \"3.0\"\n",
      "  Downloading soupsieve-2.1-py3-none-any.whl (32 kB)\n",
      "Building wheels for collected packages: bs4\n",
      "  Building wheel for bs4 (setup.py) ... \u001b[?25ldone\n",
      "\u001b[?25h  Created wheel for bs4: filename=bs4-0.0.1-py3-none-any.whl size=1273 sha256=e6d34bd4df9c6014a450fe7d39ae1b26ed95e96cf68e90d1826fb097321e782b\n",
      "  Stored in directory: /home/zebfred/.cache/pip/wheels/75/78/21/68b124549c9bdc94f822c02fb9aa3578a669843f9767776bca\n",
      "Successfully built bs4\n",
      "Installing collected packages: soupsieve, beautifulsoup4, bs4\n",
      "Successfully installed beautifulsoup4-4.9.3 bs4-0.0.1 soupsieve-2.1\n"
     ]
    }
   ],
   "source": [
    "#!pip install bs4"
   ]
  },
  {
   "cell_type": "code",
   "execution_count": 25,
   "metadata": {},
   "outputs": [
    {
     "name": "stdout",
     "output_type": "stream",
     "text": [
      "Requirement already satisfied: nltk in /home/zebfred/miniconda3/lib/python3.8/site-packages (3.5)\n",
      "Requirement already satisfied: click in /home/zebfred/miniconda3/lib/python3.8/site-packages (from nltk) (7.1.2)\n",
      "Requirement already satisfied: joblib in /home/zebfred/miniconda3/lib/python3.8/site-packages (from nltk) (0.16.0)\n",
      "Requirement already satisfied: tqdm in /home/zebfred/miniconda3/lib/python3.8/site-packages (from nltk) (4.56.0)\n",
      "Requirement already satisfied: regex in /home/zebfred/miniconda3/lib/python3.8/site-packages (from nltk) (2020.7.14)\n"
     ]
    }
   ],
   "source": [
    "!pip install nltk"
   ]
  },
  {
   "cell_type": "code",
   "execution_count": 26,
   "metadata": {},
   "outputs": [],
   "source": [
    "from nltk.corpus import stopwords"
   ]
  },
  {
   "cell_type": "code",
   "execution_count": null,
   "metadata": {},
   "outputs": [],
   "source": [
    "## Get the text and cast from an episode\n",
    "\n",
    "To explore the approach, we'll first look at a single episode. In this case, the episode \"What you leave behind\" from Deep Space Nine. The script is here: 'http://www.chakoteya.net/DS9/575.htm'\n",
    "\n",
    "The process uses the following procedures.\n",
    "\n",
    "get_text:     gets the script text from a given url\n",
    "\n",
    "clean_text:   cleans the script text \n",
    "\n",
    "get_cast:     gets the characters from that scrip"
   ]
  },
  {
   "cell_type": "code",
   "execution_count": 8,
   "metadata": {},
   "outputs": [],
   "source": [
    "def get_text(url):\n",
    "    response = requests.get(url)\n",
    "    content = response.content\n",
    "    parser = BeautifulSoup(content,'html.parser')\n",
    "    return(parser.text)"
   ]
  },
  {
   "cell_type": "code",
   "execution_count": null,
   "metadata": {},
   "outputs": [],
   "source": []
  },
  {
   "cell_type": "code",
   "execution_count": 9,
   "metadata": {},
   "outputs": [],
   "source": [
    "def clean_text(script):\n",
    "    script_clean=script.strip()\n",
    "    script_clean=script_clean.replace(\"\\n\",\"\")\n",
    "    script_clean=script_clean.replace(\"\\r\",\" \")\n",
    "    script_clean=script_clean.replace(\"\\r\\n\",\"\")\n",
    "    script_clean=re.sub(\"([\\(\\[]).*?([\\)\\]])\", \"\", script_clean)\n",
    "    script_clean=re.sub(r'\\.([a-zA-Z])', r'. \\1', script_clean) #remove missing whitespace between character lines.\n",
    "    script_clean=re.sub(r'\\!([a-zA-Z])', r'! \\1', script_clean)\n",
    "    script_clean=re.sub(r'\\?([a-zA-Z])', r'? \\1', script_clean)\n",
    "    return(script_clean)"
   ]
  },
  {
   "cell_type": "code",
   "execution_count": null,
   "metadata": {},
   "outputs": [],
   "source": []
  },
  {
   "cell_type": "code",
   "execution_count": 10,
   "metadata": {},
   "outputs": [],
   "source": [
    "def get_cast(script_clean):\n",
    "    tokens=nltk.word_tokenize(script_clean)\n",
    "    cast=[]\n",
    "    for word in tokens:\n",
    "        if re.search(\"\\\\b[A-Z]{3,}\\\\b\", word) is not None:\n",
    "            cast.append(word)\n",
    "    return(list(set(cast)))"
   ]
  },
  {
   "cell_type": "code",
   "execution_count": 11,
   "metadata": {},
   "outputs": [],
   "source": [
    "script=get_text('http://www.chakoteya.net/DS9/575.htm')"
   ]
  },
  {
   "cell_type": "code",
   "execution_count": 12,
   "metadata": {
    "collapsed": true,
    "jupyter": {
     "outputs_hidden": true
    }
   },
   "outputs": [
    {
     "data": {
      "text/plain": [
       "\"\\n\\n\\n\\n\\n\\nThe Deep Space Nine Transcripts - What You Leave Behind\\n\\n\\n\\nWhat\\r\\nYou Leave Behind\\nStardate:\\r\\nUnknown\\r\\nOriginal Airdate: 31 May, 1999\\n\\n\\n\\n\\n\\n\\n  [Bashir's\\r\\nbedroom] \\nCOMPUTER: Doctor Bashir. The time is oh five\\r\\nhundred. \\r\\nBASHIR: Yeah, all right. \\r\\nEZRI: Julian. \\r\\nBASHIR: Yes. \\r\\nEZRI: We have to get up. \\r\\nBASHIR: Are you sure? \\r\\nEZRI: It's a big day. \\r\\nBASHIR: It was a big night. It cleared up a lot of unanswered\\r\\nquestions. \\r\\nEZRI: Such as? \\r\\nBASHIR: Such as just how far these spots really go down. \\r\\nEZRI: I suppose you'll want to tell Miles. \\r\\nBASHIR: Why would I want to do that? \\r\\nEZRI: Because you tell him everything. \\r\\nBASHIR: True, but you know what? In this case, I'm going to make an\\r\\nexception. \\r\\nEZRI: Good. Oh, we really should get up. We don't want the Defiant\\r\\nleaving without us. \\r\\nBASHIR: You know, I've never been into battle with someone I've slept\\r\\nwith before. \\r\\nEZRI: There's a first time for everything. \\r\\nBASHIR: Now that we're finally together, it'd be such a shame if\\r\\nsomething happened to one of us. \\r\\nEZRI: Let's make a pact. We both come home alive. \\r\\nBASHIR: You've got yourself a deal. \\r\\nEZRI: I'm holding you to that.\\r\\n\\n [O'Brien's quarters]\\n\\nO'BRIEN: Oh, and don't forget Kirayoshi has his\\r\\ncheckup at oh nine hundred tomorrow. \\r\\nKEIKO: I've already confirmed the appointment with Nurse Bandee. One\\r\\nmore bite \\r\\nO'BRIEN: And don't stay up too late writing that paper on, what those\\r\\ntrees are called? \\r\\nKEIKO: Arfillian Ficus and they're not trees, they're shrubs. \\r\\nO'BRIEN: Yeah, well, try to get some sleep. Oh, and \\r\\nKEIKO: Honey, we'll be fine. Stop worrying. \\r\\nO'BRIEN: Right. Molly. Please don't touch that. \\r\\n(Molly is about to play with the Alamo model soldiers.) \\r\\nMOLLY: I let you play with my toys. \\r\\nO'BRIEN: Yeah, but you see, this isn't a toy. This is a model. \\r\\nKEIKO: Maybe it belongs in a museum then. \\r\\nO'BRIEN: I suppose I could give it to Julian. \\r\\nKEIKO: Sounds good to me. Speaking of Julian. Have you told him about\\r\\nStarfleet's offer yet? \\r\\nO'BRIEN: No, not yet. \\r\\nMOLLY: I knew it. \\r\\nO'BRIEN: What's that supposed to mean? \\r\\nMOLLY: We're not going back to Earth. \\r\\nO'BRIEN: Of course we are. Daddy's going to teach at the Academy, when\\r\\nthe war's over. \\r\\nMOLLY: Then why haven't you told Julian? \\r\\nKEIKO: Out of the mouth of babes. \\r\\nO'BRIEN: I'll tell him, you know, when I think he's ready to hear it. \\n [Sisko's quarters]\\n\\n(Sisko puts a cold towel on Kasidy's forehead.) \\r\\nSISKO: How's that? \\r\\nKASIDY: Oh, it's doing wonders for my head, but it's my stomach that's\\r\\nbothering me. \\r\\nSISKO: Well, if it will help, morning sickness ends after the first\\r\\ntrimester. \\r\\nKASIDY: Oh, that's two more months. I don't think I'm going to make it.\\r\\n\\r\\nSISKO: You're going to make it. \\r\\nKASIDY: Ben? Promise me something. Promise that you'll come home to us.\\r\\n\\r\\nSISKO: I promise. \\r\\nKASIDY: I don't believe it \\r\\nSISKO: I said I promise. \\r\\nKASIDY: No, it's not \\r\\n(Kasidy runs for the bathroom and the doorbell rings.) \\r\\nSISKO: Come in. \\r\\nJAKE: Hey. I thought I'd walk you to the Defiant. \\r\\nSISKO: I'd like that. \\r\\nJAKE: How's Kas? \\r\\n(Coughs off-screen then she enters, bedraggled.) \\r\\nKASIDY: Reports of my death have been exaggerated. But not by much. \\r\\nJAKE: Isn't there something she can take to make her feel better? \\r\\nSISKO: She doesn't like taking medication unless it's absolutely\\r\\nnecessary. \\r\\nJAKE: Sounds necessary to me. \\r\\nKASIDY: Waiting for you to leave only makes me feel worse. If you're\\r\\ngoing to go, just go. \\r\\nSISKO: You're sure I can't get you anything? \\r\\nKASIDY: Just hurry up and come back home. \\r\\n(Kasidy does the bathroom run again.) \\n [Promenade]\\n\\nODO: Mind if I walk with you, Commander? \\r\\nWORF: Not at all. Captain Sisko informed me that you would be joining\\r\\nus on the mission. I hope that when we reach Cardassia, we find Colonel\\r\\nKira alive and well. \\r\\nODO: So do I, Commander. So do I.\\r\\n\\n [Bridge]\\n\\nNOG: Captain on the Bridge. \\r\\nSISKO: All right people, what do you say we end this war? \\r\\nO'BRIEN: Sounds good to me. \\r\\nSISKO: Ensign, I believe you know the way to Cardassia. \\r\\nNOG: If I get lost, I'll just follow the ship in front of us. \\r\\n(The huge armada heads out as we go to the main titles.)\\r\\n\\n [Dominion briefing room] \\n(It is sunset symbolically and literally on\\r\\nCardassia. The Founder is a terminally ill lifeform.) \\r\\nWEYOUN: The Federation invasion fleet has left Deep Space Nine. It will\\r\\nreach the Cardassian border by tomorrow night. \\r\\nGOR: (electronic noise) \\r\\nFOUNDER: Our brave Jem'Hadar soldiers have a motto. Victory is Life. \\r\\nGOR: (electronic noise) \\r\\nFOUNDER: I'm glad you're familiar with it. Because today, those words\\r\\nhave meaning for us all. The outcome of this battle will determine the\\r\\noutcome of the war. Either we destroy their invasion forces or they\\r\\ndestroy us. There is no other option. \\r\\nGOR: (electronic noise) \\r\\nFOUNDER: Fight well today, and Romulus will be yours to do with as you\\r\\nwish. \\r\\nGOR: (electronic noise) \\r\\nFOUNDER: Yes, yes and Earth too. \\r\\nGOR: (electronic noise) \\r\\nFOUNDER: I assure you, the pleasure is all mine. \\r\\nGOR: (electronic noise) \\r\\n(Gor moves back to the tactical display. Weyoun is looking concerned.) \\r\\nFOUNDER: Is something bothering you? \\r\\nWEYOUN: Apparently, I was under the mistaken impression that all\\r\\nFederation territories would fall under my jurisdiction, including\\r\\nEarth. \\r\\nFOUNDER: And so they shall. \\r\\nWEYOUN: But you promised the Breen. \\r\\nFOUNDER: I would promise the Breen the entire Alpha Quadrant if I\\r\\nthought it would help win this war. \\r\\nWEYOUN: The Founder is wise in all things. \\r\\n(Broca enters) \\r\\nBROCA: Founder. I've heard a disturbing rumour about the traitor Damar.\\r\\n\\r\\nWEYOUN: What about him? \\r\\nBROCA: He may be alive. \\r\\nFOUNDER: Is this possible? \\r\\nWEYOUN: I don't see how. We destroyed his ship, his rebel bases. \\r\\nFOUNDER: But his body was never found. \\r\\nBROCA: They say he's here on Cardassia Prime. In the capital, no less. \\r\\nFOUNDER: Look into this matter. \\r\\nWEYOUN: If Damar is alive \\r\\nBROCA: He won't be for long.\\r\\n\\n [Cardassian alley] \\n(Dead of night. Damar and Garak sneak along, then a\\r\\nlight is shone at Garak.) \\r\\nJEM'HADAR: Halt. Step forward. Slowly. \\r\\nGARAK: I'm sorry, have we done something wrong? We're new to the city\\r\\nand I'm afraid we're lost. \\r\\nJEM'HADAR: Quiet! You are Legate Damar. \\r\\nGARAK: I told you you looked like him. I can't tell you how many times\\r\\nmy cousin has been mistaken for that traitor. \\r\\nJEM'HADAR: He will be taken to Dominion Headquarters. You will die\\r\\nhere. \\r\\nBREEN: (electronic noise) \\r\\nJEM'HADAR: I do not understand you. \\r\\n(The Breen shoots both Jem'Hadar. It then removes it's faceplate to\\r\\nreveal Kira.) \\r\\nGARAK: I don't mean to sound ungrateful, but what are you doing here? \\r\\nKIRA: Watching your backs. \\r\\nDAMAR: I thought we decided it would be safer if you stayed out of\\r\\nsight. \\r\\nKIRA: That's what the helmet's for. You should be wearing one too.\\r\\nEvery Jem'Hadar and Breen soldier on Cardassia is looking for you. \\r\\nDAMAR: If I'm going to lead this revolt, I can't do it hiding in a\\r\\ncellar. It was necessary for me to attend the gathering tonight. \\r\\nKIRA: Well, fill me in later. If anyone stops us, you're my prisoners.\\r\\n\\n [Cardassian cellar] \\nGARAK: But the vote was unanimous. The work\\r\\ndisruptions begin tomorrow. \\r\\nDAMAR: Power, communication and transportation facilities throughout\\r\\nCardassia will be sabotaged. \\r\\nGARAK: The Dominion fleet will be cut off from all ground support. \\r\\nKIRA: That way, they'll have to face the invasion force on their own. \\r\\nDAMAR: And once the Dominion is crushed \\r\\n(Mila comes down the stairs with a tray.) \\r\\nMILA: All Cardassia will be free again. Oh, when you were a small boy,\\r\\nI was worried about you. Always getting in trouble. So secretive, so\\r\\nfull of deceit. Who would have thought those distasteful\\r\\ncharacteristics would be turned to virtues. More tea? \\r\\nGARAK: You're too kind.\\r\\n\\n [Bridge]\\n\\nSISKO: Do you hear that, Chief? \\r\\nO'BRIEN: Sounds like the Doppler compensators are out of phase. \\r\\nSISKO: Ensign, how's she handling? \\r\\nNOG: She's not quite as smooth as the old Defiant, sir. Feels a bit\\r\\nsluggish. \\r\\nSISKO: Chief? \\r\\nO'BRIEN: I'm on it. O'Brien to Engineering. \\r\\nENGINEER [OC]: Engineering. \\r\\nO'BRIEN: Recalibrate the inertial dampers and check the plasma flow\\r\\nregulators while you're at it. \\r\\nENGINEER [OC]: Right away, Chief. \\r\\nO'BRIEN: You'd think someone would have come up with a better inertial\\r\\ncontrol system. \\r\\nBASHIR: What's that, Miles? \\r\\nO'BRIEN: I said I wish you'd wipe that grin off your face. You're not\\r\\nthe first person to fall in love, you know. \\r\\nBASHIR: I thought you'd be happy for me. \\r\\nO'BRIEN: I am happy for you. O'Brien to Engineering. \\r\\nENGINEER [OC]: Engineering. \\r\\nO'BRIEN: Now try re-aligning the induction coils. \\r\\nENGINEER [OC]: Will do. \\r\\nEZRI: You're sure you're not angry? \\r\\nWORF: Why should I be angry? I have been asking you to tell the doctor\\r\\nhow you feel about him for the past month. \\r\\nEZRI: Well, now that he knows how I feel. \\r\\nWORF: I am happy for you. \\r\\nEZRI: That's a relief. \\r\\nWORF: But I am going to kill him. \\r\\nEZRI: You're kidding, right? \\r\\nWORF: And Jadzia said I did not have a sense of humour. \\r\\nO'BRIEN: Julian, there's something I need to talk to you about. \\r\\nBASHIR: You're getting pressure from Keiko, aren't you? \\r\\nO'BRIEN: How did you know? \\r\\nBASHIR: It's a big decision. I'm surprised it didn't come up sooner. \\r\\nO'BRIEN: Actually, we've been talking about it for quite a while. \\r\\nBASHIR: Well, you can stop talking about it. We'll move the Alamo into\\r\\nmy quarters. \\r\\nNOG: I could still use a little more equalisation on the torque\\r\\nbuffers. \\r\\nO'BRIEN: Right. I'll try to compensate with the impulse response\\r\\nfilters. \\r\\nBASHIR: That way, your quarters won't be so cluttered and you can still\\r\\nuse it whenever you want. \\r\\nO'BRIEN: I wasn't talking about the Alamo model. Besides, it's too big\\r\\nfor your quarters. \\r\\nBASHIR: You let me worry about that. So, what were you talking about? \\r\\nO'BRIEN: Oh, it's nothing that can't wait. Is that any better, Nog? \\r\\nNOG: Torque buffers are stable. \\r\\nSISKO: I wish she were here, too, Constable. \\r\\nODO: If we only knew where Kira was. If we could only be sure that she\\r\\nwas all right. \\r\\nSISKO: The Colonel's a survivor. \\r\\nODO: This war, Captain. It has to end. \\r\\nSISKO: And it will. Soon. One way or the other. \\r\\n(And the Prophets haul him into Limbo)\\r\\n\\n [Promenade] \\n(Outside the Shrine.) \\r\\nSISKO: Mother? \\r\\nSARAH: The Emissary's task is nearing completion. \\r\\nSISKO: Are you talking about the war? \\r\\nSARAH: You have walked the path the Prophets laid out for you,\\r\\nBenjamin. Do not falter now. \\r\\nSISKO: I don't intend to. \\r\\nSARAH: Know this, my son. Your journey's end lies not before you, but\\r\\nbehind you.\\r\\n\\n[Bridge]\\n\\nODO: Captain? Captain? \\r\\nSISKO: The Prophets came to me in a vision \\r\\nODO: I take it they weren't bringing good news. \\r\\nSISKO: I'm not sure. Only time will tell.\\r\\n\\n [Winn's office] \\n(Winn is studying the Kosst Amojan when Dukat\\r\\nenters.) \\r\\nDUKAT: Hello, Adami. \\r\\nWINN: You're back. \\r\\nDUKAT: Is that all you have to say to me? \\r\\nWINN: I see the Pah wraiths have restored your sight. \\r\\nDUKAT: Yes, they've forgiven me. I was hoping you could find it in your\\r\\nheart to do the same. \\r\\nWINN: I don't forgive war criminals. To think I took Gul Dukat to my\\r\\nbed. One of the most hated men in Bajoran history. \\r\\nDUKAT: I've told you how much I regret my actions during the\\r\\noccupation. \\r\\nWINN: Of course you do. \\r\\nDUKAT: Have you learned how to release the Pah wraiths? \\r\\nWINN: The secrets of the Kosst Amojan have been revealed to me, yes. \\r\\nDUKAT: Then why haven't you gone to the Fire Caves and freed them? \\r\\nWINN: I was waiting for you. \\r\\nDUKAT: Then you do forgive me. \\r\\nWINN: I need your help, Dukat. It's as simple as that. \\r\\nDUKAT: All you have to do is ask. Together we will release the Pah\\r\\nwraiths so they can lay claim to the Celestial Temple and destroy the\\r\\nProphets. \\r\\nWINN: And their Emissary. \\r\\nDUKAT: No, no, no. Benjamin Sisko will be dealt with by me and me\\r\\nalone. \\r\\nWINN: Assuming he survives the invasion of Cardassia. \\r\\nDUKAT: Oh, he'll survive. But I promise you, he'll wish he hadn't.\\r\\n\\n[Holosuite - Vic's lounge]\\n\\n(A two man card game is ongoing.) \\r\\nVIC: You going to sit there all night, Quark? \\r\\nQUARK: Got any threes? \\r\\nVIC: Go fish. \\r\\n(Quark draws a card and throws his hand in.) \\r\\nVIC: Don't tell me you're quitting? \\r\\nQUARK: It's just not my game. \\r\\nVIC: Want to try pinochle again? How about rummy, or gin rummy? Five\\r\\ncard stud? Canasta? \\r\\nQUARK: How about some tongo? \\r\\nVIC: Did they play tongo in Las Vegas in nineteen sixty two? \\r\\nQUARK: How could they? It's a Ferengi game. \\r\\nVIC: Which is why my holographic programme can't create it. \\r\\nQUARK: I know, I know, this place is period specific. For a hologram,\\r\\nyou're not very accommodating. \\r\\nVIC: Oh, is that why you dropped by? To insult me? \\r\\nQUARK: I dropped by because I had nothing else to do. My bar hasn't had\\r\\nhalf a dozen customers all day. Everyone's off fighting this stupid\\r\\nwar. \\r\\nVIC: It's not easy staying behind, is it? Knowing that your friends are\\r\\nout there risking their lives. \\r\\nQUARK: They think they have it rough? They should try leading my life\\r\\nfor a day. The hospitality industry isn't for the faint-hearted. \\r\\nVIC: A bartender's life is a lonely one. \\r\\nQUARK: That's true, but few people understand that. They think it's one\\r\\nbig, happy party. They forget that the person giving the party never\\r\\nhas any fun. He's too busy making sure everybody else is having fun.\\r\\nAll I do all day long is give, give, give. \\r\\nVIC: Bartending is a very noble profession. You do it well, under some\\r\\nvery difficult circumstances, I might add. You should be proud. \\r\\n(The band arrives.) \\r\\nQUARK: You think so? \\r\\nVIC: I know so, pallie. \\r\\nQUARK: I just hope Nog and the rest of those heroic idiots come back in\\r\\none piece. \\r\\nGINGER: There you are. Vic, sweetie, are you ready? Jimmy and Peter are\\r\\nabout to go on. \\r\\nVIC: Sorry, pallie, got to run. Durante and Lawford are at the Sands.\\r\\nCan't miss that. \\r\\nQUARK: I thought you said a bartender's life was a lonely one? \\r\\nVIC: It is. But I'm not a bartender. \\r\\n(Vic and Ginger leave. Quark checks Vic's cards. There was a three.) \\r\\nQUARK: Go fish.\\r\\n\\n [Bajoran fire caves] \\n(The outside of the mountain entrance is carved.\\r\\nInside it's too hot for a Bajoran, but just nice for a Cardassian.) \\r\\nDUKAT: Is it really necessary to rest so often? \\r\\nWINN: You don't need to wait for me. Go on ahead. Wander aimlessly\\r\\nthrough these caves for the rest of your miserable life. \\r\\nDUKAT: I'm in no hurry. During the occupation, my people found the\\r\\nBajorans' fear of these caves amusing. And yet we never took the time\\r\\nto visit them. And now, here I am. It's ironic, isn't it? \\r\\nWINN: I don't care. \\r\\nDUKAT: Excuse me? I just meant \\r\\nWINN: I'm sure you have many interesting anecdotes about the\\r\\noccupation, but I don't have any desire to hear them. \\r\\nDUKAT: I meant no disrespect, Adami. \\r\\nWINN: And stop calling me Adami. That privilege is no longer yours. \\r\\nDUKAT: How should I address you then? \\r\\nWINN: From now on, you will address me as Eminence. Is that clear? \\r\\nDUKAT: Perfectly. Eminence.\\r\\n\\n [Dominion briefing room] \\n(Night is falling.) \\r\\nFOUNDER: I see your point. But for two millennia the Jem'Hadar have\\r\\nbeen the Dominion's first line of defence. It would damage their morale\\r\\nto have to take a back seat to the Breen. \\r\\nGOR: (electronic noise) \\r\\nFOUNDER: Very well. In the spirit of our new alliance, I will inform\\r\\nthe Jem'Hadar that the Breen forces will stand alongside them. \\r\\nGOR: (electronic noise) \\r\\nFOUNDER: I'm glad that pleases you. \\r\\nWEYOUN: I think we have a problem. \\r\\nGOR: (electronic noise) \\r\\nWEYOUN: Our lines are spread too thin, especially here, at the centre.\\r\\nWe need to despatch reinforcements immediately. \\r\\nFOUNDER: Do you agree? \\r\\nGOR: (electronic noise) \\r\\nFOUNDER: Notify the Jem'Hadar. Order them to reinforce the centre of\\r\\ntheir lines. \\r\\n(And the power goes out.) \\r\\nFOUNDER: Now what? \\r\\nGOR: (electronic noise) \\r\\nCOMPUTER: Emergency power engaged. \\r\\n(Lights up and Broca enters.) \\r\\nBROCA: Founder, I'm relieved to see that you're all right. \\r\\nWEYOUN: Long range communications are down. I can't contact the\\r\\nJem'Hadar. \\r\\nGOR: (electronic noise) \\r\\nWEYOUN: Of course I'll keep trying. \\r\\nFOUNDER: What caused the power failure? \\r\\nBROCA: I'm afraid it was sabotage. \\r\\nWEYOUN: Almost every Dominion installation on Cardassia Prime has\\r\\nsuffered damage. \\r\\nFOUNDER: Damar. \\r\\nBROCA: We captured some of the terrorists, but they're not soldiers.\\r\\nThey're ordinary citizens. \\r\\n(She grabs Broca by the throat.) \\r\\nFOUNDER: Are you telling me the Cardassian people are rising up against\\r\\nus? \\r\\nBROCA: I'm sure it's only a small number of malcontents. \\r\\nFOUNDER: But we have no way of knowing that, do we? \\r\\nWEYOUN: Founder, may I make a suggestion? \\r\\nFOUNDER: Yes, I am sure that Broca would be very happy to hear what you\\r\\nhave to say. \\r\\nWEYOUN: If the Cardassian people are responsible for these acts of\\r\\nterrorism, if Damar and his fanatics have turned them against us, then\\r\\nit's the people who should be punished. \\r\\nFOUNDER: Now what do you say to that? \\r\\nBROCA: Severely punished. \\r\\n(She lets him go.) \\r\\nFOUNDER: Well I'm glad we all agree. See to it.\\r\\n\\n [Cardassian cellar] \\n(Garak is working on something.) \\r\\nDAMAR: It's been twenty four minutes. \\r\\nKIRA: Not bad. \\r\\nGARAK: If the Dominion hasn't been able to restore power to the\\r\\ncapital, then the entire planet must be in chaos. \\r\\nDAMAR: I hope so. \\r\\nMILA: I'm afraid I was only able to find two more lightsticks. There's\\r\\nmore about the house somewhere but I just couldn't \\r\\nGARAK: Just stop dawdling and give them to me. \\r\\nMILA: How well I remember that tone of voice. It reminds me of the\\r\\ndemanding and inconsiderate boy you used to be. \\r\\nGARAK: I haven't changed much, have I? \\r\\nDAMAR: This will send a clear message to the Dominion. The Cardassian\\r\\npeople will fight to regain their freedom. \\r\\nKIRA: I hope they realise their fight is just beginning. We're going to\\r\\nhave to hit the enemy again and harder this time. \\r\\nGARAK: That won't be easy. They will have tightened their security. \\r\\nKIRA: That doesn't matter. We can't lose our momentum. \\r\\nDAMAR: The Commander is right. We cannot rest until Cardassia's free.\\r\\nAnd when it is, we'll have you to thank for it. Without you, this\\r\\nrebellion would have died in its infancy. \\r\\nGARAK: Ironic, isn't it? The saviour of Cardassia a former Bajoran\\r\\nterrorist. \\r\\nKIRA: Don't canonise me just yet. \\r\\n(Power comes back on.) \\r\\nDAMAR: It's been twenty six and a half minutes. Let's see what the\\r\\nDominion has to say for itself. \\r\\nWEYOUN [on monitor]: Citizens of Cardassia. This latest wave of\\r\\nvandalism directed against your Dominion allies must stop. \\r\\nGARAK: I wouldn't count on it. \\r\\nWEYOUN: [on monitor]: We know these disgraceful acts of sabotage were\\r\\ncarried out by a mere handful of extremists. But these radicals must\\r\\ncome to realise that their disobedience will not be tolerated. That\\r\\nyou, the Cardassian people, will suffer the consequences of their\\r\\ncowardly actions. Which is why I must inform you a few moments ago,\\r\\nDominion troops reduced Lakarian City to ashes. There were no\\r\\nsurvivors. Two million men, women and children gone in a matter of\\r\\nmoments. For each act of sabotage committed against the Dominion,\\r\\nanother Cardassian city will be destroyed. I implore you not to let\\r\\nthat happen. Let us return to the spirit of friendship and cooperation\\r\\nbetween our peoples, so that together, we can defeat our common\\r\\nenemies, the Federation, the Klingons, the Romulans and all the others\\r\\nthat stand against us. Thank you. \\r\\nDAMAR: I should've killed that Vorta jackal when I had the chance. \\r\\nKIRA: You want another one? We'll attack Dominion Headquarters. \\r\\nGARAK: Chop off a snake's head and the body will die. \\r\\nKIRA: Exactly. Damar, for the past two years you've practically lived\\r\\nin that building. \\r\\nDAMAR: If you're asking me if I know a way in, the answer is no. Not\\r\\nwithout a valid security protocol. \\r\\nKIRA: We'll use force. We're going to need some kind of explosives. \\r\\nGARAK: I'll get right on it. \\r\\nMILA: What you're proposing is suicide. \\r\\nGARAK: If you don't have anything positive to say, Mila. \\r\\nMILA: All right, I'll prepare some food. Nobody should die on an empty\\r\\nstomach.\\r\\n\\n [Bridge]\\n\\nEZRI: Sir, Chancellor Martok would like to speak to\\r\\nyou and Admiral Ross. \\r\\nSISKO: Put them through. \\r\\n(A split screen conference call.) \\r\\nMARTOK [on viewscreen]: Gentlemen, a magnificent victory lies before\\r\\nus. \\r\\nROSS [on viewscreen]: I trust those are prophetic words, Chancellor. \\r\\nMARTOK [on viewscreen]: They are. And I've not forgotten the promise I\\r\\nmade to both of you. \\r\\nSISKO: That the three of us would share a bottle of bloodwine on\\r\\nCardassia Prime. \\r\\nMARTOK [on viewscreen]: A bottle? I brought a barrel of twenty three oh\\r\\nnine. There is no finer vintage. \\r\\nROSS [on viewscreen]: Then I'll meet you two on Cardassia. \\r\\nMARTOK [on viewscreen]: We'll see who gets there first. \\r\\n(Transmission ends.) \\r\\nNOG: The Chancellor makes victory sound easy. \\r\\nSISKO: He knows it won't be. Sisko to all hands. Prepare to engage the\\r\\nenemy. \\r\\n(After the break, ships are having holes blows in them. Several\\r\\nDefiant-class ships are whizzing around.) \\r\\nNOG: I'll say one thing for the Breen. They know how to pilot their\\r\\nships. \\r\\nSISKO: So do you, Ensign. \\r\\nO'BRIEN: Stay with him. \\r\\nNOG: I'm trying. He's slippery. \\r\\nSISKO: Mister Worf? \\r\\nWORF: Unable to lock target. \\r\\n(BOOM. Crewman down.) \\r\\nODO: We have two Jem'Hadar ships coming aft of us, bearing one three\\r\\nsix mark four. \\r\\nSISKO: Evasive action, pattern Delta. \\r\\nNOG: Hang on. \\r\\n(They loop the loop and KaBOOM.) \\r\\nSISKO: Well done, Ensign. \\r\\nNOG: But I lost the Breen ship we were after. \\r\\nSISKO: I wouldn't be too worried about it. There are plenty more to\\r\\nchoose from.\\r\\n\\n [Cardassian cellar] \\nMILA: You've hardly touched your meal. No wonder\\r\\nyou're not looking well. \\r\\nGARAK: I'm not looking well because I live in a cellar. \\r\\nMILA: Well, so does Legate Damar. \\r\\nGARAK: And what about him? \\r\\nMILA: Well, he's finished everything on his plate. Which explains why\\r\\nhe is such a fine, handsome figure of a man. \\r\\nGARAK: I'm afraid I don't follow you. \\r\\nKIRA: I do. Mila, I believe you're falling in love. \\r\\nMILA: Oh, I'm old enough to be his mother. \\r\\nDAMAR: Nonsense. \\r\\nMILA: Politicians. \\r\\n(A distant doorbell sounds.) \\r\\nGARAK: Who could that be? \\r\\nMILA: I'll go see.\\r\\n\\n [Mila's house] \\n(Mila opens her door to three Jem'Hadar and two\\r\\nCardassians, all armed.) \\r\\nMILA: May I help you?\\r\\n\\n [Cardassian cellar]\\n\\nDAMAR: What's taking her so long? \\r\\nGARAK: I don't know. \\r\\n(The door at the top of the stairs opens, then Mila's body tumbles\\r\\ndown.) \\r\\nGARAK: Mila! \\r\\n(He rushes to her as a metal object bounces down the steps.) \\r\\nKIRA: Garak! Garak, get out of there! \\r\\n(BOOM and they're knocked down. Kira crawls for a rifle and is stopped\\r\\nby a Jem'Hadar.)\\r\\n\\n [Bridge] \\n(Casualties mount on both sides. A Federation ship\\r\\ngets a phaser straight through it, and the engine room explodes.\\r\\nKlingons destroy Jem'Hadar ships, others ram their vessels. Bodies fly\\r\\noff through hull breaches. Defiant dodges between cruisers with two\\r\\nJem'Hadar on it's tail.) \\r\\nBASHIR: I can't look away for a second. \\r\\nO'BRIEN: Just fix the shoulder. \\r\\n(BOOM) \\r\\nO'BRIEN: Careful! \\r\\nBASHIR: Sit still or you'll end up with one arm shorter than the other.\\r\\n\\r\\nO'BRIEN: You'd do anything to beat me at darts. \\r\\nBASHIR: I haven't lost a game to you in months. \\r\\nO'BRIEN: I'm going to miss our games, Julian. \\r\\n(BOOM) \\r\\nBASHIR: What are you talking about? You're going to be fine \\r\\nO'BRIEN: I'm leaving DS Nine, Julian. I'm moving back to Earth. \\r\\nBASHIR: Why? \\r\\nO'BRIEN: I've been offered a position at Starfleet Academy. Professor\\r\\nof Engineering. \\r\\nBASHIR: When? \\r\\nO'BRIEN: When the war's over. \\r\\nBASHIR: Oh. I see. \\r\\nO'BRIEN: Somebody has to teach you officers the difference between a\\r\\nwarp matrix flux capacitor and a self sealing stembolt. \\r\\nBASHIR: Of course. \\r\\n(BOOM) \\r\\nEZRI: Captain, Admiral Ross for you. \\r\\nSISKO: On screen. \\r\\nROSS: [on viewscreen]: The Romulan flagship's been destroyed. Their\\r\\nentire line is collapsing. \\r\\nSISKO: We'll try to help. \\r\\nROSS [on viewscreen]: With what? Ben, we're losing too many ships.\\r\\nWe've got to find a way to turn the Dominion's left flank. \\r\\nSISKO: It's too well protected, but their lines are spread pretty thin\\r\\nin the middle. \\r\\n(BOOM) \\r\\nROSS [on viewscreen]: You help the Romulans. Martok and I'll hit the\\r\\ncentre. \\r\\nSISKO: On my way. Dax, have attack wings sixty four and sixty five\\r\\nfollow us. \\r\\nEZRI: Aye, sir.\\r\\n\\n [Dominion briefing room] \\nFOUNDER: What's taking so long? \\r\\nWEYOUN: Our engineers have assured me that our long range\\r\\ncommunications will be restored momentarily. \\r\\nFOUNDER: But you have been saying that for hours. And meantime, there's\\r\\nno way of contacting our ships. No way of knowing how the battle is\\r\\nprogressing. \\r\\nBROCA: Founder, our troops have captured the traitor Damar. \\r\\nFOUNDER: Finally, some good news. \\r\\nBROCA: And there's more. Colonel Kira and Garak have been apprehended\\r\\nwith him. \\r\\nWEYOUN: Even better. Shall I have them brought here? \\r\\nFOUNDER: What for? Have them executed immediately. \\r\\nWEYOUN: With pleasure.\\r\\n\\n [Cardassian cellar]\\n\\nJEM'HADAR: Understood. It will be done at once. On\\r\\nyour feet. \\r\\nKIRA: Why? \\r\\nJEM'HADAR: We prefer our prisoners to be standing when they die. \\r\\nGARAK: Does anyone have any last words? \\r\\nDAMAR: You may kill us, but Cardassia will never \\r\\nJEM'HADAR: Enough. Final words are not permitted. \\r\\nGARAK: How disappointing. \\r\\nJEM'HADAR: Ready weapons. On my mark. \\r\\n(The Cardassian soldiers shoot the Jem'Hadar.) \\r\\nEKOOR: That's for Lakarian City. Legate Damar, I pledge my life to free\\r\\nCardassia from the Dominion. \\r\\nDAMAR: With men like you on our side, how can we fail?\\r\\n\\n [Bridge]\\n\\n(More BOOMs as they head to a Cardassian cruiser.) \\r\\nNOG: Jem'Hadar ship off the port bow. \\r\\nWORF: Shields are down to sixty percent. \\r\\nBASHIR: Miles, this is no good. I'm going to have to get you to\\r\\nSickbay. \\r\\nO'BRIEN: I'm kind of busy right now. \\r\\nBASHIR: That's an order. \\r\\nO'BRIEN: Look, Julian. \\r\\nSISKO: You heard him, Chief. \\r\\nO'BRIEN: Yes, sir. \\r\\nNOG: Another Jem'Hadar to port. \\r\\nWORF: Transferring auxiliary power to port shields. \\r\\nSISKO: Dax, we need some support from our attack fighters. \\r\\nEZRI: Aye, sir. \\r\\nNOG: Breen ship off the starboard aft. \\r\\nEZRI: Sir, most of our fighters are either destroyed or under attack\\r\\nthemselves. \\r\\nSISKO: Ensign, get us out of here. \\r\\n(BOOM) \\r\\nNOG: I'm trying, sir. \\r\\n(The Breen ship lines up the Defiant, then KaBOOM!! It is blown apart\\r\\nby a Cardassian warship.) \\r\\nODO: Sir, the Cardassians. They're attacking the other Dominion ships. \\r\\nEZRI: They've switched sides. \\r\\nNOG: Yes! \\r\\nSISKO: The timing couldn't be better. Come about and head for the\\r\\ncentre of their lines. This is our chance to punch through. \\r\\nNOG: Aye, sir.\\r\\n\\n [Dominion briefing room] \\nWEYOUN: Founder, our long range communications are\\r\\nback online. \\r\\nFOUNDER: It's about time. \\r\\nWEYOUN: I don't believe it. \\r\\nFOUNDER: What now? \\r\\nWEYOUN: The Cardassian fleet has turned against us. \\r\\nGOR: (electronic noise) \\r\\nFOUNDER: Have our forces pull back and regroup at Cardassia Prime. \\r\\nWEYOUN: But we'll be totally surrounded. \\r\\nFOUNDER: There will be no more running. \\r\\nGOR: (electronic noise) \\r\\nFOUNDER: We should have rid ourself of the Cardassians at the first\\r\\nsign of rebellion. \\r\\nBROCA: If I could talk to the rebels, get them to change their minds. \\r\\nWEYOUN: Perhaps you could reawaken their patriotic spirit? \\r\\nBROCA: Exactly. \\r\\nWEYOUN: On the other hand, they're just as likely to convince you to\\r\\nbetray us. \\r\\nBROCA: Me, betray you? Never! \\r\\nFOUNDER: That's right. We are not going to give you that opportunity. \\r\\n(Jem'Hadar seize Broca.) \\r\\nBROCA: Wait! You're making a terrible mistake. \\r\\nFOUNDER: I don't think so. \\r\\nBROCA: But I've done everything you've asked! I tell you I'm loyal. I\\r\\nbelieve in the Dominion! No! Wait! No! \\r\\n(Broca is hauled out of the room.) \\r\\nWEYOUN: I won't miss him. \\r\\nFOUNDER: I want the Cardassians exterminated. \\r\\nWEYOUN: Which ones? \\r\\nFOUNDER: All of them. The entire population. \\r\\nWEYOUN: That will take some time. \\r\\nFOUNDER: Then I suggest that you begin at once.\\r\\n\\n [Bridge]\\n\\nWORF: Captain, the Dominion forces are retreating\\r\\ntoward Cardassia Prime. \\r\\nEZRI: Sir, Admiral Ross and Chancellor Martok would like to talk to\\r\\nyou. \\r\\nSISKO: On screen. \\r\\nROSS [on viewscreen]: I never thought I'd say this, but thank god for\\r\\nthe Cardassians. \\r\\nMARTOK [on viewscreen]: As I predicted, the day is ours. \\r\\nSISKO: Not yet it isn't. \\r\\nROSS [on viewscreen]: Ben, we've driven the Dominion back into\\r\\nCardassia Prime. We can keep them bottled up there indefinitely. \\r\\nSISKO: What if they use this time to rebuild their fleet? \\r\\nMARTOK [on viewscreen]: He's right. The Dominion has displayed an\\r\\nability to build ships at an impressive rate. We should continue the\\r\\nattack. \\r\\nROSS [on viewscreen]: At what cost? We've already lost a third of our\\r\\nfleet. \\r\\nMARTOK [on viewscreen]: And we must see to it that those soldiers did\\r\\nnot die in vain. \\r\\nSISKO: Admiral, with the Cardassians joining us, we have an opportunity\\r\\nto put an end to this war once and for all. \\r\\nROSS [on viewscreen]: All right, gentlemen. We press on. \\r\\nMARTOK [on viewscreen]: My friends, songs will be sung about this day. \\r\\nSISKO: All right, people. You heard the orders. Let's finish what we\\r\\nstarted.\\r\\n\\n [Bajoran fire caves] \\n(Winn and Dukat stand on the edge of an abyss.) \\r\\nDUKAT: Let me guess. We're here. \\r\\nWINN: We've reached the end of one journey and stand ready to begin\\r\\nanother. What's the matter, Dukat? You look disappointed. \\r\\nDUKAT: Well, this may sound naive, but I was expecting to see fire.\\r\\nThey are called the fire caves. \\r\\nWINN: And with good reason. \\r\\n(Winn kneels and opens the Kosst Amojan. She reads.) \\r\\nWINN: Lano ka'la bo'shar lanu no'vala, pahrom carana mokado ba'jah.\\r\\nKo'se nusso ma'kora kajani. Lano ka'la Kosst Amojan. \\r\\n(A fireball forms in midair and fills the abyss.) \\r\\nWINN: Is that better? \\r\\n(Wraiths dance in the flames.)\\r\\n\\n [Cardassian cellar] \\n(Boxes of weapons have arrived.) \\r\\nEKOOR: According to this map, it's a long way from the cargo door to\\r\\nthe briefing room. \\r\\nKIRA: Well, that could be a problem if we get trapped in the corridor. \\r\\n(BOOM and the ground shakes.) \\r\\nKIRA: What the hell? \\r\\n(Garak comes down the stairs.) \\r\\nGARAK: It's the Jem'Hadar. They're leveling the city building by\\r\\nbuilding. \\r\\nKIRA: All right, we have to go now. \\r\\nDAMAR: Once we get inside the complex, we stop at nothing until we\\r\\ncapture the changeling. \\r\\nEKOOR: Let it be done! \\r\\nCARDASSIAN: We're with you! \\r\\nDAMAR: For Cardassia. \\r\\nCARDASSIANS: For Cardassia! \\r\\nKIRA: Garak. \\r\\nGARAK: All during the years of my exile I imagined what it would be\\r\\nlike to come home. I even thought of living in this house again with\\r\\nMila. But now she's dead, and this house is about to be reduced to a\\r\\npile of rubble. My Cardassia's gone. \\r\\nKIRA: Then fight for a new Cardassia. \\r\\n(BOOM) \\r\\nGARAK: I have an even better reason, Commander. Revenge. \\r\\nKIRA: That works too.\\r\\n\\n [Bajoran fire caves] \\n(Winn throws her golden robes into the flames and\\r\\nlets down her hair) \\r\\nWINN: Oh. I rid myself of the Prophets and shed a lifetime of\\r\\nhypocrisy. \\r\\n(She kisses Dukat passionately.) \\r\\nDUKAT: I've never seen you look so radiant. \\r\\nWINN: I feel like a young woman waiting for my lover to sweep me away. \\r\\nDUKAT: Do you give yourself willingly to the Pah wraiths? \\r\\nWINN: With all my heart. \\r\\nDUKAT: Then call to them. \\r\\nWINN: Bring me the book. Meek rak dorrah Pah wran Yelim cha ono Kosst\\r\\nAmojan shay ta hel ter rah no'vala de ram \\n [Bridge]\\n\\nSISKO: Sisko to Bashir. Report.\\r\\n\\n [Medical bay]\\n\\n(All the beds are full) \\r\\nBASHIR: Three dead, eight wounded, four of them critically. \\r\\nSISKO: Doctor, I need every able-bodied crewman at their post. \\r\\nBASHIR: I won't keep anybody here a second longer than I have to, sir. \\r\\n(Another casualty is brought in.) \\r\\nBASHIR: Put him over here, will you. \\n[Bridge]\\n\\nNOG: She did pretty well for a first date, don't\\r\\nyou think, Captain? \\r\\nSISKO: I'd say she did fine, Ensign. Mister Worf? \\r\\nWORF: Sir, phaser banks are fully charged, but we are down to forty\\r\\nfive quantum torpedoes. \\r\\nSISKO: That'll have to do. How are you holding up, old man? \\r\\nEZRI: All things considered, I think I'd rather be on Risa. \\r\\nSISKO: Well, that makes two of us. \\r\\nODO: Have you seen these reports, Captain? The Dominion has begun\\r\\ndestroying Cardassian cities. Millions of people are dying. \\r\\nNOG: Captain, we're approaching the Dominion defence perimeter. \\r\\nSISKO: Well, let's see what they have waiting for us. On screen. \\r\\n(A closely packed sphere of Dominion ships around the planet.) \\r\\nSISKO: Now we know. \\n [Cardassian alley] \\n(Garak examines a door, then returns to hide behind\\r\\nbarrels.) \\r\\nGARAK: We have a problem. \\r\\nKIRA: Just one? \\r\\nGARAK: I'm afraid it's a rather large problem. The cargo door is made\\r\\nof neutronium. \\r\\nKIRA: Then the explosives we brought aren't even going to make a dent. \\r\\nGARAK: You see the problem. \\r\\nEKOOR: What do we do? \\r\\nDAMAR: I don't know, but I'm through hiding in basements. I fail to see\\r\\nwhat is so funny, Garak. \\r\\nGARAK: Isn't it obvious? Here we are, ready to storm the castle,\\r\\nwilling to sacrifice our lives in a noble effort to slay the Dominion\\r\\nbeast in its lair and we can't even get inside the gate. \\r\\n(Hysterics all round.) \\r\\nKIRA: Maybe we could go to the door and ask the Jem'Hadar to let us in.\\r\\n\\r\\nDAMAR: Or just have them send the shape-shifter out to us. \\r\\nGARAK: As I said, we have a problem. \\n [Dominion briefing room] \\nFOUNDER: But I've come to depend on having you here\\r\\nat my side. \\r\\nGOR: (electronic noise) \\r\\nFOUNDER: Your advice to the Dominion has proven invaluable \\r\\nGOR: (electronic noise) \\r\\nFOUNDER: Very well. If you feel the situation on the front lines\\r\\ndemands your presence, I will not stand in your way. Knowing that\\r\\nyou'll be leading our troops into battle is very reassuring. \\r\\nGOR: (electronic noise) \\r\\n(The Breen leave.) \\r\\nWEYOUN: I still can't help but wonder. \\r\\nFOUNDER: Wonder what? \\r\\nWEYOUN: What's under that helmet? \\r\\nFOUNDER: A braver man than you. Though I do find the shrillness of his\\r\\nvoice very tiresome. \\r\\n(She stumbles against a console.) \\r\\nWEYOUN: Founder, what's wrong? \\r\\nFOUNDER: I'm dying, that's what's wrong. \\r\\nWEYOUN: Perhaps you should rest for a while. Revert to your natural\\r\\nstate. \\r\\nFOUNDER: I haven't been able to change form in weeks. It's ironic,\\r\\nisn't it, that I should die as a Solid. \\r\\nWEYOUN: You're not going to die. You're a god. \\r\\nFOUNDER: My loyal Weyoun. The only solid I have ever trusted. \\r\\nWEYOUN: I live only to serve you. \\r\\nFOUNDER: And you have served me well. I don't mind dying. It's knowing\\r\\nthat my entire race is dying of the same illness and there is nothing I\\r\\ncan do about it. \\r\\nWEYOUN: I would give my life to save yours. \\r\\nFOUNDER: If only it were that simple.\\r\\n\\n[Cardassian alleyway]\\n\\nDAMAR: What if I give myself up? Pretend to be your\\r\\nprisoner. \\r\\nKIRA: They'd kill you on sight. \\r\\nGARAK: And us along with you. \\r\\nEKOOR: The cargo door. \\r\\n(It's opening. Broca and two soldiers are bundled outside by Jem'Hadar)\\r\\n\\r\\nBROCA: You're making a terrible mistake. I'm not a traitor! Please,\\r\\njust let me speak to the Founder. No, wait! \\r\\n(The Jem'Hadar bayonet their prisoners.) \\r\\nDAMAR: No! \\r\\n(And he shoots the Jem'Hadar.) \\r\\nEKOOR: For Cardassia! \\r\\n(They all run through the doors.)\\r\\n\\n [Dominion HQ Cargo bay]\\n\\n(Damar is shot by a bunch of Jem'Hadar at the far\\r\\nend of the bay. Garak catches him.) \\r\\nGARAK: Fall back, fall back. \\r\\n(The rebels take cover and the fire fight continues.) \\r\\nDAMAR: Keep \\r\\nGARAK: He's dead. \\r\\nKIRA: Remember his orders. We stop for nothing. \\r\\nGARAK: For Cardassia! \\r\\nCARDASSIANS: For Cardassia! \\n [Dominion briefing room] \\nWEYOUN: We have a security breach. \\r\\nFOUNDER: The guards will deal with it. Is there a problem? \\r\\nWEYOUN: The guards. There're only a handful left in the building. I\\r\\nsent the rest to help eradicate the Cardassians. \\r\\n(Weapons fire outside.) \\r\\nWEYOUN: You two, get out there and see that no one gets through that\\r\\ndoor. You, stay here. In case they fail.\\r\\n\\n [Bridge] \\nROSS [on viewscreen]: We'll launch a three pronged\\r\\nattack. The Romulans and our new Cardassian allies will engage the\\r\\nJem'Hadar forces. The Klingons will target the Breen and the Federation\\r\\nwill take on the orbital weapon platforms. Any questions? \\r\\nSISKO: When do we go? \\r\\nROSS [on viewscreen]: As soon as everyone's in position. \\r\\nMARTOK [on viewscreen]: It will be a glorious battle. \\r\\nROSS [on viewscreen]: But a costly one. Estimates project our\\r\\ncasualties to be as high as forty percent. There's no telling how much\\r\\nhigher they'll go once we send in our ground forces. \\r\\nSISKO: The Dominion is beaten and they know it, but they're going to\\r\\nmake us pay for every kilometre of the planet. \\r\\nROSS [on viewscreen]: Yes, they will. \\r\\nSISKO: Let's get on with it. \\r\\nROSS [on viewscreen]: Godspeed, everyone. \\r\\nMARTOK [on viewscreen]: Qapla!\\r\\n\\n [Dominion briefing room] \\nWEYOUN: Founder, perhaps we should consider finding\\r\\na safer location. \\r\\nFOUNDER: And just where would that be? \\r\\n(The door is blown open. One Jem'Hadar is killed by a Cardassian before\\r\\nthe other him. Kira shoots the last Jem'Hadar in the room.) \\r\\nWEYOUN: Well, Colonel Kira. What a pleasant surprise. \\r\\nKIRA: The pleasure's all mine. \\r\\nEKOOR: The Federation fleet has surrounded the planet. \\r\\nKIRA: I want you to contact the Jem'Hadar and the Breen, and you order\\r\\ntheir ships to stand down. \\r\\nGARAK: And order their troops on Cardassia to do the same. \\r\\nFOUNDER: I will do no such thing. \\r\\nWEYOUN: Tell me, where's my old friend Damar? \\r\\nGARAK: Damar's dead. \\r\\nWEYOUN: What a pity. \\r\\nGARAK: He died trying to free Cardassia. \\r\\nWEYOUN: What's left of it. \\r\\n(Garak shoots Weyoun.) \\r\\nFOUNDER: I wish you hadn't done that. That was Weyoun's last clone. \\r\\nGARAK: I was hoping you'd say that. \\r\\nKIRA: This war's over. You lost. \\r\\nFOUNDER: Have I? I think you'll find that neither the Jem'Hadar or the\\r\\nBreen will agree with that assessment. They will fight to the last man.\\r\\n\\r\\nKIRA: And what will that accomplish? \\r\\nFOUNDER: Isn't it obvious? You may win this war, Commander, but I\\r\\npromise you, when it is over, you will have lost so many ships, so many\\r\\nlives, that your victory will taste as bitter as defeat.\\r\\n\\n [Bridge] \\nSISKO: We're glad to find you in one piece,\\r\\nCommander. \\r\\nODO: Very glad. \\r\\nSISKO: What's your status? \\r\\nKIRA [on viewscreen]: Only three of us made it to the briefing room. \\r\\nODO: What about Damar? \\r\\nKIRA [on viewscreen]: He's dead. \\r\\nSISKO: Is your position secure? \\r\\nKIRA [on viewscreen]: I don't think the Jem'Hadar will attack. They\\r\\nwon't risk endangering the Founder. She's in pretty bad shape. She just\\r\\nsits at her desk, deteriorating. \\r\\nWORF: If she dies before ordering the Jem'Hadar to surrender \\r\\nSISKO: Then they will fight to the last man. \\r\\nODO: Captain, I should beam down there. The Founder will speak to me. I\\r\\ncan reason with her. \\r\\nSISKO: You haven't had much success with her in the past. \\r\\nODO: It's worth a try. Think of the lives it could save. \\r\\nSISKO: Very well. Commander, tell the Founder that Odo is going to pay\\r\\nher a visit.\\r\\n\\n [Bajoran fire caves] \\n(Winn pours wine into a goblet and holds it aloft.)\\r\\n\\r\\nWINN: Tarna pur ono ull kess pah ran. Lano ka'la bo'shar lanu. \\r\\n(She nearly drinks, then) \\r\\nWINN: After you. \\r\\nDUKAT: I'm honoured. \\r\\n(He drinks.) \\r\\nDUKAT: Now you. \\r\\n(She pours it on the ground. Then Dukat collapses in pain.) \\r\\nDUKAT: Why? \\r\\nWINN: The Pah wraiths demand a sacrifice. Someone worthy of them. Who\\r\\nbetter than you? \\r\\nDUKAT: No! \\r\\n(Dukat dies.) \\r\\nWINN: I offer you this life as nourishment to feed your hunger, to fuel\\r\\nthe fires that will set you free. Kosst Amojan, I am yours now and\\r\\nforever.\\r\\n\\n [Dominion briefing room] \\n(Cardassia is a blacked wreck of debris as a new\\r\\nday dawns and Odo beams in.) \\r\\nODO: Nerys. \\r\\nKIRA: It's been a while. \\r\\nODO: Yes. \\r\\nKIRA: Watch yourself. I don't trust her. \\r\\nODO: But you trust me. \\r\\nKIRA: Of course. \\r\\nODO: That's all I need to know. \\r\\nGARAK: Constable. \\r\\nODO: Garak. \\r\\nFOUNDER: You're looking well, Odo. \\r\\nODO: Thank you for seeing me. \\r\\nFOUNDER: It's always good to see you. But I have no intention of\\r\\nsurrendering my forces. It would be a sign of weakness on my part. An\\r\\ninvitation to the solids to cross into the Gamma Quadrant and destroy\\r\\nthe Great Link. \\r\\nODO: Believe me, I'm well aware that the Federation has its flaws, but\\r\\na desire for conquest isn't one of them. \\r\\nFOUNDER: And what of the Klingons and the Romulans? Can you make that\\r\\nclaim for them too? \\r\\nODO: The Klingon and Romulan Empires are in no shape to wage a war\\r\\nagainst anyone. Besides, the Federation wouldn't allow it. \\r\\nFOUNDER: The Dominion has spent the last two years trying to destroy\\r\\nthe Federation, and now you're asking me to put our fate in their\\r\\nhands? \\r\\nODO: Yes. \\r\\nFOUNDER: I can't do that, Odo. I don't have your faith in the solids. \\r\\nODO: Perhaps I can change your mind. Link with me. \\r\\nKIRA: Odo, what are you doing? \\r\\nFOUNDER: I'm afraid I can't Link with you, Odo. My disease prevents me\\r\\nfrom changing form. \\r\\nODO: If we Link, I believe I can cure you. \\r\\nGARAK: That's a very bad idea, Constable. \\r\\nKIRA: I agree. \\r\\nODO: Nerys, I know what I'm doing. Please, take my hand. \\r\\nFOUNDER: And if you cure me, what will you ask in return? \\r\\nODO: All I ask is that you Link with me. \\r\\nGARAK: I'm warning you, Odo. \\r\\nODO: Nerys. \\r\\nKIRA: Garak, put down your weapon. \\r\\nGARAK: I don't think so. \\r\\nKIRA: I said, put it down. (Odo does the Link and she is cured.) \\r\\nGARAK: Move aside, Odo. \\r\\nODO: That won't be necessary. Will it? \\r\\nFOUNDER: If you will stand aside, I'll order the Jem'Hadar to cease\\r\\nfire. \\r\\nGARAK: I suggest we secure her in a containment field. \\r\\nODO: Don't worry, Garak. She won't try to escape. She's agreed to stand\\r\\ntrial and accept responsibility for what she's done. \\n[Dominion corridor]\\n\\nKIRA: I would have thought she'd insist on going\\r\\nback to the Gamma Quadrant to cure her people. \\r\\nODO: There's no need for that. I'm going in her place. \\r\\nKIRA: For how long? \\r\\nODO: Nerys, it's time I rejoined the Great Link.\\r\\n\\n [Cardassia street] \\n(The East End after the Blitz, and the winners are\\r\\nraising a toast in bloodwine amongst the fires in the rubble.) \\r\\nMARTOK: This is a moment worth savouring. To victory, hard fought and\\r\\nwell earned. \\r\\n(Sisko and Ross do not drink.) \\r\\nMARTOK: What's wrong? \\r\\nSISKO: Suddenly I'm not thirsty. \\r\\nROSS: Neither am I. \\r\\nMARTOK: Before you waste too many tears, remember, these are\\r\\nCardassians lying dead at your feet. Bajorans would call this poetic\\r\\njustice. \\r\\nSISKO: That doesn't mean I have to drink a toast over their bodies. \\r\\n(Sisko and Ross pour their bloodwine on the ground and leave.) \\r\\nMARTOK: Humans. Pah. Ka DiJaQ.\\r\\n\\n [Dominion briefing room] \\nBASHIR: Eight hundred million dead. \\r\\nGARAK: And casualty reports still coming in. Well, aren't you going to\\r\\ncongratulate me, Doctor? My exile is now officially over. I've returned\\r\\nhome. Or rather, to what's left of it. \\r\\nBASHIR: Listen, I know that this must seem bleak \\r\\nGARAK: Some may say that we've gotten just what we deserved. After all,\\r\\nwe're not entirely innocent, are we? And I'm not just speaking of the\\r\\nBajoran occupation. No, our whole history is one of arrogant\\r\\naggression. We've collaborated with the Dominion, betrayed the entire\\r\\nAlpha Quadrant. Oh, no, no. There's no doubt about it. We're guilty as\\r\\ncharged. \\r\\nBASHIR: You and I both know that the Cardassians are a strong people.\\r\\nThey'll survive. Cardassia will survive. \\r\\nGARAK: Please, Doctor. Spare me your insufferable Federation optimism.\\r\\nOf course it will survive, but as not the Cardassia I knew. We had a\\r\\nrich and ancient culture. Our literature, music, art were second to\\r\\nnone. And now, so much of it is lost. So many of our best people, our\\r\\nmost gifted minds. \\r\\nBASHIR: I'm sorry, Garak. I didn't mean \\r\\nGARAK: Oh, it's quite all right, Doctor. You've been such a good\\r\\nfriend. I'm going to miss our lunches together. \\r\\nBASHIR: I'm sure we'll see each other again. \\r\\nGARAK: I'd like to think so, but one can never say. We live in\\r\\nuncertain times.\\r\\n\\n [Wardroom]\\n\\n(The surrender documents are being signed.) \\r\\nFOUNDER: The war between the Dominion and the Federation Alliance is\\r\\nnow over. \\r\\nROSS: Four hundred years ago, a victorious general spoke the following\\r\\nwords at the end of another costly war. Today the guns are silent. A\\r\\ngreat tragedy has ended. We have known the bitterness of defeat and the\\r\\nexultation of triumph. From both we have learned there can be no going\\r\\nback. We must go forward to preserve in peace what we've won in war. \\r\\n(Douglas McArthur, WW2. The Founder is escorted from the table.) \\r\\nFOUNDER: It's up to you now, Odo.\\r\\n\\n [Promenade] \\nEZRI: You're coming to Vic's tonight, right? \\r\\nWORF: I will be there, but I will not dance. \\r\\nEZRI: Who's asking? \\r\\nSISKO: Commander Worf. \\r\\nWORF: Captain. \\r\\nSISKO: Can you spare a moment? \\r\\nWORF: Yes, sir. \\r\\nMARTOK: We've been discussing your plans for the future. \\r\\nWORF: I was not aware I had any plans. \\r\\nROSS: Commander, how would you feel about being named Federation\\r\\nAmbassador to Kronos? \\r\\nWORF: I am not a diplomat. \\r\\nMARTOK: And I am not a politician. But sometimes fate plays cruel\\r\\ntricks on us, Worf. Come. Kronos needs you. And what's more, I need\\r\\nyou. \\r\\nEZRI: You helped him become Chancellor. You can't very well turn your\\r\\nback on him now. \\r\\nWORF: Well my first loyalty is to you, Captain. \\r\\nSISKO: Thank you, Mister Worf. I'll probably regret this in the\\r\\nmorning, but if it's what you want, then by all means. \\r\\nWORF: It has been a great honour serving with you, sir. \\r\\nSISKO: The honour is mine. \\r\\nWORF: I accept. \\r\\nMARTOK: Excellent. An Ambassador who'll go targ hunting with me. Well,\\r\\nperhaps being Chancellor won't be so bad after all. \\r\\nEZRI: Congratulations, Worf.\\r\\n\\n[Promenade - upper level]\\n\\nKIRA: When will you be going? \\r\\nODO: Soon. \\r\\nKIRA: You could come back, you know, once you've cured your people. \\r\\nODO: I could. \\r\\nKIRA: But you're not going to do that. \\r\\nODO: Nerys. You know my feelings for you will never change, but I have\\r\\nto do this. My people need me. They need to know what I know, to learn\\r\\nwhat I've learned from living among solids. It's the only way they'll\\r\\never learn to trust you. \\r\\nKIRA: You don't have to justify your decision, Odo. There's just one\\r\\nthing. \\r\\nODO: Anything. \\r\\nKIRA: I'd like to take you back to your homeworld. \\r\\nODO: I'd like that. I'd like that very much.\\r\\n\\n [Holosuite - Vic's lounge] \\n(It's a party, with jazz. Those extras are all\\r\\npeople associated with the show.) \\r\\nVIC: Hey, pallie. If you're here for another game of 'go fish,' I'm a\\r\\nlittle busy right now. \\r\\nQUARK: Actually, I'm here for the end of the war goodbye to Chief\\r\\nO'Brien goodbye to Odo goodbye to Worf party. \\r\\nVIC: At the bar. \\r\\nBASHIR: No, seriously, Miles, I envy you. Going back to Earth, a chance\\r\\nto enjoy paradise again. \\r\\nJAKE: Any idea where you're going to live? \\r\\nO'BRIEN: No. Keiko and I are still mulling over a few possibilities. \\r\\nWORF: Have you ever considered Minsk? \\r\\nO'BRIEN: I don't think that's on our list. \\r\\nSISKO: New Orleans is a gorgeous city. \\r\\nKASIDY: I've heard great things about Paris. \\r\\nWORF: Minsk. \\r\\nEZRI: Jadzia loved Rio. \\r\\nODO: You've certainly got a lot of choices. \\r\\nO'BRIEN: Yeah. Too many. \\r\\nWORF: Minsk. \\r\\nBASHIR: Wherever you decide to go, I'm sure that you and Keiko will be\\r\\nvery happy. \\r\\nO'BRIEN: Listen, Julian, I know Earth isn't exactly around the corner,\\r\\nbut I still expect you to visit. \\r\\nBASHIR: I intend to. \\r\\nO'BRIEN: Yeah, you and me taking a little trip to Texas. \\r\\nBASHIR: Standing side by side in front of the Alamo. \\r\\nO'BRIEN: The real Alamo. You see? It's going to be great. \\r\\nBASHIR: Absolutely. \\r\\nQUARK: I don't see how great it would be. Earth's nothing more than a\\r\\nrotating ball of boredom. If you ask me, you'd be better off staying\\r\\nhere. And that goes for you and Worf as well. \\r\\nKIRA: Don't tell me you're getting sentimental, Quark. \\r\\nQUARK: Me? Not a chance. I just don't like change. \\r\\nSISKO: You'd better get used to it. Things are going to be pretty\\r\\ndifferent around here now. To the best crew any captain ever had. This\\r\\nmay be the last time we're all together, but no matter what the future\\r\\nholds, no matter how far we travel, a part of us, a very important\\r\\npart, will always remain here on Deep Space Nine. \\r\\nO'BRIEN: Hear, hear. \\r\\nBASHIR: Cheers. \\r\\nVIC: Ladies and gentlemen. Tonight is a very special night for some\\r\\nfriends of mine. They've been together a long time. But like the man\\r\\nsaid, nothing lasts forever. So, gang, this one's from the heart. \\r\\n(Vic sings The Way You Look Tonight, as the camera pans around and we\\r\\nplay spot the face.)\\r\\n\\n [Bajoran fire caves] \\nWINN: Dorra tolka bre tri pah wran. Kosst Amojan,\\r\\ncome to me! I await you. \\r\\n(A wraith throws Winn against the rocks, then another goes into Dukat.\\r\\nHis body is reanimated and turned back to it's true Cardassian\\r\\nappearance.) \\r\\nWINN: No! \\n\\n [Holosuite - Vic's lounge] \\n(Sisko stops mid-dance.) \\r\\nKASIDY: Ben, what's wrong? \\r\\nSISKO: I understand now. \\r\\nKASIDY: Understand what? \\r\\nSISKO: What I have to do. What I was meant to do. Kasidy, I have to go.\\r\\n\\r\\nKASIDY: Go where? \\r\\nSISKO: To Bajor. To the fire caves. \\r\\nKASIDY: I'll go with you. \\r\\nSISKO: No, I have to do this alone.\\r\\n\\n [Bajoran fire caves] \\nDUKAT: Did you really think the Pah wraiths would\\r\\nchoose you to be their Emissary? Soon the Pah wraiths will burn across\\r\\nBajor, the Celestial Temple, the Alpha Quadrant. Can you picture it? A\\r\\nentire universe set in flames, to burn for all eternity. The Prophets\\r\\nhave sent me a gift. Their beloved Emissary, sent forth like an\\r\\navenging angel to slay the demon. \\r\\nSISKO: I should have known the demon would be you. \\r\\nDUKAT: Go on. Kill me if you can. \\r\\n(Sisko's rifle is thrown out of his hands.) \\r\\nDUKAT: You'll have to do better than that, Captain. \\r\\n(Dukat zaps Sisko with an energy bolt.) \\r\\nDUKAT: This is too easy. That's it. Come closer. That's it. \\r\\n(Sisko punches Dukat. And again. No effect.) \\r\\nDUKAT: Now bow to me. I said bow. \\r\\n(Sisko is pushed to his knees.) \\r\\nSISKO: You are pathetic. \\r\\nDUKAT: Then why are you the one on your knees? \\r\\nSISKO: First the Dominion, now the Pah wraith. You have a talent for\\r\\npicking the losing side. \\r\\nDUKAT: Benjamin, please. We've known each other too long. And since\\r\\nthis is the last time we will ever be together, let's try to speak\\r\\nhonestly. We've both had victories and our defeats. Now it's time to\\r\\nresolve our differences and face the ultimate truth. I've won,\\r\\nBenjamin. You've lost. \\r\\nSISKO: The Pah wraith will never conquer anything. Not Bajor. Not the\\r\\nCelestial Temple. And certainly not the Alpha Quadrant. \\r\\nDUKAT: And who's going to stop us? \\r\\nSISKO: I am. \\r\\nDUKAT: You can't even stand up. \\r\\nWINN: Then I'll stop you. \\r\\n(Winn raises the Kosst Amojan above her head, and it vanishes to\\r\\nreappear in Dukat's grasp.) \\r\\nDUKAT: Are you still here? \\r\\nWINN: Emissary, the book! \\r\\n(Wraiths surround Winn and she bursts into flames.) \\r\\nDUKAT: Farewell, Adami. \\r\\n(Sisko rugby-tackles Dukat and they both go over into the flames with\\r\\nthe book. Sisko pushes Dukat below him, and the Kosst\\r\\nAmojan then Dukat burst into flames.)\\r\\n\\n[Limbo]\\n\\nSISKO: Sarah? Are you here? What happened? \\r\\nSARAH: The Emissary has completed his task. \\r\\nSISKO: But the Pah wraiths. \\r\\nSARAH: You've returned them to their prison within the fire caves. \\r\\nSISKO: The book was the key, wasn't it? \\r\\nSARAH: To a door that can never be opened again. \\r\\nSISKO: And Dukat? Is he dead? \\r\\nSARAH: He's where he belongs, with the Pah wraiths. Your time of trial\\r\\nhas ended. You need to rest now. \\r\\nSISKO: I intend to. As soon as I return to Deep Space Nine. \\r\\nSARAH: That won't be necessary. You're with us now.\\r\\n\\n [Wardroom]\\n\\nEZRI: We found the Captain's runabout orbiting\\r\\nBajor. \\r\\nWORF: But when we scanned the fire caves, there was no sign of him. \\r\\nBASHIR: Tarkalian tea. Soothing. \\r\\nEZRI: Better keep it coming. \\r\\nJAKE: You're not calling off the search yet, are you? \\r\\nODO: Not until we find your father. \\r\\nJAKE: What about the Kendra Province, where he bought that land. Maybe\\r\\nhe went there for some reason. \\r\\nWORF: Colonel Kira and Chief O'Brien have completed another scan of the\\r\\nplanet. As far as they can tell, he is not there. \\r\\nKASIDY: Something's happened to Ben. Something bad. I can feel it. The\\r\\nProphets warned us.\\r\\n\\n[Limbo]\\n\\nKASIDY: Hello? Is anyone here? Ben? Is that you? \\r\\nSISKO: Kasidy. \\r\\nKASIDY: Oh, Ben! I've been so worried about you. Where are we? \\r\\nSISKO: The Celestial Temple. \\r\\nKASIDY: This is scaring me. Let's go home. \\r\\nSISKO: I can't. Not now. \\r\\nKASIDY: Why not? Oh, God. This is it, isn't it? The sorrow that the\\r\\nProphets warned us about. \\r\\nSISKO: It's difficult to explain. It's not linear. \\r\\nKASIDY: What isn't? \\r\\nSISKO: My life, my destiny. The Prophets saved me, Kasidy. I'm their\\r\\nEmissary and they still have a great deal for me to do. But first,\\r\\nthere is much to learn. Things only the Prophets can teach me. \\r\\nKASIDY: When will you be back? \\r\\nSISKO: It's hard to say. Maybe a year, maybe yesterday. But I will be\\r\\nback. \\r\\nKASIDY: And I will be waiting.\\r\\n\\n[Wardroom] \\nJAKE: Kas, can you hear me? You seemed pretty far\\r\\naway for a second. \\r\\nKASIDY: I was talking to your father.\\r\\n\\n [O'Brien's quarters] \\n(The O'Brien's leaving a pile of packing crates.\\r\\nMiles spots the missing Colonel Travis on the floor as Minstrel Boy\\r\\nplays, and we are treated to a montage of memories. The Alamo model,\\r\\nthe secret agent holoprogramme, putting his dislocated shoulder back,\\r\\nthe tribbles, meals,\\r\\nracquetball, getting drunk with Julian.)\\r\\n\\n[Promenade]\\n\\n(Martok goes into the airlock and Worf takes a last\\r\\nlook around. He remembers his arrival on the station, the secret\\r\\nagent holoprogramme, making love to Ezri, fighting Gowron, hanging\\r\\nupside down with Ezri. Ezri waves goodbye from the upper level.)\\r\\n\\n[Odo's quarters]\\n\\n(Odo gives Kira his old bucket, and remembers the\\r\\nplant he put in it, dancing at Vic's, the first kiss on the Promenade\\r\\nand when he morphed over her.)\\r\\n\\n [Quark's]\\n\\n(Quark polishes glasses and remembers him and Odo\\r\\nstranded on the cold planet, Miles and Julian as Battle of Britain\\r\\npilots, Rom pouring liquid in his ear, not catching a baseball, seeing\\r\\nFontaine's Eight walk along the Promenade.) \\n[Sisko's quarters]\\n\\n(Jake takes a model chair from the house that Sisko\\r\\nbuilt, and remembers when his dad told him they were going to DS9, the\\r\\nhugs, the laughter, the solar-\\r\\nwind powered spaceship.)\\r\\n\\n[Corridor]\\n\\nKIRA: You sure you want to leave without saying\\r\\ngoodbye? \\r\\nODO: I'm sure. I've never been good at goodbyes. \\r\\nKIRA: There are going to be a lot of people that are disappointed. \\r\\nODO: If they don't know how I feel about them now, a few parting words\\r\\nwon't make the difference. \\r\\nQUARK: Ah ha! I knew it! When I saw the two of you slip out, I said to\\r\\nmyself, that no good, misanthropic, cantankerous, changeling is trying\\r\\nto sneak off the station without anyone noticing. \\r\\nODO: That was the idea. \\r\\nQUARK: Well, it's not going to happen. \\r\\nODO: Apparently not. \\r\\nQUARK: So, now that I'm here, is there something you want to say to me?\\r\\n\\r\\nODO: Such as? \\r\\nQUARK: Such as, 'Goodbye, you certainly were a worthy adversary.' Or\\r\\nmaybe something with the words mutual respect in it. \\r\\nODO: No. \\r\\nQUARK: No? What do you mean no? \\r\\nODO: I mean no. I have nothing I want to say to you. \\r\\nQUARK: You're telling me that after all these years, after all we've\\r\\nbeen through, you're not even going to say goodbye to me? \\r\\nODO: That's right. Nerys, I'll be on the runabout. Huh. \\r\\n(Odo goes through the airlock.) \\r\\nKIRA: Don't take it hard, Quark. \\r\\nQUARK: Hard? What are you talking about? That man loves me. Couldn't\\r\\nyou see? It was written all over his back. \\r\\n(Quark raises a glass to Odo and leaves.)\\r\\n\\n[Airlock] \\n\\n(Julian helps O'Brien carry some bags. They say\\r\\ngoodbye with a macho bear hug.)\\r\\n\\n[Founder planet atoll]\\n\\n(With a very sick coloured Link around it.) \\r\\nKIRA: The Link. It's so different. \\r\\nODO: They're dying. \\r\\nKIRA: You should go to them. \\r\\nODO: Nerys, please tell everyone I'll miss them. \\r\\nKIRA: Even Quark? \\r\\nODO: Even Quark. But most of all \\r\\nKIRA: I know. \\r\\n(They kiss. Odo morphs into a tuxedo.) \\r\\nKIRA: Odo. \\r\\nODO: You always said I looked good in a tuxedo. \\r\\nKIRA: You do. \\r\\n(She straightens his tie.) \\r\\nODO: Then this is the way I want you to remember me. \\r\\nKIRA: I'll never forget you. \\r\\nODO: Goodbye, Nerys. \\r\\n(Odo walks backwards into the Link and waves farewell whilst morphing\\r\\ninto it. His pool of orange spreads, turning the rest of the Link back\\r\\nfrom green to health.)\\r\\n\\n[Captain's office]\\n\\nNOG: The duty roster, Colonel. \\r\\nKIRA: Nice work. Congratulations on your promotion, Lieutenant. \\r\\nNOG: Thank you, sir. I guess putting me in for promotion was one of\\r\\nCaptain Sisko's last official acts. \\r\\nKIRA: I'm sure he's very proud of you, Nog. \\r\\nNOG: I'd like to think so, sir. \\r\\nKIRA: Now about the cargo inventories. \\r\\nNOG: I'll get right on it. \\r\\n(Nog leaves. Kira picks up the baseball and goes to stand at the top of\\r\\nthe\\r\\nstairs, looking at the new faces in Ops.)\\r\\n\\n [Promenade] \\n(Coming out of the Infirmary.) \\r\\nBASHIR: You know, the thing of it is, the apoptosis is really just part\\r\\nof the normal cardiac renewal process. What do you think? \\r\\nEZRI: I think that after dinner tonight, we should go to Quark's, spend\\r\\nsome time in a holosuite. \\r\\nBASHIR: Oh. I'd like a trip to Vegas. \\r\\nEZRI: Actually, I was thinking about the Alamo. \\r\\nBASHIR: We can't go there. \\r\\nEZRI: Why not? \\r\\nBASHIR: Because that's what Miles and I did. But I do have a new\\r\\nprogramme. The Battle of Thermopylae. Do you know it? Well, it's about\\r\\na force of Spartans led by King Leonidas, who defend a mountain pass\\r\\nagainst a vast army of Persians. \\r\\nEZRI: What happens then? \\r\\nBASHIR: For two days, the Spartans lead a heroic struggle. \\r\\nEZRI: Until they're wiped out. \\r\\nBASHIR: Yes. How'd you know? \\r\\nEZRI: Lucky guess. I take it we'll be the Spartans? \\r\\nBASHIR: Fighting to the last man. \\r\\nEZRI: Just like the Alamo. \\r\\nBASHIR: Exactly. \\r\\nEZRI: Have you talked to a counsellor about these annihilation\\r\\nfantasies? \\r\\nBASHIR: Do you think I should? \\r\\nEZRI: I'll set up a session for you tomorrow. \\r\\nBASHIR: What about tonight? \\r\\nEZRI: Tonight we defend the pass.\\r\\n\\n [Quark's] \\n(Morn is examining a small bottle.) \\r\\nQUARK: Don't worry, it's guaranteed to grow hair within a week. Though\\r\\nif you ask me, that dome of yours is hairy enough. Besides, hasn't\\r\\nthere been enough change around here already? \\r\\nKIRA: Quark! You mind explaining this? \\r\\nQUARK: Oh. That's this week's betting pool. \\r\\nKIRA: You're taking bets on who's going to be the new Kai? \\r\\nQUARK: It's a wide open field. Just between you and me, the smart money\\r\\nis on Vedek Ungtae. \\r\\nKIRA: Well just between you and me, all bets are off. \\r\\nQUARK: What are you talking about? \\r\\nKIRA: As of this moment, betting pools of any kind are illegal on this\\r\\nstation. I catch someone placing a bet, I put you in a holding cell for\\r\\nfifteen days. Is that clear? \\r\\nQUARK: Fifteen days! Can I bring my own pillow? \\r\\nKIRA: Quark. \\r\\nQUARK: It's clear. It's clear. \\r\\nKIRA: It better be. \\r\\n(Kira leaves. Quark goes back to Morn.) \\r\\nQUARK: It's like I said. The more things change, the more they stay the\\r\\nsame.\\r\\n\\n [Promenade - upper level] \\n(Kira sees Jake staring out of a window and goes up\\r\\nto join him. The wormhole goes WHOOSH. Then we pull back and back,\\r\\nuntil DS9 is just a dot in space as we leave them behind.) \\n\\n\\n\\n\\n\\n\\n\\n<Back\\r\\nto the episode listing\\nStar Trek ® and relatesd\\r\\nmarks are trademarks of CBS Studios Inc.\\r\\nCopyright © 1966, Present. The Star Trek web pages on this site are for\\r\\neducational and entertainment purposes only. All other copyrights\\r\\nproperty of their respective holders.\\n\""
      ]
     },
     "execution_count": 12,
     "metadata": {},
     "output_type": "execute_result"
    }
   ],
   "source": [
    "script"
   ]
  },
  {
   "cell_type": "code",
   "execution_count": 13,
   "metadata": {},
   "outputs": [],
   "source": [
    "scr_l =  script.lower()"
   ]
  },
  {
   "cell_type": "code",
   "execution_count": 14,
   "metadata": {},
   "outputs": [
    {
     "data": {
      "text/plain": [
       "'!\"#$%&\\'()*+,-./:;<=>?@[\\\\]^_`{|}~'"
      ]
     },
     "execution_count": 14,
     "metadata": {},
     "output_type": "execute_result"
    }
   ],
   "source": [
    "string.punctuation"
   ]
  },
  {
   "cell_type": "code",
   "execution_count": 15,
   "metadata": {},
   "outputs": [
    {
     "data": {
      "text/plain": [
       "'!\"#$%&\\'()*+,-./:;<=>?@[\\\\]^_`{|}~'"
      ]
     },
     "execution_count": 15,
     "metadata": {},
     "output_type": "execute_result"
    }
   ],
   "source": [
    "string.punctuation"
   ]
  },
  {
   "cell_type": "code",
   "execution_count": 18,
   "metadata": {},
   "outputs": [],
   "source": [
    "star_trek=\"\".join([char for char in scr_l if char not in string.punctuation and char not in string.digits])"
   ]
  },
  {
   "cell_type": "code",
   "execution_count": 19,
   "metadata": {},
   "outputs": [],
   "source": [
    "star_trek = re.sub(r'http\\S+', '', star_trek)"
   ]
  },
  {
   "cell_type": "code",
   "execution_count": 24,
   "metadata": {},
   "outputs": [
    {
     "ename": "LookupError",
     "evalue": "\n**********************************************************************\n  Resource \u001b[93mstopwords\u001b[0m not found.\n  Please use the NLTK Downloader to obtain the resource:\n\n  \u001b[31m>>> import nltk\n  >>> nltk.download('stopwords')\n  \u001b[0m\n  For more information see: https://www.nltk.org/data.html\n\n  Attempted to load \u001b[93mcorpora/stopwords\u001b[0m\n\n  Searched in:\n    - '/home/zebfred/nltk_data'\n    - '/home/zebfred/miniconda3/nltk_data'\n    - '/home/zebfred/miniconda3/share/nltk_data'\n    - '/home/zebfred/miniconda3/lib/nltk_data'\n    - '/usr/share/nltk_data'\n    - '/usr/local/share/nltk_data'\n    - '/usr/lib/nltk_data'\n    - '/usr/local/lib/nltk_data'\n**********************************************************************\n",
     "output_type": "error",
     "traceback": [
      "\u001b[0;31m---------------------------------------------------------------------------\u001b[0m",
      "\u001b[0;31mLookupError\u001b[0m                               Traceback (most recent call last)",
      "\u001b[0;32m~/miniconda3/lib/python3.8/site-packages/nltk/corpus/util.py\u001b[0m in \u001b[0;36m__load\u001b[0;34m(self)\u001b[0m\n\u001b[1;32m     82\u001b[0m                 \u001b[0;32mtry\u001b[0m\u001b[0;34m:\u001b[0m\u001b[0;34m\u001b[0m\u001b[0;34m\u001b[0m\u001b[0m\n\u001b[0;32m---> 83\u001b[0;31m                     \u001b[0mroot\u001b[0m \u001b[0;34m=\u001b[0m \u001b[0mnltk\u001b[0m\u001b[0;34m.\u001b[0m\u001b[0mdata\u001b[0m\u001b[0;34m.\u001b[0m\u001b[0mfind\u001b[0m\u001b[0;34m(\u001b[0m\u001b[0;34m\"{}/{}\"\u001b[0m\u001b[0;34m.\u001b[0m\u001b[0mformat\u001b[0m\u001b[0;34m(\u001b[0m\u001b[0mself\u001b[0m\u001b[0;34m.\u001b[0m\u001b[0msubdir\u001b[0m\u001b[0;34m,\u001b[0m \u001b[0mzip_name\u001b[0m\u001b[0;34m)\u001b[0m\u001b[0;34m)\u001b[0m\u001b[0;34m\u001b[0m\u001b[0;34m\u001b[0m\u001b[0m\n\u001b[0m\u001b[1;32m     84\u001b[0m                 \u001b[0;32mexcept\u001b[0m \u001b[0mLookupError\u001b[0m\u001b[0;34m:\u001b[0m\u001b[0;34m\u001b[0m\u001b[0;34m\u001b[0m\u001b[0m\n",
      "\u001b[0;32m~/miniconda3/lib/python3.8/site-packages/nltk/data.py\u001b[0m in \u001b[0;36mfind\u001b[0;34m(resource_name, paths)\u001b[0m\n\u001b[1;32m    584\u001b[0m     \u001b[0mresource_not_found\u001b[0m \u001b[0;34m=\u001b[0m \u001b[0;34m\"\\n%s\\n%s\\n%s\\n\"\u001b[0m \u001b[0;34m%\u001b[0m \u001b[0;34m(\u001b[0m\u001b[0msep\u001b[0m\u001b[0;34m,\u001b[0m \u001b[0mmsg\u001b[0m\u001b[0;34m,\u001b[0m \u001b[0msep\u001b[0m\u001b[0;34m)\u001b[0m\u001b[0;34m\u001b[0m\u001b[0;34m\u001b[0m\u001b[0m\n\u001b[0;32m--> 585\u001b[0;31m     \u001b[0;32mraise\u001b[0m \u001b[0mLookupError\u001b[0m\u001b[0;34m(\u001b[0m\u001b[0mresource_not_found\u001b[0m\u001b[0;34m)\u001b[0m\u001b[0;34m\u001b[0m\u001b[0;34m\u001b[0m\u001b[0m\n\u001b[0m\u001b[1;32m    586\u001b[0m \u001b[0;34m\u001b[0m\u001b[0m\n",
      "\u001b[0;31mLookupError\u001b[0m: \n**********************************************************************\n  Resource \u001b[93mstopwords\u001b[0m not found.\n  Please use the NLTK Downloader to obtain the resource:\n\n  \u001b[31m>>> import nltk\n  >>> nltk.download('stopwords')\n  \u001b[0m\n  For more information see: https://www.nltk.org/data.html\n\n  Attempted to load \u001b[93mcorpora/stopwords.zip/stopwords/\u001b[0m\n\n  Searched in:\n    - '/home/zebfred/nltk_data'\n    - '/home/zebfred/miniconda3/nltk_data'\n    - '/home/zebfred/miniconda3/share/nltk_data'\n    - '/home/zebfred/miniconda3/lib/nltk_data'\n    - '/usr/share/nltk_data'\n    - '/usr/local/share/nltk_data'\n    - '/usr/lib/nltk_data'\n    - '/usr/local/lib/nltk_data'\n**********************************************************************\n",
      "\nDuring handling of the above exception, another exception occurred:\n",
      "\u001b[0;31mLookupError\u001b[0m                               Traceback (most recent call last)",
      "\u001b[0;32m<ipython-input-24-4abe77d93835>\u001b[0m in \u001b[0;36m<module>\u001b[0;34m\u001b[0m\n\u001b[0;32m----> 1\u001b[0;31m \u001b[0mstop_words\u001b[0m \u001b[0;34m=\u001b[0m \u001b[0mstopwords\u001b[0m\u001b[0;34m.\u001b[0m\u001b[0mwords\u001b[0m\u001b[0;34m(\u001b[0m\u001b[0;34m'english'\u001b[0m\u001b[0;34m)\u001b[0m\u001b[0;34m\u001b[0m\u001b[0;34m\u001b[0m\u001b[0m\n\u001b[0m",
      "\u001b[0;32m~/miniconda3/lib/python3.8/site-packages/nltk/corpus/util.py\u001b[0m in \u001b[0;36m__getattr__\u001b[0;34m(self, attr)\u001b[0m\n\u001b[1;32m    118\u001b[0m             \u001b[0;32mraise\u001b[0m \u001b[0mAttributeError\u001b[0m\u001b[0;34m(\u001b[0m\u001b[0;34m\"LazyCorpusLoader object has no attribute '__bases__'\"\u001b[0m\u001b[0;34m)\u001b[0m\u001b[0;34m\u001b[0m\u001b[0;34m\u001b[0m\u001b[0m\n\u001b[1;32m    119\u001b[0m \u001b[0;34m\u001b[0m\u001b[0m\n\u001b[0;32m--> 120\u001b[0;31m         \u001b[0mself\u001b[0m\u001b[0;34m.\u001b[0m\u001b[0m__load\u001b[0m\u001b[0;34m(\u001b[0m\u001b[0;34m)\u001b[0m\u001b[0;34m\u001b[0m\u001b[0;34m\u001b[0m\u001b[0m\n\u001b[0m\u001b[1;32m    121\u001b[0m         \u001b[0;31m# This looks circular, but its not, since __load() changes our\u001b[0m\u001b[0;34m\u001b[0m\u001b[0;34m\u001b[0m\u001b[0;34m\u001b[0m\u001b[0m\n\u001b[1;32m    122\u001b[0m         \u001b[0;31m# __class__ to something new:\u001b[0m\u001b[0;34m\u001b[0m\u001b[0;34m\u001b[0m\u001b[0;34m\u001b[0m\u001b[0m\n",
      "\u001b[0;32m~/miniconda3/lib/python3.8/site-packages/nltk/corpus/util.py\u001b[0m in \u001b[0;36m__load\u001b[0;34m(self)\u001b[0m\n\u001b[1;32m     83\u001b[0m                     \u001b[0mroot\u001b[0m \u001b[0;34m=\u001b[0m \u001b[0mnltk\u001b[0m\u001b[0;34m.\u001b[0m\u001b[0mdata\u001b[0m\u001b[0;34m.\u001b[0m\u001b[0mfind\u001b[0m\u001b[0;34m(\u001b[0m\u001b[0;34m\"{}/{}\"\u001b[0m\u001b[0;34m.\u001b[0m\u001b[0mformat\u001b[0m\u001b[0;34m(\u001b[0m\u001b[0mself\u001b[0m\u001b[0;34m.\u001b[0m\u001b[0msubdir\u001b[0m\u001b[0;34m,\u001b[0m \u001b[0mzip_name\u001b[0m\u001b[0;34m)\u001b[0m\u001b[0;34m)\u001b[0m\u001b[0;34m\u001b[0m\u001b[0;34m\u001b[0m\u001b[0m\n\u001b[1;32m     84\u001b[0m                 \u001b[0;32mexcept\u001b[0m \u001b[0mLookupError\u001b[0m\u001b[0;34m:\u001b[0m\u001b[0;34m\u001b[0m\u001b[0;34m\u001b[0m\u001b[0m\n\u001b[0;32m---> 85\u001b[0;31m                     \u001b[0;32mraise\u001b[0m \u001b[0me\u001b[0m\u001b[0;34m\u001b[0m\u001b[0;34m\u001b[0m\u001b[0m\n\u001b[0m\u001b[1;32m     86\u001b[0m \u001b[0;34m\u001b[0m\u001b[0m\n\u001b[1;32m     87\u001b[0m         \u001b[0;31m# Load the corpus.\u001b[0m\u001b[0;34m\u001b[0m\u001b[0;34m\u001b[0m\u001b[0;34m\u001b[0m\u001b[0m\n",
      "\u001b[0;32m~/miniconda3/lib/python3.8/site-packages/nltk/corpus/util.py\u001b[0m in \u001b[0;36m__load\u001b[0;34m(self)\u001b[0m\n\u001b[1;32m     78\u001b[0m         \u001b[0;32melse\u001b[0m\u001b[0;34m:\u001b[0m\u001b[0;34m\u001b[0m\u001b[0;34m\u001b[0m\u001b[0m\n\u001b[1;32m     79\u001b[0m             \u001b[0;32mtry\u001b[0m\u001b[0;34m:\u001b[0m\u001b[0;34m\u001b[0m\u001b[0;34m\u001b[0m\u001b[0m\n\u001b[0;32m---> 80\u001b[0;31m                 \u001b[0mroot\u001b[0m \u001b[0;34m=\u001b[0m \u001b[0mnltk\u001b[0m\u001b[0;34m.\u001b[0m\u001b[0mdata\u001b[0m\u001b[0;34m.\u001b[0m\u001b[0mfind\u001b[0m\u001b[0;34m(\u001b[0m\u001b[0;34m\"{}/{}\"\u001b[0m\u001b[0;34m.\u001b[0m\u001b[0mformat\u001b[0m\u001b[0;34m(\u001b[0m\u001b[0mself\u001b[0m\u001b[0;34m.\u001b[0m\u001b[0msubdir\u001b[0m\u001b[0;34m,\u001b[0m \u001b[0mself\u001b[0m\u001b[0;34m.\u001b[0m\u001b[0m__name\u001b[0m\u001b[0;34m)\u001b[0m\u001b[0;34m)\u001b[0m\u001b[0;34m\u001b[0m\u001b[0;34m\u001b[0m\u001b[0m\n\u001b[0m\u001b[1;32m     81\u001b[0m             \u001b[0;32mexcept\u001b[0m \u001b[0mLookupError\u001b[0m \u001b[0;32mas\u001b[0m \u001b[0me\u001b[0m\u001b[0;34m:\u001b[0m\u001b[0;34m\u001b[0m\u001b[0;34m\u001b[0m\u001b[0m\n\u001b[1;32m     82\u001b[0m                 \u001b[0;32mtry\u001b[0m\u001b[0;34m:\u001b[0m\u001b[0;34m\u001b[0m\u001b[0;34m\u001b[0m\u001b[0m\n",
      "\u001b[0;32m~/miniconda3/lib/python3.8/site-packages/nltk/data.py\u001b[0m in \u001b[0;36mfind\u001b[0;34m(resource_name, paths)\u001b[0m\n\u001b[1;32m    583\u001b[0m     \u001b[0msep\u001b[0m \u001b[0;34m=\u001b[0m \u001b[0;34m\"*\"\u001b[0m \u001b[0;34m*\u001b[0m \u001b[0;36m70\u001b[0m\u001b[0;34m\u001b[0m\u001b[0;34m\u001b[0m\u001b[0m\n\u001b[1;32m    584\u001b[0m     \u001b[0mresource_not_found\u001b[0m \u001b[0;34m=\u001b[0m \u001b[0;34m\"\\n%s\\n%s\\n%s\\n\"\u001b[0m \u001b[0;34m%\u001b[0m \u001b[0;34m(\u001b[0m\u001b[0msep\u001b[0m\u001b[0;34m,\u001b[0m \u001b[0mmsg\u001b[0m\u001b[0;34m,\u001b[0m \u001b[0msep\u001b[0m\u001b[0;34m)\u001b[0m\u001b[0;34m\u001b[0m\u001b[0;34m\u001b[0m\u001b[0m\n\u001b[0;32m--> 585\u001b[0;31m     \u001b[0;32mraise\u001b[0m \u001b[0mLookupError\u001b[0m\u001b[0;34m(\u001b[0m\u001b[0mresource_not_found\u001b[0m\u001b[0;34m)\u001b[0m\u001b[0;34m\u001b[0m\u001b[0;34m\u001b[0m\u001b[0m\n\u001b[0m\u001b[1;32m    586\u001b[0m \u001b[0;34m\u001b[0m\u001b[0m\n\u001b[1;32m    587\u001b[0m \u001b[0;34m\u001b[0m\u001b[0m\n",
      "\u001b[0;31mLookupError\u001b[0m: \n**********************************************************************\n  Resource \u001b[93mstopwords\u001b[0m not found.\n  Please use the NLTK Downloader to obtain the resource:\n\n  \u001b[31m>>> import nltk\n  >>> nltk.download('stopwords')\n  \u001b[0m\n  For more information see: https://www.nltk.org/data.html\n\n  Attempted to load \u001b[93mcorpora/stopwords\u001b[0m\n\n  Searched in:\n    - '/home/zebfred/nltk_data'\n    - '/home/zebfred/miniconda3/nltk_data'\n    - '/home/zebfred/miniconda3/share/nltk_data'\n    - '/home/zebfred/miniconda3/lib/nltk_data'\n    - '/usr/share/nltk_data'\n    - '/usr/local/share/nltk_data'\n    - '/usr/lib/nltk_data'\n    - '/usr/local/lib/nltk_data'\n**********************************************************************\n"
     ]
    }
   ],
   "source": [
    "stop_words = stopwords.words('english')"
   ]
  },
  {
   "cell_type": "code",
   "execution_count": null,
   "metadata": {},
   "outputs": [],
   "source": [
    "stop_words.append('�')"
   ]
  },
  {
   "cell_type": "code",
   "execution_count": null,
   "metadata": {},
   "outputs": [],
   "source": [
    "otherlist = [\"’\",\"i'll\",\"you'll\",\"he'll\",\"she'll\",\"it'll\",\"we'll\",\"they'll\",\n",
    "                 \"i've\",\"you've\",\"he've\",\"she've\",\"it've\",\"we've\",\"they've\",\n",
    "                 \"i'd\",\"you'd\",\"he'd\",\"she'd\",\"it'd\",\"we'd\",\"they'd\", \"i'm\"]\n",
    "    \n",
    "    "
   ]
  },
  {
   "cell_type": "code",
   "execution_count": null,
   "metadata": {},
   "outputs": [],
   "source": [
    "for i in otherlist:\n",
    "    stop_words.append(i)"
   ]
  },
  {
   "cell_type": "code",
   "execution_count": null,
   "metadata": {},
   "outputs": [],
   "source": [
    "stop_words"
   ]
  },
  {
   "cell_type": "code",
   "execution_count": null,
   "metadata": {},
   "outputs": [],
   "source": [
    "star_trek = word_tokenize(star_trek)\n",
    "print('# of words before filtering: ', len(star_wars))"
   ]
  }
 ],
 "metadata": {
  "kernelspec": {
   "display_name": "Python 3",
   "language": "python",
   "name": "python3"
  },
  "language_info": {
   "codemirror_mode": {
    "name": "ipython",
    "version": 3
   },
   "file_extension": ".py",
   "mimetype": "text/x-python",
   "name": "python",
   "nbconvert_exporter": "python",
   "pygments_lexer": "ipython3",
   "version": "3.8.5"
  }
 },
 "nbformat": 4,
 "nbformat_minor": 4
}
