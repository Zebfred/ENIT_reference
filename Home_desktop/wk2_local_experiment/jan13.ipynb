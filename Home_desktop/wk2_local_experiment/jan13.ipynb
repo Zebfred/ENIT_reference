{
 "cells": [
  {
   "cell_type": "code",
   "execution_count": null,
   "metadata": {},
   "outputs": [],
   "source": [
    "Ridge regression\n",
    "Lasso\n",
    "\n",
    "Content of linear regression\n",
    "\n",
    "Used with gradient descent "
   ]
  },
  {
   "cell_type": "code",
   "execution_count": null,
   "metadata": {},
   "outputs": [],
   "source": [
    "r_2 = 1 - np.sum((y-y_hat)**2)/np.sum((y-np.mean(y))**2)"
   ]
  },
  {
   "cell_type": "code",
   "execution_count": null,
   "metadata": {},
   "outputs": [],
   "source": [
    "Regularization"
   ]
  },
  {
   "cell_type": "code",
   "execution_count": null,
   "metadata": {},
   "outputs": [],
   "source": [
    "Smoothing \n",
    "Spline\n",
    "\n",
    "less sensitive to training data \n",
    "\n",
    "avoid overfitting \n",
    "\n",
    "bias / variance \n",
    "\n",
    "drop out "
   ]
  },
  {
   "cell_type": "code",
   "execution_count": null,
   "metadata": {},
   "outputs": [],
   "source": [
    "def first_bad_pair(sequence):\n",
    "    \"\"\"Return the first index of a pair of elements where the earlier\n",
    "    element is not less than the later elements. If no such pair\n",
    "    exists, return -1.\"\"\"\n",
    "    for i in range(len(sequence)-1):\n",
    "        if sequence[i] >= sequence[i+1]:\n",
    "            return i\n",
    "    return -1\n",
    "\n",
    "def almostIncreasingSequence(sequence):\n",
    "    \"\"\"Return whether it is possible to obtain a strictly increasing\n",
    "    sequence by removing no more than one element from the array.\"\"\"\n",
    "    j = first_bad_pair(sequence)\n",
    "    if j == -1:\n",
    "        return True  # List is increasing\n",
    "    if first_bad_pair(sequence[j-1:j] + sequence[j+1:]) == -1:\n",
    "        return True  # Deleting earlier element makes increasing\n",
    "    if first_bad_pair(sequence[j:j+1] + sequence[j+2:]) == -1:\n",
    "        return True  # Deleting later element makes increasing\n",
    "    return False  # Deleting either does not make increasing"
   ]
  },
  {
   "cell_type": "code",
   "execution_count": null,
   "metadata": {},
   "outputs": [],
   "source": [
    "def first_bad_pair(sequence, k):\n",
    "    \"\"\"Return the first index of a pair of elements in sequence[]\n",
    "    for indices k-1, k+1, k+2, k+3, ... where the earlier element is\n",
    "    not less than the later element. If no such pair exists, return -1.\"\"\"\n",
    "    if 0 < k < len(sequence) - 1:\n",
    "        if sequence[k-1] >= sequence[k+1]:\n",
    "            return k-1\n",
    "    for i in range(k+1, len(sequence)-1):\n",
    "        if sequence[i] >= sequence[i+1]:\n",
    "            return i\n",
    "    return -1\n",
    "\n",
    "def almostIncreasingSequence(sequence):\n",
    "    \"\"\"Return whether it is possible to obtain a strictly increasing\n",
    "    sequence by removing no more than one element from the array.\"\"\"\n",
    "    j = first_bad_pair(sequence, -1)\n",
    "    if j == -1:\n",
    "        return True  # List is increasing\n",
    "    if first_bad_pair(sequence, j) == -1:\n",
    "        return True  # Deleting earlier element makes increasing\n",
    "    if first_bad_pair(sequence, j+1) == -1:\n",
    "        return True  # Deleting later element makes increasing\n",
    "    return False  # Deleting either does not make increasing"
   ]
  },
  {
   "cell_type": "code",
   "execution_count": null,
   "metadata": {},
   "outputs": [],
   "source": [
    "def almostIncreasingSequence(sequence):\n",
    "    c= 0\n",
    "    for i in range(len(sequence)-1):\n",
    "        if sequence[i]>=sequence[i+1]:\n",
    "            c +=1\n",
    "    return c<1"
   ]
  },
  {
   "cell_type": "code",
   "execution_count": null,
   "metadata": {},
   "outputs": [],
   "source": [
    "input: [1, 3, 2]\n",
    "Output:false\n",
    "Expected Output:true\n",
    "\n",
    "Input: [10, 1, 2, 3, 4, 5]\n",
    "Output: false\n",
    "Expected Output: true\n",
    "\n",
    "Input: [0, -2, 5, 6]\n",
    "Output: false\n",
    "Expected Output: true\n",
    "\n",
    "input:  [1, 1]\n",
    "Output: false\n",
    "Expected Output: true\n",
    "\n",
    "Input: [1, 2, 3, 4, 3, 6]\n",
    "Output: false\n",
    "Expected Output: true\n",
    "\n",
    "Input: [1, 2, 3, 4, 99, 5, 6]\n",
    "Output: false\n",
    "Expected Output: true"
   ]
  },
  {
   "cell_type": "code",
   "execution_count": null,
   "metadata": {},
   "outputs": [],
   "source": [
    "High variance model will tend to overfit\n",
    "\n",
    "Empty mind \n",
    "\n",
    "confirm more to the data"
   ]
  },
  {
   "cell_type": "code",
   "execution_count": null,
   "metadata": {},
   "outputs": [],
   "source": [
    "l1 l2 elastity\n",
    "\n",
    "Noise / signal\n",
    "\n",
    "sensor "
   ]
  },
  {
   "cell_type": "code",
   "execution_count": null,
   "metadata": {},
   "outputs": [],
   "source": [
    "def almostIncreasingSequence(sequence):\n",
    "\n",
    "    #Take out the edge cases\n",
    "    if len(sequence) <= 2:\n",
    "        return True\n",
    "\n",
    "    #Set up a new function to see if it's increasing sequence\n",
    "    def IncreasingSequence(test_sequence):\n",
    "        if len(test_sequence) == 2:\n",
    "            if test_sequence[0] < test_sequence[1]:\n",
    "                return True\n",
    "        else:\n",
    "            for i in range(0, len(test_sequence)-1):\n",
    "                if test_sequence[i] >= test_sequence[i+1]:\n",
    "                    return False\n",
    "                else:\n",
    "                    pass\n",
    "            return True\n",
    "\n",
    "    for i in range (0, len(sequence) - 1):\n",
    "        if sequence[i] >= sequence [i+1]:\n",
    "            #Either remove the current one or the next one\n",
    "            test_seq1 = sequence[:i] + sequence[i+1:]\n",
    "            test_seq2 = sequence[:i+1] + sequence[i+2:]\n",
    "            if IncreasingSequence(test_seq1) == True:\n",
    "                return True\n",
    "            elif IncreasingSequence(test_seq2) == True:\n",
    "                return True\n",
    "            else:\n",
    "                return False"
   ]
  },
  {
   "cell_type": "code",
   "execution_count": 1,
   "metadata": {},
   "outputs": [],
   "source": [
    "def first_bad_pair(sequence, k):\n",
    "    \"\"\"Return the first index of a pair of elements in sequence[]\n",
    "    for indices k-1, k+1, k+2, k+3, ... where the earlier element is\n",
    "    not less than the later element. If no such pair exists, return -1.\"\"\"\n",
    "    if 0 < k < len(sequence) - 1:\n",
    "        if sequence[k-1] >= sequence[k+1]:\n",
    "            return k-1\n",
    "    for i in range(k+1, len(sequence)-1):\n",
    "        if sequence[i] >= sequence[i+1]:\n",
    "            return i\n",
    "    return -1\n",
    "\n",
    "def almostIncreasingSequence(sequence):\n",
    "    \"\"\"Return whether it is possible to obtain a strictly increasing\n",
    "    sequence by removing no more than one element from the array.\"\"\"\n",
    "    j = first_bad_pair(sequence, -1)\n",
    "    if j == -1:\n",
    "        return True  # List is increasing\n",
    "    if first_bad_pair(sequence, j) == -1:\n",
    "        return True  # Deleting earlier element makes increasing\n",
    "    if first_bad_pair(sequence, j+1) == -1:\n",
    "        return True  # Deleting later element makes increasing\n",
    "    return False  # Deleting either does not make increasing"
   ]
  },
  {
   "cell_type": "code",
   "execution_count": 2,
   "metadata": {},
   "outputs": [],
   "source": [
    "seq = [10, 1, 2, 3, 4, 5]"
   ]
  },
  {
   "cell_type": "code",
   "execution_count": 5,
   "metadata": {},
   "outputs": [
    {
     "data": {
      "text/plain": [
       "-1"
      ]
     },
     "execution_count": 5,
     "metadata": {},
     "output_type": "execute_result"
    }
   ],
   "source": [
    "first_bad_pair(seq, 10)"
   ]
  },
  {
   "cell_type": "code",
   "execution_count": null,
   "metadata": {},
   "outputs": [],
   "source": [
    "zeb: House finder given features"
   ]
  },
  {
   "cell_type": "code",
   "execution_count": 25,
   "metadata": {},
   "outputs": [],
   "source": [
    "def almostIncreasingSequence(sequence):\n",
    "\n",
    "    #Take out the edge cases\n",
    "    if len(sequence) <= 2:\n",
    "        return True\n",
    "\n",
    "    #Set up a new function to see if it's increasing sequence\n",
    "       \n",
    "    def InSeq(test_sequence):\n",
    "        if len(test_sequence) == 2:\n",
    "            if test_sequence[0] < test_sequence[1]:\n",
    "                return True\n",
    "        else:\n",
    "            for i in range(0, len(test_sequence)-1):\n",
    "                if test_sequence[i] >= test_sequence[i+1]:\n",
    "                    return False\n",
    "                else:\n",
    "                    pass\n",
    "            return True\n",
    "\n",
    "    for i in range (0, len(sequence) - 1):\n",
    "        if sequence[i] >= sequence [i+1]:\n",
    "            #Either remove the current one or the next one\n",
    "            test_seq1 = sequence[:i] + sequence[i+1:]\n",
    "            test_seq2 = sequence[:i+1] + sequence[i+2:]\n",
    "            if InSeq(test_seq1) == True:\n",
    "                return True\n",
    "            elif InSeq(test_seq2) == True:\n",
    "                return True\n",
    "            else:\n",
    "                return False"
   ]
  },
  {
   "cell_type": "code",
   "execution_count": 27,
   "metadata": {},
   "outputs": [
    {
     "data": {
      "text/plain": [
       "True"
      ]
     },
     "execution_count": 27,
     "metadata": {},
     "output_type": "execute_result"
    }
   ],
   "source": [
    "almostIncreasingSequence(seq)"
   ]
  },
  {
   "cell_type": "code",
   "execution_count": 21,
   "metadata": {},
   "outputs": [],
   "source": [
    "def almostIncreasingSequence(sequence):\n",
    "\n",
    "    #Take out the edge cases\n",
    "    if len(sequence) <= 2:\n",
    "        return True\n",
    "\n",
    "    #Set up a new function to see if it's increasing sequence\n",
    "    \n",
    "    def IncreasingSequence(test_sequence):\n",
    "        if len(test_sequence) == 2:\n",
    "            if test_sequence[0] < test_sequence[1]:\n",
    "                return True\n",
    "        else:\n",
    "            for i in range(0, len(test_sequence)-1):\n",
    "                if test_sequence[i] >= test_sequence[i+1]:\n",
    "                    return False\n",
    "                else:\n",
    "                    pass\n",
    "            return True\n",
    "    \n",
    "    \n",
    "    for i in range (0, len(sequence) - 1):\n",
    "        if sequence[i] >= sequence [i+1]:\n",
    "            #Either remove the current one or the next one\n",
    "            test_seq1 = sequence[:i] + sequence[i+1:]\n",
    "            test_seq2 = sequence[:i+1] + sequence[i+2:]\n",
    "            if IncreasingSequence(test_seq1) == True:\n",
    "                return True\n",
    "            elif IncreasingSequence(test_seq2) == True:\n",
    "                return True\n",
    "            else:\n",
    "                return False"
   ]
  },
  {
   "cell_type": "code",
   "execution_count": 22,
   "metadata": {},
   "outputs": [
    {
     "ename": "NameError",
     "evalue": "name 'IncreasingSequence' is not defined",
     "output_type": "error",
     "traceback": [
      "\u001b[1;31m---------------------------------------------------------------------------\u001b[0m",
      "\u001b[1;31mNameError\u001b[0m                                 Traceback (most recent call last)",
      "\u001b[1;32m<ipython-input-22-e22b0079827b>\u001b[0m in \u001b[0;36m<module>\u001b[1;34m\u001b[0m\n\u001b[1;32m----> 1\u001b[1;33m \u001b[0mIncreasingSequence\u001b[0m\u001b[1;33m(\u001b[0m\u001b[0mseq\u001b[0m\u001b[1;33m)\u001b[0m\u001b[1;33m\u001b[0m\u001b[1;33m\u001b[0m\u001b[0m\n\u001b[0m",
      "\u001b[1;31mNameError\u001b[0m: name 'IncreasingSequence' is not defined"
     ]
    }
   ],
   "source": [
    "IncreasingSequence(seq)"
   ]
  },
  {
   "cell_type": "code",
   "execution_count": 28,
   "metadata": {},
   "outputs": [],
   "source": [
    "def almostIncreasingSequence(seq):\n",
    "    \n",
    "    # Take out the edge cases\n",
    "    # not sure why\n",
    "    if len(seq) <= 2:\n",
    "        return True\n",
    "    \n",
    "    # another fuction for it is increasing \n",
    "    def InSeq(test_seq):\n",
    "        if len(test_seq) == 2:\n",
    "            if test_seq[0] < test_seq[1]:\n",
    "                return True\n",
    "        else:\n",
    "            for item in range(0, len(test_seq)- 1):\n",
    "                if test_seq[1] >= test_seq[item + 1]:\n",
    "                    return False\n",
    "                else:\n",
    "                    pass\n",
    "                return True\n",
    "            \n",
    "    for it in range(0, len(seq)- 1):\n",
    "        if seq[it] >= seq [it + 1]:\n",
    "            #either remove the current one or the next one \n",
    "            test_seq1 = seq[:it] + seq[it+1:]\n",
    "            test_seq2 = seq[:it+1] + seq[it+2:]\n",
    "            if InSeq(test_seq1) == True:\n",
    "                return True\n",
    "            elif InSeq(test_seq2) == True:\n",
    "                return True\n",
    "            else:\n",
    "                return False"
   ]
  },
  {
   "cell_type": "code",
   "execution_count": 29,
   "metadata": {},
   "outputs": [
    {
     "data": {
      "text/plain": [
       "False"
      ]
     },
     "execution_count": 29,
     "metadata": {},
     "output_type": "execute_result"
    }
   ],
   "source": [
    "almostIncreasingSequence(seq)"
   ]
  },
  {
   "cell_type": "code",
   "execution_count": 13,
   "metadata": {},
   "outputs": [
    {
     "data": {
      "text/plain": [
       "[10, 1, 2, 3, 4, 5]"
      ]
     },
     "execution_count": 13,
     "metadata": {},
     "output_type": "execute_result"
    }
   ],
   "source": [
    "seq\n",
    "    \n",
    "    "
   ]
  },
  {
   "cell_type": "code",
   "execution_count": 30,
   "metadata": {},
   "outputs": [],
   "source": [
    "def almostIncreasingSequence(seq):\n",
    "    \n",
    "    # Take out the edge cases\n",
    "    # not sure why\n",
    "    if len(seq) <= 2:\n",
    "        return True\n",
    "    \n",
    "    # another fuction for it is increasing \n",
    "    def InSeq(test_seq):\n",
    "        # if the function is 2 with elements going up its good\n",
    "        if len(test_seq) == 2:\n",
    "            #going up elements\n",
    "            if test_seq[0] < test_seq[1]:\n",
    "                return True\n",
    "        else:\n",
    "            # if items are more than 2\n",
    "            for item in range(0, len(test_seq)- 1):\n",
    "                # if an item is less than or equl to the one next to it\n",
    "                if test_seq[item] >= test_seq[item + 1]:\n",
    "                    return False\n",
    "                # go to next for loop or return true\n",
    "                else:\n",
    "                    pass\n",
    "                return True\n",
    "     # if the items are more than 1 and you remove one elements       \n",
    "    for it in range(0, len(seq)- 1):\n",
    "        # if item before is greater or equal too\n",
    "        if seq[it] >= seq [it + 1]:\n",
    "            #either remove the current one or the next one \n",
    "            test_seq1 = seq[:it] + seq[it+1:]\n",
    "            # next one remove \n",
    "            test_seq2 = seq[:it+1] + seq[it+2:]\n",
    "            # if the test cases are true\n",
    "            if InSeq(test_seq1) == True:\n",
    "                return True\n",
    "            elif InSeq(test_seq2) == True:\n",
    "                return True\n",
    "            else:\n",
    "                return False"
   ]
  },
  {
   "cell_type": "code",
   "execution_count": null,
   "metadata": {},
   "outputs": [],
   "source": []
  },
  {
   "cell_type": "code",
   "execution_count": 31,
   "metadata": {},
   "outputs": [
    {
     "data": {
      "text/plain": [
       "True"
      ]
     },
     "execution_count": 31,
     "metadata": {},
     "output_type": "execute_result"
    }
   ],
   "source": [
    "almostIncreasingSequence(seq)"
   ]
  },
  {
   "cell_type": "code",
   "execution_count": null,
   "metadata": {},
   "outputs": [],
   "source": [
    "training data part of set\n",
    "\n",
    "can use more data\n",
    "\n",
    "how to incorporate the undervalue stuff"
   ]
  },
  {
   "cell_type": "code",
   "execution_count": null,
   "metadata": {},
   "outputs": [],
   "source": [
    "Can I be enough?\n",
    "\n",
    "one hot encoding\n",
    "\n",
    "get dummies\n",
    "\n",
    "work hard to talk less\n",
    "to particapete less\n",
    "to focus more on less"
   ]
  },
  {
   "cell_type": "code",
   "execution_count": null,
   "metadata": {},
   "outputs": [],
   "source": [
    "hamouni appb\n"
   ]
  },
  {
   "cell_type": "code",
   "execution_count": null,
   "metadata": {},
   "outputs": [],
   "source": []
  },
  {
   "cell_type": "code",
   "execution_count": 32,
   "metadata": {},
   "outputs": [],
   "source": [
    "seq = [1, 3 , 2 , 1]"
   ]
  },
  {
   "cell_type": "code",
   "execution_count": 34,
   "metadata": {},
   "outputs": [
    {
     "data": {
      "text/plain": [
       "True"
      ]
     },
     "execution_count": 34,
     "metadata": {},
     "output_type": "execute_result"
    }
   ],
   "source": [
    "almostIncreasingSequence(seq)"
   ]
  },
  {
   "cell_type": "code",
   "execution_count": 33,
   "metadata": {},
   "outputs": [],
   "source": [
    "def almostIncreasingSequence(seq):\n",
    "    \n",
    "    # Take out the edge cases\n",
    "    # not sure why\n",
    "    if len(seq) <= 2:\n",
    "        return True\n",
    "    \n",
    "    # another fuction for it is increasing \n",
    "    def InSeq(test_seq):\n",
    "        # if the function is 2 with elements going up its good\n",
    "        if len(test_seq) == 2:\n",
    "            #going up elements\n",
    "            if test_seq[0] < test_seq[1]:\n",
    "                return True\n",
    "        else:\n",
    "            # if items are more than 2\n",
    "            for item in range(0, len(test_seq)- 1):\n",
    "                # if an item is less than or equl to the one next to it\n",
    "                if test_seq[item] >= test_seq[item + 1]:\n",
    "                    return False\n",
    "                # go to next for loop or return true\n",
    "                else:\n",
    "                    pass\n",
    "                return True\n",
    "     # if the items are more than 1 and you remove one elements       \n",
    "    for it in range(0, len(seq)- 1):\n",
    "        # if item before is greater or equal too\n",
    "        if seq[it] >= seq [it + 1]:\n",
    "            #either remove the current one or the next one \n",
    "            test_seq1 = seq[:it] + seq[it+1:]\n",
    "            # next one remove \n",
    "            test_seq2 = seq[:it+1] + seq[it+2:]\n",
    "            # if the test cases are true\n",
    "            if InSeq(test_seq1) == True:\n",
    "                return True\n",
    "            elif InSeq(test_seq2) == True:\n",
    "                return True\n",
    "            else:\n",
    "                return False"
   ]
  },
  {
   "cell_type": "code",
   "execution_count": null,
   "metadata": {},
   "outputs": [],
   "source": [
    "def first_bad_pair(sequence):\n",
    "    \"\"\"Return the first index of a pair of elements where the earlier\n",
    "    element is not less than the later elements. If no such pair\n",
    "    exists, return -1.\"\"\"\n",
    "    for i in range(len(sequence)-1):\n",
    "        if sequence[i] >= sequence[i+1]:\n",
    "            return i\n",
    "    return -1\n",
    "\n",
    "def almostIncreasingSequence(sequence):\n",
    "    \"\"\"Return whether it is possible to obtain a strictly increasing\n",
    "    sequence by removing no more than one element from the array.\"\"\"\n",
    "    j = first_bad_pair(sequence)\n",
    "    if j == -1:\n",
    "        return True  # List is increasing\n",
    "    if first_bad_pair(sequence[j-1:j] + sequence[j+1:]) == -1:\n",
    "        return True  # Deleting earlier element makes increasing\n",
    "    if first_bad_pair(sequence[j:j+1] + sequence[j+2:]) == -1:\n",
    "        return True  # Deleting later element makes increasing\n",
    "    return False  # Deleting either does not make increasing"
   ]
  },
  {
   "cell_type": "code",
   "execution_count": null,
   "metadata": {},
   "outputs": [],
   "source": []
  }
 ],
 "metadata": {
  "kernelspec": {
   "display_name": "Python 3",
   "language": "python",
   "name": "python3"
  },
  "language_info": {
   "codemirror_mode": {
    "name": "ipython",
    "version": 3
   },
   "file_extension": ".py",
   "mimetype": "text/x-python",
   "name": "python",
   "nbconvert_exporter": "python",
   "pygments_lexer": "ipython3",
   "version": "3.8.5"
  }
 },
 "nbformat": 4,
 "nbformat_minor": 4
}
