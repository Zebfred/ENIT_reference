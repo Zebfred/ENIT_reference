{
 "cells": [
  {
   "cell_type": "code",
   "execution_count": null,
   "metadata": {},
   "outputs": [],
   "source": [
    "writing the math and code in fluent todgether\n",
    "doesnt easy translate"
   ]
  },
  {
   "cell_type": "code",
   "execution_count": 1,
   "metadata": {},
   "outputs": [],
   "source": [
    "import numpy as np\n",
    "import matplotlib.pyplot as plt\n",
    "import pandas as pd\n",
    "import os\n",
    "from scipy.stats import multivariate_normal as mvn\n",
    "from scipy.stats import multinomial as mlvn\n",
    "from scipy.stats import bernoulli as brn\n",
    "%matplotlib inline"
   ]
  },
  {
   "cell_type": "code",
   "execution_count": 2,
   "metadata": {},
   "outputs": [],
   "source": [
    "class LinearRegression():\n",
    "    def fit(self, X, y):\n",
    "        self.w = np.linalg.solve(X.T@X, X.T@y)\n",
    "        \n",
    "    def predict(self, X):\n",
    "        return np.matmul(X, self.w)\n",
    "#y^ = wX    "
   ]
  },
  {
   "cell_type": "code",
   "execution_count": 7,
   "metadata": {},
   "outputs": [
    {
     "data": {
      "text/html": [
       "<div>\n",
       "<style scoped>\n",
       "    .dataframe tbody tr th:only-of-type {\n",
       "        vertical-align: middle;\n",
       "    }\n",
       "\n",
       "    .dataframe tbody tr th {\n",
       "        vertical-align: top;\n",
       "    }\n",
       "\n",
       "    .dataframe thead th {\n",
       "        text-align: right;\n",
       "    }\n",
       "</style>\n",
       "<table border=\"1\" class=\"dataframe\">\n",
       "  <thead>\n",
       "    <tr style=\"text-align: right;\">\n",
       "      <th></th>\n",
       "      <th>MLS</th>\n",
       "      <th>sold_price</th>\n",
       "      <th>zipcode</th>\n",
       "      <th>longitude</th>\n",
       "      <th>latitude</th>\n",
       "      <th>lot_acres</th>\n",
       "      <th>taxes</th>\n",
       "      <th>year_built</th>\n",
       "      <th>bedrooms</th>\n",
       "      <th>bathrooms</th>\n",
       "      <th>sqrt_ft</th>\n",
       "      <th>garage</th>\n",
       "      <th>kitchen_features</th>\n",
       "      <th>fireplaces</th>\n",
       "      <th>floor_covering</th>\n",
       "      <th>HOA</th>\n",
       "    </tr>\n",
       "  </thead>\n",
       "  <tbody>\n",
       "    <tr>\n",
       "      <th>0</th>\n",
       "      <td>21530491</td>\n",
       "      <td>5300000.0</td>\n",
       "      <td>85637</td>\n",
       "      <td>-110.378200</td>\n",
       "      <td>31.356362</td>\n",
       "      <td>2154.00</td>\n",
       "      <td>5272.00</td>\n",
       "      <td>1941</td>\n",
       "      <td>13</td>\n",
       "      <td>10</td>\n",
       "      <td>10500</td>\n",
       "      <td>0</td>\n",
       "      <td>Dishwasher, Freezer, Refrigerator, Oven</td>\n",
       "      <td>6.0</td>\n",
       "      <td>Mexican Tile, Wood</td>\n",
       "      <td>0</td>\n",
       "    </tr>\n",
       "    <tr>\n",
       "      <th>1</th>\n",
       "      <td>21529082</td>\n",
       "      <td>4200000.0</td>\n",
       "      <td>85646</td>\n",
       "      <td>-111.045371</td>\n",
       "      <td>31.594213</td>\n",
       "      <td>1707.00</td>\n",
       "      <td>10422.36</td>\n",
       "      <td>1997</td>\n",
       "      <td>2</td>\n",
       "      <td>2</td>\n",
       "      <td>7300</td>\n",
       "      <td>0</td>\n",
       "      <td>Dishwasher, Garbage Disposal</td>\n",
       "      <td>5.0</td>\n",
       "      <td>Natural Stone, Other</td>\n",
       "      <td>0</td>\n",
       "    </tr>\n",
       "    <tr>\n",
       "      <th>2</th>\n",
       "      <td>3054672</td>\n",
       "      <td>4200000.0</td>\n",
       "      <td>85646</td>\n",
       "      <td>-111.040707</td>\n",
       "      <td>31.594844</td>\n",
       "      <td>1707.00</td>\n",
       "      <td>10482.00</td>\n",
       "      <td>1997</td>\n",
       "      <td>2</td>\n",
       "      <td>3</td>\n",
       "      <td>None</td>\n",
       "      <td>None</td>\n",
       "      <td>Dishwasher, Garbage Disposal, Refrigerator</td>\n",
       "      <td>5.0</td>\n",
       "      <td>Natural Stone, Other: Rock</td>\n",
       "      <td>None</td>\n",
       "    </tr>\n",
       "    <tr>\n",
       "      <th>3</th>\n",
       "      <td>21919321</td>\n",
       "      <td>4500000.0</td>\n",
       "      <td>85646</td>\n",
       "      <td>-111.035925</td>\n",
       "      <td>31.645878</td>\n",
       "      <td>636.67</td>\n",
       "      <td>8418.58</td>\n",
       "      <td>1930</td>\n",
       "      <td>7</td>\n",
       "      <td>5</td>\n",
       "      <td>9019</td>\n",
       "      <td>4</td>\n",
       "      <td>Dishwasher, Double Sink, Pantry: Butler, Refri...</td>\n",
       "      <td>4.0</td>\n",
       "      <td>Ceramic Tile, Laminate, Wood</td>\n",
       "      <td>None</td>\n",
       "    </tr>\n",
       "    <tr>\n",
       "      <th>4</th>\n",
       "      <td>21306357</td>\n",
       "      <td>3411450.0</td>\n",
       "      <td>85750</td>\n",
       "      <td>-110.813768</td>\n",
       "      <td>32.285162</td>\n",
       "      <td>3.21</td>\n",
       "      <td>15393.00</td>\n",
       "      <td>1995</td>\n",
       "      <td>4</td>\n",
       "      <td>6</td>\n",
       "      <td>6396</td>\n",
       "      <td>3</td>\n",
       "      <td>Dishwasher, Garbage Disposal, Refrigerator, Mi...</td>\n",
       "      <td>5.0</td>\n",
       "      <td>Carpet, Concrete</td>\n",
       "      <td>55</td>\n",
       "    </tr>\n",
       "    <tr>\n",
       "      <th>...</th>\n",
       "      <td>...</td>\n",
       "      <td>...</td>\n",
       "      <td>...</td>\n",
       "      <td>...</td>\n",
       "      <td>...</td>\n",
       "      <td>...</td>\n",
       "      <td>...</td>\n",
       "      <td>...</td>\n",
       "      <td>...</td>\n",
       "      <td>...</td>\n",
       "      <td>...</td>\n",
       "      <td>...</td>\n",
       "      <td>...</td>\n",
       "      <td>...</td>\n",
       "      <td>...</td>\n",
       "      <td>...</td>\n",
       "    </tr>\n",
       "    <tr>\n",
       "      <th>4995</th>\n",
       "      <td>21810382</td>\n",
       "      <td>495000.0</td>\n",
       "      <td>85641</td>\n",
       "      <td>-110.661829</td>\n",
       "      <td>31.907917</td>\n",
       "      <td>4.98</td>\n",
       "      <td>2017.00</td>\n",
       "      <td>2005</td>\n",
       "      <td>5</td>\n",
       "      <td>3</td>\n",
       "      <td>3601</td>\n",
       "      <td>3</td>\n",
       "      <td>Dishwasher, Double Sink, Garbage Disposal, Gas...</td>\n",
       "      <td>1.0</td>\n",
       "      <td>Carpet, Ceramic Tile</td>\n",
       "      <td>None</td>\n",
       "    </tr>\n",
       "    <tr>\n",
       "      <th>4996</th>\n",
       "      <td>21908591</td>\n",
       "      <td>550000.0</td>\n",
       "      <td>85750</td>\n",
       "      <td>-110.858556</td>\n",
       "      <td>32.316373</td>\n",
       "      <td>1.42</td>\n",
       "      <td>4822.01</td>\n",
       "      <td>1990</td>\n",
       "      <td>4</td>\n",
       "      <td>3</td>\n",
       "      <td>2318</td>\n",
       "      <td>3</td>\n",
       "      <td>Dishwasher, Double Sink, Electric Range, Garba...</td>\n",
       "      <td>1.0</td>\n",
       "      <td>Carpet, Ceramic Tile</td>\n",
       "      <td>43</td>\n",
       "    </tr>\n",
       "    <tr>\n",
       "      <th>4997</th>\n",
       "      <td>21832452</td>\n",
       "      <td>475000.0</td>\n",
       "      <td>85192</td>\n",
       "      <td>-110.755428</td>\n",
       "      <td>32.964708</td>\n",
       "      <td>12.06</td>\n",
       "      <td>1000.00</td>\n",
       "      <td>1969</td>\n",
       "      <td>3</td>\n",
       "      <td>2</td>\n",
       "      <td>1772</td>\n",
       "      <td>0</td>\n",
       "      <td>Dishwasher, Electric Range, Island, Refrigerat...</td>\n",
       "      <td>0.0</td>\n",
       "      <td>Ceramic Tile</td>\n",
       "      <td>None</td>\n",
       "    </tr>\n",
       "    <tr>\n",
       "      <th>4998</th>\n",
       "      <td>21900515</td>\n",
       "      <td>550000.0</td>\n",
       "      <td>85745</td>\n",
       "      <td>-111.055528</td>\n",
       "      <td>32.296871</td>\n",
       "      <td>1.01</td>\n",
       "      <td>5822.93</td>\n",
       "      <td>2009</td>\n",
       "      <td>4</td>\n",
       "      <td>4</td>\n",
       "      <td>3724</td>\n",
       "      <td>3</td>\n",
       "      <td>Dishwasher, Double Sink, Garbage Disposal, Gas...</td>\n",
       "      <td>1.0</td>\n",
       "      <td>Carpet, Ceramic Tile</td>\n",
       "      <td>None</td>\n",
       "    </tr>\n",
       "    <tr>\n",
       "      <th>4999</th>\n",
       "      <td>4111490</td>\n",
       "      <td>450000.0</td>\n",
       "      <td>85621</td>\n",
       "      <td>-110.913054</td>\n",
       "      <td>31.385259</td>\n",
       "      <td>4.16</td>\n",
       "      <td>2814.48</td>\n",
       "      <td>1988</td>\n",
       "      <td>4</td>\n",
       "      <td>4</td>\n",
       "      <td>4317</td>\n",
       "      <td>None</td>\n",
       "      <td>Compactor, Dishwasher, Double Sink, Island, Ap...</td>\n",
       "      <td>3.0</td>\n",
       "      <td>Carpet, Mexican Tile</td>\n",
       "      <td>None</td>\n",
       "    </tr>\n",
       "  </tbody>\n",
       "</table>\n",
       "<p>5000 rows × 16 columns</p>\n",
       "</div>"
      ],
      "text/plain": [
       "           MLS  sold_price  zipcode   longitude   latitude  lot_acres  \\\n",
       "0     21530491   5300000.0    85637 -110.378200  31.356362    2154.00   \n",
       "1     21529082   4200000.0    85646 -111.045371  31.594213    1707.00   \n",
       "2      3054672   4200000.0    85646 -111.040707  31.594844    1707.00   \n",
       "3     21919321   4500000.0    85646 -111.035925  31.645878     636.67   \n",
       "4     21306357   3411450.0    85750 -110.813768  32.285162       3.21   \n",
       "...        ...         ...      ...         ...        ...        ...   \n",
       "4995  21810382    495000.0    85641 -110.661829  31.907917       4.98   \n",
       "4996  21908591    550000.0    85750 -110.858556  32.316373       1.42   \n",
       "4997  21832452    475000.0    85192 -110.755428  32.964708      12.06   \n",
       "4998  21900515    550000.0    85745 -111.055528  32.296871       1.01   \n",
       "4999   4111490    450000.0    85621 -110.913054  31.385259       4.16   \n",
       "\n",
       "         taxes  year_built  bedrooms bathrooms sqrt_ft garage  \\\n",
       "0      5272.00        1941        13        10   10500      0   \n",
       "1     10422.36        1997         2         2    7300      0   \n",
       "2     10482.00        1997         2         3    None   None   \n",
       "3      8418.58        1930         7         5    9019      4   \n",
       "4     15393.00        1995         4         6    6396      3   \n",
       "...        ...         ...       ...       ...     ...    ...   \n",
       "4995   2017.00        2005         5         3    3601      3   \n",
       "4996   4822.01        1990         4         3    2318      3   \n",
       "4997   1000.00        1969         3         2    1772      0   \n",
       "4998   5822.93        2009         4         4    3724      3   \n",
       "4999   2814.48        1988         4         4    4317   None   \n",
       "\n",
       "                                       kitchen_features  fireplaces  \\\n",
       "0               Dishwasher, Freezer, Refrigerator, Oven         6.0   \n",
       "1                          Dishwasher, Garbage Disposal         5.0   \n",
       "2            Dishwasher, Garbage Disposal, Refrigerator         5.0   \n",
       "3     Dishwasher, Double Sink, Pantry: Butler, Refri...         4.0   \n",
       "4     Dishwasher, Garbage Disposal, Refrigerator, Mi...         5.0   \n",
       "...                                                 ...         ...   \n",
       "4995  Dishwasher, Double Sink, Garbage Disposal, Gas...         1.0   \n",
       "4996  Dishwasher, Double Sink, Electric Range, Garba...         1.0   \n",
       "4997  Dishwasher, Electric Range, Island, Refrigerat...         0.0   \n",
       "4998  Dishwasher, Double Sink, Garbage Disposal, Gas...         1.0   \n",
       "4999  Compactor, Dishwasher, Double Sink, Island, Ap...         3.0   \n",
       "\n",
       "                    floor_covering   HOA  \n",
       "0               Mexican Tile, Wood     0  \n",
       "1             Natural Stone, Other     0  \n",
       "2       Natural Stone, Other: Rock  None  \n",
       "3     Ceramic Tile, Laminate, Wood  None  \n",
       "4                 Carpet, Concrete    55  \n",
       "...                            ...   ...  \n",
       "4995          Carpet, Ceramic Tile  None  \n",
       "4996          Carpet, Ceramic Tile    43  \n",
       "4997                  Ceramic Tile  None  \n",
       "4998          Carpet, Ceramic Tile  None  \n",
       "4999          Carpet, Mexican Tile  None  \n",
       "\n",
       "[5000 rows x 16 columns]"
      ]
     },
     "execution_count": 7,
     "metadata": {},
     "output_type": "execute_result"
    }
   ],
   "source": [
    "\n",
    "\n",
    "df_h = pd.read_csv(r'C:/Users/Zebfred/Enhanced_IT/wk2_local_experiment/raw_house_data.csv')\n",
    "df_h"
   ]
  },
  {
   "cell_type": "code",
   "execution_count": null,
   "metadata": {},
   "outputs": [],
   "source": [
    "from matplotlib import pyplot as plt\n",
    "import seaborn as sns\n",
    "data = df_h.corr()\n",
    "plt.figure(figsize = ( 16,5))\n",
    "\n",
    "dataplot = sns.heatmap(data, cmap = \"CMRmap\", annot = True)"
   ]
  },
  {
   "cell_type": "code",
   "execution_count": 5,
   "metadata": {},
   "outputs": [],
   "source": [
    "df = pd.read_csv(r'C:\\Users\\Zebfred\\Enhanced_IT\\wk2_local_experiment/exNB.csv')"
   ]
  },
  {
   "cell_type": "code",
   "execution_count": 6,
   "metadata": {},
   "outputs": [
    {
     "data": {
      "text/html": [
       "<div>\n",
       "<style scoped>\n",
       "    .dataframe tbody tr th:only-of-type {\n",
       "        vertical-align: middle;\n",
       "    }\n",
       "\n",
       "    .dataframe tbody tr th {\n",
       "        vertical-align: top;\n",
       "    }\n",
       "\n",
       "    .dataframe thead th {\n",
       "        text-align: right;\n",
       "    }\n",
       "</style>\n",
       "<table border=\"1\" class=\"dataframe\">\n",
       "  <thead>\n",
       "    <tr style=\"text-align: right;\">\n",
       "      <th></th>\n",
       "      <th>7.562675441204771687e+01</th>\n",
       "      <th>1.817044862628660553e+02</th>\n",
       "      <th>1.000000000000000000e+00</th>\n",
       "    </tr>\n",
       "  </thead>\n",
       "  <tbody>\n",
       "    <tr>\n",
       "      <th>0</th>\n",
       "      <td>70.540408</td>\n",
       "      <td>176.177640</td>\n",
       "      <td>1.0</td>\n",
       "    </tr>\n",
       "    <tr>\n",
       "      <th>1</th>\n",
       "      <td>76.875023</td>\n",
       "      <td>178.667364</td>\n",
       "      <td>1.0</td>\n",
       "    </tr>\n",
       "    <tr>\n",
       "      <th>2</th>\n",
       "      <td>70.225610</td>\n",
       "      <td>157.504877</td>\n",
       "      <td>1.0</td>\n",
       "    </tr>\n",
       "    <tr>\n",
       "      <th>3</th>\n",
       "      <td>74.106298</td>\n",
       "      <td>168.525499</td>\n",
       "      <td>1.0</td>\n",
       "    </tr>\n",
       "    <tr>\n",
       "      <th>4</th>\n",
       "      <td>76.507482</td>\n",
       "      <td>172.765822</td>\n",
       "      <td>1.0</td>\n",
       "    </tr>\n",
       "    <tr>\n",
       "      <th>...</th>\n",
       "      <td>...</td>\n",
       "      <td>...</td>\n",
       "      <td>...</td>\n",
       "    </tr>\n",
       "    <tr>\n",
       "      <th>994</th>\n",
       "      <td>68.394140</td>\n",
       "      <td>141.464087</td>\n",
       "      <td>0.0</td>\n",
       "    </tr>\n",
       "    <tr>\n",
       "      <th>995</th>\n",
       "      <td>65.280727</td>\n",
       "      <td>138.177757</td>\n",
       "      <td>0.0</td>\n",
       "    </tr>\n",
       "    <tr>\n",
       "      <th>996</th>\n",
       "      <td>65.345827</td>\n",
       "      <td>135.199530</td>\n",
       "      <td>0.0</td>\n",
       "    </tr>\n",
       "    <tr>\n",
       "      <th>997</th>\n",
       "      <td>59.385331</td>\n",
       "      <td>152.598596</td>\n",
       "      <td>0.0</td>\n",
       "    </tr>\n",
       "    <tr>\n",
       "      <th>998</th>\n",
       "      <td>68.708487</td>\n",
       "      <td>129.957836</td>\n",
       "      <td>0.0</td>\n",
       "    </tr>\n",
       "  </tbody>\n",
       "</table>\n",
       "<p>999 rows × 3 columns</p>\n",
       "</div>"
      ],
      "text/plain": [
       "     7.562675441204771687e+01  1.817044862628660553e+02  \\\n",
       "0                   70.540408                176.177640   \n",
       "1                   76.875023                178.667364   \n",
       "2                   70.225610                157.504877   \n",
       "3                   74.106298                168.525499   \n",
       "4                   76.507482                172.765822   \n",
       "..                        ...                       ...   \n",
       "994                 68.394140                141.464087   \n",
       "995                 65.280727                138.177757   \n",
       "996                 65.345827                135.199530   \n",
       "997                 59.385331                152.598596   \n",
       "998                 68.708487                129.957836   \n",
       "\n",
       "     1.000000000000000000e+00  \n",
       "0                         1.0  \n",
       "1                         1.0  \n",
       "2                         1.0  \n",
       "3                         1.0  \n",
       "4                         1.0  \n",
       "..                        ...  \n",
       "994                       0.0  \n",
       "995                       0.0  \n",
       "996                       0.0  \n",
       "997                       0.0  \n",
       "998                       0.0  \n",
       "\n",
       "[999 rows x 3 columns]"
      ]
     },
     "execution_count": 6,
     "metadata": {},
     "output_type": "execute_result"
    }
   ],
   "source": [
    "df"
   ]
  },
  {
   "cell_type": "code",
   "execution_count": null,
   "metadata": {},
   "outputs": [],
   "source": [
    "# why is k independant of number of classes we have "
   ]
  },
  {
   "cell_type": "code",
   "execution_count": null,
   "metadata": {},
   "outputs": [],
   "source": [
    "\n",
    "error_rate = []\n",
    "for i in range(1,40):\n",
    " knn = KNeighborsClassifier(n_neighbors=i)\n",
    " knn.fit(X_train,y_train)\n",
    " pred_i = knn.predict(X_test)\n",
    " error_rate.append(np.mean(pred_i != y_test))\n",
    "\n",
    "plt.figure(figsize=(10,6))\n",
    "plt.plot(range(1,40),error_rate,color='blue', linestyle='dashed', \n",
    "         marker='o',markerfacecolor='red', markersize=10)\n",
    "plt.title('Error Rate vs. K Value')\n",
    "plt.xlabel('K')\n",
    "plt.ylabel('Error Rate')\n",
    "print(\"Minimum error:-\",min(error_rate),\"at K =\",error_rate.index(min(error_rate)))"
   ]
  },
  {
   "cell_type": "code",
   "execution_count": null,
   "metadata": {},
   "outputs": [],
   "source": [
    "import numpy as np\n",
    "import matplotlib.pyplot as plt \n",
    "\n",
    "%matplotlib inline \n",
    "\n"
   ]
  },
  {
   "cell_type": "code",
   "execution_count": null,
   "metadata": {},
   "outputs": [],
   "source": [
    "acc = []\n",
    "# Will take some time\n",
    "from sklearn import metrics\n",
    "for i in range(1,40):\n",
    "    neigh = KNeighborsClassifier(n_neighbors = i).fit(X_train,y_train)\n",
    "    yhat = neigh.predict(X_test)\n",
    "    acc.append(metrics.accuracy_score(y_test, yhat))\n",
    "    \n",
    "plt.figure(figsize=(10,6))\n",
    "plt.plot(range(1,40),acc,color = 'blue',linestyle='dashed', \n",
    "         marker='o',markerfacecolor='red', markersize=10)\n",
    "plt.title('accuracy vs. K Value')\n",
    "plt.xlabel('K')\n",
    "plt.ylabel('Accuracy')\n",
    "print(\"Maximum accuracy:-\",max(acc),\"at K =\",acc.index(max(acc)))"
   ]
  },
  {
   "cell_type": "code",
   "execution_count": null,
   "metadata": {},
   "outputs": [],
   "source": [
    "def KNNModel(Xtr, Ytr, K, Xte):\n",
    "    Xtr = np.asarray(Xtr)\n",
    "    Ytr = np.asarray(Ytr)\n",
    "    classes = list(np.unique(Ytr))\n",
    "    \n",
    "    mtr, ntr = np.asarray(Xtr).shape\n",
    "    mte, nte = np.asarray(Xte).shape\n",
    "    num_class = len(classes)\n",
    "    Yte = np.tile(Ytr[0], (mte, 1)) \n",
    "    \n",
    "    K = min(K, mtr)    # can't use more neighbors than training set\n",
    "    \n",
    "    for i in range(mte):    # for each sample\n",
    "        # calculate the distance, we use Euclidean distance here\n",
    "        dist = np.sum(np.power(Xtr - np.asarray(Xte)[i, :], 2), axis=1)\n",
    "        # find K nearest neighbors\n",
    "        K_nearest_idx = np.argsort(dist, axis=0)[0:K]\n",
    "        sorted_dist = dist[K_nearest_idx]\n",
    "        # count the number of each label\n",
    "        count = np.zeros((num_class,))\n",
    "        for c in range(num_class):\n",
    "            count[c] = np.sum(Ytr[K_nearest_idx] == classes[c])\n",
    "        c_max = np.argmax(count)\n",
    "        Yte[i] = classes[c_max]\n",
    "    return Yte\n"
   ]
  },
  {
   "cell_type": "code",
   "execution_count": 16,
   "metadata": {},
   "outputs": [],
   "source": [
    "import numpy as np\n",
    "import matplotlib.pyplot as plt \n",
    "\n",
    "%matplotlib inline \n",
    "\n"
   ]
  },
  {
   "cell_type": "code",
   "execution_count": 17,
   "metadata": {},
   "outputs": [],
   "source": [
    "class KNNRegressor():\n",
    "    def fit(self, X, y):\n",
    "        self.X = X \n",
    "        self.y = y\n",
    "    \n",
    "    \n",
    "    def predict(self, X, K, epsilon= 1e-3):\n",
    "        #helps against divide by 0 error \n",
    "        \n",
    "        N=len(X)\n",
    "        y_hat = np.zeros(N)\n",
    "        \n",
    "        for i in range(N):\n",
    "            dist2=np.sum((self.X - X[i])**2, axis= 1)\n",
    "            idxt = np.argsort(dist2)[:K]\n",
    "            gamma_k = np.exp(-dist2[idxt])/np.exp(-dist2[idxt]).sum()\n",
    "            y_hat[i] = gamma_k.dot(self.y[idxt])\n",
    "            \n",
    "        return y_hat"
   ]
  },
  {
   "cell_type": "code",
   "execution_count": 42,
   "metadata": {},
   "outputs": [],
   "source": [
    "class ContValDat():\n",
    "    \n",
    "    def create(self, D, N, r = 20):\n",
    "        self.X = np.linspace(0,r, N).reshape(N, D)\n",
    "        \n",
    "        self.y = np.sqrt(self.X)+np.exp(-(self.X-5)**2) - 2*(np.exp(-(self.X-12.5)**2) + np.random.randn(N, 1)*0.2)\n",
    "    \n",
    "        return self.X, self.y\n",
    "    \n",
    "    \n",
    "    def show(self):\n",
    "        plt.figure()\n",
    "        plt.scatter(self.X, self.y)\n",
    "    \n",
    "    \n",
    "    \n",
    "        \n",
    "        "
   ]
  },
  {
   "cell_type": "code",
   "execution_count": 43,
   "metadata": {},
   "outputs": [],
   "source": [
    "myDat = ContValDat()\n"
   ]
  },
  {
   "cell_type": "code",
   "execution_count": 44,
   "metadata": {},
   "outputs": [],
   "source": [
    "X, y = myDat.create(1, 200)"
   ]
  },
  {
   "cell_type": "code",
   "execution_count": 45,
   "metadata": {},
   "outputs": [
    {
     "data": {
      "text/plain": [
       "(200, 1)"
      ]
     },
     "execution_count": 45,
     "metadata": {},
     "output_type": "execute_result"
    }
   ],
   "source": [
    "X.shape"
   ]
  },
  {
   "cell_type": "code",
   "execution_count": 46,
   "metadata": {},
   "outputs": [
    {
     "data": {
      "text/plain": [
       "(200, 1)"
      ]
     },
     "execution_count": 46,
     "metadata": {},
     "output_type": "execute_result"
    }
   ],
   "source": [
    "y.shape"
   ]
  },
  {
   "cell_type": "code",
   "execution_count": 47,
   "metadata": {},
   "outputs": [
    {
     "data": {
      "image/png": "[encoded data removed]",
      "text/plain": [
       "<Figure size 432x288 with 1 Axes>"
      ]
     },
     "metadata": {
      "needs_background": "light"
     },
     "output_type": "display_data"
    }
   ],
   "source": [
    "myDat.show()"
   ]
  },
  {
   "cell_type": "code",
   "execution_count": null,
   "metadata": {},
   "outputs": [],
   "source": []
  },
  {
   "cell_type": "code",
   "execution_count": null,
   "metadata": {},
   "outputs": [],
   "source": []
  },
  {
   "cell_type": "code",
   "execution_count": 48,
   "metadata": {},
   "outputs": [],
   "source": [
    "knn = KNNRegressor()\n"
   ]
  },
  {
   "cell_type": "code",
   "execution_count": 50,
   "metadata": {},
   "outputs": [],
   "source": [
    "knn.fit(X, y)\n",
    "y_hat = knn.predict(X, 150, epsilon= 1e-2)"
   ]
  },
  {
   "cell_type": "code",
   "execution_count": 51,
   "metadata": {},
   "outputs": [
    {
     "data": {
      "text/plain": [
       "[<matplotlib.lines.Line2D at 0x1c43448d550>]"
      ]
     },
     "execution_count": 51,
     "metadata": {},
     "output_type": "execute_result"
    },
    {
     "data": {
      "image/png": "[encoded data removed]",
      "text/plain": [
       "<Figure size 432x288 with 1 Axes>"
      ]
     },
     "metadata": {
      "needs_background": "light"
     },
     "output_type": "display_data"
    }
   ],
   "source": [
    "plt.figure()\n",
    "plt.scatter(X,y)\n",
    "plt.plot(X, y_hat, color = \"#FF0000\")\n"
   ]
  },
  {
   "cell_type": "code",
   "execution_count": null,
   "metadata": {},
   "outputs": [],
   "source": [
    "#color = #FFOOOO\n",
    "#        red,green, blue"
   ]
  },
  {
   "cell_type": "code",
   "execution_count": 52,
   "metadata": {},
   "outputs": [
    {
     "data": {
      "text/plain": [
       "[<matplotlib.lines.Line2D at 0x1c4344f15b0>]"
      ]
     },
     "execution_count": 52,
     "metadata": {},
     "output_type": "execute_result"
    },
    {
     "data": {
      "image/png": "[encoded data removed]",
      "text/plain": [
       "<Figure size 432x288 with 1 Axes>"
      ]
     },
     "metadata": {
      "needs_background": "light"
     },
     "output_type": "display_data"
    }
   ],
   "source": [
    "plt.figure()\n",
    "plt.scatter(X,y)\n",
    "plt.plot(X, y_hat, color = \"#FFFF00\")\n"
   ]
  },
  {
   "cell_type": "code",
   "execution_count": 53,
   "metadata": {},
   "outputs": [
    {
     "data": {
      "text/plain": [
       "[<matplotlib.lines.Line2D at 0x1c434544f70>]"
      ]
     },
     "execution_count": 53,
     "metadata": {},
     "output_type": "execute_result"
    },
    {
     "data": {
      "image/png": "[encoded data removed]",
      "text/plain": [
       "<Figure size 432x288 with 1 Axes>"
      ]
     },
     "metadata": {
      "needs_background": "light"
     },
     "output_type": "display_data"
    }
   ],
   "source": [
    "plt.figure()\n",
    "plt.scatter(X,y)\n",
    "plt.plot(X, y_hat, color = \"#FFFFFF\")\n"
   ]
  },
  {
   "cell_type": "code",
   "execution_count": 54,
   "metadata": {},
   "outputs": [
    {
     "data": {
      "text/plain": [
       "[<matplotlib.lines.Line2D at 0x1c4345a7a90>]"
      ]
     },
     "execution_count": 54,
     "metadata": {},
     "output_type": "execute_result"
    },
    {
     "data": {
      "image/png": "[encoded data removed]",
      "text/plain": [
       "<Figure size 432x288 with 1 Axes>"
      ]
     },
     "metadata": {
      "needs_background": "light"
     },
     "output_type": "display_data"
    }
   ],
   "source": [
    "plt.figure()\n",
    "plt.scatter(X,y)\n",
    "plt.plot(X, y_hat, color = \"#000000\")\n"
   ]
  },
  {
   "cell_type": "code",
   "execution_count": 55,
   "metadata": {},
   "outputs": [
    {
     "data": {
      "text/plain": [
       "[<matplotlib.lines.Line2D at 0x1c43460f5e0>]"
      ]
     },
     "execution_count": 55,
     "metadata": {},
     "output_type": "execute_result"
    },
    {
     "data": {
      "image/png": "[encoded data removed]",
      "text/plain": [
       "<Figure size 432x288 with 1 Axes>"
      ]
     },
     "metadata": {
      "needs_background": "light"
     },
     "output_type": "display_data"
    }
   ],
   "source": [
    "plt.figure()\n",
    "plt.scatter(X,y)\n",
    "plt.plot(X, y_hat, color = \"#FF00FF\")\n"
   ]
  },
  {
   "cell_type": "code",
   "execution_count": 56,
   "metadata": {},
   "outputs": [],
   "source": [
    "knn.fit(X, y)\n",
    "y_hat = knn.predict(X, 5, epsilon= 1e-2)"
   ]
  },
  {
   "cell_type": "code",
   "execution_count": 57,
   "metadata": {},
   "outputs": [
    {
     "data": {
      "text/plain": [
       "[<matplotlib.lines.Line2D at 0x1c434671100>]"
      ]
     },
     "execution_count": 57,
     "metadata": {},
     "output_type": "execute_result"
    },
    {
     "data": {
      "image/png": "[encoded data removed]",
      "text/plain": [
       "<Figure size 432x288 with 1 Axes>"
      ]
     },
     "metadata": {
      "needs_background": "light"
     },
     "output_type": "display_data"
    }
   ],
   "source": [
    "plt.figure()\n",
    "plt.scatter(X,y)\n",
    "plt.plot(X, y_hat, color = \"#FF00FF\")\n"
   ]
  },
  {
   "cell_type": "code",
   "execution_count": 58,
   "metadata": {},
   "outputs": [],
   "source": [
    "knn.fit(X, y)\n",
    "y_hat = knn.predict(X, 500, epsilon= 1e-2)"
   ]
  },
  {
   "cell_type": "code",
   "execution_count": null,
   "metadata": {},
   "outputs": [],
   "source": []
  },
  {
   "cell_type": "code",
   "execution_count": 59,
   "metadata": {},
   "outputs": [
    {
     "data": {
      "text/plain": [
       "[<matplotlib.lines.Line2D at 0x1c4346c6c10>]"
      ]
     },
     "execution_count": 59,
     "metadata": {},
     "output_type": "execute_result"
    },
    {
     "data": {
      "image/png": "[encoded data removed]",
      "text/plain": [
       "<Figure size 432x288 with 1 Axes>"
      ]
     },
     "metadata": {
      "needs_background": "light"
     },
     "output_type": "display_data"
    }
   ],
   "source": [
    "plt.figure()\n",
    "plt.scatter(X,y)\n",
    "plt.plot(X, y_hat, color = \"#FF00FF\")\n"
   ]
  },
  {
   "cell_type": "code",
   "execution_count": 60,
   "metadata": {},
   "outputs": [],
   "source": [
    "knn.fit(X, y)\n",
    "y_hat = knn.predict(X, 200, epsilon= 1e-2)"
   ]
  },
  {
   "cell_type": "code",
   "execution_count": 61,
   "metadata": {},
   "outputs": [
    {
     "data": {
      "text/plain": [
       "[<matplotlib.lines.Line2D at 0x1c43472a790>]"
      ]
     },
     "execution_count": 61,
     "metadata": {},
     "output_type": "execute_result"
    },
    {
     "data": {
      "image/png": "[encoded data removed]",
      "text/plain": [
       "<Figure size 432x288 with 1 Axes>"
      ]
     },
     "metadata": {
      "needs_background": "light"
     },
     "output_type": "display_data"
    }
   ],
   "source": [
    "plt.figure()\n",
    "plt.scatter(X,y)\n",
    "plt.plot(X, y_hat, color = \"#FF00FF\")\n"
   ]
  },
  {
   "cell_type": "code",
   "execution_count": 62,
   "metadata": {},
   "outputs": [],
   "source": [
    "knn.fit(X, y)\n",
    "y_hat = knn.predict(X, 5000, epsilon= 1e-2)"
   ]
  },
  {
   "cell_type": "code",
   "execution_count": 63,
   "metadata": {},
   "outputs": [
    {
     "data": {
      "text/plain": [
       "[<matplotlib.lines.Line2D at 0x1c43478f2b0>]"
      ]
     },
     "execution_count": 63,
     "metadata": {},
     "output_type": "execute_result"
    },
    {
     "data": {
      "image/png": "[encoded data removed]",
      "text/plain": [
       "<Figure size 432x288 with 1 Axes>"
      ]
     },
     "metadata": {
      "needs_background": "light"
     },
     "output_type": "display_data"
    }
   ],
   "source": [
    "plt.figure()\n",
    "plt.scatter(X,y)\n",
    "plt.plot(X, y_hat, color = \"#FF00FF\")\n"
   ]
  },
  {
   "cell_type": "code",
   "execution_count": null,
   "metadata": {},
   "outputs": [],
   "source": []
  },
  {
   "cell_type": "code",
   "execution_count": 68,
   "metadata": {},
   "outputs": [],
   "source": [
    "knn.fit(X, y)\n",
    "y_hat = knn.predict(X, 5000, epsilon= 1e-4)"
   ]
  },
  {
   "cell_type": "code",
   "execution_count": 69,
   "metadata": {},
   "outputs": [
    {
     "data": {
      "text/plain": [
       "[<matplotlib.lines.Line2D at 0x1c434830b20>]"
      ]
     },
     "execution_count": 69,
     "metadata": {},
     "output_type": "execute_result"
    },
    {
     "data": {
      "image/png": "[encoded data removed]",
      "text/plain": [
       "<Figure size 432x288 with 1 Axes>"
      ]
     },
     "metadata": {
      "needs_background": "light"
     },
     "output_type": "display_data"
    }
   ],
   "source": [
    "plt.figure()\n",
    "plt.scatter(X,y)\n",
    "plt.plot(X, y_hat, color = \"#FF00FF\")\n"
   ]
  },
  {
   "cell_type": "code",
   "execution_count": null,
   "metadata": {},
   "outputs": [],
   "source": []
  },
  {
   "cell_type": "code",
   "execution_count": 9,
   "metadata": {},
   "outputs": [
    {
     "ename": "ValueError",
     "evalue": "invalid number of arguments",
     "output_type": "error",
     "traceback": [
      "\u001b[1;31m---------------------------------------------------------------------------\u001b[0m",
      "\u001b[1;31mValueError\u001b[0m                                Traceback (most recent call last)",
      "\u001b[1;32m<ipython-input-9-c397fad9b88e>\u001b[0m in \u001b[0;36m<module>\u001b[1;34m\u001b[0m\n\u001b[1;32m----> 1\u001b[1;33m \u001b[0mhelp\u001b[0m\u001b[1;33m(\u001b[0m\u001b[0mnp\u001b[0m\u001b[1;33m.\u001b[0m\u001b[0mexp\u001b[0m\u001b[1;33m(\u001b[0m\u001b[1;33m)\u001b[0m\u001b[1;33m)\u001b[0m\u001b[1;33m\u001b[0m\u001b[1;33m\u001b[0m\u001b[0m\n\u001b[0m",
      "\u001b[1;31mValueError\u001b[0m: invalid number of arguments"
     ]
    }
   ],
   "source": [
    "help(np.exp())"
   ]
  },
  {
   "cell_type": "code",
   "execution_count": null,
   "metadata": {},
   "outputs": [],
   "source": [
    "#how to get that app working "
   ]
  }
 ],
 "metadata": {
  "kernelspec": {
   "display_name": "Python 3",
   "language": "python",
   "name": "python3"
  },
  "language_info": {
   "codemirror_mode": {
    "name": "ipython",
    "version": 3
   },
   "file_extension": ".py",
   "mimetype": "text/x-python",
   "name": "python",
   "nbconvert_exporter": "python",
   "pygments_lexer": "ipython3",
   "version": "3.8.5"
  }
 },
 "nbformat": 4,
 "nbformat_minor": 4
}
