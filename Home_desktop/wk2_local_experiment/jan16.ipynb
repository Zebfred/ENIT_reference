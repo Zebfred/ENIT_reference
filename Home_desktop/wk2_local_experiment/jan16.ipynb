{
 "cells": [
  {
   "cell_type": "code",
   "execution_count": null,
   "metadata": {},
   "outputs": [],
   "source": [
    "CREATE PROCEDURE volleyballResults()\n",
    "BEGIN\n",
    "\t/* Write your SQL here. Terminate each statement with a semicolon. */\n",
    "    SELECT * From results order by wins;\n",
    "END"
   ]
  },
  {
   "cell_type": "code",
   "execution_count": null,
   "metadata": {},
   "outputs": [],
   "source": [
    "CREATE PROCEDURE mostExpensive()\n",
    "BEGIN\n",
    "\t/* Write your SQL here. Terminate each statement with a semicolon. */\n",
    "    select name from Products order by price * quantity Desc, \n",
    "    name asc limit 1;\n",
    "END"
   ]
  },
  {
   "cell_type": "code",
   "execution_count": null,
   "metadata": {},
   "outputs": [],
   "source": [
    "CREATE PROCEDURE contestLeaderboard()\n",
    "BEGIN\n",
    "\t/* Write your SQL here. Terminate each statement with a semicolon. */\n",
    "    Select name from leaderboard\n",
    "    order by score DESC limit 3, 5;\n",
    "    \n",
    "END"
   ]
  }
 ],
 "metadata": {
  "kernelspec": {
   "display_name": "Python 3",
   "language": "python",
   "name": "python3"
  },
  "language_info": {
   "codemirror_mode": {
    "name": "ipython",
    "version": 3
   },
   "file_extension": ".py",
   "mimetype": "text/x-python",
   "name": "python",
   "nbconvert_exporter": "python",
   "pygments_lexer": "ipython3",
   "version": "3.8.5"
  }
 },
 "nbformat": 4,
 "nbformat_minor": 4
}
