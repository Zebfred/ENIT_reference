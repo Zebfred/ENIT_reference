{
 "cells": [
  {
   "cell_type": "code",
   "execution_count": null,
   "metadata": {},
   "outputs": [],
   "source": [
    "class BernNB():\n",
    "    def fit(self, X, y, epsilon=1e-10)\n",
    "        N,D=X.shape\n",
    "        self.likelihoods=dict() # or {}\n",
    "        self.priors=dict() # or {}\n",
    "        self.K=set(y.astype(int))\n",
    "        \n",
    "        for k in self.K:\n",
    "        X_k=X[y==k,:]\n",
    "        p=(sum(X_k)+1)/ (len(x_k)+2)\n",
    "        self.likelihood[k]={'mean':p, 'cov': p*(1-p)+epsilon}\n",
    "        self.priors[k]=len(X_k)/len(X)\n",
    "        \n",
    "    def predict(self,X):\n",
    "        N,D=X.shape\n",
    "        P_hat=np.zeros(*N, len(self.K))\n",
    "        \n",
    "        for k,l in self.likelihoods.items():\n",
    "            #using the Bernouli  formula, the trick is to get the matrices/ vectors to go from mxn to a 1*1 for each k\n",
    "            P_hat[:,k]=np.log(self,priors[k])+np.matmul(X, np.log(l['mean']))+np.matmul((1-X), np.log(abs)1-l['mean']))\n",
    "            \n",
    "        return __hat.argmax(axis=1)"
   ]
  },
  {
   "cell_type": "code",
   "execution_count": null,
   "metadata": {},
   "outputs": [],
   "source": [
    "# How to run: \n",
    "\n",
    "bnb=BernNB()\n",
    "bnb.fit(X_train, y_train)\n",
    "y_hat=bnb.predict(X_test)\n",
    "print(accuracy(y_test, y_hat)) # using a new accuracy definition"
   ]
  }
 ],
 "metadata": {
  "kernelspec": {
   "display_name": "Python 3",
   "language": "python",
   "name": "python3"
  },
  "language_info": {
   "codemirror_mode": {
    "name": "ipython",
    "version": 3
   },
   "file_extension": ".py",
   "mimetype": "text/x-python",
   "name": "python",
   "nbconvert_exporter": "python",
   "pygments_lexer": "ipython3",
   "version": "3.8.5"
  }
 },
 "nbformat": 4,
 "nbformat_minor": 4
}
