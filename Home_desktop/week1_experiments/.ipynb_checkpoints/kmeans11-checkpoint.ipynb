{
 "cells": [
  {
   "cell_type": "code",
   "execution_count": null,
   "metadata": {},
   "outputs": [],
   "source": [
    "from scipy.spatial.distance import cdist\n",
    "from scipy.stats import mode\n",
    "\n",
    "dists = cdist(X_train, X)\n",
    "idx = np.argpartition(dists, k, axis=0)[:k]\n",
    "nearest_dists = np.take(Y_train, idx)\n",
    "out = mode(nearest_dists,axis=0)[0]"
   ]
  },
  {
   "cell_type": "code",
   "execution_count": null,
   "metadata": {},
   "outputs": [],
   "source": [
    "def euclidean_distance(X_train, X_test):\n",
    "    \"\"\"\n",
    "    Create list of all euclidean distances between the given\n",
    "    feature vector and all other feature vectors in the training set\n",
    "    \"\"\"\n",
    "    return [np.linalg.norm(X - X_test) for X in X_train]\n",
    "\n",
    "def k_nearest(X, Y, k):\n",
    "    \"\"\"\n",
    "    Get the indices of the nearest feature vectors and return a\n",
    "    list of their classes\n",
    "    \"\"\"\n",
    "    idx = np.argpartition(X, k)\n",
    "    return np.take(Y, idx[:k])\n",
    "\n",
    "def predict(X_test):\n",
    "    \"\"\"\n",
    "    For each feature vector get its predicted class\n",
    "    \"\"\"\n",
    "    distance_list = [euclidean_distance(X_train, X) for X in X_test]\n",
    "    return np.array([Counter(k_nearest(distances, Y_train, k)).most_common()[0][0] for distances in distance_list])"
   ]
  },
  {
   "cell_type": "code",
   "execution_count": 2,
   "metadata": {},
   "outputs": [],
   "source": [
    "\n",
    "import numpy as np\n",
    "import operator\n",
    " \n",
    "def euc_dist(x1, x2):\n",
    "    return np.sqrt(np.sum((x1-x2)**2))"
   ]
  },
  {
   "cell_type": "code",
   "execution_count": 3,
   "metadata": {},
   "outputs": [],
   "source": [
    "class KNearestNeighbors():\n",
    "    \n",
    "    def __init__(self, K=3):\n",
    "        self.K = K\n",
    " \n",
    "    def fit(self, x_train, y_train):\n",
    "        self.X_train = x_train\n",
    "        self.Y_train = y_train\n",
    "        \n",
    "    def predict(self, X_test):\n",
    "        \n",
    "        # list to store all our predictions\n",
    "        predictions = []\n",
    "        \n",
    "        # loop over all observations in the test set\n",
    "        for i in range(len(X_test)):            \n",
    "            \n",
    "            # calculate the distance between the test point and all other points in the training set\n",
    "            dist = np.array([euc_dist(X_test[i], x_t) for x_t in self.X_train])\n",
    "            \n",
    "            # sort the distances and return the indices of K neighbors\n",
    "            dist_sorted = dist.argsort()[:self.K]\n",
    "            \n",
    "            # get the neighbors\n",
    "            neigh_count = {}\n",
    "\n",
    "            # for each neighbor find the class\n",
    "            for idx in dist_sorted:\n",
    "                if self.Y_train[idx] in neigh_count:\n",
    "                    neigh_count[self.Y_train[idx]] += 1\n",
    "                else:\n",
    "                    neigh_count[self.Y_train[idx]] = 1\n",
    "            \n",
    "            sorted_neigh_count = sorted(neigh_count.items(), key=operator.itemgetter(1), reverse=True)\n",
    "            \n",
    "            # append the class label to the list\n",
    "            predictions.append(sorted_neigh_count[0][0])\n",
    "        return predictions"
   ]
  },
  {
   "cell_type": "code",
   "execution_count": 4,
   "metadata": {},
   "outputs": [],
   "source": [
    "import numpy as np\n",
    "from sklearn.datasets import make_classification\n",
    "from sklearn.model_selection import train_test_split\n",
    "from sklearn.metrics import accuracy_score\n",
    "\n",
    "np.random.seed(2020)"
   ]
  },
  {
   "cell_type": "code",
   "execution_count": 5,
   "metadata": {},
   "outputs": [],
   "source": [
    "data,target = make_classification(n_samples=150, n_classes=2)\n",
    "X_train, X_test, y_train, y_test = train_test_split(data, target, test_size=0.2)"
   ]
  },
  {
   "cell_type": "code",
   "execution_count": 6,
   "metadata": {},
   "outputs": [
    {
     "name": "stdout",
     "output_type": "stream",
     "text": [
      "Accuracy: 0.9333333333333333\n"
     ]
    }
   ],
   "source": [
    "clf = KNearestNeighbors(K=5)\n",
    "clf.fit(X_train, y_train)\n",
    "\n",
    "predictions = clf.predict(X_test)\n",
    "\n",
    "print('Accuracy:', accuracy_score(y_test, predictions))"
   ]
  },
  {
   "cell_type": "code",
   "execution_count": 7,
   "metadata": {},
   "outputs": [],
   "source": [
    "import numpy as np\n",
    "import matplotlib.pyplot as plt\n",
    "import pandas as pd\n",
    "import os\n",
    "from scipy.stats import multivariate_normal as mvn\n",
    "from scipy.stats import multinomial as mlvn\n",
    "from scipy.stats import bernoulli as brn\n",
    "%matplotlib inline"
   ]
  },
  {
   "cell_type": "code",
   "execution_count": 8,
   "metadata": {},
   "outputs": [],
   "source": [
    "train_data = np.load('kmnist-train-imgs.npz')['arr_0']\n",
    "train_labels = np.load('kmnist-train-labels.npz')['arr_0']\n",
    "test_data = np.load('kmnist-test-imgs.npz')['arr_0']\n",
    "test_labels = np.load('kmnist-test-labels.npz')['arr_0']"
   ]
  },
  {
   "cell_type": "code",
   "execution_count": 9,
   "metadata": {},
   "outputs": [
    {
     "name": "stdout",
     "output_type": "stream",
     "text": [
      "(60000, 28, 28)\n",
      "(60000,)\n",
      "(10000, 28, 28)\n"
     ]
    },
    {
     "data": {
      "text/plain": [
       "(10000,)"
      ]
     },
     "execution_count": 9,
     "metadata": {},
     "output_type": "execute_result"
    }
   ],
   "source": [
    "print(train_data.shape)\n",
    "print(train_labels.shape)\n",
    "print(test_data.shape)\n",
    "test_labels.shape"
   ]
  },
  {
   "cell_type": "code",
   "execution_count": 10,
   "metadata": {},
   "outputs": [],
   "source": [
    "x_train = train_data.reshape(-1, 784)\n",
    "y_train = train_labels\n",
    "x_test = test_data.reshape(-1, 784)\n",
    "y_test = test_labels"
   ]
  },
  {
   "cell_type": "code",
   "execution_count": 11,
   "metadata": {},
   "outputs": [],
   "source": [
    "x_norm = x_train/255\n",
    "x_test_norm = x_test/255"
   ]
  },
  {
   "cell_type": "code",
   "execution_count": 12,
   "metadata": {},
   "outputs": [],
   "source": [
    "def accuracy(y, y_hat):\n",
    "    return np.mean(y == y_hat)\n",
    "\n",
    "#print(f\"Accuracy: {accuracy(y_test, y_hat_vis):0.3f}\")"
   ]
  },
  {
   "cell_type": "code",
   "execution_count": null,
   "metadata": {},
   "outputs": [],
   "source": [
    "clf = KNearestNeighbors(K=5)\n",
    "clf.fit(x_norm, y_train)\n",
    "\n",
    "predictions = clf.predict(x_test_norm)\n",
    "\n",
    "print('Accuracy:', accuracy_score(y_test, predictions))\n",
    "print('accuracy method', accuracy(y_test, predictions))"
   ]
  },
  {
   "cell_type": "code",
   "execution_count": null,
   "metadata": {},
   "outputs": [],
   "source": []
  }
 ],
 "metadata": {
  "kernelspec": {
   "display_name": "Python 3",
   "language": "python",
   "name": "python3"
  },
  "language_info": {
   "codemirror_mode": {
    "name": "ipython",
    "version": 3
   },
   "file_extension": ".py",
   "mimetype": "text/x-python",
   "name": "python",
   "nbconvert_exporter": "python",
   "pygments_lexer": "ipython3",
   "version": "3.8.5"
  }
 },
 "nbformat": 4,
 "nbformat_minor": 4
}
