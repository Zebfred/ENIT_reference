{
 "cells": [
  {
   "cell_type": "code",
   "execution_count": null,
   "metadata": {},
   "outputs": [],
   "source": [
    "import numpy as np\n",
    "\n",
    "# Example data\n",
    "A = np.random.random([500000, 100])\n",
    "B = np.random.random([160000, 100])\n",
    "\n",
    "# There may be a proper numpy method for this function, but it won't be much faster.\n",
    "def normalise(A):\n",
    "    lengths = (A**2).sum(axis=1, keepdims=True)**.5\n",
    "    return A/lengths\n",
    "\n",
    "A = normalise(A)\n",
    "B = normalise(B)\n",
    "\n",
    "results = []\n",
    "\n",
    "rows_in_slice = 100\n",
    "\n",
    "slice_start = 0\n",
    "slice_end = slice_start + rows_in_slice\n",
    "\n",
    "while slice_end <= A.shape[0]:\n",
    "\n",
    "    results.append(A[slice_start:slice_end].dot(B.T).max(axis=1))\n",
    "\n",
    "    slice_start += rows_in_slice\n",
    "    slice_end = slice_start + rows_in_slice\n",
    "\n",
    "result = np.concatenate(results)"
   ]
  },
  {
   "cell_type": "code",
   "execution_count": null,
   "metadata": {},
   "outputs": [],
   "source": [
    "from numpy import dot\n",
    "from numpy.linalg import norm\n",
    "\n",
    "#define arrays\n",
    "a = [23, 34, 44, 45, 42, 27, 33, 34]\n",
    "b = [17, 18, 22, 26, 26, 29, 31, 30]\n",
    "\n",
    "#calculate Cosine Similarity\n",
    "cos_sim = dot(a, b)/(norm(a)*norm(b))\n",
    "\n",
    "cos_sim\n",
    "\n",
    "0.965195008357566"
   ]
  }
 ],
 "metadata": {
  "kernelspec": {
   "display_name": "Python 3",
   "language": "python",
   "name": "python3"
  },
  "language_info": {
   "codemirror_mode": {
    "name": "ipython",
    "version": 3
   },
   "file_extension": ".py",
   "mimetype": "text/x-python",
   "name": "python",
   "nbconvert_exporter": "python",
   "pygments_lexer": "ipython3",
   "version": "3.8.3"
  }
 },
 "nbformat": 4,
 "nbformat_minor": 4
}
