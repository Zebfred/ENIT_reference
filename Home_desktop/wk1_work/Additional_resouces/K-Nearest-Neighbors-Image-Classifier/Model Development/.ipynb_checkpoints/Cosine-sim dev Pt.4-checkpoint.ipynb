{
 "cells": [
  {
   "cell_type": "markdown",
   "metadata": {},
   "source": [
    "## SKLearn KNN\n",
    "In this notebook, I will make a KNN for the MNIST dataset using the SKlearn model."
   ]
  },
  {
   "cell_type": "code",
   "execution_count": 1,
   "metadata": {},
   "outputs": [],
   "source": [
    "import numpy as np\n",
    "from tqdm import tqdm\n",
    "import heapq\n",
    "from collections import Counter\n",
    "from sklearn.metrics.pairwise import cosine_similarity\n",
    "from sklearn import datasets, model_selection\n",
    "from sklearn.neighbors import KNeighborsClassifier\n",
    "from sklearn.metrics import classification_report, confusion_matrix  \n",
    "mnist = datasets.fetch_mldata('MNIST original')\n",
    "\n",
    "data, target = mnist.data, mnist.target"
   ]
  },
  {
   "cell_type": "code",
   "execution_count": 2,
   "metadata": {},
   "outputs": [
    {
     "data": {
      "text/plain": [
       "(70000, 784)"
      ]
     },
     "execution_count": 2,
     "metadata": {},
     "output_type": "execute_result"
    }
   ],
   "source": [
    "data.shape"
   ]
  },
  {
   "cell_type": "code",
   "execution_count": 2,
   "metadata": {},
   "outputs": [
    {
     "data": {
      "text/plain": [
       "((60000, 784), (60000,))"
      ]
     },
     "execution_count": 2,
     "metadata": {},
     "output_type": "execute_result"
    }
   ],
   "source": [
    "indx = np.random.choice(len(target), 70000, replace=False)\n",
    "train_img = [data[i] for i in indx[:60000]]\n",
    "train_img1 = np.array(train_img)\n",
    "train_target = [target[i] for i in indx[:60000]]\n",
    "train_target1 = np.array(train_target)\n",
    "train_img1.shape, train_target1.shape"
   ]
  },
  {
   "cell_type": "code",
   "execution_count": 3,
   "metadata": {},
   "outputs": [
    {
     "data": {
      "text/plain": [
       "((10000, 784), (10000,))"
      ]
     },
     "execution_count": 3,
     "metadata": {},
     "output_type": "execute_result"
    }
   ],
   "source": [
    "test_img = [data[i] for i in indx[60000:70000]]\n",
    "test_img1 = np.array(test_img)\n",
    "test_target = [target[i] for i in indx[60000:70000]]\n",
    "test_target1 = np.array(test_target)\n",
    "test_img1.shape, test_target1.shape"
   ]
  },
  {
   "cell_type": "markdown",
   "metadata": {},
   "source": [
    "SKL Model"
   ]
  },
  {
   "cell_type": "code",
   "execution_count": 4,
   "metadata": {},
   "outputs": [
    {
     "name": "stdout",
     "output_type": "stream",
     "text": [
      "CPU times: user 25 s, sys: 126 ms, total: 25.2 s\n",
      "Wall time: 25.1 s\n"
     ]
    }
   ],
   "source": [
    "%%time\n",
    "classifier = KNeighborsClassifier(n_neighbors=5)  \n",
    "classifier.fit(train_img1, train_target1) "
   ]
  },
  {
   "cell_type": "code",
   "execution_count": 46,
   "metadata": {},
   "outputs": [
    {
     "name": "stdout",
     "output_type": "stream",
     "text": [
      "CPU times: user 8min 52s, sys: 100 ms, total: 8min 52s\n",
      "Wall time: 8min 52s\n"
     ]
    }
   ],
   "source": [
    "%%time\n",
    "y_pred = classifier.predict(test_img1) "
   ]
  },
  {
   "cell_type": "code",
   "execution_count": 47,
   "metadata": {},
   "outputs": [
    {
     "name": "stdout",
     "output_type": "stream",
     "text": [
      "[[ 947    2    0    0    0    0    1    1    0    0]\n",
      " [   1 1142    1    0    0    1    1    3    0    0]\n",
      " [   9    6 1011    3    2    0    0   13    0    2]\n",
      " [   1    2    4  960    1   11    0   12    8    1]\n",
      " [   1    8    0    0  885    0    4    1    0   19]\n",
      " [   3    0    1   11    1  888   10    1    2    3]\n",
      " [  11    3    0    0    2    3  991    0    0    0]\n",
      " [   1   10    0    1    1    0    0 1004    0    7]\n",
      " [   2   14    3    8   10   13    3    1  907    9]\n",
      " [   3    1    2    6   11    4    0    9    1  975]]\n",
      "             precision    recall  f1-score   support\n",
      "\n",
      "        0.0       0.97      1.00      0.98       951\n",
      "        1.0       0.96      0.99      0.98      1149\n",
      "        2.0       0.99      0.97      0.98      1046\n",
      "        3.0       0.97      0.96      0.97      1000\n",
      "        4.0       0.97      0.96      0.97       918\n",
      "        5.0       0.97      0.97      0.97       920\n",
      "        6.0       0.98      0.98      0.98      1010\n",
      "        7.0       0.96      0.98      0.97      1024\n",
      "        8.0       0.99      0.94      0.96       970\n",
      "        9.0       0.96      0.96      0.96      1012\n",
      "\n",
      "avg / total       0.97      0.97      0.97     10000\n",
      "\n"
     ]
    }
   ],
   "source": [
    "print(confusion_matrix(test_target1, y_pred))  \n",
    "print(classification_report(test_target1, y_pred)) "
   ]
  },
  {
   "cell_type": "markdown",
   "metadata": {},
   "source": [
    "Next compare confusion matrices of my algorithm and this one, and next do knn on less data."
   ]
  },
  {
   "cell_type": "code",
   "execution_count": 5,
   "metadata": {},
   "outputs": [
    {
     "data": {
      "text/plain": [
       "((5000, 784), (5000,))"
      ]
     },
     "execution_count": 5,
     "metadata": {},
     "output_type": "execute_result"
    }
   ],
   "source": [
    "indx = np.random.choice(len(target), 70000, replace=False)\n",
    "train_img = [data[i] for i in indx[:5000]]\n",
    "train_img2 = np.array(train_img)\n",
    "train_target = [target[i] for i in indx[:5000]]\n",
    "train_target2 = np.array(train_target)\n",
    "train_img2.shape, train_target2.shape"
   ]
  },
  {
   "cell_type": "code",
   "execution_count": 6,
   "metadata": {},
   "outputs": [
    {
     "data": {
      "text/plain": [
       "((2000, 784), (2000,))"
      ]
     },
     "execution_count": 6,
     "metadata": {},
     "output_type": "execute_result"
    }
   ],
   "source": [
    "test_img = [data[i] for i in indx[5000:7000]]\n",
    "test_img2 = np.array(test_img)\n",
    "test_target = [target[i] for i in indx[5000:7000]]\n",
    "test_target2 = np.array(test_target)\n",
    "test_img2.shape, test_target2.shape"
   ]
  },
  {
   "cell_type": "code",
   "execution_count": 10,
   "metadata": {},
   "outputs": [
    {
     "name": "stdout",
     "output_type": "stream",
     "text": [
      "CPU times: user 253 ms, sys: 0 ns, total: 253 ms\n",
      "Wall time: 252 ms\n"
     ]
    }
   ],
   "source": [
    "%%time\n",
    "classifier = KNeighborsClassifier(n_neighbors=3)  \n",
    "classifier.fit(train_img2, train_target2) "
   ]
  },
  {
   "cell_type": "code",
   "execution_count": 39,
   "metadata": {},
   "outputs": [
    {
     "name": "stdout",
     "output_type": "stream",
     "text": [
      "CPU times: user 10.3 s, sys: 3.97 ms, total: 10.3 s\n",
      "Wall time: 10.3 s\n"
     ]
    }
   ],
   "source": [
    "%%time\n",
    "y_pred = classifier.predict(test_img2) "
   ]
  },
  {
   "cell_type": "code",
   "execution_count": 40,
   "metadata": {},
   "outputs": [
    {
     "name": "stdout",
     "output_type": "stream",
     "text": [
      "[[205   0   0   0   0   0   0   0   0   1]\n",
      " [  0 231   0   0   0   0   0   0   0   0]\n",
      " [  2  10 193   0   0   0   0   2   0   0]\n",
      " [  0   4   3 195   0   3   0   2   1   1]\n",
      " [  0   4   1   0 174   0   2   0   0   7]\n",
      " [  1   1   2   3   1 156   1   0   1   4]\n",
      " [  0   1   0   0   0   1 183   0   0   0]\n",
      " [  0   3   1   0   1   0   0 213   0   7]\n",
      " [  0  10   2   5   2   6   1   0 161   3]\n",
      " [  4   1   0   5   5   0   0   7   0 167]]\n",
      "             precision    recall  f1-score   support\n",
      "\n",
      "        0.0       0.97      1.00      0.98       206\n",
      "        1.0       0.87      1.00      0.93       231\n",
      "        2.0       0.96      0.93      0.94       207\n",
      "        3.0       0.94      0.93      0.94       209\n",
      "        4.0       0.95      0.93      0.94       188\n",
      "        5.0       0.94      0.92      0.93       170\n",
      "        6.0       0.98      0.99      0.98       185\n",
      "        7.0       0.95      0.95      0.95       225\n",
      "        8.0       0.99      0.85      0.91       190\n",
      "        9.0       0.88      0.88      0.88       189\n",
      "\n",
      "avg / total       0.94      0.94      0.94      2000\n",
      "\n"
     ]
    }
   ],
   "source": [
    "print(classification_report(test_target2, y_pred)) "
   ]
  },
  {
   "cell_type": "markdown",
   "metadata": {},
   "source": [
    "So both are almost exactly the same as my algorithm accuracy wise.  Below I will re-write my algorithm to take in training/test sets."
   ]
  },
  {
   "cell_type": "code",
   "execution_count": 41,
   "metadata": {},
   "outputs": [],
   "source": [
    "def classif(k, test_data, test_target, stored_data, stored_target):\n",
    "    \"\"\"comparisons: the number of numbers to test\n",
    "    n: number of top highest indices to vote on\n",
    "    returns: amount of correct predictions, total predictions, and percentage accuracy of predictions, \n",
    "    \"\"\"\n",
    "\n",
    "    # comparisons x size data structure\n",
    "    cosim = cosine_similarity(test_data, stored_data)\n",
    "    \n",
    "    # get top most similar image indices, excluding most similar as that is the tested image\n",
    "    top = [(heapq.nlargest((k+1), range(len(i)), i.take)) for i in cosim]\n",
    "    top = [[stored_target[j] for j in i[:k]] for i in top]\n",
    "    \n",
    "    # given top most similar, vote on what input is\n",
    "    pred = [max(set(i), key=i.count) for i in top]\n",
    "    pred = np.array(pred)\n",
    "    \n",
    "    correct = np.count_nonzero(pred == test_target)\n",
    "    total = len(test_target)\n",
    "            \n",
    "    acc = (correct / total) * 100\n",
    "    \n",
    "    print(classification_report(test_target, pred))\n",
    "    \n",
    "    return correct, total, acc"
   ]
  },
  {
   "cell_type": "code",
   "execution_count": 59,
   "metadata": {},
   "outputs": [
    {
     "name": "stdout",
     "output_type": "stream",
     "text": [
      "             precision    recall  f1-score   support\n",
      "\n",
      "        0.0       0.97      1.00      0.98       951\n",
      "        1.0       0.97      0.99      0.98      1149\n",
      "        2.0       0.99      0.98      0.98      1046\n",
      "        3.0       0.98      0.97      0.97      1000\n",
      "        4.0       0.97      0.96      0.97       918\n",
      "        5.0       0.99      0.96      0.98       920\n",
      "        6.0       0.98      0.99      0.98      1010\n",
      "        7.0       0.98      0.98      0.98      1024\n",
      "        8.0       0.96      0.96      0.96       970\n",
      "        9.0       0.95      0.98      0.96      1012\n",
      "\n",
      "avg / total       0.98      0.98      0.98     10000\n",
      "\n",
      "CPU times: user 5min 39s, sys: 1.69 s, total: 5min 41s\n",
      "Wall time: 5min 18s\n"
     ]
    },
    {
     "data": {
      "text/plain": [
       "(9754, 10000, 97.54)"
      ]
     },
     "execution_count": 59,
     "metadata": {},
     "output_type": "execute_result"
    }
   ],
   "source": [
    "%%time\n",
    "classif(5, test_img1, test_target1, train_img1, train_target1)"
   ]
  },
  {
   "cell_type": "code",
   "execution_count": 34,
   "metadata": {},
   "outputs": [
    {
     "name": "stdout",
     "output_type": "stream",
     "text": [
      "             precision    recall  f1-score   support\n",
      "\n",
      "        0.0       0.95      1.00      0.98       206\n",
      "        1.0       0.94      1.00      0.97       231\n",
      "        2.0       0.98      0.96      0.97       207\n",
      "        3.0       0.96      0.93      0.95       209\n",
      "        4.0       0.99      0.94      0.96       188\n",
      "        5.0       0.97      0.86      0.91       170\n",
      "        6.0       0.99      0.99      0.99       185\n",
      "        7.0       0.97      0.96      0.96       225\n",
      "        8.0       0.89      0.93      0.91       190\n",
      "        9.0       0.89      0.93      0.91       189\n",
      "\n",
      "avg / total       0.95      0.95      0.95      2000\n",
      "\n",
      "CPU times: user 6.32 s, sys: 67.9 ms, total: 6.39 s\n",
      "Wall time: 5.43 s\n"
     ]
    },
    {
     "data": {
      "text/plain": [
       "(1905, 2000, 95.25)"
      ]
     },
     "execution_count": 34,
     "metadata": {},
     "output_type": "execute_result"
    }
   ],
   "source": [
    "%%time\n",
    "classif(3, test_img2, test_target2, train_img2, train_target2)"
   ]
  },
  {
   "cell_type": "markdown",
   "metadata": {},
   "source": [
    "So my algorithm has about the same accuracy (if not a little better) than the skicit learn one.  It is also almost twice as fast, which is the biggest benifit.\n",
    "\n",
    "Next try one off classifications."
   ]
  },
  {
   "cell_type": "code",
   "execution_count": 65,
   "metadata": {},
   "outputs": [
    {
     "data": {
      "text/plain": [
       "array([5.])"
      ]
     },
     "execution_count": 65,
     "metadata": {},
     "output_type": "execute_result"
    }
   ],
   "source": [
    "timg1 = test_img1[563]\n",
    "timg1 = np.array([timg1])\n",
    "ttar1 = test_target[563]\n",
    "ttar1 = np.array([ttar1])\n",
    "ttar1"
   ]
  },
  {
   "cell_type": "code",
   "execution_count": 57,
   "metadata": {},
   "outputs": [
    {
     "name": "stdout",
     "output_type": "stream",
     "text": [
      "             precision    recall  f1-score   support\n",
      "\n",
      "        5.0       1.00      1.00      1.00         1\n",
      "\n",
      "avg / total       1.00      1.00      1.00         1\n",
      "\n",
      "CPU times: user 527 ms, sys: 276 ms, total: 803 ms\n",
      "Wall time: 679 ms\n"
     ]
    },
    {
     "data": {
      "text/plain": [
       "(1, 1, 100.0)"
      ]
     },
     "execution_count": 57,
     "metadata": {},
     "output_type": "execute_result"
    }
   ],
   "source": [
    "%%time\n",
    "classif(3, timg1, ttar1, train_img1, train_target1)"
   ]
  },
  {
   "cell_type": "code",
   "execution_count": 58,
   "metadata": {},
   "outputs": [
    {
     "name": "stdout",
     "output_type": "stream",
     "text": [
      "             precision    recall  f1-score   support\n",
      "\n",
      "        5.0       1.00      1.00      1.00         1\n",
      "\n",
      "avg / total       1.00      1.00      1.00         1\n",
      "\n",
      "CPU times: user 26 s, sys: 100 ms, total: 26.1 s\n",
      "Wall time: 26.1 s\n"
     ]
    }
   ],
   "source": [
    "%%time\n",
    "classifier = KNeighborsClassifier(n_neighbors=3)  \n",
    "classifier.fit(train_img1, train_target1)\n",
    "\n",
    "y_pred = classifier.predict(timg1) \n",
    " \n",
    "print(classification_report(ttar1, y_pred)) "
   ]
  },
  {
   "cell_type": "markdown",
   "metadata": {},
   "source": [
    "This solidly proves that my algorithm is waaay faster on one off classifications as well."
   ]
  },
  {
   "cell_type": "code",
   "execution_count": 60,
   "metadata": {},
   "outputs": [
    {
     "data": {
      "text/plain": [
       "((1000, 784), (1000,))"
      ]
     },
     "execution_count": 60,
     "metadata": {},
     "output_type": "execute_result"
    }
   ],
   "source": [
    "test_img21 = [data[i] for i in indx[69000:70000]]\n",
    "test_img21 = np.array(test_img21)\n",
    "test_target21 = [target[i] for i in indx[69000:70000]]\n",
    "test_target21 = np.array(test_target21)\n",
    "test_img21.shape, test_target21.shape"
   ]
  },
  {
   "cell_type": "code",
   "execution_count": 61,
   "metadata": {},
   "outputs": [
    {
     "name": "stdout",
     "output_type": "stream",
     "text": [
      "             precision    recall  f1-score   support\n",
      "\n",
      "        0.0       0.97      0.99      0.98        98\n",
      "        1.0       0.99      0.99      0.99       103\n",
      "        2.0       1.00      0.99      1.00       113\n",
      "        3.0       0.98      0.98      0.98        90\n",
      "        4.0       0.97      0.97      0.97        94\n",
      "        5.0       0.99      0.95      0.97        91\n",
      "        6.0       0.97      0.98      0.98       101\n",
      "        7.0       0.99      0.96      0.97       121\n",
      "        8.0       0.96      0.98      0.97        95\n",
      "        9.0       0.95      0.99      0.97        94\n",
      "\n",
      "avg / total       0.98      0.98      0.98      1000\n",
      "\n",
      "CPU times: user 33.7 s, sys: 380 ms, total: 34.1 s\n",
      "Wall time: 31.2 s\n"
     ]
    },
    {
     "data": {
      "text/plain": [
       "(977, 1000, 97.7)"
      ]
     },
     "execution_count": 61,
     "metadata": {},
     "output_type": "execute_result"
    }
   ],
   "source": [
    "%%time\n",
    "classif(5, test_img21, test_target21, train_img1, train_target1)"
   ]
  },
  {
   "cell_type": "code",
   "execution_count": 62,
   "metadata": {},
   "outputs": [
    {
     "name": "stdout",
     "output_type": "stream",
     "text": [
      "             precision    recall  f1-score   support\n",
      "\n",
      "        0.0       0.97      0.99      0.98        98\n",
      "        1.0       0.99      0.99      0.99       103\n",
      "        2.0       1.00      0.99      1.00       113\n",
      "        3.0       0.98      0.98      0.98        90\n",
      "        4.0       0.97      0.97      0.97        94\n",
      "        5.0       0.99      0.95      0.97        91\n",
      "        6.0       0.97      0.98      0.98       101\n",
      "        7.0       0.99      0.96      0.97       121\n",
      "        8.0       0.96      0.98      0.97        95\n",
      "        9.0       0.95      0.99      0.97        94\n",
      "\n",
      "avg / total       0.98      0.98      0.98      1000\n",
      "\n",
      "CPU times: user 33.6 s, sys: 304 ms, total: 33.9 s\n",
      "Wall time: 30.9 s\n"
     ]
    },
    {
     "data": {
      "text/plain": [
       "(977, 1000, 97.7)"
      ]
     },
     "execution_count": 62,
     "metadata": {},
     "output_type": "execute_result"
    }
   ],
   "source": [
    "%%time\n",
    "classif(5, test_img21, test_target21, train_img1, train_target1)"
   ]
  },
  {
   "cell_type": "code",
   "execution_count": 63,
   "metadata": {},
   "outputs": [
    {
     "name": "stdout",
     "output_type": "stream",
     "text": [
      "             precision    recall  f1-score   support\n",
      "\n",
      "        0.0       0.97      0.99      0.98        98\n",
      "        1.0       0.99      0.99      0.99       103\n",
      "        2.0       1.00      0.99      1.00       113\n",
      "        3.0       0.99      0.98      0.98        90\n",
      "        4.0       0.98      0.98      0.98        94\n",
      "        5.0       0.98      0.95      0.96        91\n",
      "        6.0       0.98      0.97      0.98       101\n",
      "        7.0       0.99      0.97      0.98       121\n",
      "        8.0       0.95      0.99      0.97        95\n",
      "        9.0       0.96      0.99      0.97        94\n",
      "\n",
      "avg / total       0.98      0.98      0.98      1000\n",
      "\n",
      "CPU times: user 33.5 s, sys: 388 ms, total: 33.9 s\n",
      "Wall time: 31 s\n"
     ]
    },
    {
     "data": {
      "text/plain": [
       "(979, 1000, 97.89999999999999)"
      ]
     },
     "execution_count": 63,
     "metadata": {},
     "output_type": "execute_result"
    }
   ],
   "source": [
    "%%time\n",
    "classif(3, test_img21, test_target21, train_img1, train_target1)"
   ]
  },
  {
   "cell_type": "code",
   "execution_count": 64,
   "metadata": {},
   "outputs": [
    {
     "name": "stdout",
     "output_type": "stream",
     "text": [
      "             precision    recall  f1-score   support\n",
      "\n",
      "        0.0       0.97      0.99      0.98        98\n",
      "        1.0       0.99      0.99      0.99       103\n",
      "        2.0       1.00      0.99      1.00       113\n",
      "        3.0       0.99      0.98      0.98        90\n",
      "        4.0       0.98      0.98      0.98        94\n",
      "        5.0       0.98      0.95      0.96        91\n",
      "        6.0       0.98      0.97      0.98       101\n",
      "        7.0       0.99      0.97      0.98       121\n",
      "        8.0       0.95      0.99      0.97        95\n",
      "        9.0       0.96      0.99      0.97        94\n",
      "\n",
      "avg / total       0.98      0.98      0.98      1000\n",
      "\n",
      "CPU times: user 33.4 s, sys: 420 ms, total: 33.8 s\n",
      "Wall time: 31.4 s\n"
     ]
    },
    {
     "data": {
      "text/plain": [
       "(979, 1000, 97.89999999999999)"
      ]
     },
     "execution_count": 64,
     "metadata": {},
     "output_type": "execute_result"
    }
   ],
   "source": [
    "%%time\n",
    "classif(3, test_img21, test_target21, train_img1, train_target1)"
   ]
  },
  {
   "cell_type": "code",
   "execution_count": null,
   "metadata": {},
   "outputs": [],
   "source": []
  },
  {
   "cell_type": "code",
   "execution_count": null,
   "metadata": {},
   "outputs": [],
   "source": []
  },
  {
   "cell_type": "code",
   "execution_count": null,
   "metadata": {},
   "outputs": [],
   "source": []
  },
  {
   "cell_type": "code",
   "execution_count": null,
   "metadata": {},
   "outputs": [],
   "source": []
  },
  {
   "cell_type": "code",
   "execution_count": null,
   "metadata": {},
   "outputs": [],
   "source": []
  },
  {
   "cell_type": "code",
   "execution_count": null,
   "metadata": {},
   "outputs": [],
   "source": []
  }
 ],
 "metadata": {
  "kernelspec": {
   "display_name": "Python [conda root]",
   "language": "python",
   "name": "conda-root-py"
  },
  "language_info": {
   "codemirror_mode": {
    "name": "ipython",
    "version": 3
   },
   "file_extension": ".py",
   "mimetype": "text/x-python",
   "name": "python",
   "nbconvert_exporter": "python",
   "pygments_lexer": "ipython3",
   "version": "3.6.4"
  }
 },
 "nbformat": 4,
 "nbformat_minor": 2
}
