{
  "nbformat": 4,
  "nbformat_minor": 0,
  "metadata": {
    "colab": {
      "name": "Mine_Batch0002__Bernoulli_Naive_Bayes_model.ipynb",
      "provenance": []
    },
    "kernelspec": {
      "name": "python3",
      "display_name": "Python 3"
    }
  },
  "cells": [
    {
      "cell_type": "code",
      "metadata": {
        "id": "7jmyJUiib9FD"
      },
      "source": [
        "class BernNB():\r\n",
        "  def fit(self, X, y, epsilon = 1e-10):\r\n",
        "    N, D = X.shape\r\n",
        "    self.likelihoods = {}\r\n",
        "    self.priors = {}\r\n",
        "    self.K = set(y.astype(int))\r\n",
        "\r\n",
        "    for k in self.K:\r\n",
        "      X_k = X[y==k,:]\r\n",
        "      p = (sum(X_k)+1) / (len(X_k)+2)\r\n",
        "      self.likelihoods[k] = {'mean': p, 'cov': p * (1 - p) + epsilon}\r\n",
        "      self.priors[k] = len(X_k)/len(X)\r\n",
        "\r\n",
        "  def predict(self, X):\r\n",
        "    N, D = X.shape\r\n",
        "    P_hat = np.zeros((N, len(self.K)))\r\n",
        "\r\n",
        "    for k,l in self.likelihoods.items():\r\n",
        "      # Using the Bernoulli funtion/formula. Trick is to get the matrices/vectors to go from mxn to a 1x1 number for each k value.\r\n",
        "      P_hat[:,k] = np.log(self.priors[k]) + np.matmul(X, np.log(l['mean'])) + np.matmul((1 - X), np.log(abs(1-l['mean'])))\r\n",
        "\r\n",
        "    return P_hat.argmax(axis =1)"
      ],
      "execution_count": null,
      "outputs": []
    },
    {
      "cell_type": "markdown",
      "metadata": {
        "id": "oSx-QCCJnJje"
      },
      "source": [
        "# How to Run"
      ]
    },
    {
      "cell_type": "code",
      "metadata": {
        "colab": {
          "base_uri": "https://localhost:8080/",
          "height": 215
        },
        "id": "qLJ8d_hqnIPp",
        "outputId": "d90f09c5-5888-4f3e-fdfb-6f25b8390302"
      },
      "source": [
        "bnb = BernNB()\r\n",
        "bnb.fit(X_train,y_train) # Use the X and Y Training set here\r\n",
        "y_hat = bnb.predict(X_test) # Use the X Test here\r\n",
        "print(accuracy(y_test, y_hat))"
      ],
      "execution_count": null,
      "outputs": [
        {
          "output_type": "error",
          "ename": "NameError",
          "evalue": "ignored",
          "traceback": [
            "\u001b[0;31m---------------------------------------------------------------------------\u001b[0m",
            "\u001b[0;31mNameError\u001b[0m                                 Traceback (most recent call last)",
            "\u001b[0;32m<ipython-input-2-147a8237e271>\u001b[0m in \u001b[0;36m<module>\u001b[0;34m()\u001b[0m\n\u001b[1;32m      1\u001b[0m \u001b[0mbnb\u001b[0m \u001b[0;34m=\u001b[0m \u001b[0mBernNB\u001b[0m\u001b[0;34m(\u001b[0m\u001b[0;34m)\u001b[0m\u001b[0;34m\u001b[0m\u001b[0;34m\u001b[0m\u001b[0m\n\u001b[0;32m----> 2\u001b[0;31m \u001b[0mbnb\u001b[0m\u001b[0;34m.\u001b[0m\u001b[0mfit\u001b[0m\u001b[0;34m(\u001b[0m\u001b[0mX_train\u001b[0m\u001b[0;34m,\u001b[0m\u001b[0my_train\u001b[0m\u001b[0;34m)\u001b[0m \u001b[0;31m# Use the X and Y Training set here\u001b[0m\u001b[0;34m\u001b[0m\u001b[0;34m\u001b[0m\u001b[0m\n\u001b[0m\u001b[1;32m      3\u001b[0m \u001b[0my_hat\u001b[0m \u001b[0;34m=\u001b[0m \u001b[0mbnb\u001b[0m\u001b[0;34m.\u001b[0m\u001b[0mpredict\u001b[0m\u001b[0;34m(\u001b[0m\u001b[0mX_test\u001b[0m\u001b[0;34m)\u001b[0m \u001b[0;31m# Use the X Test here\u001b[0m\u001b[0;34m\u001b[0m\u001b[0;34m\u001b[0m\u001b[0m\n\u001b[1;32m      4\u001b[0m \u001b[0mprint\u001b[0m\u001b[0;34m(\u001b[0m\u001b[0maccuracy\u001b[0m\u001b[0;34m(\u001b[0m\u001b[0my_test\u001b[0m\u001b[0;34m,\u001b[0m \u001b[0my_hat\u001b[0m\u001b[0;34m)\u001b[0m\u001b[0;34m)\u001b[0m\u001b[0;34m\u001b[0m\u001b[0;34m\u001b[0m\u001b[0m\n",
            "\u001b[0;31mNameError\u001b[0m: name 'X_train' is not defined"
          ]
        }
      ]
    },
    {
      "cell_type": "code",
      "metadata": {
        "id": "26xVKXJIntOr"
      },
      "source": [
        ""
      ],
      "execution_count": null,
      "outputs": []
    }
  ]
}