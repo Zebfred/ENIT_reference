{
 "cells": [
  {
   "cell_type": "code",
   "execution_count": null,
   "metadata": {},
   "outputs": [],
   "source": [
    "import numpy as np\n",
    "\n",
    "\n",
    "from scipy\n"
   ]
  },
  {
   "cell_type": "code",
   "execution_count": null,
   "metadata": {},
   "outputs": [],
   "source": [
    "show_me_allmean(X3, y3, 5)\n",
    "\n",
    "make a confusion matrix \n",
    "\n",
    "can you find the extra mislabeled \n",
    "\n",
    "above 90"
   ]
  },
  {
   "cell_type": "code",
   "execution_count": null,
   "metadata": {},
   "outputs": [],
   "source": []
  },
  {
   "cell_type": "code",
   "execution_count": 4,
   "metadata": {},
   "outputs": [],
   "source": [
    "class GenBayes():\n",
    "    \n",
    "    def fit(self,X,y, DistStr, epsilon=1e-3):\n",
    "        self.likelihoods = dict()\n",
    "        self.priors = dict()\n",
    "        \n",
    "        \n",
    "        self.K = set(y.astype(int))\n",
    "        \n",
    "        if DistStr==\"Gauss\":\n",
    "            \n",
    "            for k in self.K:\n",
    "                X_k = X[y==k,:]\n",
    "                N_k, D = X_k.shape\n",
    "                mu_k=X_k.mean(axis=0)\n",
    "                self.likelihoods[k]={\"mean\":X_k.mean(axis=0),\n",
    "                                     \"cov\":(1/(N_k-1))*\n",
    "                                     np.matmul((X_k-mu_k).T,X_k-mu_k)+\n",
    "                                     epsilon*np.identity(D)}\n",
    "                self.priors[k] = len(X_k)/len(X)\n",
    "                \n",
    "        if DistStr ==\"Multinomial\":\n",
    "            \n",
    "            for k in self.K:\n",
    "                X_k = X[y==k,:]\n",
    "                N_k, D = X_k.shape\n",
    "                mu_k = X_k.mean(axis=0)\n",
    "                self.likelihoods[k]={\"N\":N, \"P\":sum(N_k/len(X))}\n",
    "                self.priors[k] = len(X_k)/len(X)\n",
    "                \n",
    "        if DistStr == \"Bernoulli\":\n",
    "            for k in self.K:\n",
    "                X_k = X[y==k,:]\n",
    "                N_k, D = X_k.shape\n",
    "                \n",
    "                self.likelihoods[k] = {\"P\":N_k/len(X)}\n",
    "                self.priors[k] = len(X_k)/len(X)\n",
    "    \n",
    "    def predict(self, x, DistStr):\n",
    "        \n",
    "        N, D = X.shape\n",
    "        \n",
    "        if DistStr ==\"Gauss\":\n",
    "            P_hat = np.zeros((N, len(self.K)))\n",
    "            \n",
    "            for k, l in self.likelihoods.items():\n",
    "                P_hat[:,k] = MVN.log(self.priors[k])\n",
    "                +np.log(self.priors[k])\n",
    "            return P_hat.argmax(axis=1)\n",
    "        if DistStr == \"Multinomial\":\n",
    "            P_hat = np.zeros((N, len(self.k)))\n",
    "            \n",
    "            for k, l in self.likelihoods.items():\n",
    "                P_hat[:, k] = mlvn.logpdf(X, l[\"N\"], l[\"P\"])\n",
    "                +np.log(self.priors[k])\n",
    "                \n",
    "            return P_hat.argmax(axis=1)\n",
    "        \n",
    "        if DistStr == \"Bernoulli\":\n",
    "            P_hat = np.zeros((N, len(self.K)))\n",
    "            \n",
    "            for k, l in self.likelihoods.item():\n",
    "                P_hat[:, k] = bernoulli.logpdf(X, l[\"P\"]) + np.log(self.priors[k])\n",
    "            return P_hat.argmax(axis = 1)\n",
    "        \n",
    "        \n",
    "    \n",
    "        \n",
    "    "
   ]
  },
  {
   "cell_type": "code",
   "execution_count": null,
   "metadata": {},
   "outputs": [],
   "source": [
    "Mon, Thurs"
   ]
  },
  {
   "cell_type": "markdown",
   "metadata": {},
   "source": [
    "## Expand bayes"
   ]
  },
  {
   "cell_type": "code",
   "execution_count": null,
   "metadata": {},
   "outputs": [],
   "source": [
    "plt.figure "
   ]
  }
 ],
 "metadata": {
  "kernelspec": {
   "display_name": "Python 3",
   "language": "python",
   "name": "python3"
  },
  "language_info": {
   "codemirror_mode": {
    "name": "ipython",
    "version": 3
   },
   "file_extension": ".py",
   "mimetype": "text/x-python",
   "name": "python",
   "nbconvert_exporter": "python",
   "pygments_lexer": "ipython3",
   "version": "3.8.5"
  }
 },
 "nbformat": 4,
 "nbformat_minor": 4
}
