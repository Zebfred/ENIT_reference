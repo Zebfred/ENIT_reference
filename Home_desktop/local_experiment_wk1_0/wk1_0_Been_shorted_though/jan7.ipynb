{
 "cells": [
  {
   "cell_type": "code",
   "execution_count": null,
   "metadata": {},
   "outputs": [],
   "source": [
    "# can you look up documentation\n",
    "# can I use imports \n",
    "# "
   ]
  },
  {
   "cell_type": "markdown",
   "metadata": {},
   "source": [
    "A bus has n stops numbered from 0 to n - 1 that form a circle. We know the distance between all pairs of neighboring stops where distance[i] is the distance between the stops number i and (i + 1) % n."
   ]
  },
  {
   "cell_type": "code",
   "execution_count": null,
   "metadata": {},
   "outputs": [],
   "source": [
    "# kmnist project \n",
    "# Minju's project \n",
    "# coding challenges/ Study \n"
   ]
  },
  {
   "cell_type": "code",
   "execution_count": null,
   "metadata": {},
   "outputs": [],
   "source": [
    "Think lowest point is always your start\n",
    "clockwise distance is easy to find just walk from start to destination.\n",
    "For anti-clockwise, it has to split three-part.\n",
    "a. distance from 0 to start\n",
    "b. end to start\n",
    "c. destination to end"
   ]
  },
  {
   "cell_type": "code",
   "execution_count": 1,
   "metadata": {},
   "outputs": [
    {
     "name": "stderr",
     "output_type": "stream",
     "text": [
      "E\n",
      "======================================================================\n",
      "ERROR: C:\\Users\\Zebfred\\AppData\\Roaming\\jupyter\\runtime\\kernel-56f7a33a-37dc-4c4c-9511-8d5fbd01072f (unittest.loader._FailedTest)\n",
      "----------------------------------------------------------------------\n",
      "AttributeError: module '__main__' has no attribute 'C:\\Users\\Zebfred\\AppData\\Roaming\\jupyter\\runtime\\kernel-56f7a33a-37dc-4c4c-9511-8d5fbd01072f'\n",
      "\n",
      "----------------------------------------------------------------------\n",
      "Ran 1 test in 0.004s\n",
      "\n",
      "FAILED (errors=1)\n"
     ]
    },
    {
     "ename": "SystemExit",
     "evalue": "True",
     "output_type": "error",
     "traceback": [
      "An exception has occurred, use %tb to see the full traceback.\n",
      "\u001b[1;31mSystemExit\u001b[0m\u001b[1;31m:\u001b[0m True\n"
     ]
    },
    {
     "name": "stderr",
     "output_type": "stream",
     "text": [
      "C:\\Users\\Zebfred\\miniconda3\\lib\\site-packages\\IPython\\core\\interactiveshell.py:3426: UserWarning: To exit: use 'exit', 'quit', or Ctrl-D.\n",
      "  warn(\"To exit: use 'exit', 'quit', or Ctrl-D.\", stacklevel=1)\n"
     ]
    }
   ],
   "source": [
    "import unittest\n",
    "\n",
    "\n",
    "def clockwise_distance(distance, start, destination):\n",
    "    dist = 0\n",
    "    for counter in range(start, destination):\n",
    "        dist += distance[counter]\n",
    "    return dist\n",
    "\n",
    "\n",
    "def anti_clockwise_distance(distance, start, destination):\n",
    "    if start == destination:\n",
    "        return 0\n",
    "    dist = 0\n",
    "    # zero to point\n",
    "    for counter in range(0, start):\n",
    "        dist += distance[counter]\n",
    "    # point to end\n",
    "    for counter in range(destination, len(distance) - 1):\n",
    "        dist += distance[counter]\n",
    "    # end to point\n",
    "    dist += distance[len(distance) - 1]\n",
    "    return dist\n",
    "\n",
    "\n",
    "class TestDistanceBetweenBusStop(unittest.TestCase):\n",
    "\n",
    "    def distance_between_bus_stops(self, distance, start, destination):\n",
    "        \"\"\"\n",
    "        :type distance: List[int]\n",
    "        :type start: int\n",
    "        :type destination: int\n",
    "        :rtype: int\n",
    "        \"\"\"\n",
    "        if start < destination:\n",
    "            clock_distance = clockwise_distance(distance, start, destination)\n",
    "        else:\n",
    "            clock_distance = clockwise_distance(distance, destination, start)\n",
    "\n",
    "        # clock_distance = clockwise_distance(distance, start, destination)\n",
    "        print('clockwise distance' + str(clock_distance))\n",
    "\n",
    "        if start < destination:\n",
    "            anti_clock_distance = anti_clockwise_distance(distance, start, destination)\n",
    "        else:\n",
    "            anti_clock_distance = anti_clockwise_distance(distance, destination, start)\n",
    "        return min(clock_distance, anti_clock_distance)\n",
    "\n",
    "    def test_first_distance_between_bus_stops(self):\n",
    "        distance = [7, 10, 1, 12, 11, 14, 5, 0]\n",
    "        start = 7\n",
    "        destination = 2\n",
    "        result = self.distance_between_bus_stops(distance, start, destination)\n",
    "        self.assertEqual(result, 17, \"distance should be 4\")\n",
    "\n",
    "\n",
    "if __name__ == '__main__':\n",
    "    unittest.main()"
   ]
  },
  {
   "cell_type": "code",
   "execution_count": 2,
   "metadata": {},
   "outputs": [],
   "source": [
    "\n",
    "def clockwise_distance(distance, start, destination):\n",
    "    dist = 0\n",
    "    for counter in range(start, destination):\n",
    "        dist += distance[counter]\n",
    "    return dist"
   ]
  },
  {
   "cell_type": "code",
   "execution_count": 5,
   "metadata": {},
   "outputs": [],
   "source": [
    "def anti_clockwise_distance(distance, start, destination):\n",
    "    if start == destination:\n",
    "        return 0\n",
    "    dist = 0\n",
    "    # zero to point\n",
    "    for counter in range(0, start):\n",
    "        dist += distance[counter]\n",
    "    # point to end\n",
    "    for counter in range(destination, len(distance) - 1):\n",
    "        dist += distance[counter]\n",
    "    # end to point\n",
    "    dist += distance[len(distance) - 1]\n",
    "    return dist"
   ]
  },
  {
   "cell_type": "code",
   "execution_count": null,
   "metadata": {},
   "outputs": [],
   "source": [
    "Input: distance = [1,2,3,4], start = 0, destination = 1\n",
    "Output: 1\n",
    "Explanation: Distance between 0 and 1 is 1 or 9, minimum is 1."
   ]
  },
  {
   "cell_type": "code",
   "execution_count": 3,
   "metadata": {},
   "outputs": [],
   "source": [
    "dis = [1, 2 ,3 , 4 ]\n",
    "start = 0\n",
    "dest = 1"
   ]
  },
  {
   "cell_type": "code",
   "execution_count": 4,
   "metadata": {},
   "outputs": [
    {
     "data": {
      "text/plain": [
       "1"
      ]
     },
     "execution_count": 4,
     "metadata": {},
     "output_type": "execute_result"
    }
   ],
   "source": [
    "clockwise_distance(dis, start, dest)"
   ]
  },
  {
   "cell_type": "code",
   "execution_count": 6,
   "metadata": {},
   "outputs": [
    {
     "data": {
      "text/plain": [
       "9"
      ]
     },
     "execution_count": 6,
     "metadata": {},
     "output_type": "execute_result"
    }
   ],
   "source": [
    "anti_clockwise_distance(dis, start, dest)"
   ]
  },
  {
   "cell_type": "code",
   "execution_count": 12,
   "metadata": {},
   "outputs": [],
   "source": [
    "def thing_path(dis, start, dest):\n",
    "    path = 0 \n",
    "    for counter in range(start, dest):\n",
    "        path += dis[counter]\n",
    "    return path"
   ]
  },
  {
   "cell_type": "code",
   "execution_count": 7,
   "metadata": {},
   "outputs": [],
   "source": [
    "def anti_thing_path(dis, start, dest):\n",
    "    if start == dest:\n",
    "        return 0\n",
    "    path = 0\n",
    "    #zero to point\n",
    "    for count in range(0, start):\n",
    "        path += dis[count]\n",
    "    #point to end\n",
    "    for count in range(destination, len(dis) - 1):\n",
    "        path += dis[count]\n",
    "    # end to point \n",
    "    path += dis[len(dis) - 1]\n",
    "    return path \n",
    "        "
   ]
  },
  {
   "cell_type": "code",
   "execution_count": 9,
   "metadata": {},
   "outputs": [],
   "source": [
    "distance = [1,2,3,4]\n",
    "start = 0\n",
    "destination = 2"
   ]
  },
  {
   "cell_type": "code",
   "execution_count": 10,
   "metadata": {},
   "outputs": [
    {
     "data": {
      "text/plain": [
       "7"
      ]
     },
     "execution_count": 10,
     "metadata": {},
     "output_type": "execute_result"
    }
   ],
   "source": [
    "anti_thing_path(distance, start, destination)"
   ]
  },
  {
   "cell_type": "code",
   "execution_count": 13,
   "metadata": {},
   "outputs": [
    {
     "data": {
      "text/plain": [
       "3"
      ]
     },
     "execution_count": 13,
     "metadata": {},
     "output_type": "execute_result"
    }
   ],
   "source": [
    "thing_path(distance, start, destination)"
   ]
  },
  {
   "cell_type": "code",
   "execution_count": null,
   "metadata": {},
   "outputs": [],
   "source": [
    "\n",
    "def clockwise_distance(distance, start, destination):\n",
    "    dist = 0\n",
    "    for counter in range(start, destination):\n",
    "        dist += distance[counter]\n",
    "    return dist"
   ]
  },
  {
   "cell_type": "code",
   "execution_count": null,
   "metadata": {},
   "outputs": [],
   "source": [
    "def anti_clockwise_distance(distance, start, destination):\n",
    "    if start == destination:\n",
    "        return 0\n",
    "    dist = 0\n",
    "    # zero to point\n",
    "    for counter in range(0, start):\n",
    "        dist += distance[counter]\n",
    "    # point to end\n",
    "    for counter in range(destination, len(distance) - 1):\n",
    "        dist += distance[counter]\n",
    "    # end to point\n",
    "    dist += distance[len(distance) - 1]\n",
    "    return dist"
   ]
  },
  {
   "cell_type": "code",
   "execution_count": 14,
   "metadata": {},
   "outputs": [],
   "source": [
    "def distance_between_bus_stops(distance, start, destination):\n",
    "        \"\"\"\n",
    "        :type distance: List[int]\n",
    "        :type start: int\n",
    "        :type destination: int\n",
    "        :rtype: int\n",
    "        \"\"\"\n",
    "        if start < destination:\n",
    "            clock_distance = clockwise_distance(distance, start, destination)\n",
    "        else:\n",
    "            clock_distance = clockwise_distance(distance, destination, start)\n",
    "\n",
    "        # clock_distance = clockwise_distance(distance, start, destination)\n",
    "        print('clockwise distance' + str(clock_distance))\n",
    "\n",
    "        if start < destination:\n",
    "            anti_clock_distance = anti_clockwise_distance(distance, start, destination)\n",
    "        else:\n",
    "            anti_clock_distance = anti_clockwise_distance(distance, destination, start)\n",
    "        return min(clock_distance, anti_clock_distance)"
   ]
  },
  {
   "cell_type": "code",
   "execution_count": 15,
   "metadata": {},
   "outputs": [
    {
     "name": "stdout",
     "output_type": "stream",
     "text": [
      "clockwise distance3\n"
     ]
    },
    {
     "data": {
      "text/plain": [
       "3"
      ]
     },
     "execution_count": 15,
     "metadata": {},
     "output_type": "execute_result"
    }
   ],
   "source": [
    "distance_between_bus_stops(distance, start, destination)"
   ]
  },
  {
   "cell_type": "code",
   "execution_count": 20,
   "metadata": {},
   "outputs": [],
   "source": [
    "def thing_distance_stops(dis, start, dest):\n",
    "    if start < dest:\n",
    "        clock_dist = clockwise_distance(dis, start, dest)\n",
    "    else:\n",
    "        clock_dist = clockwise_distance(dis, start, dest)\n",
    "    \n",
    "    if start < dest:\n",
    "        anti_clock_dist = anti_clockwise_distance(dis, start, dest)\n",
    "    else:\n",
    "        anti_clock_dist = anti_clockwise_distance(dis, des, start)\n",
    "    return min(clock_dist, anti_clock_dist)"
   ]
  },
  {
   "cell_type": "code",
   "execution_count": 21,
   "metadata": {},
   "outputs": [
    {
     "data": {
      "text/plain": [
       "3"
      ]
     },
     "execution_count": 21,
     "metadata": {},
     "output_type": "execute_result"
    }
   ],
   "source": [
    "thing_distance_stops(distance, start, destination)"
   ]
  },
  {
   "cell_type": "code",
   "execution_count": null,
   "metadata": {},
   "outputs": [],
   "source": [
    "def thing_path(dis, start, dest):\n",
    "    path = 0 \n",
    "    for counter in range(start, dest):\n",
    "        path += dis[counter]\n",
    "    return path"
   ]
  },
  {
   "cell_type": "code",
   "execution_count": null,
   "metadata": {},
   "outputs": [],
   "source": [
    "def anti_thing_path(dis, start, dest):\n",
    "    if start == dest:\n",
    "        return 0\n",
    "    path = 0\n",
    "    #zero to point\n",
    "    for count in range(0, start):\n",
    "        path += dis[count]\n",
    "    #point to end\n",
    "    for count in range(destination, len(dis) - 1):\n",
    "        path += dis[count]\n",
    "    # end to point \n",
    "    path += dis[len(dis) - 1]\n",
    "    return path "
   ]
  },
  {
   "cell_type": "code",
   "execution_count": null,
   "metadata": {},
   "outputs": [],
   "source": []
  },
  {
   "cell_type": "code",
   "execution_count": null,
   "metadata": {},
   "outputs": [],
   "source": []
  },
  {
   "cell_type": "markdown",
   "metadata": {},
   "source": [
    "You are given an array of distinct integers arr and an array of integer arrays pieces, where the integers in pieces are distinct. Your goal is to form arr by concatenating the arrays in pieces in any order. However, you are not allowed to reorder the integers in each array pieces[i].\n",
    "\n",
    "Return true if it is possible to form the array arr from pieces. Otherwise, return false.\n",
    "\n",
    " "
   ]
  },
  {
   "cell_type": "code",
   "execution_count": null,
   "metadata": {},
   "outputs": [],
   "source": [
    "# could import \n",
    "#can look up documentation\n",
    "# read though the question\n",
    "\n",
    "#make distintions \n",
    "#the output\n",
    "\n",
    "\n",
    "\n"
   ]
  },
  {
   "cell_type": "code",
   "execution_count": 25,
   "metadata": {},
   "outputs": [],
   "source": [
    "def canFormArray(arr, pieces):\n",
    "    index = 0\n",
    "    new_index = index\n",
    "    pieces_m = pieces\n",
    "    while index < len(arr):\n",
    "        curr = arr[index]\n",
    "        for a in pieces_m:\n",
    "            if a[0] == curr and a == arr[index : index + len(a)]:\n",
    "                new_index += len(a)\n",
    "                pieces_m.remove(a)\n",
    "        if new_index == index:\n",
    "            return False\n",
    "        else:\n",
    "            index = new_index\n",
    "    return True"
   ]
  },
  {
   "cell_type": "code",
   "execution_count": null,
   "metadata": {},
   "outputs": [],
   "source": [
    "Input: arr = [85], pieces = [[85]]\n",
    "Output: true"
   ]
  },
  {
   "cell_type": "code",
   "execution_count": 26,
   "metadata": {},
   "outputs": [],
   "source": [
    "arr = [85]\n",
    "pieces = [[85]]"
   ]
  },
  {
   "cell_type": "code",
   "execution_count": 27,
   "metadata": {},
   "outputs": [
    {
     "data": {
      "text/plain": [
       "True"
      ]
     },
     "execution_count": 27,
     "metadata": {},
     "output_type": "execute_result"
    }
   ],
   "source": [
    "canFormArray(arr, pieces)"
   ]
  },
  {
   "cell_type": "markdown",
   "metadata": {},
   "source": [
    "The way I thought about it was, if you loop over the array, look to see if any of the pieces start with that value. If it does, check the next segment for a match. If there's a match, bump the index to the end of the segment. If ever there is not a match just short circuit out.\n",
    "\n",
    "I am a bit new to python but I think one place where I may have paid a price in memory was arr[index : index + len(a)]. I need to research and see if that creates a new list each time.\n",
    "\n",
    "I stopped at the easiest solution that day as I actually ended up doing 2 solutions (the bonus one for that week also) and I went over my allocated time for the evening. Thinking about it after writing here, like most other problems, I could have made this faster with a dict (HashMap). Might give that a shot after the challenge is over."
   ]
  },
  {
   "cell_type": "code",
   "execution_count": null,
   "metadata": {},
   "outputs": [],
   "source": [
    "def canFormArray(arr, pieces):\n",
    "    index = 0\n",
    "    new_index = index\n",
    "    pieces_m = pieces\n",
    "    while index < len(arr):\n",
    "        curr = arr[index]\n",
    "        for a in pieces_m:\n",
    "            if a[0] == curr and a == arr[index : index + len(a)]:\n",
    "                new_index += len(a)\n",
    "                pieces_m.remove(a)\n",
    "        if new_index == index:\n",
    "            return False\n",
    "        else:\n",
    "            index = new_index\n",
    "    return True\n",
    "\n",
    "\n",
    "arr = [85]\n",
    "pieces = [[85]]\n",
    "\n",
    "canFormArray(arr, pieces)"
   ]
  },
  {
   "cell_type": "code",
   "execution_count": 32,
   "metadata": {},
   "outputs": [],
   "source": [
    "def adjacent_num_product(list_nums):\n",
    "    return max(a*b for a, b in zip(list_nums, list_nums[1:]))"
   ]
  },
  {
   "cell_type": "code",
   "execution_count": 33,
   "metadata": {},
   "outputs": [
    {
     "data": {
      "text/plain": [
       "21"
      ]
     },
     "execution_count": 33,
     "metadata": {},
     "output_type": "execute_result"
    }
   ],
   "source": [
    "adjacent_num_product(inputArray)"
   ]
  },
  {
   "cell_type": "markdown",
   "metadata": {},
   "source": [
    "Given an array of integers, find the pair of adjacent elements that has the largest product and return that product."
   ]
  },
  {
   "cell_type": "code",
   "execution_count": 29,
   "metadata": {},
   "outputs": [],
   "source": [
    "def adjacentElementsProduct(inputArray):\n",
    "    lst1 = 0\n",
    "    for i in range(0, len(inputArray)-1):\n",
    "        lst2 = inputArray[i] * inputArray[i+1]\n",
    "        if lst2 > lst1:\n",
    "            lst1 = lst2\n",
    "    return lst1"
   ]
  },
  {
   "cell_type": "code",
   "execution_count": 30,
   "metadata": {},
   "outputs": [],
   "source": [
    "inputArray = [3, 6, -2, -5, 7, 3]"
   ]
  },
  {
   "cell_type": "code",
   "execution_count": 31,
   "metadata": {},
   "outputs": [
    {
     "data": {
      "text/plain": [
       "21"
      ]
     },
     "execution_count": 31,
     "metadata": {},
     "output_type": "execute_result"
    }
   ],
   "source": [
    "adjacentElementsProduct(inputArray)"
   ]
  },
  {
   "cell_type": "code",
   "execution_count": null,
   "metadata": {},
   "outputs": [],
   "source": [
    "def adjacentElementsProduct(inputArray):\n",
    "    current_max = float('-inf')\n",
    "    for item in range(len(inputArray)):\n",
    "        for jac in range(item + 1, len(inputArray)):\n",
    "            if inputArray[item] * inputArray[jac] > current_max:\n",
    "                current_max = inputArray[item] * inputArray[jac]\n",
    "            return current_max"
   ]
  },
  {
   "cell_type": "code",
   "execution_count": null,
   "metadata": {},
   "outputs": [],
   "source": [
    "number % 10    // this gives us 5\n",
    "  Math.floor(num / 10)"
   ]
  },
  {
   "cell_type": "code",
   "execution_count": null,
   "metadata": {},
   "outputs": [],
   "source": [
    "!pip install "
   ]
  },
  {
   "cell_type": "code",
   "execution_count": null,
   "metadata": {},
   "outputs": [],
   "source": [
    "str_num = str(num)\n",
    "while True:\n",
    "    total = 0\n",
    "    for digit in str_num:\n",
    "        total += int(digit)\n",
    "        if total < 10:\n",
    "            break \n",
    "        str_num = str(total)\n",
    "    return total\n",
    "    \n",
    "    \"\"\"\n",
    "    while True:\n",
    "        total = 0\n",
    "        while num > 0:\n",
    "            total += num % 10\n",
    "            num = int(num / 10)\n",
    "        if total < 10\n",
    "    \"\"\"\n",
    "    \n",
    "            \n",
    "        "
   ]
  },
  {
   "cell_type": "code",
   "execution_count": null,
   "metadata": {},
   "outputs": [],
   "source": [
    "while True:\n",
    "       total = 0\n",
    "    while num > 0:\n",
    "            total += num % 10\n",
    "            num = int(num / 10)\n",
    "        if total < 10"
   ]
  },
  {
   "cell_type": "code",
   "execution_count": null,
   "metadata": {},
   "outputs": [],
   "source": [
    "num = 38\n",
    "while True:\n",
    "    total = 0\n",
    "    while num > 0:\n",
    "        total += num % 10\n",
    "        num = \n"
   ]
  },
  {
   "cell_type": "code",
   "execution_count": 38,
   "metadata": {},
   "outputs": [
    {
     "name": "stdout",
     "output_type": "stream",
     "text": [
      "11\n"
     ]
    }
   ],
   "source": [
    "num = 38\n",
    "while num > 9: \n",
    "    num_sum = (num //10 ) + (num % 10)\n",
    "    break\n",
    "print(num_sum)"
   ]
  },
  {
   "cell_type": "code",
   "execution_count": 35,
   "metadata": {},
   "outputs": [
    {
     "ename": "ModuleNotFoundError",
     "evalue": "No module named 'Math'",
     "output_type": "error",
     "traceback": [
      "\u001b[1;31m---------------------------------------------------------------------------\u001b[0m",
      "\u001b[1;31mModuleNotFoundError\u001b[0m                       Traceback (most recent call last)",
      "\u001b[1;32m<ipython-input-35-a0cb055e8178>\u001b[0m in \u001b[0;36m<module>\u001b[1;34m\u001b[0m\n\u001b[1;32m----> 1\u001b[1;33m \u001b[1;32mimport\u001b[0m \u001b[0mMath\u001b[0m\u001b[1;33m\u001b[0m\u001b[1;33m\u001b[0m\u001b[0m\n\u001b[0m\u001b[0;32m      2\u001b[0m \u001b[1;33m\u001b[0m\u001b[0m\n\u001b[0;32m      3\u001b[0m \u001b[0mnum\u001b[0m \u001b[1;33m=\u001b[0m \u001b[1;36m38\u001b[0m\u001b[1;33m\u001b[0m\u001b[1;33m\u001b[0m\u001b[0m\n\u001b[0;32m      4\u001b[0m \u001b[0mnum\u001b[0m \u001b[1;33m%\u001b[0m \u001b[1;36m10\u001b[0m\u001b[1;33m\u001b[0m\u001b[1;33m\u001b[0m\u001b[0m\n\u001b[0;32m      5\u001b[0m \u001b[0mMath\u001b[0m\u001b[1;33m.\u001b[0m\u001b[0mfloor\u001b[0m\u001b[1;33m(\u001b[0m\u001b[0mnum\u001b[0m \u001b[1;33m/\u001b[0m\u001b[1;36m10\u001b[0m\u001b[1;33m)\u001b[0m\u001b[1;33m\u001b[0m\u001b[1;33m\u001b[0m\u001b[0m\n",
      "\u001b[1;31mModuleNotFoundError\u001b[0m: No module named 'Math'"
     ]
    }
   ],
   "source": [
    "import Math\n",
    "\n",
    "num = 38\n",
    "num % 10\n",
    "Math.floor(num /10)"
   ]
  },
  {
   "cell_type": "code",
   "execution_count": null,
   "metadata": {},
   "outputs": [],
   "source": [
    " pos int \n",
    "        # 123 \n",
    "        # 1 + 2 + 3 = 6\n",
    "        # str(int) \n",
    "        \n",
    "        \n",
    "        num_str = f'{num}'\n",
    "        total = 0\n",
    "        #mod \n",
    "        \n",
    "        #print(num_str)    \n",
    "        for item in num_str:\n",
    "            total += int(item)\n",
    "            if total > 10:\n",
    "                total_str = str(total)\n",
    "                total_str += int(total_str) \n",
    "            else:\n",
    "                return total\n",
    "        return total_str"
   ]
  },
  {
   "cell_type": "markdown",
   "metadata": {},
   "source": [
    "Design a parking system for a parking lot. The parking lot has three kinds of parking spaces: big, medium, and small, with a fixed number of slots for each size.\n",
    "\n",
    "Implement the ParkingSystem class:\n",
    "\n",
    "ParkingSystem(int big, int medium, int small) Initializes object of the ParkingSystem class. The number of slots for each parking space are given as part of the constructor.\n",
    "bool addCar(int carType) Checks whether there is a parking space of carType for the car that wants to get into the parking lot. carType can be of three kinds: big, medium, or small, which are represented by 1, 2, and 3 respectively. A car can only park in a parking space of its carType. If there is no space available, return false, else park the car in that size space and return true."
   ]
  },
  {
   "cell_type": "code",
   "execution_count": null,
   "metadata": {},
   "outputs": [],
   "source": [
    "class ParkingSystem:\n",
    "    def __init__(self, big: int, medium: int, small:int):\n",
    "        def addCar(self, carType: int) -> bool:\n",
    "            \n",
    "            "
   ]
  },
  {
   "cell_type": "code",
   "execution_count": null,
   "metadata": {},
   "outputs": [],
   "source": [
    "class ParkingSystem:\n",
    "  def __init__(self, big, medium, small):\n",
    "    self.slots = {1: big, 2: medium, 3: small}\n",
    " \n",
    "  def addCar(self, carType):\n",
    "    \n",
    "    if self.slots[carType] == 0:\n",
    "        return False\n",
    "    else:\n",
    "        self.slots[carType] -= 1\n",
    "        return True"
   ]
  },
  {
   "cell_type": "code",
   "execution_count": 39,
   "metadata": {},
   "outputs": [
    {
     "data": {
      "text/plain": [
       "1"
      ]
     },
     "execution_count": 39,
     "metadata": {},
     "output_type": "execute_result"
    }
   ],
   "source": [
    "a = 0\n",
    "a += 1\n",
    "a"
   ]
  },
  {
   "cell_type": "code",
   "execution_count": 40,
   "metadata": {},
   "outputs": [
    {
     "data": {
      "text/plain": [
       "9"
      ]
     },
     "execution_count": 40,
     "metadata": {},
     "output_type": "execute_result"
    }
   ],
   "source": [
    "a = 0\n",
    "while a < 9:\n",
    "    a += 1\n",
    "a"
   ]
  },
  {
   "cell_type": "code",
   "execution_count": 41,
   "metadata": {},
   "outputs": [
    {
     "data": {
      "text/plain": [
       "10"
      ]
     },
     "execution_count": 41,
     "metadata": {},
     "output_type": "execute_result"
    }
   ],
   "source": [
    "a = 0\n",
    "while a <= 9:\n",
    "    a += 1\n",
    "a"
   ]
  },
  {
   "cell_type": "code",
   "execution_count": 42,
   "metadata": {},
   "outputs": [
    {
     "name": "stdout",
     "output_type": "stream",
     "text": [
      "0\n",
      "10\n",
      "1\n",
      "20\n",
      "2\n",
      "30\n",
      "3\n",
      "40\n",
      "4\n",
      "50\n",
      "5\n",
      "60\n",
      "6\n",
      "70\n",
      "7\n",
      "80\n",
      "8\n",
      "90\n",
      "9\n",
      "100\n"
     ]
    },
    {
     "data": {
      "text/plain": [
       "100"
      ]
     },
     "execution_count": 42,
     "metadata": {},
     "output_type": "execute_result"
    }
   ],
   "source": [
    "counter = 0\n",
    "for item in range(10):\n",
    "    print(item)\n",
    "    counter += 10\n",
    "    print(counter)\n",
    "counter\n"
   ]
  },
  {
   "cell_type": "markdown",
   "metadata": {},
   "source": [
    "Below we will define an n-interesting polygon. Your task is to find the area of a polygon for a given n.\n",
    "\n",
    "A 1-interesting polygon is just a square with a side of length 1. An n-interesting polygon is obtained by taking the n - 1-interesting polygon and appending 1-interesting polygons to its rim, side by side. You can see the 1-, 2-, 3- and 4-interesting polygons in the picture below."
   ]
  },
  {
   "cell_type": "code",
   "execution_count": null,
   "metadata": {},
   "outputs": [],
   "source": [
    "Making an app \n",
    "Homework assignment ---> help from class\n",
    "\n"
   ]
  },
  {
   "cell_type": "code",
   "execution_count": null,
   "metadata": {},
   "outputs": [],
   "source": [
    "Naive Bayse \n",
    "Bernulo \n",
    "Gaussian bayse \n",
    "Nave gaussian bayse\n"
   ]
  },
  {
   "cell_type": "code",
   "execution_count": 43,
   "metadata": {},
   "outputs": [
    {
     "data": {
      "text/plain": [
       "10.0"
      ]
     },
     "execution_count": 43,
     "metadata": {},
     "output_type": "execute_result"
    }
   ],
   "source": [
    "100 / 10"
   ]
  },
  {
   "cell_type": "code",
   "execution_count": 44,
   "metadata": {},
   "outputs": [
    {
     "data": {
      "text/plain": [
       "10"
      ]
     },
     "execution_count": 44,
     "metadata": {},
     "output_type": "execute_result"
    }
   ],
   "source": [
    "100 // 10"
   ]
  },
  {
   "cell_type": "code",
   "execution_count": null,
   "metadata": {},
   "outputs": [],
   "source": [
    "#// floor operation\n"
   ]
  },
  {
   "cell_type": "code",
   "execution_count": 45,
   "metadata": {},
   "outputs": [],
   "source": [
    "def shapeArea(n):\n",
    "    if n>=10**4 or n<1:\n",
    "        return False\n",
    "\n",
    "    return (n**2+(n-1)**2)"
   ]
  },
  {
   "cell_type": "code",
   "execution_count": 46,
   "metadata": {},
   "outputs": [
    {
     "data": {
      "text/plain": [
       "181"
      ]
     },
     "execution_count": 46,
     "metadata": {},
     "output_type": "execute_result"
    }
   ],
   "source": [
    "n = 10\n",
    "shapeArea(10)"
   ]
  },
  {
   "cell_type": "code",
   "execution_count": 49,
   "metadata": {},
   "outputs": [],
   "source": [
    "def shapeArea2(n):\n",
    "    if n == 1:\n",
    "        return 1\n",
    "    return n**2 + (n-1)**2"
   ]
  },
  {
   "cell_type": "code",
   "execution_count": 50,
   "metadata": {},
   "outputs": [
    {
     "data": {
      "text/plain": [
       "181"
      ]
     },
     "execution_count": 50,
     "metadata": {},
     "output_type": "execute_result"
    }
   ],
   "source": [
    "shapeArea2(10)"
   ]
  },
  {
   "cell_type": "code",
   "execution_count": null,
   "metadata": {},
   "outputs": [],
   "source": [
    "Create a use case using the MNIST dataset and Implement a Bayes Classifier or KNN to recognize handwritten numbers.  \n",
    "\n",
    "Deliverables:\n",
    "  \n",
    "Use Case Summary\n",
    "5 to 10 minute Slide Presentation  (any format but include a PDF version)\n",
    "HTML Version of both R and Python Code\n",
    "Public Git Link(GitHub, bitbucket or any other version control repository  ok) \n",
    "code in pdf format\n",
    "\n",
    "One paragraph summary of the work done and the tools used in a word format"
   ]
  },
  {
   "cell_type": "code",
   "execution_count": null,
   "metadata": {},
   "outputs": [],
   "source": []
  },
  {
   "cell_type": "code",
   "execution_count": null,
   "metadata": {},
   "outputs": [],
   "source": [
    "Big overview\n",
    "\n",
    "Minju app dev\n",
    "\n",
    "Enhanced_IT class, Coding challenge, Project \n",
    "\n",
    "Trilogy Course review and like\n",
    "\n",
    "Pay, related headaches, Marine\n",
    "\n",
    "Darkness and other theatens \n",
    "\n",
    "Built in pipe "
   ]
  },
  {
   "cell_type": "code",
   "execution_count": null,
   "metadata": {},
   "outputs": [],
   "source": []
  }
 ],
 "metadata": {
  "kernelspec": {
   "display_name": "Python 3",
   "language": "python",
   "name": "python3"
  },
  "language_info": {
   "codemirror_mode": {
    "name": "ipython",
    "version": 3
   },
   "file_extension": ".py",
   "mimetype": "text/x-python",
   "name": "python",
   "nbconvert_exporter": "python",
   "pygments_lexer": "ipython3",
   "version": "3.8.5"
  }
 },
 "nbformat": 4,
 "nbformat_minor": 4
}
