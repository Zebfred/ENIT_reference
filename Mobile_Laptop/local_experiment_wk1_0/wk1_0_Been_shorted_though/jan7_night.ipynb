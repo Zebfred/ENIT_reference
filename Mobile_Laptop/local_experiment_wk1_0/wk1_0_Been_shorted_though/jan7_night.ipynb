{
 "cells": [
  {
   "cell_type": "code",
   "execution_count": null,
   "metadata": {},
   "outputs": [],
   "source": [
    "Presentation: Mon\n",
    "    5 - 10 mins speach, slide\n",
    "    Use of Machine learning to Teach Adult human's the 27 Characters of kurigoc characters\n",
    "    \n",
    "    \n",
    "    Visual to see ditrubution\n",
    "    Be able to do desirable visuals in speach\n",
    "    \n",
    "    give tolerance of what it can and can't accept \n",
    "    \n",
    "    Read in the data in acceptable matter\n",
    "    \n",
    "    Be able to see/use 4 classes of Bayes\n",
    "    \n",
    "    \n",
    "    \n",
    "    "
   ]
  },
  {
   "cell_type": "markdown",
   "metadata": {},
   "source": [
    "Kuzushiji-MNIST is a drop-in replacement for the MNIST dataset (28x28 grayscale, 70,000 images), provided in the original MNIST format as well as a NumPy format. Since MNIST restricts us to 10 classes, we chose one character to represent each of the 10 rows of Hiragana when creating Kuzushiji-MNIST."
   ]
  },
  {
   "cell_type": "code",
   "execution_count": null,
   "metadata": {},
   "outputs": [],
   "source": [
    "reading in that data / against some human's input"
   ]
  },
  {
   "cell_type": "code",
   "execution_count": null,
   "metadata": {},
   "outputs": [],
   "source": [
    "I have two load in options"
   ]
  },
  {
   "cell_type": "code",
   "execution_count": null,
   "metadata": {},
   "outputs": [],
   "source": [
    "Should I look into Pandas, numpy stuff?"
   ]
  },
  {
   "cell_type": "code",
   "execution_count": null,
   "metadata": {},
   "outputs": [],
   "source": [
    "5 to 10 minute Slide Presentation  (any format but include a PDF version)\n",
    "HTML Version of both R and Python Code\n",
    "Public Git Link(GitHub, bitbucket or any other version control repository  ok) \n",
    "code in pdf format"
   ]
  },
  {
   "cell_type": "code",
   "execution_count": null,
   "metadata": {},
   "outputs": [],
   "source": [
    "reate a use case using the MNIST dataset and Implement a Bayes Classifier or KNN to recognize handwritten numbers"
   ]
  },
  {
   "cell_type": "code",
   "execution_count": null,
   "metadata": {},
   "outputs": [],
   "source": [
    "Use Bayes Classifier/KNN / Machine learning to Aid in the improve handwriting of people"
   ]
  },
  {
   "cell_type": "code",
   "execution_count": null,
   "metadata": {},
   "outputs": [],
   "source": []
  }
 ],
 "metadata": {
  "kernelspec": {
   "display_name": "Python 3",
   "language": "python",
   "name": "python3"
  },
  "language_info": {
   "codemirror_mode": {
    "name": "ipython",
    "version": 3
   },
   "file_extension": ".py",
   "mimetype": "text/x-python",
   "name": "python",
   "nbconvert_exporter": "python",
   "pygments_lexer": "ipython3",
   "version": "3.8.5"
  }
 },
 "nbformat": 4,
 "nbformat_minor": 4
}
