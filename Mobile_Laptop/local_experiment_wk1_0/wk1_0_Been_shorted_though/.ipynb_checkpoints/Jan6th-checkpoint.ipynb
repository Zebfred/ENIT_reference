{
 "cells": [
  {
   "cell_type": "code",
   "execution_count": null,
   "metadata": {},
   "outputs": [],
   "source": [
    "MNIST DATASET\n",
    "\n",
    "Models Naive Bayes Classifiers\n",
    "\n",
    "KNN --> Knearest neighbors\n",
    "\n",
    "Problem: Define a usecase\n",
    "    \n",
    "    For character(digit) rccogniton\n",
    "    \n",
    "    OCR -- Optical character Recog\n",
    "    \n",
    "    Computer vision\n",
    "    \n",
    "    "
   ]
  },
  {
   "cell_type": "code",
   "execution_count": null,
   "metadata": {},
   "outputs": [],
   "source": [
    "Abrigail reassignment "
   ]
  },
  {
   "cell_type": "code",
   "execution_count": null,
   "metadata": {},
   "outputs": [],
   "source": [
    "AWS - Text extract \n",
    "\n",
    "Google -- Tesseract \n",
    "\n",
    "AWS comprehend "
   ]
  },
  {
   "cell_type": "code",
   "execution_count": null,
   "metadata": {},
   "outputs": [],
   "source": [
    "Scared by correspondants"
   ]
  },
  {
   "cell_type": "code",
   "execution_count": null,
   "metadata": {},
   "outputs": [],
   "source": [
    "Japanese equivalent MNIST 27\n"
   ]
  },
  {
   "cell_type": "code",
   "execution_count": null,
   "metadata": {},
   "outputs": [],
   "source": [
    "from numpy import load\n",
    "\n",
    "data = load('out.npz')\n",
    "lst = data.files\n",
    "for item in lst:\n",
    "    print(item)\n",
    "    print(data[item])"
   ]
  },
  {
   "cell_type": "code",
   "execution_count": null,
   "metadata": {},
   "outputs": [],
   "source": [
    "MLE : Maximum Likelihood estimation\n",
    "    argmax L( )\n",
    "    \n",
    "Map : max a posterion estimation\n",
    "    P(O | x)\n",
    "    \n"
   ]
  },
  {
   "cell_type": "code",
   "execution_count": null,
   "metadata": {},
   "outputs": [],
   "source": [
    "For Supervised Learning:\n",
    "    Data: {(x , y), (x2 , y2), ... (x_n, y_n)}\n",
    "    \n",
    "    we assume:\n",
    "        y_i = f(x_i) + ei\n",
    "        \n",
    "The function will be equal to y_hat and e is an error \n",
    "\n",
    "    Classificaiton: Finding a discrimination or decision boundry\n",
    "        \n",
    "    Bayes classification Model:\n",
    "        \n",
    "            xi eR y_i e { 1 , 2 , ... , k} c N k < y\n",
    "        \n",
    "        Map : p ( y_i = k|x_i) <-- Probability of k is \"correct\"\n",
    "    Apply Bayes' Theorem:\n",
    "    \n",
    "        p(y_i = k|x_i) = p ( x_i|y_i = k) p(y_i = k ) / p( x_i)\n",
    "        \n",
    "        \n",
    "\n",
    "        \n",
    "        \n"
   ]
  },
  {
   "cell_type": "code",
   "execution_count": null,
   "metadata": {},
   "outputs": [],
   "source": [
    "In Theory : \n",
    "        y_hat = argmax p ( yi = k|xi)\n",
    "              = argmax "
   ]
  },
  {
   "cell_type": "raw",
   "metadata": {},
   "source": [
    "There a debate between bayesian and expotional \n",
    "\n",
    "Make problem work with Bayes and KNN \n",
    "\n",
    "To help adult human education learn Japanese Characters \n",
    "\n"
   ]
  },
  {
   "cell_type": "code",
   "execution_count": null,
   "metadata": {},
   "outputs": [],
   "source": [
    "human gives digits , compared to digits of what is trained and use on"
   ]
  },
  {
   "cell_type": "code",
   "execution_count": null,
   "metadata": {},
   "outputs": [],
   "source": [
    "Create a use case using the MNIST dataset and Implement a Bayes Classifier or KNN to recognize handwritten numbers.  \n",
    "\n",
    "Deliverables:\n",
    "  \n",
    "Use Case Summary\n",
    "5 to 10 minute Slide Presentation  (any format but include a PDF version)\n",
    "HTML Version of both R and Python Code\n",
    "Public Git Link(GitHub, bitbucket or any other version control repository  ok) \n",
    "code in pdf format"
   ]
  },
  {
   "cell_type": "code",
   "execution_count": null,
   "metadata": {},
   "outputs": [],
   "source": [
    "Be flexible "
   ]
  },
  {
   "cell_type": "code",
   "execution_count": null,
   "metadata": {},
   "outputs": [],
   "source": [
    "12hours a day \n",
    "\n",
    "This use case \n",
    "\n"
   ]
  },
  {
   "cell_type": "code",
   "execution_count": null,
   "metadata": {},
   "outputs": [],
   "source": [
    "class BernNB():\n",
    "    def fit(self, X, y, epsilon = 1e-10):\n",
    "        N, D = X.shape\n",
    "        self.likelihoods = {}\n",
    "        self.priors = {}\n",
    "        self.K = set(y.astype(int))\n",
    "        \n",
    "        for k in self.K:\n",
    "            x_k = X[y==k, :]\n",
    "            p = (sum(X_k) + 1) / len(X_k) + 2)\n",
    "            self.likelihood[k] = {'mean':p, 'cov': p * (1 - p) + epsilon}\n",
    "            self.priors[k] = len(X_k)/len(X)\n",
    "            \n",
    "    def predict(self, X):\n",
    "        N, D = X.shape\n",
    "        P_hat = np.zeros((N, len(self.K)))\n",
    "        \n",
    "        for k,l in self.likelihoods.items():\n",
    "            # Using the Bernouli function/formula. Trick is to get the matrices/vectors to go from mxn to a 1x1 number for each k value.\n",
    "            P_hat[:, k] = np.log(self.priors[k]) + np.matmul(X , np.log(1['mean'])) + np.matmul((1 - X ), np.log(abs(1 - l['mean'])) )\n",
    "            \n",
    "            \n",
    "        \n",
    "        "
   ]
  },
  {
   "cell_type": "markdown",
   "metadata": {},
   "source": [
    "How to Run"
   ]
  },
  {
   "cell_type": "code",
   "execution_count": null,
   "metadata": {},
   "outputs": [],
   "source": [
    "bnb = BernNB()\n",
    "bnb.fit(X_train, y_train) # Use the X and Y Training set here \n",
    "y_hat = bnb.predict(X_test)\n",
    "print(accuracy(y_test, y_hat))\n",
    "\n",
    "\n",
    "X[np.Where]"
   ]
  },
  {
   "cell_type": "code",
   "execution_count": null,
   "metadata": {},
   "outputs": [],
   "source": [
    "class GaussBayes():\n",
    "    def fit(self, X , y, epsilon = 1e-3):\n",
    "        self.likelihoods = dict()\n",
    "        self.priors = dict()\n",
    "        \n",
    "        likehoods\n",
    "        \n",
    "        mean(axis=0)\n",
    "        lihoods[k] = {\"mean\":X_k.mean(axis=0), \"cov\": \n",
    "                     (1/(N_k-1))*np.matmul((X_k-mu_k)+epsilon )}\n",
    "        \n",
    "        self.priors[k]= len(X_K)/len(X)\n",
    "        \n",
    "    def predict(self, X):\n",
    "        N , D = X.shape\n",
    "        \n",
    "        P_hat = np.zeros((N, len(self.K)))\n",
    "        \n",
    "        for k, l in self.likelihoods.items():\n",
    "            P_hat = np.zeros((N, len(self.K)))\n",
    "            \n",
    "            for k, l in self.likelihoods.items():\n",
    "                P_hat[:, k ] = mvn.logpdf( X, l[\"mean\"], l[\"cov\"]) + np.log(self.priors[k])\n",
    "        \n",
    "        return P_hat.argmax(axis=1)"
   ]
  },
  {
   "cell_type": "code",
   "execution_count": null,
   "metadata": {},
   "outputs": [],
   "source": [
    "R = [1 , 25 , 62 , 27 , 51]\n",
    "\n",
    "r <= Ri\n",
    "\n",
    "for r in R\n",
    "\n",
    "Loop1 : r = 1\n",
    "    2 : r = 25\n",
    "    3 : r = 67"
   ]
  },
  {
   "cell_type": "code",
   "execution_count": null,
   "metadata": {},
   "outputs": [],
   "source": [
    "Gray scale method of encoding\n",
    "\n",
    "0 1 15 6\n",
    "0 \n",
    "\n",
    "list of 16 []\n",
    "\n",
    "782"
   ]
  },
  {
   "cell_type": "markdown",
   "metadata": {},
   "source": [
    "multivariate \n",
    "\n",
    "Bayes classifers with other classifiers\n",
    "\n"
   ]
  },
  {
   "cell_type": "code",
   "execution_count": null,
   "metadata": {},
   "outputs": [],
   "source": [
    "3 and 4 classes\n",
    "\n",
    "get stuff with allies \n",
    "\n"
   ]
  }
 ],
 "metadata": {
  "kernelspec": {
   "display_name": "Python 3",
   "language": "python",
   "name": "python3"
  },
  "language_info": {
   "codemirror_mode": {
    "name": "ipython",
    "version": 3
   },
   "file_extension": ".py",
   "mimetype": "text/x-python",
   "name": "python",
   "nbconvert_exporter": "python",
   "pygments_lexer": "ipython3",
   "version": "3.8.5"
  }
 },
 "nbformat": 4,
 "nbformat_minor": 4
}
