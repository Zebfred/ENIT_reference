{
 "cells": [
  {
   "cell_type": "code",
   "execution_count": null,
   "metadata": {},
   "outputs": [],
   "source": [
    "Basic Neuron:\n",
    "    Many Inputs\n",
    "    Single Output \n",
    "    Adjustable reactiohn\n",
    "    Activation"
   ]
  },
  {
   "cell_type": "code",
   "execution_count": null,
   "metadata": {},
   "outputs": [],
   "source": [
    "Posenblat Perceptron"
   ]
  },
  {
   "cell_type": "code",
   "execution_count": null,
   "metadata": {},
   "outputs": [],
   "source": [
    "8 \n",
    " - sigmoid \n",
    "h( x) = w^T x + x0 ( orb)\n",
    "\n",
    "sig( x) = 1 / ( 1 + e^-x)\n",
    "\n",
    "p^( x) = sig(h(x))\n",
    "\n",
    "p^( x) = 1 / (1+ e^-wtx)\n",
    "\n"
   ]
  },
  {
   "cell_type": "code",
   "execution_count": null,
   "metadata": {},
   "outputs": [],
   "source": [
    "ridge can not be zero\n",
    "shrinkage\n",
    "\n",
    "Principal components\n",
    "Linear combination of features \n",
    "Continueing to grow \n",
    "Hobbies \n",
    "Books \n",
    "resources\n",
    "\n",
    "\n",
    "Gradient descend:\n",
    "    1 objective function\n",
    "    \n",
    "    2 Model =  Mathimatical equation that relates your Data to your Result\n",
    "    As long as we can  \n",
    "    get those weights\n",
    "    target destination\n",
    "    we are designing it that way \n",
    "    give results based on data \n",
    "    \n",
    "    3 weight update rule\n",
    "    y = wT + b \n",
    "    "
   ]
  },
  {
   "cell_type": "code",
   "execution_count": null,
   "metadata": {},
   "outputs": [],
   "source": [
    "pI = 1 / (1 + e^-wT(xI))\n",
    "\n",
    "estiblish a treshhold "
   ]
  },
  {
   "cell_type": "code",
   "execution_count": null,
   "metadata": {},
   "outputs": [],
   "source": [
    "Saturation of the Loss Function\n",
    "\n",
    "Gradient is no longer useful"
   ]
  },
  {
   "cell_type": "code",
   "execution_count": null,
   "metadata": {},
   "outputs": [],
   "source": [
    "Delivables \n",
    "\n",
    "Control"
   ]
  },
  {
   "cell_type": "code",
   "execution_count": null,
   "metadata": {},
   "outputs": [],
   "source": [
    "cross entropy activation function = \n",
    "\n",
    "J  = -1/ n E yi ln(p^) + (1 -yi) * ln(1 - p^)\n",
    "                          \n",
    "P_hat = 1/ ( 1 + e^(-w.Tex))\n",
    "\n",
    "y_hat = (p_hat=t).astype(np.int32)\n",
    "\n",
    "\n",
    "Thermodynamics ----- information system\n",
    "pydensity more or less potion\n",
    "\n",
    "For clusters \n",
    "\n",
    "Closely related to engery levels and what not \n",
    "\n",
    "Gradient in respect to weights\n",
    "^V^J = 1/wX^T(p^ -y)\n",
    "\n",
    "weights update rule\n",
    "Bias \n",
    "\n",
    "\n",
    "Predict Rule = cross entropy objdective \n",
    "                          \n",
    "                          "
   ]
  },
  {
   "cell_type": "code",
   "execution_count": null,
   "metadata": {},
   "outputs": [],
   "source": [
    "wt\n",
    "wt-1\n",
    "wt+1\n"
   ]
  },
  {
   "cell_type": "code",
   "execution_count": null,
   "metadata": {},
   "outputs": [],
   "source": [
    "weight update rule:\n",
    "    w(t+ 1) = wt - n[1/n X^T(p^-y)]\n",
    "    \n",
    "    \n",
    "Looiing for what : \n",
    "    \n",
    "Minimizing the opject function"
   ]
  },
  {
   "cell_type": "code",
   "execution_count": null,
   "metadata": {},
   "outputs": [],
   "source": [
    "know how to arrive at these equations\n",
    "\n",
    "Learning rate - Gradient\n",
    "\n",
    "(I need to learn that  )"
   ]
  },
  {
   "cell_type": "code",
   "execution_count": null,
   "metadata": {},
   "outputs": [],
   "source": [
    "How beyond 3 layers \n",
    "\n",
    "Intergral is a gauss\n",
    "\n",
    "There a neural nets that will likely \n",
    "\n",
    "Epochs and layers \n",
    "\n",
    "\n",
    "\n",
    "extract weights halve way though"
   ]
  },
  {
   "cell_type": "code",
   "execution_count": null,
   "metadata": {},
   "outputs": [],
   "source": [
    "'''\n",
    "Given a rectangular matrix of characters, add a border of asterisks(*) to it.\n",
    "Example\n",
    "For\n",
    "picture = [\"abc\",\n",
    "           \"ded\"]\n",
    "the output should be\n",
    "addBorder(picture) = [\"*****\",\n",
    "                      \"*abc*\",\n",
    "                      \"*ded*\",\n",
    "                      \"*****\"]\n",
    "'''\n",
    "def addBorder(picture):\n",
    "    pic = []\n",
    "    pic.append('*' * (len(picture[0]) + 2))\n",
    "    for i in range(len(picture)):\n",
    "        pic.append('*' + picture[i] + '*')\n",
    "    pic.append('*' * (len(picture[0]) + 2))\n",
    "    return pic"
   ]
  },
  {
   "cell_type": "code",
   "execution_count": null,
   "metadata": {},
   "outputs": [],
   "source": [
    "The work that I can only do. My lord hallow be try name , thy kindom "
   ]
  },
  {
   "cell_type": "code",
   "execution_count": 1,
   "metadata": {},
   "outputs": [],
   "source": [
    "'''\n",
    "Given a rectangular matrix of characters, add a border of asterisks(*) to it.\n",
    "Example\n",
    "For\n",
    "picture = [\"abc\",\n",
    "           \"ded\"]\n",
    "the output should be\n",
    "addBorder(picture) = [\"*****\",\n",
    "                      \"*abc*\",\n",
    "                      \"*ded*\",\n",
    "                      \"*****\"]\n",
    "'''\n",
    "def addBorder(picture):\n",
    "    pic = []\n",
    "    pic.append('*' * (len(picture[0]) + 2))\n",
    "    for i in range(len(picture)):\n",
    "        pic.append('*' + picture[i] + '*')\n",
    "    pic.append('*' * (len(picture[0]) + 2))\n",
    "    return pic"
   ]
  },
  {
   "cell_type": "code",
   "execution_count": 2,
   "metadata": {},
   "outputs": [],
   "source": [
    "\n",
    "picture = [\"abc\",\n",
    "           \"ded\"]"
   ]
  },
  {
   "cell_type": "code",
   "execution_count": 3,
   "metadata": {},
   "outputs": [
    {
     "data": {
      "text/plain": [
       "['*****', '*abc*', '*ded*', '*****']"
      ]
     },
     "execution_count": 3,
     "metadata": {},
     "output_type": "execute_result"
    }
   ],
   "source": [
    "addBorder(picture)"
   ]
  },
  {
   "cell_type": "code",
   "execution_count": null,
   "metadata": {},
   "outputs": [],
   "source": [
    "def addBorder(picture):\n",
    "\n",
    "    pic = []\n",
    "    pic.append('*'* (len(picture[0]) + 2 ))\n",
    "    for it in range(len(picture)):\n",
    "        pic.append('*' + picture[it] + '*')\n",
    "    pic.append('*'* (len(picture[0]) + 2))\n",
    "    return pic"
   ]
  },
  {
   "cell_type": "code",
   "execution_count": null,
   "metadata": {},
   "outputs": [],
   "source": [
    "s (7 sloc)  214 Bytes\n",
    "  \n",
    "/*Please add ; after each select statement*/\n",
    "CREATE PROCEDURE suspectsInvestigation()\n",
    "BEGIN\n",
    "\tSELECT id, name, surname FROM Suspect AS s\n",
    "    WHERE s.height <= 170 AND\n",
    "    name LIKE \"b%\" AND surname LIKE \"gre_n\";\n",
    "END"
   ]
  },
  {
   "cell_type": "code",
   "execution_count": null,
   "metadata": {},
   "outputs": [],
   "source": [
    "/*Please add ; after each select statement*/\n",
    "CREATE PROCEDURE suspectsInvestigation2()\n",
    "BEGIN\n",
    "\tSELECT id, name, surname FROM Suspect AS s\n",
    "    WHERE s.height <= 170 OR surname NOT LIKE \"gre_n\"\n",
    "    OR name NOT LIKE \"B%\";\n",
    "END"
   ]
  }
 ],
 "metadata": {
  "kernelspec": {
   "display_name": "Python 3",
   "language": "python",
   "name": "python3"
  },
  "language_info": {
   "codemirror_mode": {
    "name": "ipython",
    "version": 3
   },
   "file_extension": ".py",
   "mimetype": "text/x-python",
   "name": "python",
   "nbconvert_exporter": "python",
   "pygments_lexer": "ipython3",
   "version": "3.8.5"
  }
 },
 "nbformat": 4,
 "nbformat_minor": 4
}
