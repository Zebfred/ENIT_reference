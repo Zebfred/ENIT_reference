{
 "cells": [
  {
   "cell_type": "code",
   "execution_count": 1,
   "metadata": {},
   "outputs": [],
   "source": [
    "#really Happy I am here\n",
    "\n",
    "def func(x, y):\n",
    "    while(y):\n",
    "        x, y = y, x % y\n",
    "        \n",
    "    return x "
   ]
  },
  {
   "cell_type": "code",
   "execution_count": 2,
   "metadata": {},
   "outputs": [
    {
     "data": {
      "text/plain": [
       "1"
      ]
     },
     "execution_count": 2,
     "metadata": {},
     "output_type": "execute_result"
    }
   ],
   "source": [
    "func(2 ,3 )"
   ]
  },
  {
   "cell_type": "code",
   "execution_count": 3,
   "metadata": {},
   "outputs": [
    {
     "data": {
      "text/plain": [
       "5"
      ]
     },
     "execution_count": 3,
     "metadata": {},
     "output_type": "execute_result"
    }
   ],
   "source": [
    "func(10, 5)"
   ]
  },
  {
   "cell_type": "code",
   "execution_count": 5,
   "metadata": {},
   "outputs": [
    {
     "data": {
      "text/plain": [
       "10"
      ]
     },
     "execution_count": 5,
     "metadata": {},
     "output_type": "execute_result"
    }
   ],
   "source": [
    "func(10, 0)"
   ]
  },
  {
   "cell_type": "code",
   "execution_count": 6,
   "metadata": {},
   "outputs": [
    {
     "data": {
      "text/plain": [
       "10"
      ]
     },
     "execution_count": 6,
     "metadata": {},
     "output_type": "execute_result"
    }
   ],
   "source": [
    "func(100, 10)"
   ]
  },
  {
   "cell_type": "code",
   "execution_count": 7,
   "metadata": {},
   "outputs": [
    {
     "data": {
      "text/plain": [
       "4"
      ]
     },
     "execution_count": 7,
     "metadata": {},
     "output_type": "execute_result"
    }
   ],
   "source": [
    "func(300000, 4)"
   ]
  },
  {
   "cell_type": "code",
   "execution_count": null,
   "metadata": {},
   "outputs": [],
   "source": [
    "#!/usr/bin/python\n",
    "\n",
    "import sys\n",
    "import signal\n",
    "import time\n",
    "\n",
    "def signalHandler(a,b):\n",
    "    print \"Signal received \",a,\"==\",b;\n",
    "\n",
    "signal.signal(signal.SIGINT,signalHandler);\n",
    "signal.signal(signal.SIGUSR1,signalHandler);\n",
    "\n",
    "while(1):\n",
    "    print \"Wait...\"\n",
    "    time.sleep(10)"
   ]
  },
  {
   "cell_type": "code",
   "execution_count": 8,
   "metadata": {},
   "outputs": [],
   "source": [
    "def areEquallyStrong(yourLeft, yourRight, friendsLeft, friendsRight):\n",
    "    personal_max = max(yourLeft, yourRight)\n",
    "    friend_max = max(friendsLeft, friendsRight)\n",
    "    sum1 = yourLeft + yourRight\n",
    "    sum2 = friendsLeft + friendsRight\n",
    "    if sum1 == sum2 and personal_max == friend_max:\n",
    "        return True\n",
    "    return False"
   ]
  },
  {
   "cell_type": "code",
   "execution_count": null,
   "metadata": {},
   "outputs": [],
   "source": [
    "yourLeft = 10, yourRight = 15, friendsLeft = 15, and friendsRight = 10, the output should be\n",
    "areEquallyStrong(yourLeft, yourRight, friendsLeft, friendsRight) = true;\n",
    "For yourLeft = 15, yourRight = 10, friendsLeft = 15, and friendsRight = 10, the output should be\n",
    "areEquallyStrong(yourLeft, yourRight, friendsLeft, friendsRight) = true;\n",
    "For yourLeft = 15, yourRight = 10, friendsLeft = 15, and friendsRight = 9, the output should be\n",
    "areEquallyStrong(yourLeft, yourRight, friendsLeft, friendsRight) = false."
   ]
  },
  {
   "cell_type": "code",
   "execution_count": 9,
   "metadata": {},
   "outputs": [],
   "source": [
    "yourLeft = 10 \n",
    "yourRight = 15 \n",
    "friendsLeft = 15 \n",
    "friendsRight = 10"
   ]
  },
  {
   "cell_type": "code",
   "execution_count": 10,
   "metadata": {},
   "outputs": [
    {
     "data": {
      "text/plain": [
       "True"
      ]
     },
     "execution_count": 10,
     "metadata": {},
     "output_type": "execute_result"
    }
   ],
   "source": [
    "areEquallyStrong(yourLeft, yourRight, friendsLeft, friendsRight)"
   ]
  },
  {
   "cell_type": "code",
   "execution_count": null,
   "metadata": {},
   "outputs": [],
   "source": [
    "  \n",
    "/*Please add ; after each select statement*/\n",
    "CREATE PROCEDURE usersByContinent()\n",
    "BEGIN\n",
    "\tSELECT continent, SUM(users) AS users FROM countries\n",
    "    GROUP BY continent ORDER BY users DESC;\n",
    "END"
   ]
  },
  {
   "cell_type": "code",
   "execution_count": null,
   "metadata": {},
   "outputs": [],
   "source": [
    "/*Please add ; after each select statement*/\n",
    "CREATE PROCEDURE movieDirectors()\n",
    "BEGIN\n",
    "\tSELECT director FROM moviesInfo\n",
    "    WHERE year > 2000 GROUP BY director\n",
    "    HAVING SUM(oscars) > 2\n",
    "    ORDER BY director ASC;\n",
    "END"
   ]
  }
 ],
 "metadata": {
  "kernelspec": {
   "display_name": "Python 3",
   "language": "python",
   "name": "python3"
  },
  "language_info": {
   "codemirror_mode": {
    "name": "ipython",
    "version": 3
   },
   "file_extension": ".py",
   "mimetype": "text/x-python",
   "name": "python",
   "nbconvert_exporter": "python",
   "pygments_lexer": "ipython3",
   "version": "3.8.5"
  }
 },
 "nbformat": 4,
 "nbformat_minor": 4
}
