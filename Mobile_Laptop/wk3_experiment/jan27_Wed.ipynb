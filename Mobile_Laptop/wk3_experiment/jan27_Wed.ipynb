{
 "cells": [
  {
   "cell_type": "code",
   "execution_count": null,
   "metadata": {},
   "outputs": [],
   "source": [
    "email guys \n",
    "\n"
   ]
  },
  {
   "cell_type": "code",
   "execution_count": null,
   "metadata": {},
   "outputs": [],
   "source": [
    "Select statemnet \n",
    "\n",
    "Left join \n",
    "\n"
   ]
  },
  {
   "cell_type": "code",
   "execution_count": null,
   "metadata": {},
   "outputs": [],
   "source": [
    "SQL interview challenges ,\n",
    "ridge regression with adds"
   ]
  },
  {
   "cell_type": "code",
   "execution_count": null,
   "metadata": {},
   "outputs": [],
   "source": [
    "SELECT name, MAX(salary) as salary FROM employee"
   ]
  },
  {
   "cell_type": "code",
   "execution_count": null,
   "metadata": {},
   "outputs": [],
   "source": [
    "# Write your MySQL query statement below\n",
    " SELECT Salary as SecondHighestSalary \n",
    " from employee\n",
    " Order by Salary DESC\n",
    " LIMIT 1 OFFSET 1;"
   ]
  },
  {
   "cell_type": "code",
   "execution_count": null,
   "metadata": {},
   "outputs": [],
   "source": [
    "# Write your MySQL query statement below\n",
    " SELECT IF(Salary = \"\",null, Salary) as SecondHighestSalary \n",
    " from employee\n",
    " Order by Salary DESC\n",
    " LIMIT 1 OFFSET 1;"
   ]
  },
  {
   "cell_type": "code",
   "execution_count": null,
   "metadata": {},
   "outputs": [],
   "source": [
    "A subquery may occur in :\n",
    "- A SELECT clause\n",
    "- A FROM clause\n",
    "- A WHERE clause\n"
   ]
  },
  {
   "cell_type": "code",
   "execution_count": null,
   "metadata": {},
   "outputs": [],
   "source": [
    "Select MAX(salary) as  SecondHighestSalary from employee # runs second \n",
    "where salary NOT in (select max(salary) as secondhighestsalary From employee) # runs first\n",
    "/*\n",
    "this query will do the where section first then the select section\n",
    "so it will find the max and select from not the max the second max\n",
    "*/"
   ]
  },
  {
   "cell_type": "code",
   "execution_count": null,
   "metadata": {},
   "outputs": [],
   "source": [
    "A join A\n",
    "self join\n"
   ]
  },
  {
   "cell_type": "code",
   "execution_count": null,
   "metadata": {},
   "outputs": [],
   "source": [
    "Select\n",
    "...\n",
    "JOIN Employee b \n",
    "ON a, manager id = b.id\n"
   ]
  },
  {
   "cell_type": "code",
   "execution_count": null,
   "metadata": {},
   "outputs": [],
   "source": [
    "select E1.Name Employee \n",
    "from Employee E1 , Employee E2\n",
    "where E1.ManagerId = E2.Id\n",
    "and E1.Salary > E2.Salary"
   ]
  },
  {
   "cell_type": "code",
   "execution_count": null,
   "metadata": {},
   "outputs": [],
   "source": [
    "select a.name as Employee\n",
    "From Employee a\n",
    "Join Employee b \n",
    "On b.Id = a.ManagerId\n",
    "Where a.salary > b.salary"
   ]
  },
  {
   "cell_type": "code",
   "execution_count": null,
   "metadata": {},
   "outputs": [],
   "source": [
    "self join \n",
    "with off "
   ]
  },
  {
   "cell_type": "code",
   "execution_count": null,
   "metadata": {},
   "outputs": [],
   "source": [
    "SELECT DISTINCT SALARY FROM CUSTOMERS\n",
    "   ORDER BY SALARY;"
   ]
  },
  {
   "cell_type": "code",
   "execution_count": null,
   "metadata": {},
   "outputs": [],
   "source": [
    "# Write your MySQL query statement below\n",
    "select Distinct (pr1.Email) \n",
    "from Person as pr1\n",
    "join Person as pr2\n",
    "where pr1.email = pr2.email\n",
    "and pr1.id != pr2.id"
   ]
  },
  {
   "cell_type": "code",
   "execution_count": null,
   "metadata": {},
   "outputs": [],
   "source": [
    "Select email from person\n",
    "Group By email\n",
    "Having Count(email) > 1"
   ]
  },
  {
   "cell_type": "code",
   "execution_count": null,
   "metadata": {},
   "outputs": [],
   "source": [
    "with subqueries\n",
    "where conditionals \n",
    "when CASe"
   ]
  },
  {
   "cell_type": "code",
   "execution_count": null,
   "metadata": {},
   "outputs": [],
   "source": [
    "SELECT DIFF(sales - LAG(sales, 1, 0) OVER (ORDER BY month))"
   ]
  },
  {
   "cell_type": "code",
   "execution_count": null,
   "metadata": {},
   "outputs": [],
   "source": [
    "\n",
    "SELECT temp.Id FROM Weather AS temp, Weather AS ans\n",
    "WHERE DATEDIFF(temp.RecordDate, ans.RecordDate) = 1 \n",
    "AND temp.Temperature > ans.Temperature;"
   ]
  },
  {
   "cell_type": "code",
   "execution_count": null,
   "metadata": {},
   "outputs": [],
   "source": [
    "SELECT * FROM employees LIMIT 3;"
   ]
  },
  {
   "cell_type": "code",
   "execution_count": null,
   "metadata": {},
   "outputs": [],
   "source": [
    "SELECT TO_CHAR(TIMESTAMP '2021-01-21 14:40:43', 'Day, Month DD YYYY');"
   ]
  },
  {
   "cell_type": "code",
   "execution_count": null,
   "metadata": {},
   "outputs": [],
   "source": [
    "SELECT TO_CHAR(TIMESTAMP '2021-01-21 14:40:43', 'YYYY-MM-DD HH:MI:SS');"
   ]
  },
  {
   "cell_type": "code",
   "execution_count": null,
   "metadata": {},
   "outputs": [],
   "source": [
    "SELECT TO_CHAR(TIMESTAMP '2021-01-21 14:40:43', 'MM/DD/YY');"
   ]
  },
  {
   "cell_type": "code",
   "execution_count": null,
   "metadata": {},
   "outputs": [],
   "source": [
    "lag() to look as row "
   ]
  }
 ],
 "metadata": {
  "kernelspec": {
   "display_name": "Python 3",
   "language": "python",
   "name": "python3"
  },
  "language_info": {
   "codemirror_mode": {
    "name": "ipython",
    "version": 3
   },
   "file_extension": ".py",
   "mimetype": "text/x-python",
   "name": "python",
   "nbconvert_exporter": "python",
   "pygments_lexer": "ipython3",
   "version": "3.8.5"
  }
 },
 "nbformat": 4,
 "nbformat_minor": 4
}
