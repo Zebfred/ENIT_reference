{
 "cells": [
  {
   "cell_type": "code",
   "execution_count": null,
   "metadata": {},
   "outputs": [],
   "source": [
    "CREATE PROCEDURE projectList()\n",
    "BEGIN\n",
    "\t/* Write your SQL here. Terminate each statement with a semicolon. */\n",
    "    /* internal_id\n",
    "    project_name\n",
    "    team_size\n",
    "    team_lead \n",
    "    income\n",
    "    */\n",
    "    \n",
    "    SELECT project_name, team_lead, income\n",
    "    FROM Projects ORDER BY internal_id ASC;\n",
    "         \n",
    "    \n",
    "END"
   ]
  },
  {
   "cell_type": "code",
   "execution_count": null,
   "metadata": {},
   "outputs": [],
   "source": [
    "CREATE PROCEDURE countriesSelection()\n",
    "BEGIN\n",
    "\t/* Write your SQL here. Terminate each statement with a semicolon. */\n",
    "    SELECT * from countries where continent = \"Africa\"\n",
    "    order by name ASC;\n",
    "END"
   ]
  },
  {
   "cell_type": "markdown",
   "metadata": {},
   "source": [
    "\n",
    "How to work in such a way that my boat is a float, and I feel guiltless for a few hours at the end of the day.\n",
    "\n",
    "I don't like being scared. I want to play games. bear my responsibilities"
   ]
  },
  {
   "cell_type": "code",
   "execution_count": null,
   "metadata": {},
   "outputs": [],
   "source": [
    "Text dakota \n",
    "\n",
    "Double check marine stuff\n",
    "\n"
   ]
  },
  {
   "cell_type": "code",
   "execution_count": null,
   "metadata": {},
   "outputs": [],
   "source": [
    "Tensforflow \n",
    "\n",
    "Frameworks have pretrain models and lots of datas \n",
    "\n",
    "Library collection of functions"
   ]
  },
  {
   "cell_type": "code",
   "execution_count": null,
   "metadata": {},
   "outputs": [],
   "source": [
    "Building generic NN with Frameworks\n",
    "\n",
    "\n",
    "Layer( #nodes, activation)\n",
    "\n",
    "    Forward \n",
    "    \n",
    " optimaization ( stochastic GD)\n",
    "    \n",
    "Learning rate\n",
    "    \n",
    "stepforward call\n",
    "    \n",
    "    "
   ]
  },
  {
   "cell_type": "code",
   "execution_count": null,
   "metadata": {},
   "outputs": [],
   "source": [
    "# gaussian base \n",
    "# probabilitie. \n",
    "\n",
    "# keras is a language that sits on top "
   ]
  },
  {
   "cell_type": "code",
   "execution_count": null,
   "metadata": {},
   "outputs": [],
   "source": [
    "LSTM"
   ]
  },
  {
   "cell_type": "code",
   "execution_count": null,
   "metadata": {},
   "outputs": [],
   "source": [
    "Sequential Neural Networks \n",
    "\n"
   ]
  },
  {
   "cell_type": "markdown",
   "metadata": {},
   "source": [
    "What do you want right now\n",
    "what can you do to increase your likelihood of success\n",
    "\n"
   ]
  },
  {
   "cell_type": "code",
   "execution_count": null,
   "metadata": {},
   "outputs": [],
   "source": [
    "Car maintances \n",
    "\n",
    "Car insurance \n",
    "\n",
    "Call Tyler\n",
    "\n",
    "$50 XR\n",
    "\n",
    "Stop 39.95\n",
    "\n",
    "$50 IR\n",
    "\n",
    "$100 for Fischer\n",
    "\n",
    "30$ Gas \n",
    "\n",
    "#email Oscar about refund \n",
    "\n",
    "should get $200 for marine core\n",
    "\n",
    "update ID \n",
    "\n",
    "Trilogy stuff\n",
    "\n",
    "Pick up \n",
    "\n",
    "\n",
    "automate \n",
    "\n",
    "Pay from Trilogy\n",
    "\n",
    "Get internet moved \n"
   ]
  },
  {
   "cell_type": "code",
   "execution_count": null,
   "metadata": {},
   "outputs": [],
   "source": [
    "train a transformer slow\n",
    "\n",
    "Bidirectional context thing\n",
    "\n",
    "sentimant analysis \n",
    "\n",
    "youtube commments \n",
    "\n",
    "star labels can be useful\n",
    "\n",
    "Like, no likke, how much they like you\n",
    "\n",
    "\n",
    "\n",
    "pre-train models BERT, elmo\n",
    "\n",
    "\n",
    "embedding is quick"
   ]
  },
  {
   "cell_type": "code",
   "execution_count": null,
   "metadata": {},
   "outputs": [],
   "source": [
    "# mathematical expression of the meaning\n",
    "# embedding of words within the vector concept space of the corpi \n",
    "Basic sentiment Analysis:\n",
    "    \n",
    "    1. Embeded \n",
    "    2. classify\n",
    "A. Bag of words \n",
    "B. Naive Bayes Classifier\n",
    "\n",
    "A. Bert enbedding Layer\n",
    "B. 4Layer sequential \n",
    "#need to look more into Naive Baises"
   ]
  },
  {
   "cell_type": "code",
   "execution_count": null,
   "metadata": {},
   "outputs": [],
   "source": [
    "accurcy |   /\n",
    "        |  /  \n",
    "        | /\n",
    "Limitations of the problem\n",
    "computational demands\n",
    "        __________\n",
    "        Model complexity"
   ]
  },
  {
   "cell_type": "code",
   "execution_count": null,
   "metadata": {},
   "outputs": [],
   "source": [
    "Hemlines \n",
    "Fashion trends \n",
    "\n"
   ]
  },
  {
   "cell_type": "code",
   "execution_count": null,
   "metadata": {},
   "outputs": [],
   "source": [
    "Good bad \n",
    "\n",
    "Urgent and not urgent"
   ]
  },
  {
   "cell_type": "code",
   "execution_count": null,
   "metadata": {},
   "outputs": [],
   "source": [
    "# super ()"
   ]
  },
  {
   "cell_type": "code",
   "execution_count": null,
   "metadata": {},
   "outputs": [],
   "source": []
  }
 ],
 "metadata": {
  "kernelspec": {
   "display_name": "Python 3",
   "language": "python",
   "name": "python3"
  },
  "language_info": {
   "codemirror_mode": {
    "name": "ipython",
    "version": 3
   },
   "file_extension": ".py",
   "mimetype": "text/x-python",
   "name": "python",
   "nbconvert_exporter": "python",
   "pygments_lexer": "ipython3",
   "version": "3.8.5"
  }
 },
 "nbformat": 4,
 "nbformat_minor": 4
}
