{
 "cells": [
  {
   "cell_type": "code",
   "execution_count": null,
   "metadata": {},
   "outputs": [],
   "source": [
    "SELECT authors.author_name, SUM(books.sold_copies) AS sold_sum\n",
    "FROM authors\n",
    "JOIN books\n",
    "ON books.book_name = authors.book_name\n",
    "GROUP BY authors.author_name\n",
    "ORDER BY sold_sum DESC\n",
    "LIMIT 3;"
   ]
  },
  {
   "cell_type": "code",
   "execution_count": null,
   "metadata": {},
   "outputs": [],
   "source": [
    "SELECT *\n",
    "FROM authors\n",
    "JOIN books\n",
    "ON books.book_name = authors.book_name;"
   ]
  },
  {
   "cell_type": "code",
   "execution_count": null,
   "metadata": {},
   "outputs": [],
   "source": [
    "SELECT COUNT(*) FROM\n",
    "  (SELECT user_id, COUNT(event_date_time) AS image_per_user\n",
    "  FROM event_log\n",
    "  GROUP BY user_id) AS image_per_user\n",
    "WHERE image_per_user < 2000 AND image_per_user > 1000;"
   ]
  },
  {
   "cell_type": "code",
   "execution_count": null,
   "metadata": {},
   "outputs": [],
   "source": [
    "SELECT department_name, AVG(salaries.salary) AS avg_salaries\n",
    "FROM employees\n",
    "JOIN salaries\n",
    "ON employees.employee_id = salaries.employee_id\n",
    "GROUP BY department_name\n",
    "HAVING AVG(salaries.salary) < 500;"
   ]
  },
  {
   "cell_type": "code",
   "execution_count": null,
   "metadata": {},
   "outputs": [],
   "source": [
    "SELECT *\n",
    "FROM employees\n",
    "JOIN salaries\n",
    "ON employees.employee_id = salaries.employee_id"
   ]
  },
  {
   "cell_type": "code",
   "execution_count": null,
   "metadata": {},
   "outputs": [],
   "source": [
    "SELECT project_name, tead_lead, income\n",
    "FROM Projects\n",
    "ORDER BY internal_id ASC;"
   ]
  },
  {
   "cell_type": "code",
   "execution_count": null,
   "metadata": {},
   "outputs": [],
   "source": [
    "def isMonotonic(x):\n",
    "    "
   ]
  },
  {
   "cell_type": "code",
   "execution_count": null,
   "metadata": {},
   "outputs": [],
   "source": [
    "shallowcopy manulatted\n",
    "copy.deepcopy = \n",
    "\n"
   ]
  },
  {
   "cell_type": "code",
   "execution_count": null,
   "metadata": {},
   "outputs": [],
   "source": [
    "select * from countries\n",
    "where continent = \"Africa\"\n",
    "order by name ASC;"
   ]
  },
  {
   "cell_type": "code",
   "execution_count": null,
   "metadata": {},
   "outputs": [],
   "source": []
  },
  {
   "cell_type": "code",
   "execution_count": null,
   "metadata": {},
   "outputs": [],
   "source": [
    "self join\n",
    "with an offset\n",
    "193\n"
   ]
  },
  {
   "cell_type": "code",
   "execution_count": null,
   "metadata": {},
   "outputs": [],
   "source": [
    "# Write your MySQL query statement below\n",
    "Select per.Firstname, Per.lastname, Adr.City , Adr.State From Person AS per\n",
    "LEFT Join Address AS adr\n",
    "ON per.PersonID = Adr.PersonId  "
   ]
  },
  {
   "cell_type": "code",
   "execution_count": 1,
   "metadata": {},
   "outputs": [],
   "source": [
    "def first_bad_pair(sequence):\n",
    "    \"\"\"for loop for checking bad pairs. or returns -1 \"\"\"\n",
    "    for i in range(len(sequence)-1):\n",
    "        if sequence[i] >= sequence[i+1]:\n",
    "            return i\n",
    "    return -1\n",
    "\n",
    "def almostIncreasingSequence(sequence):\n",
    "    \"\"\" checks a bad pair if I get a True its increasing \n",
    "    deleting a bad pair still true \n",
    "    deleting the later element makes true?\n",
    "    \"\"\"\n",
    "    j = first_bad_pair(sequence)\n",
    "    if j == -1:\n",
    "        return True  # List is increasing\n",
    "    if first_bad_pair(sequence[j-1:j] + sequence[j+1:]) == -1:\n",
    "        return True  # Deleting earlier element makes increasing\n",
    "    if first_bad_pair(sequence[j:j+1] + sequence[j+2:]) == -1:\n",
    "        return True  # Deleting later element makes increasing\n",
    "    return False  # Deleting either does not make increasing"
   ]
  },
  {
   "cell_type": "code",
   "execution_count": 2,
   "metadata": {},
   "outputs": [],
   "source": [
    "some_seq = [1, 3 , 4 , 5 ,6]"
   ]
  },
  {
   "cell_type": "code",
   "execution_count": 3,
   "metadata": {},
   "outputs": [
    {
     "data": {
      "text/plain": [
       "True"
      ]
     },
     "execution_count": 3,
     "metadata": {},
     "output_type": "execute_result"
    }
   ],
   "source": [
    "almostIncreasingSequence(some_seq)"
   ]
  },
  {
   "cell_type": "code",
   "execution_count": 4,
   "metadata": {},
   "outputs": [],
   "source": [
    "def makeArrayConsecutive2(statues):\n",
    "    \n",
    "    statues.sort()\n",
    "    \n",
    "    # set variables to go though the array\n",
    "    first_ele = 0\n",
    "    second_ele = 1\n",
    "    \n",
    "    \n",
    "    # for itteration of the while loop\n",
    "    last_thing = len(statues)-1\n",
    "    \n",
    "    # counter for differences in the array\n",
    "    differences = 0\n",
    "    \n",
    "    while (first_ele <= last_thing -1) and (second_ele <= last_thing):\n",
    "        \n",
    "        if statues[second_ele] - statues[first_ele] > 1:\n",
    "            differences += (statues[second_ele] - statues[first_ele] - 1)\n",
    "            \n",
    "        first_ele += 1\n",
    "        \n",
    "        second_ele += 1\n",
    "        \n",
    "        \n",
    "    return differences"
   ]
  },
  {
   "cell_type": "code",
   "execution_count": 5,
   "metadata": {},
   "outputs": [
    {
     "data": {
      "text/plain": [
       "1"
      ]
     },
     "execution_count": 5,
     "metadata": {},
     "output_type": "execute_result"
    }
   ],
   "source": [
    "makeArrayConsecutive2(some_seq)"
   ]
  },
  {
   "cell_type": "code",
   "execution_count": null,
   "metadata": {},
   "outputs": [],
   "source": []
  },
  {
   "cell_type": "code",
   "execution_count": null,
   "metadata": {},
   "outputs": [],
   "source": [
    "SELECT Name as Customers \n",
    "FROM Customers \n",
    "LEFT JOIN \n"
   ]
  },
  {
   "cell_type": "code",
   "execution_count": null,
   "metadata": {},
   "outputs": [],
   "source": [
    "for i in range(len(sequence)-1):\n",
    "        if sequence[i] >= sequence[i+1]:\n",
    "            return i\n",
    "    return -1"
   ]
  },
  {
   "cell_type": "code",
   "execution_count": null,
   "metadata": {},
   "outputs": [],
   "source": [
    "Data \n",
    "    X\n",
    "    y\n",
    "    \n",
    "    Getting that \n",
    "    \n",
    "    Build model  and test, tune\n",
    "    \n",
    "    Batch Training\n",
    "    \n",
    "    100\n",
    "    \n",
    "    "
   ]
  },
  {
   "cell_type": "code",
   "execution_count": null,
   "metadata": {},
   "outputs": [],
   "source": [
    "ragged matrix \n",
    "ragged array\n",
    "not square \n",
    "\n",
    "the shape is not uniform"
   ]
  },
  {
   "cell_type": "code",
   "execution_count": null,
   "metadata": {},
   "outputs": [],
   "source": [
    "Intergrate shadow, "
   ]
  },
  {
   "cell_type": "code",
   "execution_count": null,
   "metadata": {},
   "outputs": [],
   "source": []
  },
  {
   "cell_type": "code",
   "execution_count": null,
   "metadata": {},
   "outputs": [],
   "source": []
  },
  {
   "cell_type": "code",
   "execution_count": null,
   "metadata": {},
   "outputs": [],
   "source": []
  },
  {
   "cell_type": "code",
   "execution_count": null,
   "metadata": {},
   "outputs": [],
   "source": []
  }
 ],
 "metadata": {
  "kernelspec": {
   "display_name": "Python 3",
   "language": "python",
   "name": "python3"
  },
  "language_info": {
   "codemirror_mode": {
    "name": "ipython",
    "version": 3
   },
   "file_extension": ".py",
   "mimetype": "text/x-python",
   "name": "python",
   "nbconvert_exporter": "python",
   "pygments_lexer": "ipython3",
   "version": "3.8.5"
  }
 },
 "nbformat": 4,
 "nbformat_minor": 4
}
