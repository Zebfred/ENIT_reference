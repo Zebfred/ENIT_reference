{
 "cells": [
  {
   "cell_type": "code",
   "execution_count": null,
   "metadata": {},
   "outputs": [],
   "source": [
    "def swp(i,a,b):\n",
    "        s = 0\n",
    "        item = a[i]\n",
    "        if item in b:\n",
    "            for j in range(len(b)):\n",
    "                if b[j] == a[i] and b[j] != a[j]:\n",
    "                    indx = j\n",
    "                    s = b[i]\n",
    "                    b[i] = b[indx]\n",
    "                    b[indx] = s\n",
    "                    return -1\n",
    "        else:\n",
    "            return -2\n",
    "\n",
    "\n",
    "    def check(a,b):\n",
    "        for i in range(len(a)):\n",
    "            if a[i] != b[i]:\n",
    "                return i\n",
    "        return -1\n",
    "\n",
    "    def areSimilar(a, b):\n",
    "        if check(a,b) != -1:\n",
    "            i = check(a,b)\n",
    "            if swp(i,a,b) == -1:\n",
    "                swp(i,a,b)\n",
    "                if check(a,b) != -1:\n",
    "                    return False\n",
    "            else:\n",
    "                return False\n",
    "        return True"
   ]
  },
  {
   "cell_type": "code",
   "execution_count": null,
   "metadata": {},
   "outputs": [],
   "source": [
    "def areSimilar(a, b):\n",
    "i = 0\n",
    "i_val = []\n",
    "while i < len(a):\n",
    "    if a[i] != b[i]:\n",
    "        i_val.append(i)\n",
    "    i += 1\n",
    "if not i_val:\n",
    "    return True\n",
    "if len(i_val) != 2:\n",
    "    return False\n",
    "return a[i_val[0]] == b[i_val[1]] and a[i_val[1]] == b[i_val[0]]"
   ]
  },
  {
   "cell_type": "code",
   "execution_count": 1,
   "metadata": {},
   "outputs": [],
   "source": [
    "def areSimilar(a, b):\n",
    "    count = 0\n",
    "    list_a = []\n",
    "    list_b = []\n",
    "    for i in range(len(a)):\n",
    "        if (a[i]!= b[i]):\n",
    "            count +=1\n",
    "            list_a.append(a[i])\n",
    "            list_b.append(b[i])\n",
    "\n",
    "    if (count ==0):\n",
    "        return True \n",
    "\n",
    "    elif count ==2: \n",
    "        return set(list_a)==set(list_b)\n",
    "\n",
    "    else:\n",
    "        return False"
   ]
  },
  {
   "cell_type": "code",
   "execution_count": 2,
   "metadata": {},
   "outputs": [],
   "source": [
    "a = [1, 2, 2]\n",
    "b = [2, 1, 1]"
   ]
  },
  {
   "cell_type": "code",
   "execution_count": 3,
   "metadata": {},
   "outputs": [
    {
     "data": {
      "text/plain": [
       "False"
      ]
     },
     "execution_count": 3,
     "metadata": {},
     "output_type": "execute_result"
    }
   ],
   "source": [
    "areSimilar(a, b)"
   ]
  },
  {
   "cell_type": "code",
   "execution_count": 4,
   "metadata": {},
   "outputs": [],
   "source": [
    "a = [1, 2, 3] \n",
    "b = [2, 1, 3]"
   ]
  },
  {
   "cell_type": "code",
   "execution_count": 5,
   "metadata": {},
   "outputs": [
    {
     "data": {
      "text/plain": [
       "True"
      ]
     },
     "execution_count": 5,
     "metadata": {},
     "output_type": "execute_result"
    }
   ],
   "source": [
    "areSimilar(a, b)"
   ]
  },
  {
   "cell_type": "code",
   "execution_count": null,
   "metadata": {},
   "outputs": [],
   "source": [
    "CREATE PROCEDURE securityBreach()\n",
    "BEGIN\n",
    "\tSELECT first_name, second_name, attribute\n",
    "    FROM users WHERE\n",
    "    REGEXP_LIKE(attribute, CONCAT(\"\\\\w+%\", first_name,\n",
    "    \"_\", second_name, \"%\", \"\\\\w*\"), \"c\")\n",
    "    ORDER BY attribute; \n",
    "END"
   ]
  },
  {
   "cell_type": "code",
   "execution_count": null,
   "metadata": {},
   "outputs": [],
   "source": [
    "\tSELECT * FROM expressions\n",
    "    WHERE CASE operation\n",
    "    WHEN \"+\" THEN a + b = c\n",
    "    WHEN \"-\" THEN a - b = c\n",
    "    WHEN \"/\" THEN a / b = c\n",
    "    WHEN \"*\" THEN a * b = c\n",
    "    END;"
   ]
  }
 ],
 "metadata": {
  "kernelspec": {
   "display_name": "Python 3",
   "language": "python",
   "name": "python3"
  },
  "language_info": {
   "codemirror_mode": {
    "name": "ipython",
    "version": 3
   },
   "file_extension": ".py",
   "mimetype": "text/x-python",
   "name": "python",
   "nbconvert_exporter": "python",
   "pygments_lexer": "ipython3",
   "version": "3.8.5"
  }
 },
 "nbformat": 4,
 "nbformat_minor": 4
}
