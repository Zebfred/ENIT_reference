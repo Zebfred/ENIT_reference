{
 "cells": [
  {
   "cell_type": "code",
   "execution_count": 5,
   "metadata": {},
   "outputs": [],
   "source": [
    "import numpy as np\n",
    "import matplotlib.pyplot as plt\n",
    "import pandas as pd\n",
    "\n",
    "from matplotlib.colors import ListedColormap\n",
    "from IPython.display import clear_output\n",
    "from time import sleep\n",
    "\n",
    "%matplotlib inline"
   ]
  },
  {
   "cell_type": "code",
   "execution_count": 6,
   "metadata": {},
   "outputs": [],
   "source": [
    "cmap_bold = ListedColormap([\"#FF0000\", \"#00FF00\", \"#0000FF\"])\n",
    "cmap_light = ListedColormap([\"#FFBBBB\", \"#BBFFBB\", \"#BBBBFF\"])"
   ]
  },
  {
   "cell_type": "markdown",
   "metadata": {},
   "source": [
    "## Activation and Helper Function"
   ]
  },
  {
   "cell_type": "code",
   "execution_count": 17,
   "metadata": {},
   "outputs": [],
   "source": [
    "def linear(H):\n",
    "    return H\n",
    "\n",
    "def ReLU(H):\n",
    "    return H*(H>0)\n",
    "\n",
    "def sigmoid(H):\n",
    "    return 1/(1+np.exp(-H))\n",
    "\n",
    "def softmax(H):\n",
    "    eH=np.exp(H)\n",
    "    return eH/eH.sum(axis=1, keepdims=True)\n",
    "\n",
    "def cross_entropy(Y, P_hat):\n",
    "    return -(1/len(Y))*np.sum(Y*np.log(P_hat))\n",
    "\n",
    "def one_hot_encode(y):\n",
    "    N=len(y)\n",
    "    K = len(set(y))\n",
    "    Y=np.zeros((N,K))\n",
    "    \n",
    "    for i in range(N):\n",
    "        Y[i,y[i]]=1\n",
    "        \n",
    "    return Y\n",
    "def accuracy(y, y_hat):\n",
    "    return np.mean(y==y_hat)\n",
    "\n",
    "def OLS(Y,Y_hat):\n",
    "    return (1/(2*len(Y)))*np.sum((Y-Y_hat)**2)\n",
    "\n",
    "def R2(y,y_hat):\n",
    "    return 1- np.sum((y - y_hat)**2)/np.sum((y-y.mean())**2)\n",
    "\n",
    "def derivative (Z,a):\n",
    "    if a == linear:\n",
    "        return 1\n",
    "    \n",
    "    elif a == sigmoid:\n",
    "        return Z*(1-Z)\n",
    "    \n",
    "    elif a==np.tanh:\n",
    "        return 1-Z*Z\n",
    "    \n",
    "    elif a==ReLU:\n",
    "        return (Z>0).astype(int)\n",
    "    \n",
    "    else:\n",
    "        ValueError(\"Uknown activation Function\")"
   ]
  },
  {
   "cell_type": "code",
   "execution_count": 27,
   "metadata": {},
   "outputs": [],
   "source": [
    "class ANN:\n",
    "    \n",
    "    def __init__(self,architecture, activations = None, mode=0):\n",
    "        self.mode = mode\n",
    "        self.architecture = architecture\n",
    "        self.activations = activations\n",
    "        self.L = len(architecture)+1\n",
    "        \n",
    "    def fit(self, X,y, eta = 1e-3, epochs = 1e3, show_curve = False):\n",
    "        \n",
    "        epochs = int(epochs)\n",
    "        \n",
    "        if self.mode:\n",
    "            Y=y\n",
    "        else:\n",
    "            Y=one_hot_encode(y)\n",
    "            \n",
    "        N,D = X.shape\n",
    "        K= Y.shape[1]\n",
    "        \n",
    "        #Weghts and Bias initializations(random)\n",
    "        \n",
    "        self.W = {l: np.random.randn(M[0], M[1]) for l, M in enumerate(zip(([D]+ self.architecture),(self.architecture + [K])),1)}\n",
    "        \n",
    "        self.b = {l: np.random.randn(M) for l, M in enumerate(self.architecture + [K],1)}\n",
    "        \n",
    "        # Activation Function Loading\n",
    "        \n",
    "        if self.activations is None:\n",
    "            self.a = {l: ReLU for l in range(1,self.L)}\n",
    "        else:\n",
    "            self.a = {l: act for l, act in enumerate(self.activations, 1)}\n",
    "            \n",
    "        \n",
    "        \n",
    "        # Mode Set\n",
    "        \n",
    "        if self.mode:\n",
    "            self.a[self.L]=linear\n",
    "        else:\n",
    "            self.a[self.L]=softmax\n",
    "            \n",
    "        J = np.zeros(epochs)\n",
    "        \n",
    "        # Gradient Descent:\n",
    "        \n",
    "        for epoch in range(epochs):\n",
    "            self.forward(X)\n",
    "            \n",
    "            if self.mode:\n",
    "                J[epoch]=OLS(Y, self.Z[self.L])\n",
    "            else:\n",
    "                J[epoch]= cross_entropy(Y,self.Z[self.L])\n",
    "                \n",
    "            dH = (1/N)*(self.Z[self.L]-Y)\n",
    "            \n",
    "            # Weight and Bias Update Rules\n",
    "            \n",
    "            for l in sorted(self.W.keys(), reverse = True):\n",
    "                \n",
    "                dW = self.Z[l-1].T@dH\n",
    "                db = dH.sum(axis=0)\n",
    "                \n",
    "                self.W[l] -= eta*dW\n",
    "                self.b[l] -= eta*db\n",
    "                \n",
    "                if l > 1:\n",
    "                    dZ = dH@self.W[l].T\n",
    "                    dH = dZ*derivative(self.Z[l-1], self.a[l-1])\n",
    "                    \n",
    "        if show_curve:\n",
    "            plt.figure()\n",
    "            plt.plot(J)\n",
    "            plt.xlabel(\"epochs\")\n",
    "            plt.ylabel(\"$\\mathcal{J}$\")\n",
    "            plt.title(\"Training Curve\")\n",
    "            plt.show()\n",
    "\n",
    "    def forward(self,X):\n",
    "        self.Z={0:X}\n",
    "        \n",
    "        for l in sorted(self.W.keys()):\n",
    "            self.Z[l]=self.a[l](self.Z[l-1]@self.W[l]+self.b[l])\n",
    "    \n",
    "    def predict(self, X):\n",
    "        self.forward(X)\n",
    "        \n",
    "        if self.mode:\n",
    "            return self.Z[self.L]\n",
    "        else:\n",
    "            return self.Z[self.L].argmax(axis=1)\n"
   ]
  },
  {
   "cell_type": "code",
   "execution_count": 28,
   "metadata": {},
   "outputs": [],
   "source": [
    "def main():\n",
    "    D = 2\n",
    "    K = 3\n",
    "    N = int(K*1e3)\n",
    "    \n",
    "    X0 = np.random.randn((N//K),D) + np.array([2,2])\n",
    "    X1 = np.random.randn((N//K),D) + np.array([0,-2])\n",
    "    X2 = np.random.randn((N//K),D) + np.array([-2,2])\n",
    "    X = np.vstack((X0,X1,X2))\n",
    "    \n",
    "    y = np.array([0]*(N//K) + [1]*(N//K) + [2]*(N//K))\n",
    "    \n",
    "    myAnn = ANN([8,8,8], [ReLU, np.tanh, np.tanh])\n",
    "    myAnn.fit(X,y, eta=3e-2, epochs=2e3, show_curve=True)\n",
    "    y_hat = myAnn.predict(X)\n",
    "    \n",
    "    print(f\"Training Accuracy: {accuracy(y,y_hat):0.4f}\")\n",
    "          \n",
    "    x1 = np.linspace(X[:,0].min() -1, X[:,0].max(), 1000)\n",
    "    x2 = np.linspace(X[:,1].min() -1, X[:,1].max(), 1000)\n",
    "    \n",
    "    xx1,xx2 = np.meshgrid(x1,x2)\n",
    "    Z = myAnn.predict(np.c_[xx1.ravel(), xx2.ravel()]).reshape(*xx1.shape)\n",
    "    \n",
    "    plt.figure()\n",
    "    plt.scatter(X[:,0],X[:,1],c=y, cmap=cmap_bold)\n",
    "    plt.title(\" Data \")\n",
    "    \n",
    "    plt.figure()\n",
    "    plt.scatter(X[:,0],X[:,1],c=y_hat, cmap=cmap_bold)\n",
    "    plt.title(\" Prediction \")\n",
    "    plt.pcolormesh(xx1,xx2,Z, cmap=cmap_light)\n",
    "    plt.show()"
   ]
  },
  {
   "cell_type": "code",
   "execution_count": 29,
   "metadata": {},
   "outputs": [
    {
     "data": {
      "image/png": "[encoded data removed]",
      "text/plain": [
       "<Figure size 432x288 with 1 Axes>"
      ]
     },
     "metadata": {
      "needs_background": "light"
     },
     "output_type": "display_data"
    },
    {
     "name": "stdout",
     "output_type": "stream",
     "text": [
      "Training Accuracy: 0.9753\n"
     ]
    },
    {
     "data": {
      "image/png": "[encoded data removed]",
      "text/plain": [
       "<Figure size 432x288 with 1 Axes>"
      ]
     },
     "metadata": {
      "needs_background": "light"
     },
     "output_type": "display_data"
    },
    {
     "data": {
      "image/png": "[encoded data removed]",
      "text/plain": [
       "<Figure size 432x288 with 1 Axes>"
      ]
     },
     "metadata": {
      "needs_background": "light"
     },
     "output_type": "display_data"
    }
   ],
   "source": [
    "if  __name__ == \"__main__\":\n",
    "    main()"
   ]
  },
  {
   "cell_type": "code",
   "execution_count": null,
   "metadata": {},
   "outputs": [],
   "source": []
  },
  {
   "cell_type": "code",
   "execution_count": null,
   "metadata": {},
   "outputs": [],
   "source": []
  }
 ],
 "metadata": {
  "kernelspec": {
   "display_name": "Python 3",
   "language": "python",
   "name": "python3"
  },
  "language_info": {
   "codemirror_mode": {
    "name": "ipython",
    "version": 3
   },
   "file_extension": ".py",
   "mimetype": "text/x-python",
   "name": "python",
   "nbconvert_exporter": "python",
   "pygments_lexer": "ipython3",
   "version": "3.7.6"
  }
 },
 "nbformat": 4,
 "nbformat_minor": 4
}
