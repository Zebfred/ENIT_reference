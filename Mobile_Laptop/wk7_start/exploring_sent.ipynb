{
 "cells": [
  {
   "cell_type": "code",
   "execution_count": 1,
   "metadata": {},
   "outputs": [
    {
     "ename": "SyntaxError",
     "evalue": "invalid syntax (<ipython-input-1-37748eeb52aa>, line 1)",
     "output_type": "error",
     "traceback": [
      "\u001b[1;36m  File \u001b[1;32m\"<ipython-input-1-37748eeb52aa>\"\u001b[1;36m, line \u001b[1;32m1\u001b[0m\n\u001b[1;33m    import nltk\tfrom nltk.corpus import stopwords\u001b[0m\n\u001b[1;37m               \t^\u001b[0m\n\u001b[1;31mSyntaxError\u001b[0m\u001b[1;31m:\u001b[0m invalid syntax\n"
     ]
    }
   ],
   "source": [
    "import nltk\tfrom nltk.corpus import stopwords\t\n",
    "text = \"Hi, Laptops from Hewlett-Packard aren't running MacOS. We would love an Apple Mac for our work.\"\t\n",
    "\n",
    "print('Word tokenization – ')\tword_token = nltk.word_tokenize(text)\tprint(word_token)\t\n",
    "print('\\nSentence tokenization – ')\tprint(nltk.sent_tokenize(text))\t\n",
    "print('Word tokens after removing stopwords – ')\tstop = set(stopwords.words('english'))\tans = [token for token in word_token if token not in stop]\tprint(ans)"
   ]
  },
  {
   "cell_type": "code",
   "execution_count": null,
   "metadata": {},
   "outputs": [
    {
     "name": "stdout",
     "output_type": "stream",
     "text": [
      "showing info https://raw.githubusercontent.com/nltk/nltk_data/gh-pages/index.xml\n"
     ]
    }
   ],
   "source": [
    "import nltk\n",
    "nltk.download()"
   ]
  },
  {
   "cell_type": "code",
   "execution_count": null,
   "metadata": {},
   "outputs": [],
   "source": [
    "import nltk\tfrom nltk.corpus import stopwords\t\n",
    "text = \"Hi, Laptops from Hewlett-Packard aren't running MacOS. We would love an Apple Mac for our work.\"\t\n",
    "\n",
    "print('Word tokenization – ')\tword_token = nltk.word_tokenize(text)\tprint(word_token)\t\n",
    "print('\\nSentence tokenization – ')\tprint(nltk.sent_tokenize(text))\t\n",
    "print('Word tokens after removing stopwords – ')\tstop = set(stopwords.words('english'))\tans = [token for token in word_token if token not in stop]\tprint(ans)"
   ]
  }
 ],
 "metadata": {
  "kernelspec": {
   "display_name": "Python 3",
   "language": "python",
   "name": "python3"
  },
  "language_info": {
   "codemirror_mode": {
    "name": "ipython",
    "version": 3
   },
   "file_extension": ".py",
   "mimetype": "text/x-python",
   "name": "python",
   "nbconvert_exporter": "python",
   "pygments_lexer": "ipython3",
   "version": "3.8.5"
  }
 },
 "nbformat": 4,
 "nbformat_minor": 4
}
