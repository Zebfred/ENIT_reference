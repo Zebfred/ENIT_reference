{
  "nbformat": 4,
  "nbformat_minor": 0,
  "metadata": {
    "colab": {
      "name": "U4_w2d4_assiment_2nd.ipynb",
      "provenance": [],
      "authorship_tag": "ABX9TyMFBM0Wd/5MVhXnUDPec/mF",
      "include_colab_link": true
    },
    "kernelspec": {
      "name": "python3",
      "display_name": "Python 3"
    }
  },
  "cells": [
    {
      "cell_type": "markdown",
      "metadata": {
        "id": "view-in-github",
        "colab_type": "text"
      },
      "source": [
        "<a href=\"https://colab.research.google.com/github/Zebfred/DS-Unit-4-Sprint-2-Neural-Networks/blob/master/U4_w2d4_assiment_2nd.ipynb\" target=\"_parent\"><img src=\"https://colab.research.google.com/assets/colab-badge.svg\" alt=\"Open In Colab\"/></a>"
      ]
    },
    {
      "cell_type": "code",
      "metadata": {
        "id": "SgyzO0jPfrus",
        "colab_type": "code",
        "colab": {
          "base_uri": "https://localhost:8080/",
          "height": 134
        },
        "outputId": "949b2685-ba07-4462-cea7-05ea7b8666bf"
      },
      "source": [
        "#Load \n",
        "from tensorflow.keras.datasets import boston_housing\n",
        "\n",
        "(x_train, y_train), (x_test, y_test) = boston_housing.load_data()"
      ],
      "execution_count": 1,
      "outputs": [
        {
          "output_type": "display_data",
          "data": {
            "text/html": [
              "<p style=\"color: red;\">\n",
              "The default version of TensorFlow in Colab will soon switch to TensorFlow 2.x.<br>\n",
              "We recommend you <a href=\"https://www.tensorflow.org/guide/migrate\" target=\"_blank\">upgrade</a> now \n",
              "or ensure your notebook will continue to use TensorFlow 1.x via the <code>%tensorflow_version 1.x</code> magic:\n",
              "<a href=\"https://colab.research.google.com/notebooks/tensorflow_version.ipynb\" target=\"_blank\">more info</a>.</p>\n"
            ],
            "text/plain": [
              "<IPython.core.display.HTML object>"
            ]
          },
          "metadata": {
            "tags": []
          }
        },
        {
          "output_type": "stream",
          "text": [
            "Downloading data from https://storage.googleapis.com/tensorflow/tf-keras-datasets/boston_housing.npz\n",
            "57344/57026 [==============================] - 0s 0us/step\n"
          ],
          "name": "stdout"
        }
      ]
    },
    {
      "cell_type": "markdown",
      "metadata": {
        "id": "9Y-yEBBHg2Mx",
        "colab_type": "text"
      },
      "source": [
        "use keras build a multi-Layer Perceptron on boston\n",
        "\n"
      ]
    },
    {
      "cell_type": "code",
      "metadata": {
        "id": "tYcNAOr3hGt2",
        "colab_type": "code",
        "colab": {}
      },
      "source": [
        "#Load the data\n",
        "#Clean the data if necessary (it will be)\n",
        "#Create and fit a baseline Keras MLP model to the data.\n",
        "#Hyperparameter tune (at least) the following parameters:"
      ],
      "execution_count": 0,
      "outputs": []
    },
    {
      "cell_type": "code",
      "metadata": {
        "id": "oHhEc7--hSp-",
        "colab_type": "code",
        "colab": {
          "base_uri": "https://localhost:8080/",
          "height": 527
        },
        "outputId": "81875e41-d32e-4ae6-83ce-5de340677770"
      },
      "source": [
        "#standarize(clean?)\n",
        "from sklearn.preprocessing import StandardScaler\n",
        "\n",
        "scaler = StandardScaler()\n",
        "\n",
        "x_train = scaler.fit_transform(x_train)\n",
        "x_test = scaler.transform(x_test)\n",
        "print(x_train[:10])"
      ],
      "execution_count": 2,
      "outputs": [
        {
          "output_type": "stream",
          "text": [
            "[[-0.27224633 -0.48361547 -0.43576161 -0.25683275 -0.1652266  -0.1764426\n",
            "   0.81306188  0.1166983  -0.62624905 -0.59517003  1.14850044  0.44807713\n",
            "   0.8252202 ]\n",
            " [-0.40342651  2.99178419 -1.33391162 -0.25683275 -1.21518188  1.89434613\n",
            "  -1.91036058  1.24758524 -0.85646254 -0.34843254 -1.71818909  0.43190599\n",
            "  -1.32920239]\n",
            " [ 0.1249402  -0.48361547  1.0283258  -0.25683275  0.62864202 -1.82968811\n",
            "   1.11048828 -1.18743907  1.67588577  1.5652875   0.78447637  0.22061726\n",
            "  -1.30850006]\n",
            " [-0.40149354 -0.48361547 -0.86940196 -0.25683275 -0.3615597  -0.3245576\n",
            "  -1.23667187  1.10717989 -0.51114231 -1.094663    0.78447637  0.44807713\n",
            "  -0.65292624]\n",
            " [-0.0056343  -0.48361547  1.0283258  -0.25683275  1.32861221  0.15364225\n",
            "   0.69480801 -0.57857203  1.67588577  1.5652875   0.78447637  0.3898823\n",
            "   0.26349695]\n",
            " [-0.37502238 -0.48361547 -0.54747912 -0.25683275 -0.54935658 -0.78865126\n",
            "   0.18954148  0.48371503 -0.51114231 -0.71552978  0.51145832  0.38669063\n",
            "  -0.13812828]\n",
            " [ 0.58963463 -0.48361547  1.0283258  -0.25683275  1.21764133 -1.03127774\n",
            "   1.11048828 -1.06518235  1.67588577  1.5652875   0.78447637  0.44807713\n",
            "   1.49873604]\n",
            " [ 0.0381708  -0.48361547  1.24588095 -0.25683275  2.67733525 -1.12719983\n",
            "   1.11048828 -1.14833073 -0.51114231 -0.01744323 -1.71818909  0.44807713\n",
            "   1.88793986]\n",
            " [-0.17228416 -0.48361547  1.24588095 -0.25683275  2.67733525 -0.90150078\n",
            "   1.11048828 -1.09664657 -0.51114231 -0.01744323 -1.71818909 -1.97365769\n",
            "   0.53952803]\n",
            " [-0.22932104 -0.48361547  1.58544339 -0.25683275  0.56888847 -1.76056777\n",
            "   1.11048828 -1.13471925 -0.62624905  0.18716835  1.23950646  0.44807713\n",
            "   2.99068404]]\n"
          ],
          "name": "stdout"
        }
      ]
    },
    {
      "cell_type": "code",
      "metadata": {
        "id": "2CWmgBUsheEO",
        "colab_type": "code",
        "colab": {
          "base_uri": "https://localhost:8080/",
          "height": 1000
        },
        "outputId": "9a308f07-fe2e-4606-9d79-91a59585ab30"
      },
      "source": [
        "#create, fit baseline\n",
        "from tensorflow import keras\n",
        "from tensorflow.keras.models import Sequential\n",
        "from tensorflow.keras.layers import Dense\n",
        "\n",
        "# Important Hyperparameters\n",
        "inputs = x_train.shape[1]\n",
        "epochs = 75\n",
        "batch_size = 10\n",
        "\n",
        "\n",
        "# Create Model\n",
        "model = Sequential()\n",
        "model.add(Dense(64, activation='relu', input_shape=(inputs,)))\n",
        "model.add(Dense(64, activation='relu'))\n",
        "model.add(Dense(1))\n",
        "\n",
        "# Compile Model\n",
        "model.compile(optimizer='adam', loss='mse', metrics=['mse', 'mae'])\n",
        "\n",
        "# Fit Model\n",
        "model.fit(x_train, y_train, \n",
        "          validation_data=(x_test,y_test), \n",
        "          epochs=epochs, \n",
        "          batch_size=batch_size\n",
        "         )"
      ],
      "execution_count": 3,
      "outputs": [
        {
          "output_type": "stream",
          "text": [
            "WARNING:tensorflow:From /usr/local/lib/python3.6/dist-packages/tensorflow_core/python/ops/resource_variable_ops.py:1630: calling BaseResourceVariable.__init__ (from tensorflow.python.ops.resource_variable_ops) with constraint is deprecated and will be removed in a future version.\n",
            "Instructions for updating:\n",
            "If using Keras pass *_constraint arguments to layers.\n",
            "Train on 404 samples, validate on 102 samples\n",
            "Epoch 1/75\n",
            "404/404 [==============================] - 0s 745us/sample - loss: 521.1822 - mean_squared_error: 521.1822 - mean_absolute_error: 20.9087 - val_loss: 448.4392 - val_mean_squared_error: 448.4392 - val_mean_absolute_error: 19.2890\n",
            "Epoch 2/75\n",
            "404/404 [==============================] - 0s 197us/sample - loss: 279.2920 - mean_squared_error: 279.2920 - mean_absolute_error: 14.3654 - val_loss: 133.1119 - val_mean_squared_error: 133.1119 - val_mean_absolute_error: 9.7888\n",
            "Epoch 3/75\n",
            "404/404 [==============================] - 0s 197us/sample - loss: 70.4708 - mean_squared_error: 70.4708 - mean_absolute_error: 6.2057 - val_loss: 44.6072 - val_mean_squared_error: 44.6072 - val_mean_absolute_error: 5.3316\n",
            "Epoch 4/75\n",
            "404/404 [==============================] - 0s 203us/sample - loss: 34.9785 - mean_squared_error: 34.9785 - mean_absolute_error: 4.0429 - val_loss: 29.6334 - val_mean_squared_error: 29.6334 - val_mean_absolute_error: 4.2938\n",
            "Epoch 5/75\n",
            "404/404 [==============================] - 0s 209us/sample - loss: 25.5737 - mean_squared_error: 25.5737 - mean_absolute_error: 3.4957 - val_loss: 26.0469 - val_mean_squared_error: 26.0469 - val_mean_absolute_error: 3.9398\n",
            "Epoch 6/75\n",
            "404/404 [==============================] - 0s 193us/sample - loss: 21.9651 - mean_squared_error: 21.9651 - mean_absolute_error: 3.1717 - val_loss: 24.4555 - val_mean_squared_error: 24.4555 - val_mean_absolute_error: 3.8315\n",
            "Epoch 7/75\n",
            "404/404 [==============================] - 0s 203us/sample - loss: 19.5272 - mean_squared_error: 19.5272 - mean_absolute_error: 3.0262 - val_loss: 23.3816 - val_mean_squared_error: 23.3816 - val_mean_absolute_error: 3.6661\n",
            "Epoch 8/75\n",
            "404/404 [==============================] - 0s 225us/sample - loss: 17.9103 - mean_squared_error: 17.9103 - mean_absolute_error: 2.9067 - val_loss: 23.6676 - val_mean_squared_error: 23.6676 - val_mean_absolute_error: 3.6233\n",
            "Epoch 9/75\n",
            "404/404 [==============================] - 0s 188us/sample - loss: 16.2484 - mean_squared_error: 16.2484 - mean_absolute_error: 2.7617 - val_loss: 22.9925 - val_mean_squared_error: 22.9925 - val_mean_absolute_error: 3.5161\n",
            "Epoch 10/75\n",
            "404/404 [==============================] - 0s 195us/sample - loss: 15.0158 - mean_squared_error: 15.0158 - mean_absolute_error: 2.6737 - val_loss: 22.9908 - val_mean_squared_error: 22.9908 - val_mean_absolute_error: 3.4814\n",
            "Epoch 11/75\n",
            "404/404 [==============================] - 0s 186us/sample - loss: 13.8965 - mean_squared_error: 13.8965 - mean_absolute_error: 2.6276 - val_loss: 24.3200 - val_mean_squared_error: 24.3200 - val_mean_absolute_error: 3.5631\n",
            "Epoch 12/75\n",
            "404/404 [==============================] - 0s 219us/sample - loss: 13.0844 - mean_squared_error: 13.0844 - mean_absolute_error: 2.5648 - val_loss: 23.7815 - val_mean_squared_error: 23.7815 - val_mean_absolute_error: 3.4337\n",
            "Epoch 13/75\n",
            "404/404 [==============================] - 0s 195us/sample - loss: 12.4530 - mean_squared_error: 12.4530 - mean_absolute_error: 2.5108 - val_loss: 23.2238 - val_mean_squared_error: 23.2238 - val_mean_absolute_error: 3.3938\n",
            "Epoch 14/75\n",
            "404/404 [==============================] - 0s 201us/sample - loss: 11.9394 - mean_squared_error: 11.9394 - mean_absolute_error: 2.4464 - val_loss: 24.2640 - val_mean_squared_error: 24.2640 - val_mean_absolute_error: 3.4099\n",
            "Epoch 15/75\n",
            "404/404 [==============================] - 0s 217us/sample - loss: 11.6549 - mean_squared_error: 11.6549 - mean_absolute_error: 2.4099 - val_loss: 23.6588 - val_mean_squared_error: 23.6588 - val_mean_absolute_error: 3.3447\n",
            "Epoch 16/75\n",
            "404/404 [==============================] - 0s 189us/sample - loss: 11.1939 - mean_squared_error: 11.1939 - mean_absolute_error: 2.3904 - val_loss: 23.8259 - val_mean_squared_error: 23.8259 - val_mean_absolute_error: 3.3195\n",
            "Epoch 17/75\n",
            "404/404 [==============================] - 0s 184us/sample - loss: 10.8146 - mean_squared_error: 10.8146 - mean_absolute_error: 2.3327 - val_loss: 23.9492 - val_mean_squared_error: 23.9492 - val_mean_absolute_error: 3.3235\n",
            "Epoch 18/75\n",
            "404/404 [==============================] - 0s 205us/sample - loss: 10.5537 - mean_squared_error: 10.5537 - mean_absolute_error: 2.2959 - val_loss: 24.6785 - val_mean_squared_error: 24.6785 - val_mean_absolute_error: 3.3392\n",
            "Epoch 19/75\n",
            "404/404 [==============================] - 0s 190us/sample - loss: 10.3916 - mean_squared_error: 10.3916 - mean_absolute_error: 2.3202 - val_loss: 24.4312 - val_mean_squared_error: 24.4312 - val_mean_absolute_error: 3.3045\n",
            "Epoch 20/75\n",
            "404/404 [==============================] - 0s 190us/sample - loss: 10.0554 - mean_squared_error: 10.0554 - mean_absolute_error: 2.2615 - val_loss: 23.3809 - val_mean_squared_error: 23.3809 - val_mean_absolute_error: 3.2297\n",
            "Epoch 21/75\n",
            "404/404 [==============================] - 0s 197us/sample - loss: 9.8519 - mean_squared_error: 9.8519 - mean_absolute_error: 2.2379 - val_loss: 25.7162 - val_mean_squared_error: 25.7162 - val_mean_absolute_error: 3.3352\n",
            "Epoch 22/75\n",
            "404/404 [==============================] - 0s 205us/sample - loss: 9.7802 - mean_squared_error: 9.7802 - mean_absolute_error: 2.2858 - val_loss: 22.6376 - val_mean_squared_error: 22.6376 - val_mean_absolute_error: 3.1435\n",
            "Epoch 23/75\n",
            "404/404 [==============================] - 0s 227us/sample - loss: 9.5262 - mean_squared_error: 9.5262 - mean_absolute_error: 2.1990 - val_loss: 25.0522 - val_mean_squared_error: 25.0523 - val_mean_absolute_error: 3.2672\n",
            "Epoch 24/75\n",
            "404/404 [==============================] - 0s 205us/sample - loss: 9.4581 - mean_squared_error: 9.4581 - mean_absolute_error: 2.1993 - val_loss: 24.0945 - val_mean_squared_error: 24.0945 - val_mean_absolute_error: 3.2258\n",
            "Epoch 25/75\n",
            "404/404 [==============================] - 0s 209us/sample - loss: 9.3481 - mean_squared_error: 9.3481 - mean_absolute_error: 2.1830 - val_loss: 23.0308 - val_mean_squared_error: 23.0308 - val_mean_absolute_error: 3.1397\n",
            "Epoch 26/75\n",
            "404/404 [==============================] - 0s 213us/sample - loss: 9.0517 - mean_squared_error: 9.0517 - mean_absolute_error: 2.1569 - val_loss: 22.8805 - val_mean_squared_error: 22.8805 - val_mean_absolute_error: 3.1111\n",
            "Epoch 27/75\n",
            "404/404 [==============================] - 0s 198us/sample - loss: 9.1052 - mean_squared_error: 9.1052 - mean_absolute_error: 2.1505 - val_loss: 23.4231 - val_mean_squared_error: 23.4231 - val_mean_absolute_error: 3.1465\n",
            "Epoch 28/75\n",
            "404/404 [==============================] - 0s 213us/sample - loss: 8.9974 - mean_squared_error: 8.9974 - mean_absolute_error: 2.1421 - val_loss: 21.5304 - val_mean_squared_error: 21.5304 - val_mean_absolute_error: 3.0106\n",
            "Epoch 29/75\n",
            "404/404 [==============================] - 0s 209us/sample - loss: 8.7558 - mean_squared_error: 8.7558 - mean_absolute_error: 2.1160 - val_loss: 22.4467 - val_mean_squared_error: 22.4467 - val_mean_absolute_error: 3.0331\n",
            "Epoch 30/75\n",
            "404/404 [==============================] - 0s 197us/sample - loss: 8.6463 - mean_squared_error: 8.6463 - mean_absolute_error: 2.0796 - val_loss: 23.1099 - val_mean_squared_error: 23.1099 - val_mean_absolute_error: 3.0999\n",
            "Epoch 31/75\n",
            "404/404 [==============================] - 0s 218us/sample - loss: 8.5603 - mean_squared_error: 8.5603 - mean_absolute_error: 2.0872 - val_loss: 22.8665 - val_mean_squared_error: 22.8665 - val_mean_absolute_error: 3.0825\n",
            "Epoch 32/75\n",
            "404/404 [==============================] - 0s 198us/sample - loss: 8.4851 - mean_squared_error: 8.4851 - mean_absolute_error: 2.0772 - val_loss: 21.7651 - val_mean_squared_error: 21.7651 - val_mean_absolute_error: 2.9597\n",
            "Epoch 33/75\n",
            "404/404 [==============================] - 0s 200us/sample - loss: 8.3159 - mean_squared_error: 8.3159 - mean_absolute_error: 2.0507 - val_loss: 22.3865 - val_mean_squared_error: 22.3865 - val_mean_absolute_error: 3.0164\n",
            "Epoch 34/75\n",
            "404/404 [==============================] - 0s 202us/sample - loss: 8.3204 - mean_squared_error: 8.3204 - mean_absolute_error: 2.0658 - val_loss: 21.8807 - val_mean_squared_error: 21.8807 - val_mean_absolute_error: 2.9971\n",
            "Epoch 35/75\n",
            "404/404 [==============================] - 0s 190us/sample - loss: 8.3468 - mean_squared_error: 8.3468 - mean_absolute_error: 2.0371 - val_loss: 21.5191 - val_mean_squared_error: 21.5191 - val_mean_absolute_error: 3.0443\n",
            "Epoch 36/75\n",
            "404/404 [==============================] - 0s 187us/sample - loss: 8.0042 - mean_squared_error: 8.0042 - mean_absolute_error: 2.0063 - val_loss: 21.2195 - val_mean_squared_error: 21.2195 - val_mean_absolute_error: 2.9499\n",
            "Epoch 37/75\n",
            "404/404 [==============================] - 0s 199us/sample - loss: 8.0711 - mean_squared_error: 8.0711 - mean_absolute_error: 2.0091 - val_loss: 22.5854 - val_mean_squared_error: 22.5854 - val_mean_absolute_error: 3.0820\n",
            "Epoch 38/75\n",
            "404/404 [==============================] - 0s 208us/sample - loss: 8.1639 - mean_squared_error: 8.1639 - mean_absolute_error: 2.0504 - val_loss: 21.8175 - val_mean_squared_error: 21.8175 - val_mean_absolute_error: 2.9578\n",
            "Epoch 39/75\n",
            "404/404 [==============================] - 0s 208us/sample - loss: 7.6718 - mean_squared_error: 7.6718 - mean_absolute_error: 1.9983 - val_loss: 20.0369 - val_mean_squared_error: 20.0369 - val_mean_absolute_error: 2.8653\n",
            "Epoch 40/75\n",
            "404/404 [==============================] - 0s 198us/sample - loss: 7.6135 - mean_squared_error: 7.6135 - mean_absolute_error: 1.9695 - val_loss: 21.1260 - val_mean_squared_error: 21.1260 - val_mean_absolute_error: 2.9456\n",
            "Epoch 41/75\n",
            "404/404 [==============================] - 0s 195us/sample - loss: 7.5636 - mean_squared_error: 7.5636 - mean_absolute_error: 1.9697 - val_loss: 19.8182 - val_mean_squared_error: 19.8182 - val_mean_absolute_error: 2.8343\n",
            "Epoch 42/75\n",
            "404/404 [==============================] - 0s 207us/sample - loss: 7.4796 - mean_squared_error: 7.4796 - mean_absolute_error: 1.9598 - val_loss: 20.7984 - val_mean_squared_error: 20.7984 - val_mean_absolute_error: 3.0243\n",
            "Epoch 43/75\n",
            "404/404 [==============================] - 0s 187us/sample - loss: 7.4216 - mean_squared_error: 7.4216 - mean_absolute_error: 1.9422 - val_loss: 20.0307 - val_mean_squared_error: 20.0307 - val_mean_absolute_error: 2.8432\n",
            "Epoch 44/75\n",
            "404/404 [==============================] - 0s 184us/sample - loss: 7.2603 - mean_squared_error: 7.2603 - mean_absolute_error: 1.9195 - val_loss: 19.8099 - val_mean_squared_error: 19.8099 - val_mean_absolute_error: 2.8628\n",
            "Epoch 45/75\n",
            "404/404 [==============================] - 0s 196us/sample - loss: 7.2966 - mean_squared_error: 7.2966 - mean_absolute_error: 1.9181 - val_loss: 21.0548 - val_mean_squared_error: 21.0548 - val_mean_absolute_error: 2.8918\n",
            "Epoch 46/75\n",
            "404/404 [==============================] - 0s 209us/sample - loss: 7.3038 - mean_squared_error: 7.3038 - mean_absolute_error: 1.9299 - val_loss: 19.1997 - val_mean_squared_error: 19.1997 - val_mean_absolute_error: 2.8123\n",
            "Epoch 47/75\n",
            "404/404 [==============================] - 0s 193us/sample - loss: 7.0124 - mean_squared_error: 7.0124 - mean_absolute_error: 1.9155 - val_loss: 20.1700 - val_mean_squared_error: 20.1700 - val_mean_absolute_error: 2.8612\n",
            "Epoch 48/75\n",
            "404/404 [==============================] - 0s 217us/sample - loss: 7.0699 - mean_squared_error: 7.0699 - mean_absolute_error: 1.9015 - val_loss: 19.8186 - val_mean_squared_error: 19.8186 - val_mean_absolute_error: 2.8136\n",
            "Epoch 49/75\n",
            "404/404 [==============================] - 0s 198us/sample - loss: 7.0469 - mean_squared_error: 7.0469 - mean_absolute_error: 1.9158 - val_loss: 18.8772 - val_mean_squared_error: 18.8772 - val_mean_absolute_error: 2.7646\n",
            "Epoch 50/75\n",
            "404/404 [==============================] - 0s 199us/sample - loss: 6.7674 - mean_squared_error: 6.7674 - mean_absolute_error: 1.8485 - val_loss: 19.1711 - val_mean_squared_error: 19.1712 - val_mean_absolute_error: 2.7823\n",
            "Epoch 51/75\n",
            "404/404 [==============================] - 0s 206us/sample - loss: 6.8181 - mean_squared_error: 6.8181 - mean_absolute_error: 1.8772 - val_loss: 18.9319 - val_mean_squared_error: 18.9319 - val_mean_absolute_error: 2.7668\n",
            "Epoch 52/75\n",
            "404/404 [==============================] - 0s 203us/sample - loss: 6.7040 - mean_squared_error: 6.7040 - mean_absolute_error: 1.8704 - val_loss: 18.6761 - val_mean_squared_error: 18.6761 - val_mean_absolute_error: 2.8234\n",
            "Epoch 53/75\n",
            "404/404 [==============================] - 0s 217us/sample - loss: 6.9301 - mean_squared_error: 6.9301 - mean_absolute_error: 1.8911 - val_loss: 19.3248 - val_mean_squared_error: 19.3248 - val_mean_absolute_error: 2.7937\n",
            "Epoch 54/75\n",
            "404/404 [==============================] - 0s 197us/sample - loss: 6.6196 - mean_squared_error: 6.6196 - mean_absolute_error: 1.8513 - val_loss: 19.0402 - val_mean_squared_error: 19.0402 - val_mean_absolute_error: 2.8133\n",
            "Epoch 55/75\n",
            "404/404 [==============================] - 0s 197us/sample - loss: 6.4825 - mean_squared_error: 6.4825 - mean_absolute_error: 1.8080 - val_loss: 18.4770 - val_mean_squared_error: 18.4770 - val_mean_absolute_error: 2.7600\n",
            "Epoch 56/75\n",
            "404/404 [==============================] - 0s 200us/sample - loss: 6.3515 - mean_squared_error: 6.3515 - mean_absolute_error: 1.8041 - val_loss: 18.7435 - val_mean_squared_error: 18.7435 - val_mean_absolute_error: 2.8139\n",
            "Epoch 57/75\n",
            "404/404 [==============================] - 0s 185us/sample - loss: 6.3449 - mean_squared_error: 6.3449 - mean_absolute_error: 1.8118 - val_loss: 19.7807 - val_mean_squared_error: 19.7807 - val_mean_absolute_error: 2.8459\n",
            "Epoch 58/75\n",
            "404/404 [==============================] - 0s 201us/sample - loss: 6.5676 - mean_squared_error: 6.5676 - mean_absolute_error: 1.7929 - val_loss: 21.3992 - val_mean_squared_error: 21.3992 - val_mean_absolute_error: 2.9110\n",
            "Epoch 59/75\n",
            "404/404 [==============================] - 0s 202us/sample - loss: 6.4301 - mean_squared_error: 6.4301 - mean_absolute_error: 1.8231 - val_loss: 18.3983 - val_mean_squared_error: 18.3983 - val_mean_absolute_error: 2.7162\n",
            "Epoch 60/75\n",
            "404/404 [==============================] - 0s 189us/sample - loss: 6.1460 - mean_squared_error: 6.1460 - mean_absolute_error: 1.7686 - val_loss: 18.6422 - val_mean_squared_error: 18.6422 - val_mean_absolute_error: 2.7041\n",
            "Epoch 61/75\n",
            "404/404 [==============================] - 0s 210us/sample - loss: 6.1581 - mean_squared_error: 6.1581 - mean_absolute_error: 1.7522 - val_loss: 18.0504 - val_mean_squared_error: 18.0504 - val_mean_absolute_error: 2.7271\n",
            "Epoch 62/75\n",
            "404/404 [==============================] - 0s 198us/sample - loss: 6.1727 - mean_squared_error: 6.1727 - mean_absolute_error: 1.7725 - val_loss: 18.0622 - val_mean_squared_error: 18.0622 - val_mean_absolute_error: 2.7318\n",
            "Epoch 63/75\n",
            "404/404 [==============================] - 0s 194us/sample - loss: 6.0609 - mean_squared_error: 6.0609 - mean_absolute_error: 1.7443 - val_loss: 18.0277 - val_mean_squared_error: 18.0277 - val_mean_absolute_error: 2.7456\n",
            "Epoch 64/75\n",
            "404/404 [==============================] - 0s 196us/sample - loss: 5.8618 - mean_squared_error: 5.8618 - mean_absolute_error: 1.7206 - val_loss: 19.1336 - val_mean_squared_error: 19.1336 - val_mean_absolute_error: 2.7775\n",
            "Epoch 65/75\n",
            "404/404 [==============================] - 0s 227us/sample - loss: 5.8958 - mean_squared_error: 5.8958 - mean_absolute_error: 1.7500 - val_loss: 18.0506 - val_mean_squared_error: 18.0506 - val_mean_absolute_error: 2.7213\n",
            "Epoch 66/75\n",
            "404/404 [==============================] - 0s 196us/sample - loss: 5.8072 - mean_squared_error: 5.8072 - mean_absolute_error: 1.7252 - val_loss: 18.0297 - val_mean_squared_error: 18.0297 - val_mean_absolute_error: 2.7060\n",
            "Epoch 67/75\n",
            "404/404 [==============================] - 0s 199us/sample - loss: 5.7258 - mean_squared_error: 5.7258 - mean_absolute_error: 1.6844 - val_loss: 18.5137 - val_mean_squared_error: 18.5137 - val_mean_absolute_error: 2.7221\n",
            "Epoch 68/75\n",
            "404/404 [==============================] - 0s 186us/sample - loss: 5.9237 - mean_squared_error: 5.9237 - mean_absolute_error: 1.7358 - val_loss: 19.1791 - val_mean_squared_error: 19.1791 - val_mean_absolute_error: 2.8028\n",
            "Epoch 69/75\n",
            "404/404 [==============================] - 0s 185us/sample - loss: 5.5065 - mean_squared_error: 5.5065 - mean_absolute_error: 1.6911 - val_loss: 17.6168 - val_mean_squared_error: 17.6168 - val_mean_absolute_error: 2.7183\n",
            "Epoch 70/75\n",
            "404/404 [==============================] - 0s 174us/sample - loss: 5.7799 - mean_squared_error: 5.7799 - mean_absolute_error: 1.7454 - val_loss: 17.2710 - val_mean_squared_error: 17.2710 - val_mean_absolute_error: 2.6597\n",
            "Epoch 71/75\n",
            "404/404 [==============================] - 0s 201us/sample - loss: 5.8842 - mean_squared_error: 5.8842 - mean_absolute_error: 1.7176 - val_loss: 17.3130 - val_mean_squared_error: 17.3130 - val_mean_absolute_error: 2.6822\n",
            "Epoch 72/75\n",
            "404/404 [==============================] - 0s 187us/sample - loss: 5.7115 - mean_squared_error: 5.7115 - mean_absolute_error: 1.7138 - val_loss: 17.8533 - val_mean_squared_error: 17.8533 - val_mean_absolute_error: 2.7187\n",
            "Epoch 73/75\n",
            "404/404 [==============================] - 0s 225us/sample - loss: 5.6204 - mean_squared_error: 5.6204 - mean_absolute_error: 1.6580 - val_loss: 16.8197 - val_mean_squared_error: 16.8197 - val_mean_absolute_error: 2.6286\n",
            "Epoch 74/75\n",
            "404/404 [==============================] - 0s 199us/sample - loss: 5.5775 - mean_squared_error: 5.5775 - mean_absolute_error: 1.7199 - val_loss: 17.6414 - val_mean_squared_error: 17.6414 - val_mean_absolute_error: 2.7105\n",
            "Epoch 75/75\n",
            "404/404 [==============================] - 0s 198us/sample - loss: 5.4081 - mean_squared_error: 5.4081 - mean_absolute_error: 1.6910 - val_loss: 16.9510 - val_mean_squared_error: 16.9510 - val_mean_absolute_error: 2.6694\n"
          ],
          "name": "stdout"
        },
        {
          "output_type": "execute_result",
          "data": {
            "text/plain": [
              "<tensorflow.python.keras.callbacks.History at 0x7f5313302cf8>"
            ]
          },
          "metadata": {
            "tags": []
          },
          "execution_count": 3
        }
      ]
    },
    {
      "cell_type": "code",
      "metadata": {
        "id": "fml-Wy4kk-q9",
        "colab_type": "code",
        "colab": {
          "base_uri": "https://localhost:8080/",
          "height": 102
        },
        "outputId": "163b5f67-f475-41be-ff76-5154bdf5bd14"
      },
      "source": [
        "y_test[:50]"
      ],
      "execution_count": 9,
      "outputs": [
        {
          "output_type": "execute_result",
          "data": {
            "text/plain": [
              "array([ 7.2, 18.8, 19. , 27. , 22.2, 24.5, 31.2, 22.9, 20.5, 23.2, 18.6,\n",
              "       14.5, 17.8, 50. , 20.8, 24.3, 24.2, 19.8, 19.1, 22.7, 12. , 10.2,\n",
              "       20. , 18.5, 20.9, 23. , 27.5, 30.1,  9.5, 22. , 21.2, 14.1, 33.1,\n",
              "       23.4, 20.1,  7.4, 15.4, 23.8, 20.1, 24.5, 33. , 28.4, 14.1, 46.7,\n",
              "       32.5, 29.6, 28.4, 19.8, 20.2, 25. ])"
            ]
          },
          "metadata": {
            "tags": []
          },
          "execution_count": 9
        }
      ]
    },
    {
      "cell_type": "code",
      "metadata": {
        "id": "f5BLzkcBk-TQ",
        "colab_type": "code",
        "colab": {
          "base_uri": "https://localhost:8080/",
          "height": 71
        },
        "outputId": "5eacef67-8a8a-40b8-8132-5a499922eba4"
      },
      "source": [
        "sum(y_test)/len(y_test)\n",
        "scores = model.evaluate(x_test,y_test)\n",
        "print(f\"{model.metrics_names[1]}: {scores[1]*100}\")"
      ],
      "execution_count": 15,
      "outputs": [
        {
          "output_type": "stream",
          "text": [
            "102/102 [==============================] - 0s 148us/sample - loss: 16.9510 - mean_squared_error: 16.9510 - mean_absolute_error: 2.6694\n",
            "mean_squared_error: 1695.1021194458008\n"
          ],
          "name": "stdout"
        }
      ]
    },
    {
      "cell_type": "code",
      "metadata": {
        "id": "HahjrOIyiMP1",
        "colab_type": "code",
        "colab": {}
      },
      "source": [
        "#Use the history object that is returned from model.fit to make graphs of the model's loss or train/validation accuracies by epoch.\n",
        "#not sure on that one^^\n",
        "#linear regression model\n",
        "\n",
        "#im not feature engineering\n",
        "\n"
      ],
      "execution_count": 0,
      "outputs": []
    },
    {
      "cell_type": "code",
      "metadata": {
        "id": "lwDjcvcjkJe1",
        "colab_type": "code",
        "colab": {}
      },
      "source": [
        "import numpy\n",
        "import pandas as pd\n",
        "from sklearn.model_selection import GridSearchCV\n",
        "from tensorflow.keras.models import Sequential\n",
        "from tensorflow.keras.layers import Dense\n",
        "from tensorflow.keras.wrappers.scikit_learn import KerasClassifier"
      ],
      "execution_count": 0,
      "outputs": []
    },
    {
      "cell_type": "code",
      "metadata": {
        "id": "lGS2-OxAh-Xs",
        "colab_type": "code",
        "colab": {
          "base_uri": "https://localhost:8080/",
          "height": 394
        },
        "outputId": "23f13478-0fc8-44cf-b16d-afb00fa0147c"
      },
      "source": [
        "#Hyperparamter tuning\n",
        "#could be attempted with grid search\n",
        "# define the grid search parameters\n",
        "param_grid = {'batch_size': [10, 20, 40, 60, 80, 100],\n",
        "              'epochs': [20]}\n",
        "\n",
        "# Create Grid Search\n",
        "grid = GridSearchCV(estimator=model, param_grid=param_grid, n_jobs=1)\n",
        "grid_result = grid.fit(x_test, y_test)\n",
        "\n",
        "# Report Results\n",
        "print(f\"Best: {grid_result.best_score_} using {grid_result.best_params_}\")\n",
        "means = grid_result.cv_results_['mean_test_score']\n",
        "stds = grid_result.cv_results_['std_test_score']\n",
        "params = grid_result.cv_results_['params']\n",
        "for mean, stdev, param in zip(means, stds, params):\n",
        "    print(f\"Means: {mean}, Stdev: {stdev} with: {param}\")"
      ],
      "execution_count": 16,
      "outputs": [
        {
          "output_type": "error",
          "ename": "TypeError",
          "evalue": "ignored",
          "traceback": [
            "\u001b[0;31m---------------------------------------------------------------------------\u001b[0m",
            "\u001b[0;31mTypeError\u001b[0m                                 Traceback (most recent call last)",
            "\u001b[0;32m<ipython-input-16-c42904584383>\u001b[0m in \u001b[0;36m<module>\u001b[0;34m()\u001b[0m\n\u001b[1;32m      4\u001b[0m \u001b[0;31m# Create Grid Search\u001b[0m\u001b[0;34m\u001b[0m\u001b[0;34m\u001b[0m\u001b[0;34m\u001b[0m\u001b[0m\n\u001b[1;32m      5\u001b[0m \u001b[0mgrid\u001b[0m \u001b[0;34m=\u001b[0m \u001b[0mGridSearchCV\u001b[0m\u001b[0;34m(\u001b[0m\u001b[0mestimator\u001b[0m\u001b[0;34m=\u001b[0m\u001b[0mmodel\u001b[0m\u001b[0;34m,\u001b[0m \u001b[0mparam_grid\u001b[0m\u001b[0;34m=\u001b[0m\u001b[0mparam_grid\u001b[0m\u001b[0;34m,\u001b[0m \u001b[0mn_jobs\u001b[0m\u001b[0;34m=\u001b[0m\u001b[0;36m1\u001b[0m\u001b[0;34m)\u001b[0m\u001b[0;34m\u001b[0m\u001b[0;34m\u001b[0m\u001b[0m\n\u001b[0;32m----> 6\u001b[0;31m \u001b[0mgrid_result\u001b[0m \u001b[0;34m=\u001b[0m \u001b[0mgrid\u001b[0m\u001b[0;34m.\u001b[0m\u001b[0mfit\u001b[0m\u001b[0;34m(\u001b[0m\u001b[0mx_test\u001b[0m\u001b[0;34m,\u001b[0m \u001b[0my_test\u001b[0m\u001b[0;34m)\u001b[0m\u001b[0;34m\u001b[0m\u001b[0;34m\u001b[0m\u001b[0m\n\u001b[0m\u001b[1;32m      7\u001b[0m \u001b[0;34m\u001b[0m\u001b[0m\n\u001b[1;32m      8\u001b[0m \u001b[0;31m# Report Results\u001b[0m\u001b[0;34m\u001b[0m\u001b[0;34m\u001b[0m\u001b[0;34m\u001b[0m\u001b[0m\n",
            "\u001b[0;32m/usr/local/lib/python3.6/dist-packages/sklearn/model_selection/_search.py\u001b[0m in \u001b[0;36mfit\u001b[0;34m(self, X, y, groups, **fit_params)\u001b[0m\n\u001b[1;32m    627\u001b[0m \u001b[0;34m\u001b[0m\u001b[0m\n\u001b[1;32m    628\u001b[0m         scorers, self.multimetric_ = _check_multimetric_scoring(\n\u001b[0;32m--> 629\u001b[0;31m             self.estimator, scoring=self.scoring)\n\u001b[0m\u001b[1;32m    630\u001b[0m \u001b[0;34m\u001b[0m\u001b[0m\n\u001b[1;32m    631\u001b[0m         \u001b[0;32mif\u001b[0m \u001b[0mself\u001b[0m\u001b[0;34m.\u001b[0m\u001b[0mmultimetric_\u001b[0m\u001b[0;34m:\u001b[0m\u001b[0;34m\u001b[0m\u001b[0;34m\u001b[0m\u001b[0m\n",
            "\u001b[0;32m/usr/local/lib/python3.6/dist-packages/sklearn/metrics/_scorer.py\u001b[0m in \u001b[0;36m_check_multimetric_scoring\u001b[0;34m(estimator, scoring)\u001b[0m\n\u001b[1;32m    471\u001b[0m     if callable(scoring) or scoring is None or isinstance(scoring,\n\u001b[1;32m    472\u001b[0m                                                           str):\n\u001b[0;32m--> 473\u001b[0;31m         \u001b[0mscorers\u001b[0m \u001b[0;34m=\u001b[0m \u001b[0;34m{\u001b[0m\u001b[0;34m\"score\"\u001b[0m\u001b[0;34m:\u001b[0m \u001b[0mcheck_scoring\u001b[0m\u001b[0;34m(\u001b[0m\u001b[0mestimator\u001b[0m\u001b[0;34m,\u001b[0m \u001b[0mscoring\u001b[0m\u001b[0;34m=\u001b[0m\u001b[0mscoring\u001b[0m\u001b[0;34m)\u001b[0m\u001b[0;34m}\u001b[0m\u001b[0;34m\u001b[0m\u001b[0;34m\u001b[0m\u001b[0m\n\u001b[0m\u001b[1;32m    474\u001b[0m         \u001b[0;32mreturn\u001b[0m \u001b[0mscorers\u001b[0m\u001b[0;34m,\u001b[0m \u001b[0;32mFalse\u001b[0m\u001b[0;34m\u001b[0m\u001b[0;34m\u001b[0m\u001b[0m\n\u001b[1;32m    475\u001b[0m     \u001b[0;32melse\u001b[0m\u001b[0;34m:\u001b[0m\u001b[0;34m\u001b[0m\u001b[0;34m\u001b[0m\u001b[0m\n",
            "\u001b[0;32m/usr/local/lib/python3.6/dist-packages/sklearn/metrics/_scorer.py\u001b[0m in \u001b[0;36mcheck_scoring\u001b[0;34m(estimator, scoring, allow_none)\u001b[0m\n\u001b[1;32m    424\u001b[0m                 \u001b[0;34m\"If no scoring is specified, the estimator passed should \"\u001b[0m\u001b[0;34m\u001b[0m\u001b[0;34m\u001b[0m\u001b[0m\n\u001b[1;32m    425\u001b[0m                 \u001b[0;34m\"have a 'score' method. The estimator %r does not.\"\u001b[0m\u001b[0;34m\u001b[0m\u001b[0;34m\u001b[0m\u001b[0m\n\u001b[0;32m--> 426\u001b[0;31m                 % estimator)\n\u001b[0m\u001b[1;32m    427\u001b[0m     \u001b[0;32melif\u001b[0m \u001b[0misinstance\u001b[0m\u001b[0;34m(\u001b[0m\u001b[0mscoring\u001b[0m\u001b[0;34m,\u001b[0m \u001b[0mIterable\u001b[0m\u001b[0;34m)\u001b[0m\u001b[0;34m:\u001b[0m\u001b[0;34m\u001b[0m\u001b[0;34m\u001b[0m\u001b[0m\n\u001b[1;32m    428\u001b[0m         raise ValueError(\"For evaluating multiple scores, use \"\n",
            "\u001b[0;31mTypeError\u001b[0m: If no scoring is specified, the estimator passed should have a 'score' method. The estimator <tensorflow.python.keras.engine.sequential.Sequential object at 0x7f5373df7a58> does not."
          ]
        }
      ]
    },
    {
      "cell_type": "code",
      "metadata": {
        "id": "r3qE4RgHmLT1",
        "colab_type": "code",
        "colab": {
          "base_uri": "https://localhost:8080/",
          "height": 462
        },
        "outputId": "d765f017-1c52-439b-f516-8824bc8865ba"
      },
      "source": [
        "#instead just going to work on using a better model\n",
        "model_2 = Sequential(name=\"3LayerJunk\")\n",
        "model_2.add(Dense(24, activation='relu', input_shape=(inputs,)))\n",
        "model_2.add(Dense(24, activation='relu'))\n",
        "model_2.add(Dense(1))\n",
        "model_2.add(Dense(8, input_dim=8, activation='relu', name=\"Dense1\"))\n",
        "model_2.add(Dense(8, activation='relu'))\n",
        "model_2.add(Dense(8, activation='relu'))\n",
        "model_2.add(Dense(1, activation='sigmoid'))\n",
        "\n",
        "model_2.compile(loss='binary_crossentropy', optimizer='adam',\n",
        "              metrics=['accuracy'])\n",
        "\n",
        "# Let's inspect our new architecture\n",
        "model_2.summary()"
      ],
      "execution_count": 19,
      "outputs": [
        {
          "output_type": "stream",
          "text": [
            "WARNING:tensorflow:From /usr/local/lib/python3.6/dist-packages/tensorflow_core/python/ops/nn_impl.py:183: where (from tensorflow.python.ops.array_ops) is deprecated and will be removed in a future version.\n",
            "Instructions for updating:\n",
            "Use tf.where in 2.0, which has the same broadcast rule as np.where\n",
            "Model: \"3LayerJunk\"\n",
            "_________________________________________________________________\n",
            "Layer (type)                 Output Shape              Param #   \n",
            "=================================================================\n",
            "dense_15 (Dense)             (None, 24)                336       \n",
            "_________________________________________________________________\n",
            "dense_16 (Dense)             (None, 24)                600       \n",
            "_________________________________________________________________\n",
            "dense_17 (Dense)             (None, 1)                 25        \n",
            "_________________________________________________________________\n",
            "Dense1 (Dense)               (None, 8)                 16        \n",
            "_________________________________________________________________\n",
            "dense_18 (Dense)             (None, 8)                 72        \n",
            "_________________________________________________________________\n",
            "dense_19 (Dense)             (None, 8)                 72        \n",
            "_________________________________________________________________\n",
            "dense_20 (Dense)             (None, 1)                 9         \n",
            "=================================================================\n",
            "Total params: 1,130\n",
            "Trainable params: 1,130\n",
            "Non-trainable params: 0\n",
            "_________________________________________________________________\n"
          ],
          "name": "stdout"
        }
      ]
    },
    {
      "cell_type": "code",
      "metadata": {
        "id": "ZYRYz68anqaf",
        "colab_type": "code",
        "colab": {
          "base_uri": "https://localhost:8080/",
          "height": 561
        },
        "outputId": "453c9a45-acf0-4d2c-e760-e9efc39d2f38"
      },
      "source": [
        "model_2model_improved.fit(X, y, epochs=150, verbose=False) # What parameters can I specify here?.fit(x_train, y_train, epochs=30, verbose=5) # What parameters can I specify here?"
      ],
      "execution_count": 20,
      "outputs": [
        {
          "output_type": "stream",
          "text": [
            "Train on 404 samples\n",
            "Epoch 1/30\n",
            "Epoch 2/30\n",
            "Epoch 3/30\n",
            "Epoch 4/30\n",
            "Epoch 5/30\n",
            "Epoch 6/30\n",
            "Epoch 7/30\n",
            "Epoch 8/30\n",
            "Epoch 9/30\n",
            "Epoch 10/30\n",
            "Epoch 11/30\n",
            "Epoch 12/30\n",
            "Epoch 13/30\n",
            "Epoch 14/30\n",
            "Epoch 15/30\n",
            "Epoch 16/30\n",
            "Epoch 17/30\n",
            "Epoch 18/30\n",
            "Epoch 19/30\n",
            "Epoch 20/30\n",
            "Epoch 21/30\n",
            "Epoch 22/30\n",
            "Epoch 23/30\n",
            "Epoch 24/30\n",
            "Epoch 25/30\n",
            "Epoch 26/30\n",
            "Epoch 27/30\n",
            "Epoch 28/30\n",
            "Epoch 29/30\n",
            "Epoch 30/30\n"
          ],
          "name": "stdout"
        },
        {
          "output_type": "execute_result",
          "data": {
            "text/plain": [
              "<tensorflow.python.keras.callbacks.History at 0x7f5306ba3588>"
            ]
          },
          "metadata": {
            "tags": []
          },
          "execution_count": 20
        }
      ]
    },
    {
      "cell_type": "code",
      "metadata": {
        "id": "Ons01XeIn3WK",
        "colab_type": "code",
        "colab": {
          "base_uri": "https://localhost:8080/",
          "height": 71
        },
        "outputId": "11bc695f-aadd-4d49-aa97-c722a41f0238"
      },
      "source": [
        "scores = model_2.evaluate(x_test,y_test)\n",
        "print(f\"{model_2.metrics_names[1]}: {scores[1]*100}\")"
      ],
      "execution_count": 22,
      "outputs": [
        {
          "output_type": "stream",
          "text": [
            "102/102 [==============================] - 0s 485us/sample - loss: -1125278.4252 - acc: 0.0000e+00\n",
            "acc: 0.0\n"
          ],
          "name": "stdout"
        }
      ]
    },
    {
      "cell_type": "code",
      "metadata": {
        "id": "VRhrMyUhjuOQ",
        "colab_type": "code",
        "colab": {}
      },
      "source": [
        "###minst stuff\n",
        "\n",
        "### Let's do it!\n",
        "from tensorflow import keras \n",
        "from tensorflow.keras.datasets import mnist\n",
        "from tensorflow.keras.models import Sequential\n",
        "from tensorflow.keras.layers import Dense, Dropout\n",
        "\n",
        "import numpy as np\n",
        "\n",
        "mnist_model = Sequential()\n",
        "\n",
        "# Hidden\n",
        "mnist_model.add(Dense(32, input_dim=784, activation='relu'))\n",
        "mnist_model.add(Dropout(0.2))\n",
        "mnist_model.add(Dense(16, activation='relu'))\n",
        "mnist_model.add(Dropout(0.2))\n",
        "# Output Layer\n",
        "mnist_model.add(Dense(10, activation='softmax'))\n",
        "\n",
        "mnist_model.compile(loss='categorical_crossentropy',\n",
        "                    optimizer='adam', \n",
        "                    metrics=['accuracy'])\n",
        "mnist_model.summary()"
      ],
      "execution_count": 0,
      "outputs": []
    }
  ]
}