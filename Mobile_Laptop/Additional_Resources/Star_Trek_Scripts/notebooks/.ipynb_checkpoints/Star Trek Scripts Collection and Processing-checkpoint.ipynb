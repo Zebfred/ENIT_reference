{
 "cells": [
  {
   "cell_type": "markdown",
   "metadata": {},
   "source": [
    "# Star Trek Scripts - Getting the Dialogue and Analysis\n",
    "\n",
    "A webscraping project collecting scripts from all Star Trek series (excl movies).\n",
    "\n",
    "The project collects the data from the curated text on http://www.chakoteya.net/StarTrek/index.html. The raw scripts are then collected using the python requests module and stored in JSON format.\n",
    "\n",
    "This project then processes each script into a further refined dataset by collating each line by each character per episode. This refined dataset is also made available in JSON format.\n",
    "\n",
    "Finally, a sample analysis is provided with the processed data."
   ]
  },
  {
   "cell_type": "code",
   "execution_count": 20,
   "metadata": {
    "collapsed": true
   },
   "outputs": [],
   "source": [
    "import requests\n",
    "import pandas as pd\n",
    "from bs4 import BeautifulSoup\n",
    "import string\n",
    "import re\n",
    "import nltk\n",
    "import json\n",
    "import matplotlib.pyplot as plt"
   ]
  },
  {
   "cell_type": "markdown",
   "metadata": {},
   "source": [
    "## Get the text and cast from an episode\n",
    "\n",
    "To explore the approach, we'll first look at a single episode. In this case, the episode \"What you leave behind\" from Deep Space Nine. The script is here: 'http://www.chakoteya.net/DS9/575.htm'\n",
    "\n",
    "The process uses the following procedures.\n",
    "\n",
    "get_text:     gets the script text from a given url\n",
    "\n",
    "clean_text:   cleans the script text \n",
    "\n",
    "get_cast:     gets the characters from that scrip"
   ]
  },
  {
   "cell_type": "code",
   "execution_count": 21,
   "metadata": {
    "collapsed": true
   },
   "outputs": [],
   "source": [
    "def get_text(url):\n",
    "    response = requests.get(url)\n",
    "    content = response.content\n",
    "    parser = BeautifulSoup(content,'html.parser')\n",
    "    return(parser.text)"
   ]
  },
  {
   "cell_type": "code",
   "execution_count": 192,
   "metadata": {
    "collapsed": true
   },
   "outputs": [],
   "source": [
    "def clean_text(script):\n",
    "    script_clean=script.strip()\n",
    "    script_clean=script_clean.replace(\"\\n\",\"\")\n",
    "    script_clean=script_clean.replace(\"\\r\",\" \")\n",
    "    script_clean=script_clean.replace(\"\\r\\n\",\"\")\n",
    "    script_clean=re.sub(\"([\\(\\[]).*?([\\)\\]])\", \"\", script_clean)\n",
    "    script_clean=re.sub(r'\\.([a-zA-Z])', r'. \\1', script_clean) #remove missing whitespace between character lines.\n",
    "    script_clean=re.sub(r'\\!([a-zA-Z])', r'! \\1', script_clean)\n",
    "    script_clean=re.sub(r'\\?([a-zA-Z])', r'? \\1', script_clean)\n",
    "    return(script_clean)"
   ]
  },
  {
   "cell_type": "code",
   "execution_count": 193,
   "metadata": {
    "collapsed": true
   },
   "outputs": [],
   "source": [
    "def get_cast(script_clean):\n",
    "    tokens=nltk.word_tokenize(script_clean)\n",
    "    cast=[]\n",
    "    for word in tokens:\n",
    "        if re.search(\"\\\\b[A-Z]{3,}\\\\b\", word) is not None:\n",
    "            cast.append(word)\n",
    "    return(list(set(cast)))"
   ]
  },
  {
   "cell_type": "code",
   "execution_count": 194,
   "metadata": {
    "collapsed": true
   },
   "outputs": [],
   "source": [
    "script=get_text('http://www.chakoteya.net/DS9/575.htm')"
   ]
  },
  {
   "cell_type": "code",
   "execution_count": 195,
   "metadata": {
    "collapsed": true
   },
   "outputs": [],
   "source": [
    "script_clean=clean_text(script)"
   ]
  },
  {
   "cell_type": "code",
   "execution_count": 196,
   "metadata": {},
   "outputs": [
    {
     "data": {
      "text/plain": [
       "\"The Deep Space Nine Transcripts - What You Leave BehindWhatYou Leave BehindStardate:UnknownOriginal Airdate: 31 May, 1999   COMPUTER: Doctor Bashir. The time is oh fivehundred. BASHIR: Yeah, all right. EZRI: Julian. BASHIR: Yes. EZRI: We have to get up. BASHIR: Are you sure? EZRI: It's a big day. BASHIR: It was a big night. It cleared up a lot of unansweredquestions. EZRI: Such as? BASHIR: Such as just how far these spots really go down. EZRI: I suppose you'll want to tell Miles. BASHIR: Why would I want to do that? EZRI: Because you tell him everything. BASHIR: True, but you know what? In this case, I'm going to make anexception. EZRI: Good. Oh, we really should get up. We don't want the Defiantleaving without us. BASHIR: You know, I've never been into battle with someone I've sleptwith before. EZRI: There's a first time for everything. BASHIR: Now that we're finally together, it'd be such a shame ifsomething happened to one of us. EZRI: Let's make a pact. We both come home alive. BASHIR: You've got yourself a deal. EZRI: I'm holding you to that. O'BRIEN: Oh, and don't forget Kirayoshi has hischeckup at oh nine hundred tomorrow. KEIKO: I've already confirmed the appointment with Nurse Bandee. Onemore bite O'BRIEN: And don't stay up too late writing that paper on, what thosetrees are called? KEIKO: Arfillian Ficus and they're not trees, they're shrubs. O'BRIEN: Yeah, well, try to get some sleep. Oh, and KEIKO: Honey, we'll be fine. Stop worrying. O'BRIEN: Right. Molly. Please don't touch that.  MOLLY: I let you play with my toys. O'BRIEN: Yeah, but you see, this isn't a toy. This is a model. KEIKO: Maybe it belongs in a museum then. O'BRIEN: I suppose I could give it to Julian. KEIKO: Sounds good to me. Speaking of Julian. Have you told him aboutStarfleet's offer yet? O'BRIEN: No, not yet. MOLLY: I knew it. O'BRIEN: What's that supposed to mean? MOLLY: We're not going back to Earth. O'BRIEN: Of course we are. Daddy's going to teach at the Academy, whenthe war's over. MOLLY: Then why haven't you told Julian? KEIKO: Out of the mouth of babes. O'BRIEN: I'll tell him, you know, when I think he's ready to hear it.   SISKO: How's that? KASIDY: Oh, it's doing wonders for my head, but it's my stomach that'sbothering me. SISKO: Well, if it will help, morning sickness ends after the firsttrimester. KASIDY: Oh, that's two more months. I don't think I'm going to make it. SISKO: You're going to make it. KASIDY: Ben? Promise me something. Promise that you'll come home to us. SISKO: I promise. KASIDY: I don't believe it SISKO: I said I promise. KASIDY: No, it's not  SISKO: Come in. JAKE: Hey. I thought I'd walk you to the Defiant. SISKO: I'd like that. JAKE: How's Kas?  KASIDY: Reports of my death have been exaggerated. But not by much. JAKE: Isn't there something she can take to make her feel better? SISKO: She doesn't like taking medication unless it's absolutelynecessary. JAKE: Sounds necessary to me. KASIDY: Waiting for you to leave only makes me feel worse. If you'regoing to go, just go. SISKO: You're sure I can't get you anything? KASIDY: Just hurry up and come back home.   ODO: Mind if I walk with you, Commander? WORF: Not at all. Captain Sisko informed me that you would be joiningus on the mission. I hope that when we reach Cardassia, we find ColonelKira alive and well. ODO: So do I, Commander. So do I. NOG: Captain on the Bridge. SISKO: All right people, what do you say we end this war? O'BRIEN: Sounds good to me. SISKO: Ensign, I believe you know the way to Cardassia. NOG: If I get lost, I'll just follow the ship in front of us.    WEYOUN: The Federation invasion fleet has left Deep Space Nine. It willreach the Cardassian border by tomorrow night. GOR:  FOUNDER: Our brave Jem'Hadar soldiers have a motto. Victory is Life. GOR:  FOUNDER: I'm glad you're familiar with it. Because today, those wordshave meaning for us all. The outcome of this battle will determine theoutcome of the war. Either we destroy their invasion forces or theydestroy us. There is no other option. GOR:  FOUNDER: Fight well today, and Romulus will be yours to do with as youwish. GOR:  FOUNDER: Yes, yes and Earth too. GOR:  FOUNDER: I assure you, the pleasure is all mine. GOR:   FOUNDER: Is something bothering you? WEYOUN: Apparently, I was under the mistaken impression that allFederation territories would fall under my jurisdiction, includingEarth. FOUNDER: And so they shall. WEYOUN: But you promised the Breen. FOUNDER: I would promise the Breen the entire Alpha Quadrant if Ithought it would help win this war. WEYOUN: The Founder is wise in all things.  BROCA: Founder. I've heard a disturbing rumour about the traitor Damar. WEYOUN: What about him? BROCA: He may be alive. FOUNDER: Is this possible? WEYOUN: I don't see how. We destroyed his ship, his rebel bases. FOUNDER: But his body was never found. BROCA: They say he's here on Cardassia Prime. In the capital, no less. FOUNDER: Look into this matter. WEYOUN: If Damar is alive BROCA: He won't be for long.   JEM'HADAR: Halt. Step forward. Slowly. GARAK: I'm sorry, have we done something wrong? We're new to the cityand I'm afraid we're lost. JEM'HADAR: Quiet! You are Legate Damar. GARAK: I told you you looked like him. I can't tell you how many timesmy cousin has been mistaken for that traitor. JEM'HADAR: He will be taken to Dominion Headquarters. You will diehere. BREEN:  JEM'HADAR: I do not understand you.  GARAK: I don't mean to sound ungrateful, but what are you doing here? KIRA: Watching your backs. DAMAR: I thought we decided it would be safer if you stayed out ofsight. KIRA: That's what the helmet's for. You should be wearing one too. Every Jem'Hadar and Breen soldier on Cardassia is looking for you. DAMAR: If I'm going to lead this revolt, I can't do it hiding in acellar. It was necessary for me to attend the gathering tonight. KIRA: Well, fill me in later. If anyone stops us, you're my prisoners.  GARAK: But the vote was unanimous. The workdisruptions begin tomorrow. DAMAR: Power, communication and transportation facilities throughoutCardassia will be sabotaged. GARAK: The Dominion fleet will be cut off from all ground support. KIRA: That way, they'll have to face the invasion force on their own. DAMAR: And once the Dominion is crushed  MILA: All Cardassia will be free again. Oh, when you were a small boy,I was worried about you. Always getting in trouble. So secretive, sofull of deceit. Who would have thought those distastefulcharacteristics would be turned to virtues. More tea? GARAK: You're too kind. SISKO: Do you hear that, Chief? O'BRIEN: Sounds like the Doppler compensators are out of phase. SISKO: Ensign, how's she handling? NOG: She's not quite as smooth as the old Defiant, sir. Feels a bitsluggish. SISKO: Chief? O'BRIEN: I'm on it. O'Brien to Engineering. ENGINEER : Engineering. O'BRIEN: Recalibrate the inertial dampers and check the plasma flowregulators while you're at it. ENGINEER : Right away, Chief. O'BRIEN: You'd think someone would have come up with a better inertialcontrol system. BASHIR: What's that, Miles? O'BRIEN: I said I wish you'd wipe that grin off your face. You're notthe first person to fall in love, you know. BASHIR: I thought you'd be happy for me. O'BRIEN: I am happy for you. O'Brien to Engineering. ENGINEER : Engineering. O'BRIEN: Now try re-aligning the induction coils. ENGINEER : Will do. EZRI: You're sure you're not angry? WORF: Why should I be angry? I have been asking you to tell the doctorhow you feel about him for the past month. EZRI: Well, now that he knows how I feel. WORF: I am happy for you. EZRI: That's a relief. WORF: But I am going to kill him. EZRI: You're kidding, right? WORF: And Jadzia said I did not have a sense of humour. O'BRIEN: Julian, there's something I need to talk to you about. BASHIR: You're getting pressure from Keiko, aren't you? O'BRIEN: How did you know? BASHIR: It's a big decision. I'm surprised it didn't come up sooner. O'BRIEN: Actually, we've been talking about it for quite a while. BASHIR: Well, you can stop talking about it. We'll move the Alamo intomy quarters. NOG: I could still use a little more equalisation on the torquebuffers. O'BRIEN: Right. I'll try to compensate with the impulse responsefilters. BASHIR: That way, your quarters won't be so cluttered and you can stilluse it whenever you want. O'BRIEN: I wasn't talking about the Alamo model. Besides, it's too bigfor your quarters. BASHIR: You let me worry about that. So, what were you talking about? O'BRIEN: Oh, it's nothing that can't wait. Is that any better, Nog? NOG: Torque buffers are stable. SISKO: I wish she were here, too, Constable. ODO: If we only knew where Kira was. If we could only be sure that shewas all right. SISKO: The Colonel's a survivor. ODO: This war, Captain. It has to end. SISKO: And it will. Soon. One way or the other.    SISKO: Mother? SARAH: The Emissary's task is nearing completion. SISKO: Are you talking about the war? SARAH: You have walked the path the Prophets laid out for you,Benjamin. Do not falter now. SISKO: I don't intend to. SARAH: Know this, my son. Your journey's end lies not before you, butbehind you. ODO: Captain? Captain? SISKO: The Prophets came to me in a vision ODO: I take it they weren't bringing good news. SISKO: I'm not sure. Only time will tell.   DUKAT: Hello, Adami. WINN: You're back. DUKAT: Is that all you have to say to me? WINN: I see the Pah wraiths have restored your sight. DUKAT: Yes, they've forgiven me. I was hoping you could find it in yourheart to do the same. WINN: I don't forgive war criminals. To think I took Gul Dukat to mybed. One of the most hated men in Bajoran history. DUKAT: I've told you how much I regret my actions during theoccupation. WINN: Of course you do. DUKAT: Have you learned how to release the Pah wraiths? WINN: The secrets of the Kosst Amojan have been revealed to me, yes. DUKAT: Then why haven't you gone to the Fire Caves and freed them? WINN: I was waiting for you. DUKAT: Then you do forgive me. WINN: I need your help, Dukat. It's as simple as that. DUKAT: All you have to do is ask. Together we will release the Pahwraiths so they can lay claim to the Celestial Temple and destroy theProphets. WINN: And their Emissary. DUKAT: No, no, no. Benjamin Sisko will be dealt with by me and mealone. WINN: Assuming he survives the invasion of Cardassia. DUKAT: Oh, he'll survive. But I promise you, he'll wish he hadn't. VIC: You going to sit there all night, Quark? QUARK: Got any threes? VIC: Go fish.  VIC: Don't tell me you're quitting? QUARK: It's just not my game. VIC: Want to try pinochle again? How about rummy, or gin rummy? Fivecard stud? Canasta? QUARK: How about some tongo? VIC: Did they play tongo in Las Vegas in nineteen sixty two? QUARK: How could they? It's a Ferengi game. VIC: Which is why my holographic programme can't create it. QUARK: I know, I know, this place is period specific. For a hologram,you're not very accommodating. VIC: Oh, is that why you dropped by? To insult me? QUARK: I dropped by because I had nothing else to do. My bar hasn't hadhalf a dozen customers all day. Everyone's off fighting this stupidwar. VIC: It's not easy staying behind, is it? Knowing that your friends areout there risking their lives. QUARK: They think they have it rough? They should try leading my lifefor a day. The hospitality industry isn't for the faint-hearted. VIC: A bartender's life is a lonely one. QUARK: That's true, but few people understand that. They think it's onebig, happy party. They forget that the person giving the party neverhas any fun. He's too busy making sure everybody else is having fun. All I do all day long is give, give, give. VIC: Bartending is a very noble profession. You do it well, under somevery difficult circumstances, I might add. You should be proud.  QUARK: You think so? VIC: I know so, pallie. QUARK: I just hope Nog and the rest of those heroic idiots come back inone piece. GINGER: There you are. Vic, sweetie, are you ready? Jimmy and Peter areabout to go on. VIC: Sorry, pallie, got to run. Durante and Lawford are at the Sands. Can't miss that. QUARK: I thought you said a bartender's life was a lonely one? VIC: It is. But I'm not a bartender.  QUARK: Go fish.   DUKAT: Is it really necessary to rest so often? WINN: You don't need to wait for me. Go on ahead. Wander aimlesslythrough these caves for the rest of your miserable life. DUKAT: I'm in no hurry. During the occupation, my people found theBajorans' fear of these caves amusing. And yet we never took the timeto visit them. And now, here I am. It's ironic, isn't it? WINN: I don't care. DUKAT: Excuse me? I just meant WINN: I'm sure you have many interesting anecdotes about theoccupation, but I don't have any desire to hear them. DUKAT: I meant no disrespect, Adami. WINN: And stop calling me Adami. That privilege is no longer yours. DUKAT: How should I address you then? WINN: From now on, you will address me as Eminence. Is that clear? DUKAT: Perfectly. Eminence.   FOUNDER: I see your point. But for two millennia the Jem'Hadar havebeen the Dominion's first line of defence. It would damage their moraleto have to take a back seat to the Breen. GOR:  FOUNDER: Very well. In the spirit of our new alliance, I will informthe Jem'Hadar that the Breen forces will stand alongside them. GOR:  FOUNDER: I'm glad that pleases you. WEYOUN: I think we have a problem. GOR:  WEYOUN: Our lines are spread too thin, especially here, at the centre. We need to despatch reinforcements immediately. FOUNDER: Do you agree? GOR:  FOUNDER: Notify the Jem'Hadar. Order them to reinforce the centre oftheir lines.  FOUNDER: Now what? GOR:  COMPUTER: Emergency power engaged.  BROCA: Founder, I'm relieved to see that you're all right. WEYOUN: Long range communications are down. I can't contact theJem'Hadar. GOR:  WEYOUN: Of course I'll keep trying. FOUNDER: What caused the power failure? BROCA: I'm afraid it was sabotage. WEYOUN: Almost every Dominion installation on Cardassia Prime hassuffered damage. FOUNDER: Damar. BROCA: We captured some of the terrorists, but they're not soldiers. They're ordinary citizens.  FOUNDER: Are you telling me the Cardassian people are rising up againstus? BROCA: I'm sure it's only a small number of malcontents. FOUNDER: But we have no way of knowing that, do we? WEYOUN: Founder, may I make a suggestion? FOUNDER: Yes, I am sure that Broca would be very happy to hear what youhave to say. WEYOUN: If the Cardassian people are responsible for these acts ofterrorism, if Damar and his fanatics have turned them against us, thenit's the people who should be punished. FOUNDER: Now what do you say to that? BROCA: Severely punished.  FOUNDER: Well I'm glad we all agree. See to it.   DAMAR: It's been twenty four minutes. KIRA: Not bad. GARAK: If the Dominion hasn't been able to restore power to thecapital, then the entire planet must be in chaos. DAMAR: I hope so. MILA: I'm afraid I was only able to find two more lightsticks. There'smore about the house somewhere but I just couldn't GARAK: Just stop dawdling and give them to me. MILA: How well I remember that tone of voice. It reminds me of thedemanding and inconsiderate boy you used to be. GARAK: I haven't changed much, have I? DAMAR: This will send a clear message to the Dominion. The Cardassianpeople will fight to regain their freedom. KIRA: I hope they realise their fight is just beginning. We're going tohave to hit the enemy again and harder this time. GARAK: That won't be easy. They will have tightened their security. KIRA: That doesn't matter. We can't lose our momentum. DAMAR: The Commander is right. We cannot rest until Cardassia's free. And when it is, we'll have you to thank for it. Without you, thisrebellion would have died in its infancy. GARAK: Ironic, isn't it? The saviour of Cardassia a former Bajoranterrorist. KIRA: Don't canonise me just yet.  DAMAR: It's been twenty six and a half minutes. Let's see what theDominion has to say for itself. WEYOUN : Citizens of Cardassia. This latest wave ofvandalism directed against your Dominion allies must stop. GARAK: I wouldn't count on it. WEYOUN: : We know these disgraceful acts of sabotage werecarried out by a mere handful of extremists. But these radicals mustcome to realise that their disobedience will not be tolerated. Thatyou, the Cardassian people, will suffer the consequences of theircowardly actions. Which is why I must inform you a few moments ago,Dominion troops reduced Lakarian City to ashes. There were nosurvivors. Two million men, women and children gone in a matter ofmoments. For each act of sabotage committed against the Dominion,another Cardassian city will be destroyed. I implore you not to letthat happen. Let us return to the spirit of friendship and cooperationbetween our peoples, so that together, we can defeat our commonenemies, the Federation, the Klingons, the Romulans and all the othersthat stand against us. Thank you. DAMAR: I should've killed that Vorta jackal when I had the chance. KIRA: You want another one? We'll attack Dominion Headquarters. GARAK: Chop off a snake's head and the body will die. KIRA: Exactly. Damar, for the past two years you've practically livedin that building. DAMAR: If you're asking me if I know a way in, the answer is no. Notwithout a valid security protocol. KIRA: We'll use force. We're going to need some kind of explosives. GARAK: I'll get right on it. MILA: What you're proposing is suicide. GARAK: If you don't have anything positive to say, Mila. MILA: All right, I'll prepare some food. Nobody should die on an emptystomach. EZRI: Sir, Chancellor Martok would like to speak toyou and Admiral Ross. SISKO: Put them through.  MARTOK : Gentlemen, a magnificent victory lies beforeus. ROSS : I trust those are prophetic words, Chancellor. MARTOK : They are. And I've not forgotten the promise Imade to both of you. SISKO: That the three of us would share a bottle of bloodwine onCardassia Prime. MARTOK : A bottle? I brought a barrel of twenty three ohnine. There is no finer vintage. ROSS : Then I'll meet you two on Cardassia. MARTOK : We'll see who gets there first.  NOG: The Chancellor makes victory sound easy. SISKO: He knows it won't be. Sisko to all hands. Prepare to engage theenemy.  NOG: I'll say one thing for the Breen. They know how to pilot theirships. SISKO: So do you, Ensign. O'BRIEN: Stay with him. NOG: I'm trying. He's slippery. SISKO: Mister Worf? WORF: Unable to lock target.  ODO: We have two Jem'Hadar ships coming aft of us, bearing one threesix mark four. SISKO: Evasive action, pattern Delta. NOG: Hang on.  SISKO: Well done, Ensign. NOG: But I lost the Breen ship we were after. SISKO: I wouldn't be too worried about it. There are plenty more tochoose from.  MILA: You've hardly touched your meal. No wonderyou're not looking well. GARAK: I'm not looking well because I live in a cellar. MILA: Well, so does Legate Damar. GARAK: And what about him? MILA: Well, he's finished everything on his plate. Which explains whyhe is such a fine, handsome figure of a man. GARAK: I'm afraid I don't follow you. KIRA: I do. Mila, I believe you're falling in love. MILA: Oh, I'm old enough to be his mother. DAMAR: Nonsense. MILA: Politicians.  GARAK: Who could that be? MILA: I'll go see.   MILA: May I help you? DAMAR: What's taking her so long? GARAK: I don't know.  GARAK: Mila!  KIRA: Garak! Garak, get out of there!    BASHIR: I can't look away for a second. O'BRIEN: Just fix the shoulder.  O'BRIEN: Careful! BASHIR: Sit still or you'll end up with one arm shorter than the other. O'BRIEN: You'd do anything to beat me at darts. BASHIR: I haven't lost a game to you in months. O'BRIEN: I'm going to miss our games, Julian.  BASHIR: What are you talking about? You're going to be fine O'BRIEN: I'm leaving DS Nine, Julian. I'm moving back to Earth. BASHIR: Why? O'BRIEN: I've been offered a position at Starfleet Academy. Professorof Engineering. BASHIR: When? O'BRIEN: When the war's over. BASHIR: Oh. I see. O'BRIEN: Somebody has to teach you officers the difference between awarp matrix flux capacitor and a self sealing stembolt. BASHIR: Of course.  EZRI: Captain, Admiral Ross for you. SISKO: On screen. ROSS: : The Romulan flagship's been destroyed. Theirentire line is collapsing. SISKO: We'll try to help. ROSS : With what? Ben, we're losing too many ships. We've got to find a way to turn the Dominion's left flank. SISKO: It's too well protected, but their lines are spread pretty thinin the middle.  ROSS : You help the Romulans. Martok and I'll hit thecentre. SISKO: On my way. Dax, have attack wings sixty four and sixty fivefollow us. EZRI: Aye, sir.  FOUNDER: What's taking so long? WEYOUN: Our engineers have assured me that our long rangecommunications will be restored momentarily. FOUNDER: But you have been saying that for hours. And meantime, there'sno way of contacting our ships. No way of knowing how the battle isprogressing. BROCA: Founder, our troops have captured the traitor Damar. FOUNDER: Finally, some good news. BROCA: And there's more. Colonel Kira and Garak have been apprehendedwith him. WEYOUN: Even better. Shall I have them brought here? FOUNDER: What for? Have them executed immediately. WEYOUN: With pleasure. JEM'HADAR: Understood. It will be done at once. Onyour feet. KIRA: Why? JEM'HADAR: We prefer our prisoners to be standing when they die. GARAK: Does anyone have any last words? DAMAR: You may kill us, but Cardassia will never JEM'HADAR: Enough. Final words are not permitted. GARAK: How disappointing. JEM'HADAR: Ready weapons. On my mark.  EKOOR: That's for Lakarian City. Legate Damar, I pledge my life to freeCardassia from the Dominion. DAMAR: With men like you on our side, how can we fail?  NOG: Jem'Hadar ship off the port bow. WORF: Shields are down to sixty percent. BASHIR: Miles, this is no good. I'm going to have to get you toSickbay. O'BRIEN: I'm kind of busy right now. BASHIR: That's an order. O'BRIEN: Look, Julian. SISKO: You heard him, Chief. O'BRIEN: Yes, sir. NOG: Another Jem'Hadar to port. WORF: Transferring auxiliary power to port shields. SISKO: Dax, we need some support from our attack fighters. EZRI: Aye, sir. NOG: Breen ship off the starboard aft. EZRI: Sir, most of our fighters are either destroyed or under attackthemselves. SISKO: Ensign, get us out of here.  NOG: I'm trying, sir.  ODO: Sir, the Cardassians. They're attacking the other Dominion ships. EZRI: They've switched sides. NOG: Yes! SISKO: The timing couldn't be better. Come about and head for thecentre of their lines. This is our chance to punch through. NOG: Aye, sir.  WEYOUN: Founder, our long range communications areback online. FOUNDER: It's about time. WEYOUN: I don't believe it. FOUNDER: What now? WEYOUN: The Cardassian fleet has turned against us. GOR:  FOUNDER: Have our forces pull back and regroup at Cardassia Prime. WEYOUN: But we'll be totally surrounded. FOUNDER: There will be no more running. GOR:  FOUNDER: We should have rid ourself of the Cardassians at the firstsign of rebellion. BROCA: If I could talk to the rebels, get them to change their minds. WEYOUN: Perhaps you could reawaken their patriotic spirit? BROCA: Exactly. WEYOUN: On the other hand, they're just as likely to convince you tobetray us. BROCA: Me, betray you? Never! FOUNDER: That's right. We are not going to give you that opportunity.  BROCA: Wait! You're making a terrible mistake. FOUNDER: I don't think so. BROCA: But I've done everything you've asked! I tell you I'm loyal. Ibelieve in the Dominion! No! Wait! No!  WEYOUN: I won't miss him. FOUNDER: I want the Cardassians exterminated. WEYOUN: Which ones? FOUNDER: All of them. The entire population. WEYOUN: That will take some time. FOUNDER: Then I suggest that you begin at once. WORF: Captain, the Dominion forces are retreatingtoward Cardassia Prime. EZRI: Sir, Admiral Ross and Chancellor Martok would like to talk toyou. SISKO: On screen. ROSS : I never thought I'd say this, but thank god forthe Cardassians. MARTOK : As I predicted, the day is ours. SISKO: Not yet it isn't. ROSS : Ben, we've driven the Dominion back intoCardassia Prime. We can keep them bottled up there indefinitely. SISKO: What if they use this time to rebuild their fleet? MARTOK : He's right. The Dominion has displayed anability to build ships at an impressive rate. We should continue theattack. ROSS : At what cost? We've already lost a third of ourfleet. MARTOK : And we must see to it that those soldiers didnot die in vain. SISKO: Admiral, with the Cardassians joining us, we have an opportunityto put an end to this war once and for all. ROSS : All right, gentlemen. We press on. MARTOK : My friends, songs will be sung about this day. SISKO: All right, people. You heard the orders. Let's finish what westarted.   DUKAT: Let me guess. We're here. WINN: We've reached the end of one journey and stand ready to beginanother. What's the matter, Dukat? You look disappointed. DUKAT: Well, this may sound naive, but I was expecting to see fire. They are called the fire caves. WINN: And with good reason.  WINN: Lano ka'la bo'shar lanu no'vala, pahrom carana mokado ba'jah. Ko'se nusso ma'kora kajani. Lano ka'la Kosst Amojan.  WINN: Is that better?    EKOOR: According to this map, it's a long way from the cargo door tothe briefing room. KIRA: Well, that could be a problem if we get trapped in the corridor.  KIRA: What the hell?  GARAK: It's the Jem'Hadar. They're leveling the city building bybuilding. KIRA: All right, we have to go now. DAMAR: Once we get inside the complex, we stop at nothing until wecapture the changeling. EKOOR: Let it be done! CARDASSIAN: We're with you! DAMAR: For Cardassia. CARDASSIANS: For Cardassia! KIRA: Garak. GARAK: All during the years of my exile I imagined what it would belike to come home. I even thought of living in this house again withMila. But now she's dead, and this house is about to be reduced to apile of rubble. My Cardassia's gone. KIRA: Then fight for a new Cardassia.  GARAK: I have an even better reason, Commander. Revenge. KIRA: That works too.   WINN: Oh. I rid myself of the Prophets and shed a lifetime ofhypocrisy.  DUKAT: I've never seen you look so radiant. WINN: I feel like a young woman waiting for my lover to sweep me away. DUKAT: Do you give yourself willingly to the Pah wraiths? WINN: With all my heart. DUKAT: Then call to them. WINN: Bring me the book. Meek rak dorrah Pah wran Yelim cha ono KosstAmojan shay ta hel ter rah no'vala de ram  SISKO: Sisko to Bashir. Report.  BASHIR: Three dead, eight wounded, four of them critically. SISKO: Doctor, I need every able-bodied crewman at their post. BASHIR: I won't keep anybody here a second longer than I have to, sir.  BASHIR: Put him over here, will you. NOG: She did pretty well for a first date, don'tyou think, Captain? SISKO: I'd say she did fine, Ensign. Mister Worf? WORF: Sir, phaser banks are fully charged, but we are down to fortyfive quantum torpedoes. SISKO: That'll have to do. How are you holding up, old man? EZRI: All things considered, I think I'd rather be on Risa. SISKO: Well, that makes two of us. ODO: Have you seen these reports, Captain? The Dominion has begundestroying Cardassian cities. Millions of people are dying. NOG: Captain, we're approaching the Dominion defence perimeter. SISKO: Well, let's see what they have waiting for us. On screen.  SISKO: Now we know.    GARAK: We have a problem. KIRA: Just one? GARAK: I'm afraid it's a rather large problem. The cargo door is madeof neutronium. KIRA: Then the explosives we brought aren't even going to make a dent. GARAK: You see the problem. EKOOR: What do we do? DAMAR: I don't know, but I'm through hiding in basements. I fail to seewhat is so funny, Garak. GARAK: Isn't it obvious? Here we are, ready to storm the castle,willing to sacrifice our lives in a noble effort to slay the Dominionbeast in its lair and we can't even get inside the gate.  KIRA: Maybe we could go to the door and ask the Jem'Hadar to let us in. DAMAR: Or just have them send the shape-shifter out to us. GARAK: As I said, we have a problem.   FOUNDER: But I've come to depend on having you hereat my side. GOR:  FOUNDER: Your advice to the Dominion has proven invaluable GOR:  FOUNDER: Very well. If you feel the situation on the front linesdemands your presence, I will not stand in your way. Knowing thatyou'll be leading our troops into battle is very reassuring. GOR:   WEYOUN: I still can't help but wonder. FOUNDER: Wonder what? WEYOUN: What's under that helmet? FOUNDER: A braver man than you. Though I do find the shrillness of hisvoice very tiresome.  WEYOUN: Founder, what's wrong? FOUNDER: I'm dying, that's what's wrong. WEYOUN: Perhaps you should rest for a while. Revert to your naturalstate. FOUNDER: I haven't been able to change form in weeks. It's ironic,isn't it, that I should die as a Solid. WEYOUN: You're not going to die. You're a god. FOUNDER: My loyal Weyoun. The only solid I have ever trusted. WEYOUN: I live only to serve you. FOUNDER: And you have served me well. I don't mind dying. It's knowingthat my entire race is dying of the same illness and there is nothing Ican do about it. WEYOUN: I would give my life to save yours. FOUNDER: If only it were that simple. DAMAR: What if I give myself up? Pretend to be yourprisoner. KIRA: They'd kill you on sight. GARAK: And us along with you. EKOOR: The cargo door. BROCA: You're making a terrible mistake. I'm not a traitor! Please,just let me speak to the Founder. No, wait!  DAMAR: No!  EKOOR: For Cardassia!   GARAK: Fall back, fall back.  DAMAR: Keep GARAK: He's dead. KIRA: Remember his orders. We stop for nothing. GARAK: For Cardassia! CARDASSIANS: For Cardassia!   WEYOUN: We have a security breach. FOUNDER: The guards will deal with it. Is there a problem? WEYOUN: The guards. There're only a handful left in the building. Isent the rest to help eradicate the Cardassians.  WEYOUN: You two, get out there and see that no one gets through thatdoor. You, stay here. In case they fail.  ROSS : We'll launch a three prongedattack. The Romulans and our new Cardassian allies will engage theJem'Hadar forces. The Klingons will target the Breen and the Federationwill take on the orbital weapon platforms. Any questions? SISKO: When do we go? ROSS : As soon as everyone's in position. MARTOK : It will be a glorious battle. ROSS : But a costly one. Estimates project ourcasualties to be as high as forty percent. There's no telling how muchhigher they'll go once we send in our ground forces. SISKO: The Dominion is beaten and they know it, but they're going tomake us pay for every kilometre of the planet. ROSS : Yes, they will. SISKO: Let's get on with it. ROSS : Godspeed, everyone. MARTOK : Qapla!  WEYOUN: Founder, perhaps we should consider findinga safer location. FOUNDER: And just where would that be?  WEYOUN: Well, Colonel Kira. What a pleasant surprise. KIRA: The pleasure's all mine. EKOOR: The Federation fleet has surrounded the planet. KIRA: I want you to contact the Jem'Hadar and the Breen, and you ordertheir ships to stand down. GARAK: And order their troops on Cardassia to do the same. FOUNDER: I will do no such thing. WEYOUN: Tell me, where's my old friend Damar? GARAK: Damar's dead. WEYOUN: What a pity. GARAK: He died trying to free Cardassia. WEYOUN: What's left of it.  FOUNDER: I wish you hadn't done that. That was Weyoun's last clone. GARAK: I was hoping you'd say that. KIRA: This war's over. You lost. FOUNDER: Have I? I think you'll find that neither the Jem'Hadar or theBreen will agree with that assessment. They will fight to the last man. KIRA: And what will that accomplish? FOUNDER: Isn't it obvious? You may win this war, Commander, but Ipromise you, when it is over, you will have lost so many ships, so manylives, that your victory will taste as bitter as defeat.  SISKO: We're glad to find you in one piece,Commander. ODO: Very glad. SISKO: What's your status? KIRA : Only three of us made it to the briefing room. ODO: What about Damar? KIRA : He's dead. SISKO: Is your position secure? KIRA : I don't think the Jem'Hadar will attack. Theywon't risk endangering the Founder. She's in pretty bad shape. She justsits at her desk, deteriorating. WORF: If she dies before ordering the Jem'Hadar to surrender SISKO: Then they will fight to the last man. ODO: Captain, I should beam down there. The Founder will speak to me. Ican reason with her. SISKO: You haven't had much success with her in the past. ODO: It's worth a try. Think of the lives it could save. SISKO: Very well. Commander, tell the Founder that Odo is going to payher a visit.  WINN: Tarna pur ono ull kess pah ran. Lano ka'la bo'shar lanu.  WINN: After you. DUKAT: I'm honoured.  DUKAT: Now you.  DUKAT: Why? WINN: The Pah wraiths demand a sacrifice. Someone worthy of them. Whobetter than you? DUKAT: No!  WINN: I offer you this life as nourishment to feed your hunger, to fuelthe fires that will set you free. Kosst Amojan, I am yours now andforever.   ODO: Nerys. KIRA: It's been a while. ODO: Yes. KIRA: Watch yourself. I don't trust her. ODO: But you trust me. KIRA: Of course. ODO: That's all I need to know. GARAK: Constable. ODO: Garak. FOUNDER: You're looking well, Odo. ODO: Thank you for seeing me. FOUNDER: It's always good to see you. But I have no intention ofsurrendering my forces. It would be a sign of weakness on my part. Aninvitation to the solids to cross into the Gamma Quadrant and destroythe Great Link. ODO: Believe me, I'm well aware that the Federation has its flaws, buta desire for conquest isn't one of them. FOUNDER: And what of the Klingons and the Romulans? Can you make thatclaim for them too? ODO: The Klingon and Romulan Empires are in no shape to wage a waragainst anyone. Besides, the Federation wouldn't allow it. FOUNDER: The Dominion has spent the last two years trying to destroythe Federation, and now you're asking me to put our fate in theirhands? ODO: Yes. FOUNDER: I can't do that, Odo. I don't have your faith in the solids. ODO: Perhaps I can change your mind. Link with me. KIRA: Odo, what are you doing? FOUNDER: I'm afraid I can't Link with you, Odo. My disease prevents mefrom changing form. ODO: If we Link, I believe I can cure you. GARAK: That's a very bad idea, Constable. KIRA: I agree. ODO: Nerys, I know what I'm doing. Please, take my hand. FOUNDER: And if you cure me, what will you ask in return? ODO: All I ask is that you Link with me. GARAK: I'm warning you, Odo. ODO: Nerys. KIRA: Garak, put down your weapon. GARAK: I don't think so. KIRA: I said, put it down.  GARAK: Move aside, Odo. ODO: That won't be necessary. Will it? FOUNDER: If you will stand aside, I'll order the Jem'Hadar to ceasefire. GARAK: I suggest we secure her in a containment field. ODO: Don't worry, Garak. She won't try to escape. She's agreed to standtrial and accept responsibility for what she's done. KIRA: I would have thought she'd insist on goingback to the Gamma Quadrant to cure her people. ODO: There's no need for that. I'm going in her place. KIRA: For how long? ODO: Nerys, it's time I rejoined the Great Link.   MARTOK: This is a moment worth savouring. To victory, hard fought andwell earned.  MARTOK: What's wrong? SISKO: Suddenly I'm not thirsty. ROSS: Neither am I. MARTOK: Before you waste too many tears, remember, these areCardassians lying dead at your feet. Bajorans would call this poeticjustice. SISKO: That doesn't mean I have to drink a toast over their bodies.  MARTOK: Humans. Pah. Ka DiJaQ.  BASHIR: Eight hundred million dead. GARAK: And casualty reports still coming in. Well, aren't you going tocongratulate me, Doctor? My exile is now officially over. I've returnedhome. Or rather, to what's left of it. BASHIR: Listen, I know that this must seem bleak GARAK: Some may say that we've gotten just what we deserved. After all,we're not entirely innocent, are we? And I'm not just speaking of theBajoran occupation. No, our whole history is one of arrogantaggression. We've collaborated with the Dominion, betrayed the entireAlpha Quadrant. Oh, no, no. There's no doubt about it. We're guilty ascharged. BASHIR: You and I both know that the Cardassians are a strong people. They'll survive. Cardassia will survive. GARAK: Please, Doctor. Spare me your insufferable Federation optimism. Of course it will survive, but as not the Cardassia I knew. We had arich and ancient culture. Our literature, music, art were second tonone. And now, so much of it is lost. So many of our best people, ourmost gifted minds. BASHIR: I'm sorry, Garak. I didn't mean GARAK: Oh, it's quite all right, Doctor. You've been such a goodfriend. I'm going to miss our lunches together. BASHIR: I'm sure we'll see each other again. GARAK: I'd like to think so, but one can never say. We live inuncertain times.  FOUNDER: The war between the Dominion and the Federation Alliance isnow over. ROSS: Four hundred years ago, a victorious general spoke the followingwords at the end of another costly war. Today the guns are silent. Agreat tragedy has ended. We have known the bitterness of defeat and theexultation of triumph. From both we have learned there can be no goingback. We must go forward to preserve in peace what we've won in war.  FOUNDER: It's up to you now, Odo.  EZRI: You're coming to Vic's tonight, right? WORF: I will be there, but I will not dance. EZRI: Who's asking? SISKO: Commander Worf. WORF: Captain. SISKO: Can you spare a moment? WORF: Yes, sir. MARTOK: We've been discussing your plans for the future. WORF: I was not aware I had any plans. ROSS: Commander, how would you feel about being named FederationAmbassador to Kronos? WORF: I am not a diplomat. MARTOK: And I am not a politician. But sometimes fate plays crueltricks on us, Worf. Come. Kronos needs you. And what's more, I needyou. EZRI: You helped him become Chancellor. You can't very well turn yourback on him now. WORF: Well my first loyalty is to you, Captain. SISKO: Thank you, Mister Worf. I'll probably regret this in themorning, but if it's what you want, then by all means. WORF: It has been a great honour serving with you, sir. SISKO: The honour is mine. WORF: I accept. MARTOK: Excellent. An Ambassador who'll go targ hunting with me. Well,perhaps being Chancellor won't be so bad after all. EZRI: Congratulations, Worf. KIRA: When will you be going? ODO: Soon. KIRA: You could come back, you know, once you've cured your people. ODO: I could. KIRA: But you're not going to do that. ODO: Nerys. You know my feelings for you will never change, but I haveto do this. My people need me. They need to know what I know, to learnwhat I've learned from living among solids. It's the only way they'llever learn to trust you. KIRA: You don't have to justify your decision, Odo. There's just onething. ODO: Anything. KIRA: I'd like to take you back to your homeworld. ODO: I'd like that. I'd like that very much.   VIC: Hey, pallie. If you're here for another game of 'go fish,' I'm alittle busy right now. QUARK: Actually, I'm here for the end of the war goodbye to ChiefO'Brien goodbye to Odo goodbye to Worf party. VIC: At the bar. BASHIR: No, seriously, Miles, I envy you. Going back to Earth, a chanceto enjoy paradise again. JAKE: Any idea where you're going to live? O'BRIEN: No. Keiko and I are still mulling over a few possibilities. WORF: Have you ever considered Minsk? O'BRIEN: I don't think that's on our list. SISKO: New Orleans is a gorgeous city. KASIDY: I've heard great things about Paris. WORF: Minsk. EZRI: Jadzia loved Rio. ODO: You've certainly got a lot of choices. O'BRIEN: Yeah. Too many. WORF: Minsk. BASHIR: Wherever you decide to go, I'm sure that you and Keiko will bevery happy. O'BRIEN: Listen, Julian, I know Earth isn't exactly around the corner,but I still expect you to visit. BASHIR: I intend to. O'BRIEN: Yeah, you and me taking a little trip to Texas. BASHIR: Standing side by side in front of the Alamo. O'BRIEN: The real Alamo. You see? It's going to be great. BASHIR: Absolutely. QUARK: I don't see how great it would be. Earth's nothing more than arotating ball of boredom. If you ask me, you'd be better off stayinghere. And that goes for you and Worf as well. KIRA: Don't tell me you're getting sentimental, Quark. QUARK: Me? Not a chance. I just don't like change. SISKO: You'd better get used to it. Things are going to be prettydifferent around here now. To the best crew any captain ever had. Thismay be the last time we're all together, but no matter what the futureholds, no matter how far we travel, a part of us, a very importantpart, will always remain here on Deep Space Nine. O'BRIEN: Hear, hear. BASHIR: Cheers. VIC: Ladies and gentlemen. Tonight is a very special night for somefriends of mine. They've been together a long time. But like the mansaid, nothing lasts forever. So, gang, this one's from the heart.   WINN: Dorra tolka bre tri pah wran. Kosst Amojan,come to me! I await you.  WINN: No!    KASIDY: Ben, what's wrong? SISKO: I understand now. KASIDY: Understand what? SISKO: What I have to do. What I was meant to do. Kasidy, I have to go. KASIDY: Go where? SISKO: To Bajor. To the fire caves. KASIDY: I'll go with you. SISKO: No, I have to do this alone.  DUKAT: Did you really think the Pah wraiths wouldchoose you to be their Emissary? Soon the Pah wraiths will burn acrossBajor, the Celestial Temple, the Alpha Quadrant. Can you picture it? Aentire universe set in flames, to burn for all eternity. The Prophetshave sent me a gift. Their beloved Emissary, sent forth like anavenging angel to slay the demon. SISKO: I should have known the demon would be you. DUKAT: Go on. Kill me if you can.  DUKAT: You'll have to do better than that, Captain.  DUKAT: This is too easy. That's it. Come closer. That's it.  DUKAT: Now bow to me. I said bow.  SISKO: You are pathetic. DUKAT: Then why are you the one on your knees? SISKO: First the Dominion, now the Pah wraith. You have a talent forpicking the losing side. DUKAT: Benjamin, please. We've known each other too long. And sincethis is the last time we will ever be together, let's try to speakhonestly. We've both had victories and our defeats. Now it's time toresolve our differences and face the ultimate truth. I've won,Benjamin. You've lost. SISKO: The Pah wraith will never conquer anything. Not Bajor. Not theCelestial Temple. And certainly not the Alpha Quadrant. DUKAT: And who's going to stop us? SISKO: I am. DUKAT: You can't even stand up. WINN: Then I'll stop you.  DUKAT: Are you still here? WINN: Emissary, the book!  DUKAT: Farewell, Adami. SISKO: Sarah? Are you here? What happened? SARAH: The Emissary has completed his task. SISKO: But the Pah wraiths. SARAH: You've returned them to their prison within the fire caves. SISKO: The book was the key, wasn't it? SARAH: To a door that can never be opened again. SISKO: And Dukat? Is he dead? SARAH: He's where he belongs, with the Pah wraiths. Your time of trialhas ended. You need to rest now. SISKO: I intend to. As soon as I return to Deep Space Nine. SARAH: That won't be necessary. You're with us now. EZRI: We found the Captain's runabout orbitingBajor. WORF: But when we scanned the fire caves, there was no sign of him. BASHIR: Tarkalian tea. Soothing. EZRI: Better keep it coming. JAKE: You're not calling off the search yet, are you? ODO: Not until we find your father. JAKE: What about the Kendra Province, where he bought that land. Maybehe went there for some reason. WORF: Colonel Kira and Chief O'Brien have completed another scan of theplanet. As far as they can tell, he is not there. KASIDY: Something's happened to Ben. Something bad. I can feel it. TheProphets warned us. KASIDY: Hello? Is anyone here? Ben? Is that you? SISKO: Kasidy. KASIDY: Oh, Ben! I've been so worried about you. Where are we? SISKO: The Celestial Temple. KASIDY: This is scaring me. Let's go home. SISKO: I can't. Not now. KASIDY: Why not? Oh, God. This is it, isn't it? The sorrow that theProphets warned us about. SISKO: It's difficult to explain. It's not linear. KASIDY: What isn't? SISKO: My life, my destiny. The Prophets saved me, Kasidy. I'm theirEmissary and they still have a great deal for me to do. But first,there is much to learn. Things only the Prophets can teach me. KASIDY: When will you be back? SISKO: It's hard to say. Maybe a year, maybe yesterday. But I will beback. KASIDY: And I will be waiting. JAKE: Kas, can you hear me? You seemed pretty faraway for a second. KASIDY: I was talking to your father.    KIRA: You sure you want to leave without sayinggoodbye? ODO: I'm sure. I've never been good at goodbyes. KIRA: There are going to be a lot of people that are disappointed. ODO: If they don't know how I feel about them now, a few parting wordswon't make the difference. QUARK: Ah ha! I knew it! When I saw the two of you slip out, I said tomyself, that no good, misanthropic, cantankerous, changeling is tryingto sneak off the station without anyone noticing. ODO: That was the idea. QUARK: Well, it's not going to happen. ODO: Apparently not. QUARK: So, now that I'm here, is there something you want to say to me? ODO: Such as? QUARK: Such as, 'Goodbye, you certainly were a worthy adversary.' Ormaybe something with the words mutual respect in it. ODO: No. QUARK: No? What do you mean no? ODO: I mean no. I have nothing I want to say to you. QUARK: You're telling me that after all these years, after all we'vebeen through, you're not even going to say goodbye to me? ODO: That's right. Nerys, I'll be on the runabout. Huh.  KIRA: Don't take it hard, Quark. QUARK: Hard? What are you talking about? That man loves me. Couldn'tyou see? It was written all over his back.   KIRA: The Link. It's so different. ODO: They're dying. KIRA: You should go to them. ODO: Nerys, please tell everyone I'll miss them. KIRA: Even Quark? ODO: Even Quark. But most of all KIRA: I know.  KIRA: Odo. ODO: You always said I looked good in a tuxedo. KIRA: You do.  ODO: Then this is the way I want you to remember me. KIRA: I'll never forget you. ODO: Goodbye, Nerys. NOG: The duty roster, Colonel. KIRA: Nice work. Congratulations on your promotion, Lieutenant. NOG: Thank you, sir. I guess putting me in for promotion was one ofCaptain Sisko's last official acts. KIRA: I'm sure he's very proud of you, Nog. NOG: I'd like to think so, sir. KIRA: Now about the cargo inventories. NOG: I'll get right on it.    BASHIR: You know, the thing of it is, the apoptosis is really just partof the normal cardiac renewal process. What do you think? EZRI: I think that after dinner tonight, we should go to Quark's, spendsome time in a holosuite. BASHIR: Oh. I'd like a trip to Vegas. EZRI: Actually, I was thinking about the Alamo. BASHIR: We can't go there. EZRI: Why not? BASHIR: Because that's what Miles and I did. But I do have a newprogramme. The Battle of Thermopylae. Do you know it? Well, it's abouta force of Spartans led by King Leonidas, who defend a mountain passagainst a vast army of Persians. EZRI: What happens then? BASHIR: For two days, the Spartans lead a heroic struggle. EZRI: Until they're wiped out. BASHIR: Yes. How'd you know? EZRI: Lucky guess. I take it we'll be the Spartans? BASHIR: Fighting to the last man. EZRI: Just like the Alamo. BASHIR: Exactly. EZRI: Have you talked to a counsellor about these annihilationfantasies? BASHIR: Do you think I should? EZRI: I'll set up a session for you tomorrow. BASHIR: What about tonight? EZRI: Tonight we defend the pass.   QUARK: Don't worry, it's guaranteed to grow hair within a week. Thoughif you ask me, that dome of yours is hairy enough. Besides, hasn'tthere been enough change around here already? KIRA: Quark! You mind explaining this? QUARK: Oh. That's this week's betting pool. KIRA: You're taking bets on who's going to be the new Kai? QUARK: It's a wide open field. Just between you and me, the smart moneyis on Vedek Ungtae. KIRA: Well just between you and me, all bets are off. QUARK: What are you talking about? KIRA: As of this moment, betting pools of any kind are illegal on thisstation. I catch someone placing a bet, I put you in a holding cell forfifteen days. Is that clear? QUARK: Fifteen days! Can I bring my own pillow? KIRA: Quark. QUARK: It's clear. It's clear. KIRA: It better be.  QUARK: It's like I said. The more things change, the more they stay thesame.   <Backto the episode listingStar Trek ® and relatesdmarks are trademarks of CBS Studios Inc. Copyright © 1966, Present. The Star Trek web pages on this site are foreducational and entertainment purposes only. All other copyrightsproperty of their respective holders.\""
      ]
     },
     "execution_count": 196,
     "metadata": {},
     "output_type": "execute_result"
    }
   ],
   "source": [
    "script_clean"
   ]
  },
  {
   "cell_type": "code",
   "execution_count": 197,
   "metadata": {
    "collapsed": true
   },
   "outputs": [],
   "source": [
    "cast=get_cast(script_clean)"
   ]
  },
  {
   "cell_type": "code",
   "execution_count": 210,
   "metadata": {
    "collapsed": true
   },
   "outputs": [],
   "source": [
    "#cast"
   ]
  },
  {
   "cell_type": "markdown",
   "metadata": {},
   "source": [
    "## Get all the lines for each character\n",
    "\n",
    "The get_lines proc will get the lines for each character for that episode and store these in a dictionary."
   ]
  },
  {
   "cell_type": "code",
   "execution_count": 202,
   "metadata": {
    "collapsed": true
   },
   "outputs": [],
   "source": [
    "def get_lines(script_clean, cast):\n",
    "    split_script=script_clean.split(':')\n",
    "    lines_dict=dict.fromkeys(cast)\n",
    "    for cast_member in cast:\n",
    "        lines=[]\n",
    "        for i in range(len(split_script)-1):\n",
    "            if cast_member in split_script[i].strip().split(\" \"):\n",
    "                line=split_script[i+1].strip().split(\" \")\n",
    "                line=[word for word in line if word != '']\n",
    "                for member in cast:\n",
    "                    if member in line:\n",
    "                        line.remove(member)\n",
    "                line=' '.join(line)\n",
    "                lines.append(line)\n",
    "        lines_dict[cast_member]=lines\n",
    "\n",
    "    return(lines_dict)"
   ]
  },
  {
   "cell_type": "code",
   "execution_count": 203,
   "metadata": {
    "collapsed": true
   },
   "outputs": [],
   "source": [
    "DS9_dict=get_lines(script_clean,cast)"
   ]
  },
  {
   "cell_type": "code",
   "execution_count": 204,
   "metadata": {},
   "outputs": [
    {
     "data": {
      "text/plain": [
       "[\"How's that?\",\n",
       " 'Well, if it will help, morning sickness ends after the firsttrimester.',\n",
       " \"You're going to make it.\",\n",
       " 'I promise.',\n",
       " 'I said I promise.',\n",
       " 'Come in.',\n",
       " \"I'd like that.\",\n",
       " \"She doesn't like taking medication unless it's absolutelynecessary.\",\n",
       " \"You're sure I can't get you anything?\",\n",
       " 'All right people, what do you say we end this war?',\n",
       " 'Ensign, I believe you know the way to Cardassia.',\n",
       " 'Do you hear that, Chief?',\n",
       " \"Ensign, how's she handling?\",\n",
       " 'Chief?',\n",
       " 'I wish she were here, too, Constable.',\n",
       " \"The Colonel's a survivor.\",\n",
       " 'And it will. Soon. One way or the other.',\n",
       " 'Mother?',\n",
       " 'Are you talking about the war?',\n",
       " \"I don't intend to.\",\n",
       " 'The Prophets came to me in a vision',\n",
       " \"I'm not sure. Only time will tell.\",\n",
       " 'Put them through.',\n",
       " 'That the three of us would share a bottle of bloodwine onCardassia Prime.',\n",
       " \"He knows it won't be. Sisko to all hands. Prepare to engage theenemy.\",\n",
       " 'So do you, Ensign.',\n",
       " 'Mister Worf?',\n",
       " 'Evasive action, pattern Delta.',\n",
       " 'Well done, Ensign.',\n",
       " \"I wouldn't be too worried about it. There are plenty more tochoose from.\",\n",
       " 'On screen.',\n",
       " \"We'll try to help.\",\n",
       " \"It's too well protected, but their lines are spread pretty thinin the middle.\",\n",
       " 'On my way. Dax, have attack wings sixty four and sixty fivefollow us.',\n",
       " 'You heard him, Chief.',\n",
       " 'Dax, we need some support from our attack fighters.',\n",
       " 'Ensign, get us out of here.',\n",
       " \"The timing couldn't be better. Come about and head for thecentre of their lines. This is our chance to punch through.\",\n",
       " 'On screen.',\n",
       " \"Not yet it isn't.\",\n",
       " 'What if they use this time to rebuild their fleet?',\n",
       " 'Admiral, with the Cardassians joining us, we have an opportunityto put an end to this war once and for all.',\n",
       " \"All right, people. You heard the orders. Let's finish what westarted.\",\n",
       " 'Sisko to Bashir. Report.',\n",
       " 'Doctor, I need every able-bodied crewman at their post.',\n",
       " \"I'd say she did fine, Ensign. Mister Worf?\",\n",
       " \"That'll have to do. How are you holding up, old man?\",\n",
       " 'Well, that makes two of us.',\n",
       " \"Well, let's see what they have waiting for us. On screen.\",\n",
       " 'Now we know.',\n",
       " 'When do we go?',\n",
       " \"The Dominion is beaten and they know it, but they're going tomake us pay for every kilometre of the planet.\",\n",
       " \"Let's get on with it.\",\n",
       " \"We're glad to find you in one piece,Commander.\",\n",
       " \"What's your status?\",\n",
       " 'Is your position secure?',\n",
       " 'Then they will fight to the last man.',\n",
       " \"You haven't had much success with her in the past.\",\n",
       " 'Very well. Commander, tell the Founder that Odo is going to payher a visit.',\n",
       " \"Suddenly I'm not thirsty.\",\n",
       " \"That doesn't mean I have to drink a toast over their bodies.\",\n",
       " 'Commander Worf.',\n",
       " 'Can you spare a moment?',\n",
       " \"Thank you, Mister Worf. I'll probably regret this in themorning, but if it's what you want, then by all means.\",\n",
       " 'The honour is mine.',\n",
       " 'New Orleans is a gorgeous city.',\n",
       " \"You'd better get used to it. Things are going to be prettydifferent around here now. To the best crew any captain ever had. Thismay be the last time we're all together, but no matter what the futureholds, no matter how far we travel, a part of us, a very importantpart, will always remain here on Deep Space Nine.\",\n",
       " 'I understand now.',\n",
       " 'What I have to do. What I was meant to do. Kasidy, I have to go.',\n",
       " 'To Bajor. To the fire caves.',\n",
       " 'No, I have to do this alone.',\n",
       " 'I should have known the demon would be you.',\n",
       " 'You are pathetic.',\n",
       " 'First the Dominion, now the Pah wraith. You have a talent forpicking the losing side.',\n",
       " 'The Pah wraith will never conquer anything. Not Bajor. Not theCelestial Temple. And certainly not the Alpha Quadrant.',\n",
       " 'I am.',\n",
       " 'Sarah? Are you here? What happened?',\n",
       " 'But the Pah wraiths.',\n",
       " \"The book was the key, wasn't it?\",\n",
       " 'And Dukat? Is he dead?',\n",
       " 'I intend to. As soon as I return to Deep Space Nine.',\n",
       " 'Kasidy.',\n",
       " 'The Celestial Temple.',\n",
       " \"I can't. Not now.\",\n",
       " \"It's difficult to explain. It's not linear.\",\n",
       " \"My life, my destiny. The Prophets saved me, Kasidy. I'm theirEmissary and they still have a great deal for me to do. But first,there is much to learn. Things only the Prophets can teach me.\",\n",
       " \"It's hard to say. Maybe a year, maybe yesterday. But I will beback.\"]"
      ]
     },
     "execution_count": 204,
     "metadata": {},
     "output_type": "execute_result"
    }
   ],
   "source": [
    "DS9_dict['SISKO']"
   ]
  },
  {
   "cell_type": "markdown",
   "metadata": {},
   "source": [
    "# Collecting all Scripts and Processing"
   ]
  },
  {
   "cell_type": "markdown",
   "metadata": {},
   "source": [
    "## Get the url for every episode\n",
    "\n",
    "The url for each episode is slightly different and some pages contain links to other areas of the site. We first collect these urls and filter for non-relevant links so we're left with only urls to each script."
   ]
  },
  {
   "cell_type": "code",
   "execution_count": 205,
   "metadata": {
    "collapsed": true
   },
   "outputs": [],
   "source": [
    "def get_page_links():\n",
    "    top_links=[\"http://www.chakoteya.net/DS9/episodes.htm\", \n",
    "                   \"http://www.chakoteya.net/StarTrek/episodes.htm\", \n",
    "                   \"http://www.chakoteya.net/NextGen/episodes.htm\", \n",
    "                   \"http://www.chakoteya.net/Voyager/episode_listing.htm\", \n",
    "                   \"http://www.chakoteya.net/Enterprise/episodes.htm\"]\n",
    "    short_links=[\"http://www.chakoteya.net/DS9/\", \n",
    "                   \"http://www.chakoteya.net/StarTrek/\", \n",
    "                   \"http://www.chakoteya.net/NextGen/\", \n",
    "                   \"http://www.chakoteya.net/Voyager/\", \n",
    "                   \"http://www.chakoteya.net/Enterprise/\"]\n",
    "    links_list=[]\n",
    "    names_list=[]\n",
    "    for i, link in enumerate(top_links):\n",
    "        response = requests.get(link)\n",
    "        content = response.content\n",
    "        parser = BeautifulSoup(content,'html.parser')\n",
    "        urls = parser.find_all('a')\n",
    "        for page in urls:\n",
    "            links_list.append(short_links[i]+str(page.get('href')))\n",
    "            name=page.text\n",
    "            name=name.replace('\\r\\n',' ')\n",
    "            names_list.append(name)\n",
    "            \n",
    "    \n",
    "    links_to_remove=['http://www.chakoteya.net/Voyager/fortyseven.htm',\n",
    "                     'http://www.chakoteya.net/Voyager/LineCountS1-S3.htm',\n",
    "                     'http://www.chakoteya.net/Voyager/LineCountS4-S7.htm',\n",
    "                     'http://www.chakoteya.net/Enterprise/fortyseven.htm',\n",
    "                    ]\n",
    "    links_list=[link for link in links_list if (link.endswith('.htm')) & (link not in links_to_remove)]\n",
    "    \n",
    "    return(links_list)"
   ]
  },
  {
   "cell_type": "code",
   "execution_count": 206,
   "metadata": {
    "collapsed": true
   },
   "outputs": [],
   "source": [
    "page_links=get_page_links()"
   ]
  },
  {
   "cell_type": "code",
   "execution_count": 207,
   "metadata": {},
   "outputs": [
    {
     "name": "stdout",
     "output_type": "stream",
     "text": [
      "708\n"
     ]
    }
   ],
   "source": [
    "print(len(page_links))"
   ]
  },
  {
   "cell_type": "code",
   "execution_count": 208,
   "metadata": {
    "collapsed": true
   },
   "outputs": [],
   "source": [
    "DS9_links = page_links[0:173]\n",
    "TOS_links = page_links[173:253]\n",
    "TAS_links = page_links[253:275]\n",
    "TNG_links = page_links[275:451]\n",
    "VOY_links = page_links[451:611]\n",
    "ENT_links = page_links[611:]\n",
    "\n",
    "links=[DS9_links, TOS_links, TAS_links, TNG_links, VOY_links, ENT_links]"
   ]
  },
  {
   "cell_type": "markdown",
   "metadata": {},
   "source": [
    "## Scrape and process all scripts from http://www.chakoteya.net/StarTrek/index.html\n",
    "\n",
    "From all the urls for each series, scrape the raw scripts. This generates a dictionary for each series, a dictionary of each episode and its raw text script.\n",
    "\n",
    "\n",
    "The processing stage will generate a dictionary of each series containing, for each episode, a dictionary of all lines spoken by each character.\n",
    "\n",
    "Structure:\n",
    "\n",
    "all_series_line={*series_name*:{*episode number*:{*character*:all_lines}}}\n",
    "\n",
    "e.g.\n",
    "\n",
    "all_series_lines['DS9']['episode 0']['SISKO']\n"
   ]
  },
  {
   "cell_type": "markdown",
   "metadata": {},
   "source": [
    "## Scrape raw scripts"
   ]
  },
  {
   "cell_type": "code",
   "execution_count": 209,
   "metadata": {},
   "outputs": [
    {
     "name": "stdout",
     "output_type": "stream",
     "text": [
      "DS9\n",
      "TOS\n",
      "TAS\n",
      "TNG\n",
      "VOY\n",
      "ENT\n"
     ]
    },
    {
     "name": "stderr",
     "output_type": "stream",
     "text": [
      "IOPub data rate exceeded.\n",
      "The notebook server will temporarily stop sending output\n",
      "to the client in order to avoid crashing it.\n",
      "To change this limit, set the config variable\n",
      "`--NotebookApp.iopub_data_rate_limit`.\n"
     ]
    }
   ],
   "source": [
    "links_names=['DS9', 'TOS', 'TAS', 'TNG', 'VOY', 'ENT']\n",
    "links=[DS9_links, TOS_links, TAS_links, TNG_links, VOY_links, ENT_links]\n",
    "\n",
    "all_series_scripts={}\n",
    "for i,series in enumerate(links):\n",
    "    series_name=str(links_names[i])\n",
    "    print(series_name)\n",
    "    all_series_scripts[series_name]={}\n",
    "    episode_script={}\n",
    "    all_cast=[]\n",
    "    for j,link in enumerate(series):\n",
    "        episode=\"episode \"+str(j)\n",
    "        text=get_text(link)\n",
    "        episode_script[episode]=text\n",
    "    all_series_scripts[series_name]=episode_script\n",
    "\n",
    "print(all_series_scripts)"
   ]
  },
  {
   "cell_type": "code",
   "execution_count": 211,
   "metadata": {
    "collapsed": true
   },
   "outputs": [],
   "source": [
    "with open('all_scripts_raw.json', 'w') as data:\n",
    "    json.dump(all_series_scripts, data)"
   ]
  },
  {
   "cell_type": "code",
   "execution_count": 212,
   "metadata": {
    "collapsed": true
   },
   "outputs": [],
   "source": [
    "with open('all_scripts_raw.json', 'r') as data:\n",
    "    all_scripts_raw = json.load(data)"
   ]
  },
  {
   "cell_type": "code",
   "execution_count": 226,
   "metadata": {
    "collapsed": true
   },
   "outputs": [],
   "source": [
    "#all_scripts_raw['DS9']['episode 0']"
   ]
  },
  {
   "cell_type": "markdown",
   "metadata": {},
   "source": [
    "## Process data\n",
    "\n",
    "Clean text, extract characters and compile lines."
   ]
  },
  {
   "cell_type": "code",
   "execution_count": 214,
   "metadata": {},
   "outputs": [
    {
     "name": "stdout",
     "output_type": "stream",
     "text": [
      "DS9\n",
      "TOS\n",
      "TAS\n",
      "TNG\n",
      "VOY\n",
      "ENT\n"
     ]
    },
    {
     "name": "stderr",
     "output_type": "stream",
     "text": [
      "IOPub data rate exceeded.\n",
      "The notebook server will temporarily stop sending output\n",
      "to the client in order to avoid crashing it.\n",
      "To change this limit, set the config variable\n",
      "`--NotebookApp.iopub_data_rate_limit`.\n"
     ]
    }
   ],
   "source": [
    "links_names=['DS9', 'TOS', 'TAS', 'TNG', 'VOY', 'ENT']\n",
    "\n",
    "all_series_lines={}\n",
    "for i,series in enumerate(links_names):\n",
    "    print(series)\n",
    "    series_name=str(linkseries_name=str(links_names[i])s_names[i])\n",
    "    all_series_lines[series_name]={}\n",
    "    all_lines_dict={}\n",
    "    all_cast=[]\n",
    "    #for j,episode in enumerate(all_series_scripts[series]):\n",
    "    for j,episode in enumerate(all_scripts_raw[series]):\n",
    "        #script=all_series_scripts[series][episode]\n",
    "        script=all_scripts_raw[series][episode]\n",
    "        cleaned_script=clean_text(script)\n",
    "        cast=get_cast(cleaned_script)\n",
    "        for member in cast:\n",
    "            if member not in all_cast:\n",
    "                all_cast.append(member)\n",
    "        lines_dict=get_lines(cleaned_script,all_cast)\n",
    "        all_lines_dict[episode]=lines_dict\n",
    "    all_series_lines[series]=all_lines_dict\n",
    "\n",
    "print(all_series_lines)"
   ]
  },
  {
   "cell_type": "code",
   "execution_count": 215,
   "metadata": {
    "collapsed": true
   },
   "outputs": [],
   "source": [
    "with open('all_series_lines.json', 'w') as data:\n",
    "    json.dump(all_series_lines, data)"
   ]
  },
  {
   "cell_type": "code",
   "execution_count": 216,
   "metadata": {
    "collapsed": true
   },
   "outputs": [],
   "source": [
    "with open('all_series_lines.json', 'r') as data:\n",
    "    all_series_lines = json.load(data)"
   ]
  },
  {
   "cell_type": "code",
   "execution_count": 217,
   "metadata": {},
   "outputs": [
    {
     "data": {
      "text/plain": [
       "['Tom Paris? Kathryn Janeway. I served with your father on theAl-Batani. I wonder if we could go somewhere and talk.',\n",
       " \"About a job we'd like you to do for us.\",\n",
       " \"I've been told the Rehab Commission is very pleased with yourwork. They've given me their approval to discuss this matter with you.\",\n",
       " 'Your father taught me a great deal. I was his science officerduring the Orias expedition.',\n",
       " \"I'm leaving on a mission to find a Maquis ship thatdisappeared in the Badlands a week ago.\",\n",
       " 'Really?',\n",
       " \"You've never seen Voyager. We'd like you to come along.\",\n",
       " \"You know the territory better than anyone we've got.\",\n",
       " \"My Chief of Security was on board, undercover. He was supposedto report in twice during the last six days. He didn't.\",\n",
       " 'Maybe. That ship was under the command of another formerStarfleet officer, named Chakotay. I understand you knew him.',\n",
       " \"The two of you didn't get along too well, I'm told.\",\n",
       " 'You help us find that ship, we help you at your next outmeetreview.',\n",
       " \"Officially, you'd be a Starfleet observer during the mission.\",\n",
       " \"You'll be an observer. When it's over, you're cut loose.\",\n",
       " 'And?',\n",
       " \"She's pregnant?\",\n",
       " \"Oh, Mark. You've got to take her home with you.\",\n",
       " \"She's with child. I can't leave her in a kennel while I'm\",\n",
       " 'Yes.',\n",
       " 'Thanks, honey.',\n",
       " 'As soon as I approve these systems status reports.',\n",
       " 'Hey. You never bother me, except the way I love to bebothered. Understand?',\n",
       " \"See you in a few weeks. Oh, Mark, go by my house and pick upthe doggie bed. She'll be more comfortable.\",\n",
       " 'Come in.',\n",
       " 'Gentlemen, welcome aboard Voyager.',\n",
       " \"Mister Kim, at ease before you sprain something. Ensign,despite Starfleet protocol, I don't like being addressed as sir.\",\n",
       " \"Ma'am is acceptable in a crunch, but I prefer Captain. We'regetting ready to leave. Let me show you to the bridge.\",\n",
       " 'Did you have any problems getting here, Mister Paris?',\n",
       " 'My first officer, Lieutenant Commander Cavit. Ensign Kim,Mister Paris.',\n",
       " 'Ensign Kim, this is your station. Would you like to take over?',\n",
       " \"It's not crunch time yet, Mister Kim. I'll let you know when.\",\n",
       " 'Engage.',\n",
       " 'Janeway to Paris.',\n",
       " \"Report to the Bridge. We're approaching the Badlands.\",\n",
       " 'The Cardassians gave us the last known heading of the Maquisship, and we have charts of the plasma storm activity the day itdisappeared. With a little help, we might be able to approximate itscourse.',\n",
       " 'Adjust our course to match.',\n",
       " \"The Cardassians claimed they forced the Maquis ship into aplasma storm where it was destroyed, but our probes haven't picked upany debris.\",\n",
       " \"We'd still be able to pick up a resonance trace from the warpcore.\",\n",
       " 'Origin, Mister Kim.',\n",
       " 'On screen.',\n",
       " 'Analysis.',\n",
       " 'Do it. Red alert. Move us away from it, Lieutenant.',\n",
       " 'Full impulse.',\n",
       " 'Can we go to warp?',\n",
       " 'Brace for impact.',\n",
       " 'Report!',\n",
       " 'Repair crews, seal off hull breach on deck fourteen.',\n",
       " \"Bridge to Sickbay. Doctor, can you hear me? Paris, how's Stadi?\",\n",
       " 'I need a better description than that, Mister Kim.',\n",
       " 'Can you get the viewscreen operational?',\n",
       " 'What about on that, that array?',\n",
       " 'Any idea what those pulses are that are coming from it, MisterKim?',\n",
       " 'Try hailing the array.',\n",
       " \"Secure all engineering systems. I'm on my way.\",\n",
       " \"Ensign, get down to Sickbay. See what's going on. MisterRollins, the Bridge is yours.\",\n",
       " \"What's the warp core pressure?\",\n",
       " 'Lock down the magnetic constrictors.',\n",
       " \"We don't have a choice. We've got to get the reaction ratedown before we try to seal it.\",\n",
       " 'Unlock the magnetic constrictors.',\n",
       " 'Pressure?',\n",
       " 'What kind of scan? Bridge? Janeway to Bridge, respond.',\n",
       " 'Initiate emergency lock-off.',\n",
       " \"Don't believe your eyes, Mister Paris. We've only transporteda hundred kilometres. We're inside the array.\",\n",
       " 'No, thank you. My name is Kathryn Janeway, captain of theFederation Starship Voyager.',\n",
       " 'Move around. Scan the area. See if you can find anything thatmight be a holographic generator.',\n",
       " \"Can you tell me why we're here?\",\n",
       " 'Wait for what?',\n",
       " 'Janeway here. Paris? Come on!',\n",
       " 'Janeway to Bridge. Anybody there?',\n",
       " 'How long were we over there?',\n",
       " 'Three days?',\n",
       " 'Tractor them. All senior officers, report',\n",
       " 'To the Bridge immediately.',\n",
       " 'Go ahead.',\n",
       " 'Acknowledged. Computer, how many crewmen are unaccounted for?',\n",
       " 'Hail the Maquis. Commander Chakotay. My name is CaptainKathryn Janeway.',\n",
       " 'We were on a mission to find you when we were brought here bythe array. One of our crewman is missing. Was he transported back toyour ship by accident?',\n",
       " \"Commander, you and I have the same problem. I think it makessense to try and solve it together, don't you?\",\n",
       " \"Put down your weapons. You won't need those here. It's good tohave you back, Mister Tuvok.\",\n",
       " 'You are speaking to a member of my crew. I expect you to treathim with the same respect as you would have me treat a member of yours. Now, we have a lot to accomplish, and I suggest we all concentrate onfinding our people and getting ourselves back home.',\n",
       " \"Break out the compression phaser rifles. Meet us inTransporter Room two. We're going back. We'll divide into teams. MisterTuvok, while Chakotay and I are looking for Torres and Kim, your job isto find out as much about this array as you can. It brought us here. Wehave to assume it can send us home. Agreed? MisterRollins, maintain Red alert. Keep us on constant transporter locks.\",\n",
       " 'If this has something to do with what Chakotay said.',\n",
       " 'Come on.',\n",
       " \"Maintain your comm. link. I don't want to lose anyone else.\",\n",
       " \"I don't know what you need and frankly I don't care. I justwant our people back and I want us all to be sent home.\",\n",
       " \"This minor bipedal species doesn't take kindly to beingabducted.\",\n",
       " 'What have you done to them?',\n",
       " \"We are their commanding officers. We are entrusted with theirsafety. They are our responsibility. That may be a concept you don'tunderstand.\",\n",
       " 'Left for what?',\n",
       " \"Tell us what you're looking for. Maybe we can help you find it.\",\n",
       " \"You've taken us seventy thousand light years from our home. Wehave no way back unless you send us, and we won't leave without theothers.\",\n",
       " 'Come in.',\n",
       " 'Faster.',\n",
       " \"That's only one of the mysteries we're dealing with, MisterTuvok. Take a look at this.\",\n",
       " \"It's virtually a desert. Not one ocean, not one river. It hasall the basic characteristics of an M-class planet except there are nonucleogenic particles in the atmosphere.\",\n",
       " \"I've studied thousands of M-class planets. I've never seen anatmosphere without nucleogenics. There must have been some kind ofextraordinary environmental disaster. As soon as repairs are complete,we'll set a course for the fifth planet.\",\n",
       " \"Kim's mother called me just after he left her. Delightfulwoman. He's her only son. He'd left his clarinet behind. She wanted toknow if she had time to send it. I had to tell her no. Did you know heplayed clarinet in the Julliard Youth Symphony?\",\n",
       " \"I barely knew him. I never seem to have the chance to get toknow any of them. I have to, I have to take more time to do that. It'sa fine crew and I've got to get them home.\",\n",
       " \"You're right as usual. I've missed your counsel, Tuvok.\",\n",
       " 'I spoke to your family before I left.',\n",
       " 'Well, but worried about you.',\n",
       " 'They miss you.',\n",
       " \"I'll get you back to them. That's a promise, Tuvok. Captain's log, supplemental. The Maquis ship and Voyager haveencountered a debris field where sensors have detected a small vessel. One humanoid life form is on board.\",\n",
       " 'Hail them.',\n",
       " \"We're not interested in this debris, MisterNEELIX\",\n",
       " 'Captain Kathryn Janeway of the Federation starship Voyager.',\n",
       " 'Do you know this area of space well, Mister Neelix?',\n",
       " \"Do you know anything about the array that's sending energypulses to the fifth planet?\",\n",
       " \"Sounds as though you've heard this story before.\",\n",
       " 'The Caretaker?',\n",
       " 'As a matter of fact, he did.',\n",
       " 'Do you know where he might have taken them?',\n",
       " \"We'd appreciate any help you could give us in finding theseOcampa.\",\n",
       " \"Of course, we'd want to compensate you for your trouble.\",\n",
       " 'Yes?',\n",
       " 'If you help us find our missing crew members, you can have allthe water you want.',\n",
       " \"Good. We'll beam you over and tow your ship into our shuttlebay. Mister Tuvok, go to Transporter Room two and meet our guest.\",\n",
       " \"We have a technology which can take you instantly from yourship to ours. It's quite harmless. May we?\",\n",
       " 'The Kazon-Ogla? Who are the Kazon-Ogla?',\n",
       " 'I thought you said the Ocampa had our people.',\n",
       " 'Janeway to Voyager. Energise.',\n",
       " \"There's more where that came from, if you can help us.\",\n",
       " 'This man led us here suggesting we might find a people calledthe Ocampa. Do you know where they are?',\n",
       " 'To the surface? You mean they live underground?',\n",
       " 'This same entity has abducted two of our people. We believethey might be with the Ocampa.',\n",
       " \"That would be difficult. It's integrated into our ship'ssystems.\",\n",
       " 'Six to beam up.',\n",
       " 'Computer, end Medical Holographic Programme.',\n",
       " 'Would you be willing to take us underground to look for ourmissing crew?',\n",
       " \"We don't need a tunnel. We have the ability to transport theredirectly.\",\n",
       " 'Have the transporter room begin a sweep for any breaches wemight be able to beam through.',\n",
       " 'Can you take us there?',\n",
       " \"We'll be glad to leave once we find our crewmen.\",\n",
       " 'Away team to Voyager.',\n",
       " \"What's going on with the array?\",\n",
       " 'Keep me informed. Janeway out.',\n",
       " 'If they were trying to get to the surface, how would they go?',\n",
       " 'Mister Paris, you and Neelix go with her and start checkingthem out. We need to talk to every doctor and nurse at this hospital,see what they can tell about Torres and Kim.',\n",
       " 'Go ahead.',\n",
       " 'Understood. Keep a channel open.',\n",
       " 'Explain.',\n",
       " 'If he dies, how the hell are we supposed to get home?',\n",
       " 'Go ahead.',\n",
       " \"Call for transport when you have them, Paris. We'll meet youon the ship. Janeway to Voyager.\",\n",
       " 'Three to beam up.',\n",
       " \"Come on. There's only one other way out of here.\",\n",
       " 'Janeway to Paris.',\n",
       " \"The transporters aren't working. You're going to have tofind a breach in the security barrier when you get to the top.\",\n",
       " \"We're a few minutes behind you. Janeway out.\",\n",
       " 'Go ahead.',\n",
       " \"Don't wait for us. Get them tosafety.\",\n",
       " \"They're not far ahead of us. Keep going.\",\n",
       " 'Hold on.',\n",
       " 'Neelix, help me with Tuvok.',\n",
       " 'Go ahead.',\n",
       " \"Set a course. I'm on my way.\",\n",
       " 'Bring the weapons systems online.',\n",
       " 'Red alert.',\n",
       " 'On screen.',\n",
       " \"All we care about is getting home, Jabin. We're about totransport over to the Array to see if we can arrange it.\",\n",
       " 'We have no dispute with you.',\n",
       " 'This is ridiculous. We have no intention of challenging you.',\n",
       " 'Jabin, can we discuss this like two civilised',\n",
       " \"I guess we can't.\",\n",
       " 'Fire phasers. Evasive pattern, delta four.',\n",
       " 'Janeway to Chakotay. Tuvok and I are beaming to the Array. Canyou hold off the Kazon?',\n",
       " 'Good. Mister Paris, take the conn.',\n",
       " 'Maintain transporter locks, Ensign. Emergency beam out status.',\n",
       " 'You know what to do.',\n",
       " 'We need you to send us back where we came from.',\n",
       " \"You're sealing the conduits before you die.\",\n",
       " \"Something you did turned their planet into a desert, didn'tit? That was the debt that could never be repaid.\",\n",
       " \"There's another like you here?\",\n",
       " 'Why were you bringing ships here, infecting people with afatal illness?',\n",
       " 'Incompatible?',\n",
       " \"You've been trying to procreate?\",\n",
       " 'Did you ever consider allowing the Ocampa to care forthemselves?',\n",
       " \"Children have to grow up. We're explorers too. Most of thespecies we've encountered have overcome all kinds of adversity withouta Caretaker. It's the challenge of surviving on their own that helpsthem to evolve. Maybe your children will do better than you think.\",\n",
       " 'Go ahead.',\n",
       " 'We need more time.',\n",
       " 'Can you hold them off for another few minutes?',\n",
       " 'Unless you help us.',\n",
       " \"If you destroy the Array, we'll have no way to get home.\",\n",
       " 'Voyager, report.',\n",
       " 'Affirmative.',\n",
       " 'Stand by.',\n",
       " \"And what happens to the Ocampa after we're gone?\",\n",
       " 'Would it? We never asked to be involved, Tuvok, but we are. Weare.',\n",
       " 'Mister Tuvok, ready the tricobalt devices.',\n",
       " 'Open a channel to the Kazon.',\n",
       " \"I'm calling to warn you to move your vessels to a safedistance. I intend to destroy the Array.\",\n",
       " 'I can and I will. End transmission.',\n",
       " 'Move us four hundred kilometres from the Array, Mister Paris.',\n",
       " \"I'm aware everyone has families and loved ones at homes theywant to get back to. So do I. But I'm not willing to trade the lives ofthe Ocampa for our convenience. We'll have to find another way home.\",\n",
       " 'Fire.',\n",
       " 'On screen.',\n",
       " 'Come in.',\n",
       " \"Mister Paris, you have a problem. I've invited Chakotay andthe other Maquis to become part of this crew. It seemed the onlyreasonable thing to do under the circumstances.\",\n",
       " 'It seems you already have one.',\n",
       " \"Mister Chakotay said something about his life belonging toyou? He'll be taking responsibility for your safety.\",\n",
       " \"Don't be so sure. He'll also be my First Officer. Everyoneaboard this ship will report to him, including the lieutenant assignedto conn.\",\n",
       " \"I've entered into the ship's log on this date that I'mgranting a field commission of lieutenant to Thomas Eugene Paris. Congratulations.\",\n",
       " \"You've earned this, Tom. I'm only sorry your father won't know.\",\n",
       " \"We supplied your ship with water, Neelix. It's ready to go.\",\n",
       " \"I'm sorry. This isn't a passenger ship.\",\n",
       " 'Colleagues?',\n",
       " \"We're alone in an uncharted part of the galaxy. We havealready made some friends here, and some enemies. We have no idea ofthe dangers we're going to face, but one thing is clear. Both crews aregoing to have to work together if we're to survive. That's whyCommander Chakotay and I have agreed that this should be one crew. AStarfleet crew. And as the only Starfleet vessel assigned to the DeltaQuadrant, we'll continue to follow our directive to seek out new worldsand explore space. But our primary goal is clear. Even at maximumspeeds, it would take seventy five years to reach the Federation, butI'm not willing to settle for that. There's another entity like theCaretaker out there somewhere who has the ability to get us there a lotfaster. We'll be looking for her, and we'll be looking for wormholes,spatial rifts, or new technologies to help us. Somewhere along thisjourney, we'll find a way back. Mister Paris, set a course for home.\"]"
      ]
     },
     "execution_count": 217,
     "metadata": {},
     "output_type": "execute_result"
    }
   ],
   "source": [
    "all_series_lines['VOY']['episode 0']['JANEWAY']"
   ]
  },
  {
   "cell_type": "markdown",
   "metadata": {},
   "source": [
    "## First Analysis \n",
    "\n",
    "To start, let's have a look at the most lines delivered by each charater in Deep Space Nine.\n",
    "\n",
    "From the processed dataset, generate counts of all lines spoken by each charater."
   ]
  },
  {
   "cell_type": "code",
   "execution_count": 218,
   "metadata": {
    "collapsed": true
   },
   "outputs": [],
   "source": [
    "episodes=all_series_lines['DS9'].keys()"
   ]
  },
  {
   "cell_type": "code",
   "execution_count": 219,
   "metadata": {
    "collapsed": true
   },
   "outputs": [],
   "source": [
    "total_lines_counts={}\n",
    "line_counts_by_episode={}\n",
    "for i,ep in enumerate(episodes):\n",
    "    episode=\"episode \"+str(i)\n",
    "    line_counts_by_episode[episode]={}\n",
    "    for member in list(all_series_lines['DS9'][ep].keys()):\n",
    "        line_counts_by_episode[episode][member]=len(all_series_lines['DS9'][ep][member])\n",
    "        if member in total_lines_counts.keys():\n",
    "            total_lines_counts[member]=total_lines_counts[member]+len(all_series_lines['DS9'][ep][member])\n",
    "        else:\n",
    "            total_lines_counts[member]=len(all_series_lines['DS9'][ep][member])\n",
    "\n",
    "#print(total_lines_counts)\n",
    "#print(\"\")\n",
    "#print(line_counts_by_episode)"
   ]
  },
  {
   "cell_type": "code",
   "execution_count": 220,
   "metadata": {},
   "outputs": [
    {
     "data": {
      "image/png": "[encoded data removed]",
      "text/plain": [
       "<matplotlib.figure.Figure at 0x1c4c6ec0710>"
      ]
     },
     "metadata": {},
     "output_type": "display_data"
    }
   ],
   "source": [
    "DS9_df=pd.DataFrame(list(total_lines_counts.items()), columns=['Character','No. of Lines'])\n",
    "Top20=DS9_df.sort_values(by='No. of Lines', ascending=False).head(20)\n",
    "\n",
    "Top20.plot.bar(x='Character',y='No. of Lines')\n",
    "plt.show()"
   ]
  },
  {
   "cell_type": "code",
   "execution_count": null,
   "metadata": {
    "collapsed": true
   },
   "outputs": [],
   "source": []
  }
 ],
 "metadata": {
  "kernelspec": {
   "display_name": "Python 3",
   "language": "python",
   "name": "python3"
  },
  "language_info": {
   "codemirror_mode": {
    "name": "ipython",
    "version": 3
   },
   "file_extension": ".py",
   "mimetype": "text/x-python",
   "name": "python",
   "nbconvert_exporter": "python",
   "pygments_lexer": "ipython3",
   "version": "3.6.3"
  }
 },
 "nbformat": 4,
 "nbformat_minor": 2
}
