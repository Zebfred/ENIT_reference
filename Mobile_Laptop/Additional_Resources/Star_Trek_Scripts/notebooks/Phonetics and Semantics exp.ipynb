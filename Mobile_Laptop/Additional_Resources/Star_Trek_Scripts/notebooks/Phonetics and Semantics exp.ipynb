{
 "cells": [
  {
   "cell_type": "code",
   "execution_count": 1,
   "metadata": {
    "collapsed": true
   },
   "outputs": [],
   "source": [
    "import requests\n",
    "import pandas as pd\n",
    "from bs4 import BeautifulSoup\n",
    "import string\n",
    "import re\n",
    "import nltk\n",
    "import json\n",
    "import matplotlib.pyplot as plt\n",
    "import numpy as np\n",
    "from nltk.corpus import wordnet as wn\n",
    "import spacy\n",
    "from collections import Counter\n",
    "\n",
    "nlp=spacy.load(\"en_core_web_sm\")"
   ]
  },
  {
   "cell_type": "code",
   "execution_count": 2,
   "metadata": {
    "collapsed": true
   },
   "outputs": [],
   "source": [
    "data=pd.read_json(\"../data/all_series_lines.json\")"
   ]
  },
  {
   "cell_type": "markdown",
   "metadata": {},
   "source": [
    "### Get all the Captains' lines\n",
    "\n",
    "Get the captains' lines and tag using spacy's english language model."
   ]
  },
  {
   "cell_type": "code",
   "execution_count": 6,
   "metadata": {},
   "outputs": [],
   "source": [
    "kirk_lines=[]\n",
    "picard_lines=[]\n",
    "sisko_lines=[]\n",
    "janeway_lines=[]\n",
    "archer_lines=[]\n",
    "\n",
    "episodes=data['TOS'].keys()\n",
    "for ep in episodes:\n",
    "    if data['TOS'][ep] is not np.NaN:\n",
    "        if 'KIRK' in data['TOS'][ep].keys():\n",
    "            kirk_lines.append(data['TOS'][ep]['KIRK'])\n",
    "\n",
    "kirk_lines=[item for sublist in kirk_lines for item in sublist]\n",
    "kirk_lines=' '.join(kirk_lines)\n",
    "\n",
    "episodes=data['TNG'].keys()\n",
    "for ep in episodes:\n",
    "    if data['TNG'][ep] is not np.NaN:\n",
    "        picard_lines.append(data['TNG'][ep]['PICARD'])\n",
    "\n",
    "picard_lines=[item for sublist in picard_lines for item in sublist]\n",
    "picard_lines=' '.join(picard_lines)\n",
    "\n",
    "episodes=data['DS9'].keys()\n",
    "for ep in episodes:\n",
    "    if data['DS9'][ep] is not np.NaN:\n",
    "        sisko_lines.append(data['DS9'][ep]['SISKO'])\n",
    "    \n",
    "sisko_lines=[item for sublist in sisko_lines for item in sublist]\n",
    "sisko_lines=' '.join(sisko_lines)\n",
    "\n",
    "episodes=data['VOY'].keys()\n",
    "for ep in episodes:\n",
    "    if data['VOY'][ep] is not np.NaN:\n",
    "        janeway_lines.append(data['VOY'][ep]['JANEWAY'])\n",
    "\n",
    "janeway_lines=[item for sublist in janeway_lines for item in sublist]\n",
    "janeway_lines=' '.join(janeway_lines)\n",
    "\n",
    "episodes=data['ENT'].keys()\n",
    "for ep in episodes:\n",
    "    if data['ENT'][ep] is not np.NaN:\n",
    "        archer_lines.append(data['ENT'][ep]['ARCHER'])\n",
    "\n",
    "archer_lines=[item for sublist in archer_lines for item in sublist]\n",
    "archer_lines=' '.join(archer_lines)"
   ]
  },
  {
   "cell_type": "code",
   "execution_count": 7,
   "metadata": {},
   "outputs": [
    {
     "name": "stdout",
     "output_type": "stream",
     "text": [
      "kirk done...\n",
      "picard done...\n",
      "sisko done...\n",
      "janeway done...\n",
      "archer done...\n"
     ]
    }
   ],
   "source": [
    "kirk_lines_nlp=nlp(kirk_lines)\n",
    "print('kirk done...')\n",
    "picard_lines_nlp=nlp(picard_lines)\n",
    "print('picard done...')\n",
    "sisko_lines_nlp=nlp(sisko_lines)\n",
    "print('sisko done...')\n",
    "janeway_lines_nlp=nlp(janeway_lines)\n",
    "print('janeway done...')\n",
    "archer_lines_nlp=nlp(archer_lines)\n",
    "print('archer done...')"
   ]
  },
  {
   "cell_type": "markdown",
   "metadata": {},
   "source": [
    "### Total Vocabulary size\n",
    "\n",
    "Greater vocabulary implies greater intelligence."
   ]
  },
  {
   "cell_type": "code",
   "execution_count": 8,
   "metadata": {},
   "outputs": [
    {
     "name": "stdout",
     "output_type": "stream",
     "text": [
      "133342\n",
      "179559\n",
      "121776\n",
      "165089\n",
      "107435\n"
     ]
    }
   ],
   "source": [
    "print(len(kirk_lines_nlp))\n",
    "print(len(picard_lines_nlp))\n",
    "print(len(sisko_lines_nlp))\n",
    "print(len(janeway_lines_nlp))\n",
    "print(len(archer_lines_nlp))"
   ]
  },
  {
   "cell_type": "code",
   "execution_count": 9,
   "metadata": {},
   "outputs": [
    {
     "data": {
      "image/png": "[encoded data removed]",
      "text/plain": [
       "<matplotlib.figure.Figure at 0x1c280119940>"
      ]
     },
     "metadata": {},
     "output_type": "display_data"
    }
   ],
   "source": [
    "y = [len(kirk_lines),len(picard_lines),len(sisko_lines),len(janeway_lines),len(archer_lines)]\n",
    "x = ['Kirk', 'Picard','Sisko','Janeway','Archer']\n",
    "width = 1/1.5\n",
    "plt.bar(x, y, width, color=\"blue\")\n",
    "plt.show()"
   ]
  },
  {
   "cell_type": "markdown",
   "metadata": {},
   "source": [
    "### Complex words\n",
    "\n",
    "Lower number of contexts implies more complex vocabulary. Calculate number of complex words using nltk wordnet."
   ]
  },
  {
   "cell_type": "code",
   "execution_count": 10,
   "metadata": {},
   "outputs": [
    {
     "name": "stdout",
     "output_type": "stream",
     "text": [
      "auxiliary Synset('aide.n.02')\n"
     ]
    }
   ],
   "source": [
    "for word in sisko_lines_nlp[1:2]:\n",
    "    print(str(word.text)+\" \"+str(wn.synsets(word.text)[0]))"
   ]
  },
  {
   "cell_type": "code",
   "execution_count": 11,
   "metadata": {},
   "outputs": [
    {
     "name": "stdout",
     "output_type": "stream",
     "text": [
      "Help on method synsets in module nltk.corpus.reader.wordnet:\n",
      "\n",
      "synsets(lemma, pos=None, lang='eng', check_exceptions=True) method of nltk.corpus.reader.wordnet.WordNetCorpusReader instance\n",
      "    Load all synsets with a given lemma and part of speech tag.\n",
      "    If no pos is specified, all synsets for all parts of speech\n",
      "    will be loaded.\n",
      "    If lang is specified, all the synsets associated with the lemma name\n",
      "    of that language will be returned.\n",
      "\n"
     ]
    }
   ],
   "source": [
    "help(wn.synsets)"
   ]
  },
  {
   "cell_type": "markdown",
   "metadata": {
    "collapsed": true
   },
   "source": [
    "### Common words"
   ]
  },
  {
   "cell_type": "code",
   "execution_count": 50,
   "metadata": {},
   "outputs": [
    {
     "name": "stdout",
     "output_type": "stream",
     "text": [
      "common: [('-PRON-', 5956), ('be', 2687), ('not', 1324), ('will', 623), ('know', 529), ('go', 528), ('want', 489), ('what', 438), ('have', 429), ('the', 428)]\n",
      "common: [('Dax', 152), ('Jake', 126), ('Bajor', 120), ('one', 115), ('Dominion', 107), ('Worf', 102), ('first', 93), ('Federation', 89), (\"O'Brien\", 88), ('Starfleet', 88)]\n",
      "common: [('what', 423), ('time', 269), ('way', 257), ('ship', 232), ('station', 213), ('thing', 161), ('people', 153), ('man', 147), ('day', 97), ('year', 95)]\n",
      "common: [(Reroute auxiliary power, 1), (Full reverse, 1), (Damage report, 1), (Damage report, 1), (everything, 1), (your assignedevacuation area, 1), (Doran, 1), (you, 1), (Jennifer, 1), (Jennifer, 1)]\n"
     ]
    }
   ],
   "source": [
    "words = [token.lemma_ for token in sisko_lines_nlp if token.is_stop != True and token.is_punct != True]\n",
    "ents = [ent.text for ent in sisko_lines_nlp.ents]\n",
    "nouns = [token.lemma_ for token in sisko_lines_nlp if token.is_stop != True and token.is_punct != True and token.pos_ == \"NOUN\"]\n",
    "noun_chunk = [chunk for chunk in sisko_lines_nlp.noun_chunks]\n",
    "\n",
    "word_types=[words,ents,nouns,noun_chunk]\n",
    "\n",
    "for typ in word_types:\n",
    "    freq = Counter(typ)\n",
    "    common = freq.most_common(10)\n",
    "    print(\"common: \"+str(common))"
   ]
  },
  {
   "cell_type": "markdown",
   "metadata": {},
   "source": [
    "### Which other character so each Captain mention the most?"
   ]
  },
  {
   "cell_type": "code",
   "execution_count": 54,
   "metadata": {},
   "outputs": [
    {
     "name": "stdout",
     "output_type": "stream",
     "text": [
      "Kirk: Spock\n",
      "Picard: Data\n",
      "Sisko: Dax\n",
      "Janeway: Chakotay\n",
      "Archer: T'Pol\n"
     ]
    }
   ],
   "source": [
    "captains=['Kirk','Picard','Sisko','Janeway','Archer']\n",
    "lines=[kirk_lines_nlp,picard_lines_nlp,sisko_lines_nlp,janeway_lines_nlp,archer_lines_nlp]              \n",
    "for i,captain in enumerate(captains):\n",
    "    ents = [ent.text for ent in lines[i].ents if ent.label_==\"PERSON\"]\n",
    "    freq = Counter(ents)\n",
    "    common = freq.most_common(1)\n",
    "    print(str(captain)+\": \"+str(common[0][0]))"
   ]
  },
  {
   "cell_type": "markdown",
   "metadata": {},
   "source": [
    "### Sentiment - word association"
   ]
  },
  {
   "cell_type": "code",
   "execution_count": null,
   "metadata": {
    "collapsed": true
   },
   "outputs": [],
   "source": []
  }
 ],
 "metadata": {
  "kernelspec": {
   "display_name": "Python 3",
   "language": "python",
   "name": "python3"
  },
  "language_info": {
   "codemirror_mode": {
    "name": "ipython",
    "version": 3
   },
   "file_extension": ".py",
   "mimetype": "text/x-python",
   "name": "python",
   "nbconvert_exporter": "python",
   "pygments_lexer": "ipython3",
   "version": "3.6.3"
  }
 },
 "nbformat": 4,
 "nbformat_minor": 2
}
