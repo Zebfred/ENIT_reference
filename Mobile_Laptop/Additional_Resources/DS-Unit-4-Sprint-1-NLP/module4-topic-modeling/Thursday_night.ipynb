{
 "cells": [
  {
   "cell_type": "code",
   "execution_count": 1,
   "metadata": {},
   "outputs": [],
   "source": [
    "import requests\n",
    "from bs4 import BeautifulSoup"
   ]
  },
  {
   "cell_type": "code",
   "execution_count": 4,
   "metadata": {},
   "outputs": [],
   "source": [
    "the_link = requests.get('https://www.leafly.com/strains')\n",
    "#response object"
   ]
  },
  {
   "cell_type": "code",
   "execution_count": 5,
   "metadata": {},
   "outputs": [],
   "source": [
    "#yay\n",
    "#need to pull out atributes of the response object\n",
    "#values? html text of the page \n",
    "soup = BeautifulSoup(the_link.text, 'html.parser')"
   ]
  },
  {
   "cell_type": "code",
   "execution_count": 18,
   "metadata": {},
   "outputs": [],
   "source": [
    "#following \n",
    "#find statement\n",
    "\n",
    "list_strain = soup.find(class_ = \"strain-playlist-grid\").find_all(class_= \"strain-tile justify-start relative\")\n",
    "#list of all a tags for that class"
   ]
  },
  {
   "cell_type": "code",
   "execution_count": 22,
   "metadata": {},
   "outputs": [],
   "source": [
    "url_list = [href['href'] for href in list_strain]"
   ]
  },
  {
   "cell_type": "code",
   "execution_count": null,
   "metadata": {},
   "outputs": [],
   "source": [
    "#preprocessing text\n",
    "#tokenization\n",
    "#lemma, stemming \n",
    "#vectorization.Bag-of-words anything that turns into words into vector. embedding has a pretrain model \n",
    "#vectorization. ex: TFidf. count vectorizer. making words into math\n",
    "#doc classification(kaggle challenge) rfc, vect. SVD. embedding\n",
    "#spacy does a lot. preprocessing is part of it.\n",
    "#lda modeling, topic modeling.\n",
    "#coherence values tool for picking good number of topics \n",
    "# no embedding  \n",
    "# dope visualization \n",
    "\n"
   ]
  }
 ],
 "metadata": {
  "kernelspec": {
   "display_name": "U4-S1-NLP (Python3)",
   "language": "python",
   "name": "u4-s1-nlp"
  },
  "language_info": {
   "codemirror_mode": {
    "name": "ipython",
    "version": 3
   },
   "file_extension": ".py",
   "mimetype": "text/x-python",
   "name": "python",
   "nbconvert_exporter": "python",
   "pygments_lexer": "ipython3",
   "version": "3.7.0"
  }
 },
 "nbformat": 4,
 "nbformat_minor": 4
}
