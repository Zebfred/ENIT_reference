{
 "cells": [
  {
   "cell_type": "code",
   "execution_count": null,
   "metadata": {},
   "outputs": [],
   "source": []
  },
  {
   "cell_type": "markdown",
   "metadata": {},
   "source": [
    "## How do we want to analyze these coffee shop tokens? \n",
    "\n",
    "- Overall Word / Token Count\n",
    "- View Counts by Rating \n",
    "- *Hint:* a 'bad' coffee shops has a rating betweeen 1 & 3 based on the distribution of ratings. A 'good' coffee shop is a 4 or 5. "
   ]
  },
  {
   "cell_type": "markdown",
   "metadata": {},
   "source": [
    "4,5 ratings \n",
    "\n",
    "1-3 ratings \n",
    "\n",
    "remove punctionation\n",
    "get stems and lems\n"
   ]
  },
  {
   "cell_type": "markdown",
   "metadata": {},
   "source": [
    "## How do we want to analyze these coffee shop tokens? \n",
    "\n",
    "- Overall Word / Token Count\n",
    "- View Counts by Rating \n",
    "- *Hint:* a 'bad' coffee shops has a rating betweeen 1 & 3 based on the distribution of ratings. A 'good' coffee shop is a 4 or 5. "
   ]
  },
  {
   "cell_type": "code",
   "execution_count": 2,
   "metadata": {},
   "outputs": [],
   "source": [
    "# Start here \n",
    "\n",
    "\"\"\"\n",
    "Import Statements\n",
    "\"\"\"\n",
    "\n",
    "# Base\n",
    "from collections import Counter\n",
    "import re\n",
    " \n",
    "import pandas as pd\n",
    "\n",
    "# Plotting\n",
    "import squarify\n",
    "import matplotlib.pyplot as plt\n",
    "import seaborn as sns\n",
    "\n",
    "# NLP Libraries\n",
    "import spacy\n",
    "from spacy.tokenizer import Tokenizer\n",
    "from nltk.stem import PorterStemmer"
   ]
  },
  {
   "cell_type": "code",
   "execution_count": 4,
   "metadata": {},
   "outputs": [
    {
     "data": {
      "text/html": [
       "<div>\n",
       "<style scoped>\n",
       "    .dataframe tbody tr th:only-of-type {\n",
       "        vertical-align: middle;\n",
       "    }\n",
       "\n",
       "    .dataframe tbody tr th {\n",
       "        vertical-align: top;\n",
       "    }\n",
       "\n",
       "    .dataframe thead th {\n",
       "        text-align: right;\n",
       "    }\n",
       "</style>\n",
       "<table border=\"1\" class=\"dataframe\">\n",
       "  <thead>\n",
       "    <tr style=\"text-align: right;\">\n",
       "      <th></th>\n",
       "      <th>coffee_shop_name</th>\n",
       "      <th>full_review_text</th>\n",
       "      <th>star_rating</th>\n",
       "    </tr>\n",
       "  </thead>\n",
       "  <tbody>\n",
       "    <tr>\n",
       "      <th>0</th>\n",
       "      <td>The Factory - Cafe With a Soul</td>\n",
       "      <td>11/25/2016 1 check-in Love love loved the atm...</td>\n",
       "      <td>5.0 star rating</td>\n",
       "    </tr>\n",
       "    <tr>\n",
       "      <th>1</th>\n",
       "      <td>The Factory - Cafe With a Soul</td>\n",
       "      <td>12/2/2016 Listed in Date Night: Austin, Ambia...</td>\n",
       "      <td>4.0 star rating</td>\n",
       "    </tr>\n",
       "    <tr>\n",
       "      <th>2</th>\n",
       "      <td>The Factory - Cafe With a Soul</td>\n",
       "      <td>11/30/2016 1 check-in Listed in Brunch Spots ...</td>\n",
       "      <td>4.0 star rating</td>\n",
       "    </tr>\n",
       "    <tr>\n",
       "      <th>3</th>\n",
       "      <td>The Factory - Cafe With a Soul</td>\n",
       "      <td>11/25/2016 Very cool decor! Good drinks Nice ...</td>\n",
       "      <td>2.0 star rating</td>\n",
       "    </tr>\n",
       "    <tr>\n",
       "      <th>4</th>\n",
       "      <td>The Factory - Cafe With a Soul</td>\n",
       "      <td>12/3/2016 1 check-in They are located within ...</td>\n",
       "      <td>4.0 star rating</td>\n",
       "    </tr>\n",
       "  </tbody>\n",
       "</table>\n",
       "</div>"
      ],
      "text/plain": [
       "                  coffee_shop_name  \\\n",
       "0  The Factory - Cafe With a Soul    \n",
       "1  The Factory - Cafe With a Soul    \n",
       "2  The Factory - Cafe With a Soul    \n",
       "3  The Factory - Cafe With a Soul    \n",
       "4  The Factory - Cafe With a Soul    \n",
       "\n",
       "                                    full_review_text        star_rating  \n",
       "0   11/25/2016 1 check-in Love love loved the atm...   5.0 star rating   \n",
       "1   12/2/2016 Listed in Date Night: Austin, Ambia...   4.0 star rating   \n",
       "2   11/30/2016 1 check-in Listed in Brunch Spots ...   4.0 star rating   \n",
       "3   11/25/2016 Very cool decor! Good drinks Nice ...   2.0 star rating   \n",
       "4   12/3/2016 1 check-in They are located within ...   4.0 star rating   "
      ]
     },
     "execution_count": 4,
     "metadata": {},
     "output_type": "execute_result"
    }
   ],
   "source": [
    "import pandas as pd\n",
    "\n",
    "url = \"https://raw.githubusercontent.com/LambdaSchool/DS-Unit-4-Sprint-1-NLP/master/module1-text-data/data/yelp_coffeeshop_review_data.csv\"\n",
    "\n",
    "df_sho = pd.read_csv(url)\n",
    "df_sho.head()"
   ]
  },
  {
   "cell_type": "code",
   "execution_count": 6,
   "metadata": {},
   "outputs": [
    {
     "data": {
      "text/plain": [
       " 5.0 star rating     3780\n",
       " 4.0 star rating     2360\n",
       " 3.0 star rating      738\n",
       " 2.0 star rating      460\n",
       " 1.0 star rating      278\n",
       "Name: star_rating, dtype: int64"
      ]
     },
     "execution_count": 6,
     "metadata": {},
     "output_type": "execute_result"
    }
   ],
   "source": [
    "df_sho['star_rating'].value_counts()"
   ]
  },
  {
   "cell_type": "code",
   "execution_count": 20,
   "metadata": {},
   "outputs": [],
   "source": [
    "\n",
    "#replace str with int\n",
    "numbers = {'5.0 star rating':5\n",
    ", '4.0 star rating':4\n",
    ", '3.0 star rating':3  \n",
    ", '2.0 star rating':2\n",
    ", '1.0 star rating':1}\n",
    "\n",
    "df_improve = df_sho['star_rating'].replace({'5.0 star rating':'5'\n",
    ", '4.0 star rating':4\n",
    ", '3.0 star rating':3  \n",
    ", '2.0 star rating':2\n",
    ", '1.0 star rating':1})\n",
    "\n",
    "# using apply method \n",
    "#df[['A', 'C']] = df[['A', 'C']].apply(pd.to_numeric) \n",
    "#print(df.dtypes) "
   ]
  },
  {
   "cell_type": "code",
   "execution_count": 22,
   "metadata": {},
   "outputs": [],
   "source": [
    "str = '5.0 star rating'"
   ]
  },
  {
   "cell_type": "code",
   "execution_count": 24,
   "metadata": {},
   "outputs": [
    {
     "data": {
      "text/plain": [
       "'5'"
      ]
     },
     "execution_count": 24,
     "metadata": {},
     "output_type": "execute_result"
    }
   ],
   "source": [
    "str.replace('5.0 star rating', '5')"
   ]
  },
  {
   "cell_type": "code",
   "execution_count": 37,
   "metadata": {},
   "outputs": [],
   "source": [
    "#### som5 = df_sho['star_rating'].str.replace('5.0 star rating','5')\n",
    "som4 = som5.str.replace('4.0 star rating','4')\n",
    "som3 = som4.str.replace('3.0 star rating','3')\n",
    "som2 = som3.str.replace('2.0 star rating','2')\n",
    "som = som2.str.replace('1.0 star rating','1')\n",
    "                                   \n",
    "    #'4.0 star rating': '4')\n",
    "\n",
    "#, '3.0 star rating':3  \n",
    "#, '2.0 star rating':2\n",
    "#, '1.0 star rating':1})"
   ]
  },
  {
   "cell_type": "code",
   "execution_count": 54,
   "metadata": {},
   "outputs": [],
   "source": [
    "som_new = som.rename(columns= {'star_rating':'star_num'})"
   ]
  },
  {
   "cell_type": "code",
   "execution_count": 55,
   "metadata": {},
   "outputs": [],
   "source": [
    "df_bet = pd.concat([df_sho,som_new],axis=1)"
   ]
  },
  {
   "cell_type": "code",
   "execution_count": 58,
   "metadata": {},
   "outputs": [],
   "source": [
    "df_bet = df_bet.rename(columns= {0:'star_num'})"
   ]
  },
  {
   "cell_type": "code",
   "execution_count": 59,
   "metadata": {},
   "outputs": [
    {
     "name": "stdout",
     "output_type": "stream",
     "text": [
      "coffee_shop_name    object\n",
      "full_review_text    object\n",
      "star_rating         object\n",
      "star_num             int64\n",
      "dtype: object\n"
     ]
    }
   ],
   "source": [
    "df_bet['star_num'] = df_bet['star_num'].apply(pd.to_numeric) \n",
    "print(df_bet.dtypes)"
   ]
  },
  {
   "cell_type": "code",
   "execution_count": 60,
   "metadata": {},
   "outputs": [],
   "source": [
    "good = df_bet[df_bet.star_num > 3]\n",
    "bad = df_bet[df_bet.star_num < 4]"
   ]
  },
  {
   "cell_type": "markdown",
   "metadata": {},
   "source": [
    "## good"
   ]
  },
  {
   "cell_type": "code",
   "execution_count": 62,
   "metadata": {},
   "outputs": [
    {
     "data": {
      "text/plain": [
       "Epoch Coffee                            0.045928\n",
       "Halcyon                                 0.035668\n",
       "The Factory - Cafe With a Soul          0.033225\n",
       "Venezia Italian Gelato                  0.031596\n",
       "Houndstooth Coffee                      0.026710\n",
       "Apanas Coffee & Beer                    0.019707\n",
       "Caffé Medici                            0.018730\n",
       "Sa-Ten                                  0.015472\n",
       "Dolce Neve                              0.015309\n",
       "Summermoon Coffee Bar                   0.015147\n",
       "Anderson’s Coffee Company               0.014821\n",
       "Corona Coffee                           0.014658\n",
       "Hot Mama’s Cafe                         0.014495\n",
       "Figure 8 Coffee Purveyors               0.014495\n",
       "Live Oak Market                         0.014332\n",
       "Patika                                  0.014169\n",
       "Arturo’s Underground Cafe               0.014169\n",
       "Juan Pelota                             0.014007\n",
       "Café Crème                              0.014007\n",
       "TOMS                                    0.013844\n",
       "Mary’s Cafe                             0.013844\n",
       "Seventh Flag Coffee Co                  0.013681\n",
       "Flightpath Coffeehouse                  0.013681\n",
       "Sorrento’s Coffee                       0.013681\n",
       "Café Java                               0.013681\n",
       "Vintage Heart Coffee                    0.013518\n",
       "Tea Haus                                0.013518\n",
       "Irie Bean Coffee Bar                    0.013518\n",
       "Quack’s 43rd Street Bakery              0.013355\n",
       "Fat Cats Organic Coffee And Dessert     0.013192\n",
       "                                          ...   \n",
       "Teo                                     0.011889\n",
       "La Tazza Fresca                         0.011726\n",
       "Cenote                                  0.011726\n",
       "Dominican Joe                           0.011401\n",
       "Russell’s Bakery                        0.011238\n",
       "Pacha                                   0.010912\n",
       "Cuvée Coffee Bar                        0.010912\n",
       "Stinson’s                               0.010749\n",
       "Kick Butt Coffee Music & Booze          0.010749\n",
       "Emerald Tavern Games & Cafe             0.010749\n",
       "Strange Brew, Austin Coffee             0.009772\n",
       "Flat Track Coffee                       0.009609\n",
       "Once Over Coffee Bar                    0.009446\n",
       "Cafe Ruckus                             0.009446\n",
       "Fleet Coffee                            0.009121\n",
       "Third Coast Coffee Roasting Company     0.008795\n",
       "Brian’s Brew                            0.007329\n",
       "Elixer Coffee                           0.006840\n",
       "Mañana Coffee & Juice                   0.005049\n",
       "My Sweet Austin                         0.004723\n",
       "Holy Grounds                            0.004560\n",
       "Flitch Coffee                           0.004560\n",
       "Friends & Neighbors                     0.004397\n",
       "Legend Coffee                           0.004235\n",
       "Tuscany At 360                          0.004235\n",
       "Lucky Lab Coffee                        0.003583\n",
       "Kowabunga Coffee                        0.002443\n",
       "Sister Coffee                           0.002443\n",
       "The Marvelous Vintage Tea Party Co.     0.001629\n",
       "Lola Savannah Coffee Downtown           0.000651\n",
       "Name: coffee_shop_name, Length: 79, dtype: float64"
      ]
     },
     "execution_count": 62,
     "metadata": {},
     "output_type": "execute_result"
    }
   ],
   "source": [
    "good['coffee_shop_name'].value_counts(normalize=True)"
   ]
  },
  {
   "cell_type": "code",
   "execution_count": 64,
   "metadata": {},
   "outputs": [
    {
     "data": {
      "text/plain": [
       "[(' ', 624920),\n",
       " ('e', 317602),\n",
       " ('t', 219943),\n",
       " ('a', 207911),\n",
       " ('o', 200319),\n",
       " ('i', 161515),\n",
       " ('s', 153573),\n",
       " ('n', 152732),\n",
       " ('r', 136386),\n",
       " ('h', 119505)]"
      ]
     },
     "execution_count": 64,
     "metadata": {},
     "output_type": "execute_result"
    }
   ],
   "source": [
    "# Object from Base Python\n",
    "from collections import Counter\n",
    "\n",
    "# The object `Counter` takes an iterable, but you can instaniate an empty one and update it. \n",
    "counts_words = Counter()\n",
    "\n",
    "# Update it based on a split of each of our documents\n",
    "good['full_review_text'].apply(lambda x: counts_words.update(x))\n",
    "\n",
    "# Print out the 10 most common words\n",
    "counts_words.most_common(10)"
   ]
  },
  {
   "cell_type": "markdown",
   "metadata": {},
   "source": [
    "## Bad \n"
   ]
  },
  {
   "cell_type": "code",
   "execution_count": 63,
   "metadata": {},
   "outputs": [
    {
     "data": {
      "text/plain": [
       "Epoch Coffee                            0.079946\n",
       "Halcyon                                 0.054878\n",
       "Once Over Coffee Bar                    0.028455\n",
       "The Factory - Cafe With a Soul          0.027100\n",
       "Strange Brew, Austin Coffee             0.027100\n",
       "Houndstooth Coffee                      0.024390\n",
       "Kick Butt Coffee Music & Booze          0.023035\n",
       "Stinson’s                               0.023035\n",
       "Cuvée Coffee Bar                        0.022358\n",
       "Pacha                                   0.022358\n",
       "Russell’s Bakery                        0.021003\n",
       "Dominican Joe                           0.020325\n",
       "Cenote                                  0.018970\n",
       "Caffé Medici                            0.018970\n",
       "La Tazza Fresca                         0.018970\n",
       "Teo                                     0.018293\n",
       "The Hideout Coffeehouse                 0.018293\n",
       "The Steeping Room                       0.017615\n",
       "Cream Whiskers                          0.017615\n",
       "Genuine Joe                             0.016938\n",
       "Cherrywood Coffeehouse                  0.016938\n",
       "La Patisserie                           0.016260\n",
       "Thunderbird Coffee                      0.015583\n",
       "Trianon Coffee                          0.015583\n",
       "Alta’s Cafe                             0.015583\n",
       "Monkey Nest Coffee                      0.014905\n",
       "The Buzz Mill                           0.014905\n",
       "Radio Coffee & Beer                     0.014905\n",
       "Caffe Medici                            0.014228\n",
       "Jo’s Coffee                             0.014228\n",
       "                                          ...   \n",
       "TOMS                                    0.010163\n",
       "Café Crème                              0.009485\n",
       "Juan Pelota                             0.009485\n",
       "Arturo’s Underground Cafe               0.008808\n",
       "Fat Cats Organic Coffee And Dessert     0.008808\n",
       "Patika                                  0.008808\n",
       "Live Oak Market                         0.008130\n",
       "Figure 8 Coffee Purveyors               0.007453\n",
       "Hot Mama’s Cafe                         0.007453\n",
       "Elixer Coffee                           0.006775\n",
       "Corona Coffee                           0.006775\n",
       "Emerald Tavern Games & Cafe             0.006775\n",
       "Cafe Ruckus                             0.006775\n",
       "Anderson’s Coffee Company               0.006098\n",
       "Tuscany At 360                          0.004743\n",
       "Summermoon Coffee Bar                   0.004743\n",
       "Venezia Italian Gelato                  0.004065\n",
       "Dolce Neve                              0.004065\n",
       "Sa-Ten                                  0.003388\n",
       "Flat Track Coffee                       0.002710\n",
       "Lucky Lab Coffee                        0.002033\n",
       "Mañana Coffee & Juice                   0.001355\n",
       "Holy Grounds                            0.001355\n",
       "My Sweet Austin                         0.001355\n",
       "Friends & Neighbors                     0.001355\n",
       "Legend Coffee                           0.001355\n",
       "Third Coast Coffee Roasting Company     0.001355\n",
       "Sister Coffee                           0.001355\n",
       "Kowabunga Coffee                        0.000678\n",
       "Fleet Coffee                            0.000678\n",
       "Name: coffee_shop_name, Length: 75, dtype: float64"
      ]
     },
     "execution_count": 63,
     "metadata": {},
     "output_type": "execute_result"
    }
   ],
   "source": [
    "bad['coffee_shop_name'].value_counts(normalize=True)"
   ]
  },
  {
   "cell_type": "code",
   "execution_count": 65,
   "metadata": {},
   "outputs": [
    {
     "data": {
      "text/plain": [
       "[(' ', 186178),\n",
       " ('e', 94702),\n",
       " ('t', 68652),\n",
       " ('a', 59363),\n",
       " ('o', 58402),\n",
       " ('i', 46617),\n",
       " ('n', 45174),\n",
       " ('s', 45032),\n",
       " ('r', 41255),\n",
       " ('h', 36156)]"
      ]
     },
     "execution_count": 65,
     "metadata": {},
     "output_type": "execute_result"
    }
   ],
   "source": [
    "# Object from Base Python\n",
    "from collections import Counter\n",
    "\n",
    "# The object `Counter` takes an iterable, but you can instaniate an empty one and update it. \n",
    "counts_words = Counter()\n",
    "\n",
    "# Update it based on a split of each of our documents\n",
    "bad['full_review_text'].apply(lambda x: counts_words.update(x))\n",
    "\n",
    "# Print out the 10 most common words\n",
    "counts_words.most_common(10)"
   ]
  },
  {
   "cell_type": "code",
   "execution_count": 66,
   "metadata": {},
   "outputs": [
    {
     "ename": "NameError",
     "evalue": "name 'tokenizer' is not defined",
     "output_type": "error",
     "traceback": [
      "\u001b[1;31m---------------------------------------------------------------------------\u001b[0m",
      "\u001b[1;31mNameError\u001b[0m                                 Traceback (most recent call last)",
      "\u001b[1;32m<ipython-input-66-2377e8a6cfa2>\u001b[0m in \u001b[0;36m<module>\u001b[1;34m\u001b[0m\n\u001b[0;32m      2\u001b[0m \u001b[1;33m\u001b[0m\u001b[0m\n\u001b[0;32m      3\u001b[0m \u001b[1;34m\"\"\" Update those tokens w/o stopwords\"\"\"\u001b[0m\u001b[1;33m\u001b[0m\u001b[0m\n\u001b[1;32m----> 4\u001b[1;33m \u001b[1;32mfor\u001b[0m \u001b[0mdoc\u001b[0m \u001b[1;32min\u001b[0m \u001b[0mtokenizer\u001b[0m\u001b[1;33m.\u001b[0m\u001b[0mpipe\u001b[0m\u001b[1;33m(\u001b[0m\u001b[0mdf_shop\u001b[0m\u001b[1;33m[\u001b[0m\u001b[1;34m'full_review_text'\u001b[0m\u001b[1;33m]\u001b[0m\u001b[1;33m,\u001b[0m \u001b[0mbatch_size\u001b[0m\u001b[1;33m=\u001b[0m\u001b[1;36m500\u001b[0m\u001b[1;33m)\u001b[0m\u001b[1;33m:\u001b[0m\u001b[1;33m\u001b[0m\u001b[0m\n\u001b[0m\u001b[0;32m      5\u001b[0m \u001b[1;33m\u001b[0m\u001b[0m\n\u001b[0;32m      6\u001b[0m     \u001b[0mdoc_tokens\u001b[0m \u001b[1;33m=\u001b[0m \u001b[1;33m[\u001b[0m\u001b[1;33m]\u001b[0m\u001b[1;33m\u001b[0m\u001b[0m\n",
      "\u001b[1;31mNameError\u001b[0m: name 'tokenizer' is not defined"
     ]
    }
   ],
   "source": [
    "tokens = []\n",
    "\n",
    "\"\"\" Update those tokens w/o stopwords\"\"\"\n",
    "for doc in tokenizer.pipe(df_shop['full_review_text'], batch_size=500):\n",
    "    \n",
    "    doc_tokens = []\n",
    "    \n",
    "    for token in doc:\n",
    "        if (token.is_stop == False) & (token.is_punct == False):\n",
    "            doc_tokens.append(token.text.lower())\n",
    "\n",
    "    tokens.append(doc_tokens)\n",
    "\n",
    "df_shop['tokens'] = tokens"
   ]
  }
 ],
 "metadata": {
  "kernelspec": {
   "display_name": "Python 3",
   "language": "python",
   "name": "python3"
  },
  "language_info": {
   "codemirror_mode": {
    "name": "ipython",
    "version": 3
   },
   "file_extension": ".py",
   "mimetype": "text/x-python",
   "name": "python",
   "nbconvert_exporter": "python",
   "pygments_lexer": "ipython3",
   "version": "3.8.5"
  }
 },
 "nbformat": 4,
 "nbformat_minor": 4
}
