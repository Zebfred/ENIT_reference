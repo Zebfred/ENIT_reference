{
  "nbformat": 4,
  "nbformat_minor": 0,
  "metadata": {
    "colab": {
      "name": "Fake News Title Identification.ipynb",
      "provenance": [],
      "collapsed_sections": []
    },
    "kernelspec": {
      "name": "python3",
      "display_name": "Python 3"
    },
    "accelerator": "GPU"
  },
  "cells": [
    {
      "cell_type": "code",
      "metadata": {
        "id": "RhsDyJjrLAyW",
        "colab": {
          "base_uri": "https://localhost:8080/",
          "height": 156
        },
        "outputId": "23157726-4f48-4583-988b-246706f1d602"
      },
      "source": [
        "import numpy as np\n",
        "import pandas as pd\n",
        "import matplotlib.pyplot as plt\n",
        "from mpl_toolkits.mplot3d import Axes3D\n",
        "from matplotlib.animation import FuncAnimation\n",
        "import seaborn as sns\n",
        "\n",
        "import nltk\n",
        "nltk.download('stopwords')\n",
        "nltk.download('punkt')\n",
        "from nltk.corpus import stopwords\n",
        "from nltk.tokenize import word_tokenize  # Returns split words, while tf vectorizes after splitting.\n",
        "\n",
        "!pip install pyspellchecker\n",
        "from spellchecker import SpellChecker"
      ],
      "execution_count": null,
      "outputs": [
        {
          "output_type": "stream",
          "text": [
            "/usr/local/lib/python3.6/dist-packages/statsmodels/tools/_testing.py:19: FutureWarning: pandas.util.testing is deprecated. Use the functions in the public API at pandas.testing instead.\n",
            "  import pandas.util.testing as tm\n"
          ],
          "name": "stderr"
        },
        {
          "output_type": "stream",
          "text": [
            "[nltk_data] Downloading package stopwords to /root/nltk_data...\n",
            "[nltk_data]   Package stopwords is already up-to-date!\n",
            "[nltk_data] Downloading package punkt to /root/nltk_data...\n",
            "[nltk_data]   Package punkt is already up-to-date!\n",
            "Requirement already satisfied: pyspellchecker in /usr/local/lib/python3.6/dist-packages (0.5.4)\n"
          ],
          "name": "stdout"
        }
      ]
    },
    {
      "cell_type": "code",
      "metadata": {
        "id": "Gu7WFISQNuA7",
        "colab": {
          "base_uri": "https://localhost:8080/",
          "height": 510
        },
        "outputId": "fb2aeb31-8b24-4a0b-cda2-4124a70495c9"
      },
      "source": [
        "try:\n",
        "  # %tensorflow_version only exists in Colab.\n",
        "  %tensorflow_version 2.x\n",
        "except Exception:\n",
        "  pass\n",
        "import tensorflow as tf\n",
        "\n",
        "!pip install tensorflow-hub\n",
        "!pip install tfds-nightly\n",
        "import tensorflow_hub as hub\n",
        "import tensorflow_datasets as tfds\n",
        "\n",
        "print(\"Version: \", tf.__version__)\n",
        "print(\"Eager mode: \", tf.executing_eagerly())\n",
        "print(\"Hub version: \", hub.__version__)\n",
        "print(\"GPU is\", \"available\" if tf.config.experimental.list_physical_devices(\"GPU\") else \"NOT AVAILABLE\")"
      ],
      "execution_count": null,
      "outputs": [
        {
          "output_type": "stream",
          "text": [
            "Requirement already satisfied: tensorflow-hub in /usr/local/lib/python3.6/dist-packages (0.8.0)\n",
            "Requirement already satisfied: six>=1.12.0 in /usr/local/lib/python3.6/dist-packages (from tensorflow-hub) (1.12.0)\n",
            "Requirement already satisfied: protobuf>=3.8.0 in /usr/local/lib/python3.6/dist-packages (from tensorflow-hub) (3.10.0)\n",
            "Requirement already satisfied: numpy>=1.12.0 in /usr/local/lib/python3.6/dist-packages (from tensorflow-hub) (1.18.3)\n",
            "Requirement already satisfied: setuptools in /usr/local/lib/python3.6/dist-packages (from protobuf>=3.8.0->tensorflow-hub) (46.1.3)\n",
            "Requirement already satisfied: tfds-nightly in /usr/local/lib/python3.6/dist-packages (3.0.0.dev202004270105)\n",
            "Requirement already satisfied: wrapt in /usr/local/lib/python3.6/dist-packages (from tfds-nightly) (1.12.1)\n",
            "Requirement already satisfied: numpy in /usr/local/lib/python3.6/dist-packages (from tfds-nightly) (1.18.3)\n",
            "Requirement already satisfied: tensorflow-metadata in /usr/local/lib/python3.6/dist-packages (from tfds-nightly) (0.21.2)\n",
            "Requirement already satisfied: six in /usr/local/lib/python3.6/dist-packages (from tfds-nightly) (1.12.0)\n",
            "Requirement already satisfied: requests>=2.19.0 in /usr/local/lib/python3.6/dist-packages (from tfds-nightly) (2.21.0)\n",
            "Requirement already satisfied: protobuf>=3.6.1 in /usr/local/lib/python3.6/dist-packages (from tfds-nightly) (3.10.0)\n",
            "Requirement already satisfied: dill in /usr/local/lib/python3.6/dist-packages (from tfds-nightly) (0.3.1.1)\n",
            "Requirement already satisfied: future in /usr/local/lib/python3.6/dist-packages (from tfds-nightly) (0.16.0)\n",
            "Requirement already satisfied: attrs>=18.1.0 in /usr/local/lib/python3.6/dist-packages (from tfds-nightly) (19.3.0)\n",
            "Requirement already satisfied: promise in /usr/local/lib/python3.6/dist-packages (from tfds-nightly) (2.3)\n",
            "Requirement already satisfied: termcolor in /usr/local/lib/python3.6/dist-packages (from tfds-nightly) (1.1.0)\n",
            "Requirement already satisfied: tqdm in /usr/local/lib/python3.6/dist-packages (from tfds-nightly) (4.38.0)\n",
            "Requirement already satisfied: absl-py in /usr/local/lib/python3.6/dist-packages (from tfds-nightly) (0.9.0)\n",
            "Requirement already satisfied: googleapis-common-protos in /usr/local/lib/python3.6/dist-packages (from tensorflow-metadata->tfds-nightly) (1.51.0)\n",
            "Requirement already satisfied: certifi>=2017.4.17 in /usr/local/lib/python3.6/dist-packages (from requests>=2.19.0->tfds-nightly) (2020.4.5.1)\n",
            "Requirement already satisfied: chardet<3.1.0,>=3.0.2 in /usr/local/lib/python3.6/dist-packages (from requests>=2.19.0->tfds-nightly) (3.0.4)\n",
            "Requirement already satisfied: idna<2.9,>=2.5 in /usr/local/lib/python3.6/dist-packages (from requests>=2.19.0->tfds-nightly) (2.8)\n",
            "Requirement already satisfied: urllib3<1.25,>=1.21.1 in /usr/local/lib/python3.6/dist-packages (from requests>=2.19.0->tfds-nightly) (1.24.3)\n",
            "Requirement already satisfied: setuptools in /usr/local/lib/python3.6/dist-packages (from protobuf>=3.6.1->tfds-nightly) (46.1.3)\n",
            "Version:  2.2.0-rc3\n",
            "Eager mode:  True\n",
            "Hub version:  0.8.0\n",
            "GPU is NOT AVAILABLE\n"
          ],
          "name": "stdout"
        }
      ]
    },
    {
      "cell_type": "markdown",
      "metadata": {
        "id": "l8CjWN0FdTax"
      },
      "source": [
        "## Cleaning Functions:"
      ]
    },
    {
      "cell_type": "code",
      "metadata": {
        "id": "N-3Hic24N2qu"
      },
      "source": [
        "# Repurposed function to clean Twitter text:\n",
        "def clean_text(uncleaned_text):\n",
        "    # Order of operations:\n",
        "    # 1. Remove symbols/emojis.\n",
        "    # 2. Tokenize for subsequent processes.\n",
        "    # 3. Remove http links.\n",
        "    # 4. Replace contractions with root words.\n",
        "    # 5. Remove @whatever.\n",
        "    # 6. Separate and Remove '_', '#', '/', ''' in that order.\n",
        "    # 7. Join and return.\n",
        "\n",
        "    # Identify junk to be removed.\n",
        "    symbols = ['*', '+', '...', '?', '`', '``', '[', ']', '(', ')', '-', '~', '|', 'â', '€', '™']\n",
        "    \n",
        "    emotes = ['\\x89Û_', '\\x89Ûªt', '\\x89', '\\x89ÛÏ', '\\x89Ûªm', '\\x89ÛÓ',\n",
        "              '\\x89Ûª', '\\x89Û÷', '\\x89ÛªS', 'RAZEDåÊ', '\\x89ÛÒ', 'Ûªs']    \n",
        "    \n",
        "\n",
        "    def remove_symbols(uncleaned_text):\n",
        "        for s in symbols:\n",
        "            uncleaned_text = uncleaned_text.replace(s, ' ')\n",
        "        uncleaned_text = uncleaned_text.replace('&', ' and ')\n",
        "        return uncleaned_text\n",
        "\n",
        "\n",
        "    uncleaned_text = remove_symbols(uncleaned_text)\n",
        "    \n",
        "    \n",
        "    def remove_emote(uncleaned_text):\n",
        "        for emote in emotes:\n",
        "            uncleaned_text = uncleaned_text.replace(emote, '')\n",
        "        return uncleaned_text\n",
        "\n",
        "\n",
        "    uncleaned_text = remove_emote(uncleaned_text)\n",
        "    word_tokens = word_tokenize(uncleaned_text)\n",
        "\n",
        "\n",
        "    def remove_links(word_tokens):\n",
        "        if 'http' in word_tokens:\n",
        "            word_tokens = word_tokens[0:word_tokens.index('http')]\n",
        "        if 'https' in word_tokens:\n",
        "            word_tokens = word_tokens[0:word_tokens.index('https')]\n",
        "        return word_tokens\n",
        "\n",
        "\n",
        "    word_tokens = remove_links(word_tokens)\n",
        "\n",
        "\n",
        "    def delete_contraction(word_tokens):\n",
        "        for i, w in enumerate(word_tokens):\n",
        "            if w == \"'d\":\n",
        "                word_tokens[i] = ''\n",
        "            elif w == \"n't\":\n",
        "                word_tokens[i] = 'not'\n",
        "            elif w == \"'m\":\n",
        "                word_tokens[i] = ''\n",
        "            elif w == \"'re\":\n",
        "                word_tokens[i] = ''\n",
        "            elif w == 'gon':\n",
        "                word_tokens[i] = 'going to'\n",
        "            elif w == 'na':\n",
        "                word_tokens[i] = ''\n",
        "            elif w == \"'s\":\n",
        "                word_tokens[i] = ''\n",
        "            elif w == \"'ll\":\n",
        "                word_tokens[i] = ''\n",
        "            else:\n",
        "                pass\n",
        "        return word_tokens\n",
        "\n",
        "\n",
        "    word_tokens = delete_contraction(word_tokens)\n",
        "\n",
        "\n",
        "    def remove_at(word_tokens):  # remove '@' and words followed by @\n",
        "        j = 0\n",
        "        for i in range(len(word_tokens)):\n",
        "            try:\n",
        "                if word_tokens[j] == '@':\n",
        "                    del word_tokens[j + 1]\n",
        "                    del word_tokens[j]\n",
        "                    j += -1\n",
        "                j += 1\n",
        "            except:\n",
        "                break\n",
        "        return word_tokens\n",
        "\n",
        "\n",
        "    word_tokens = remove_at(word_tokens)\n",
        "\n",
        "\n",
        "    def remove_numbers(word_tokens):\n",
        "      j = 0\n",
        "      for i in range(len(word_tokens)):\n",
        "        try:\n",
        "          if word_tokens[i-j].isnumeric():\n",
        "            del word_tokens[i-j]\n",
        "            j += 1\n",
        "        except:\n",
        "          break\n",
        "      return word_tokens\n",
        "\n",
        "\n",
        "    word_tokens = remove_numbers(word_tokens)\n",
        "\n",
        "    cleaned_text = ' '.join(word_tokens).replace('_', ' ')\n",
        "    cleaned_text = cleaned_text.replace('#', ' ')\n",
        "    cleaned_text = cleaned_text.replace('/', ' ')\n",
        "    cleaned_text = cleaned_text.replace(\"'\", ' ')\n",
        "\n",
        "    return cleaned_text"
      ],
      "execution_count": null,
      "outputs": []
    },
    {
      "cell_type": "markdown",
      "metadata": {
        "id": "OlEDnkdWd1FI"
      },
      "source": [
        "### Spell-Checker and Remove_Stopwords:"
      ]
    },
    {
      "cell_type": "code",
      "metadata": {
        "id": "zlBxe7B-N3FZ"
      },
      "source": [
        "def spellcheck(input_words):  # Additionally casts to LC and removes excess spaces as a nice side-effect of how it spell-checks.\n",
        "  speller = SpellChecker()\n",
        "  words = speller.split_words(input_words)\n",
        "  [speller.correction(w) for w in words]\n",
        "\n",
        "  return ' '.join(words)\n",
        "\n",
        "\n",
        "def remove_stopwords(input_words):\n",
        "  stop_words = set(stopwords.words('english'))  # List of stopwords to remove\n",
        "  word_tokens = word_tokenize(input_words)\n",
        "  words = [w for w in word_tokens if not w in stop_words]\n",
        "\n",
        "  return ' '.join(words)"
      ],
      "execution_count": null,
      "outputs": []
    },
    {
      "cell_type": "code",
      "metadata": {
        "id": "mXH2KqPCkJza"
      },
      "source": [
        "def find_dim(input_text):  # Pass all strings in array, find longest one for padding\n",
        "  m = 0\n",
        "  for i in range(len(input_text)):\n",
        "    word_tokens = word_tokenize(input_text[i])\n",
        "    m = max(m, len(word_tokens))\n",
        "  return m"
      ],
      "execution_count": null,
      "outputs": []
    },
    {
      "cell_type": "markdown",
      "metadata": {
        "id": "tIh-A1yPahfw"
      },
      "source": [
        "### Other Functions:"
      ]
    },
    {
      "cell_type": "code",
      "metadata": {
        "id": "IsbYwZDDalOB"
      },
      "source": [
        "def accuracy(y, y_hat):\n",
        "    return np.mean(y == y_hat)\n",
        "\n",
        "\n",
        "def save_spin(ax, name):\n",
        "  count = 0\n",
        "  for angle in range(0, 360, 10):\n",
        "    ax.view_init(15, angle)\n",
        "    filename='/content/drive/My Drive/Colab Notebooks/Individual Projects/Fake News/Plots/'+str(name)+'_'+str(count)+'_'+str(angle)+'.png'\n",
        "    count += 1\n",
        "    plt.savefig(filename, dpi=96)"
      ],
      "execution_count": null,
      "outputs": []
    },
    {
      "cell_type": "markdown",
      "metadata": {
        "id": "_usfa7gtekIK"
      },
      "source": [
        "## Data Import and Pre-Processing:"
      ]
    },
    {
      "cell_type": "markdown",
      "metadata": {
        "id": "F5LkM_BMldCX"
      },
      "source": [
        "### Import cleaned set, or build new one from raw data if cannot:"
      ]
    },
    {
      "cell_type": "code",
      "metadata": {
        "id": "fY5jU2F9N9Ky",
        "colab": {
          "base_uri": "https://localhost:8080/",
          "height": 34
        },
        "outputId": "22f6ee18-9e04-49f4-d4f4-8edbfcdd4148"
      },
      "source": [
        "# Try to import the cleaned sheet, if it doesn't exist, re-clean the raw data.\n",
        "try:\n",
        "  input_file = \"/content/drive/My Drive/Colab Notebooks/Individual Projects/Fake News/Cleaned_News_Titles.csv\"\n",
        "  data = pd.read_csv(input_file).to_numpy()\n",
        "  print(\"Cleaned data successfully read from file!\")\n",
        "\n",
        "except FileNotFoundError:\n",
        "  # Grab Onion set and header from this file.\n",
        "  input_file = \"/content/drive/My Drive/Colab Notebooks/Individual Projects/Fake News/OnionOrNot.csv\"\n",
        "  df = pd.read_csv(input_file)\n",
        "\n",
        "  labels = df.columns.values\n",
        "  X = df.to_numpy()\n",
        "\n",
        "  # Grab additional Fake News examples and append.\n",
        "  input_file = \"/content/drive/My Drive/Colab Notebooks/Individual Projects/Fake News/Fake.csv\"\n",
        "  df = pd.read_csv(input_file)\n",
        "\n",
        "  temp = np.expand_dims(df['title'].to_numpy(), axis=1)\n",
        "  temp = np.concatenate((temp, np.ones(shape=temp.shape)), axis=1)\n",
        "  X = np.concatenate((X, temp), axis=0)\n",
        "\n",
        "  # Grab additional Real News examples and append.\n",
        "  input_file = \"/content/drive/My Drive/Colab Notebooks/Individual Projects/Fake News/True.csv\"\n",
        "  df = pd.read_csv(input_file)\n",
        "\n",
        "  temp = np.expand_dims(df['title'].to_numpy(), axis=1)\n",
        "  temp = np.concatenate((temp, np.zeros(shape=temp.shape)), axis=1)\n",
        "  X = np.concatenate((X, temp), axis=0)\n",
        "\n",
        "  # Create total text/label arrays and clean the text.\n",
        "  y = X[:, 1].astype(int)  # 1 is Fake, 0 Not Fake.\n",
        "  X = X[:, 0].astype(str)\n",
        "\n",
        "  for i in range(len(X)):\n",
        "    X[i] = clean_text(X[i])\n",
        "\n",
        "  for i in range(len(X)):\n",
        "    X[i] = spellcheck(X[i])\n",
        "\n",
        "  for i in range(len(X)):\n",
        "    X[i] = remove_stopwords(X[i])\n",
        "\n",
        "  print(X.shape)\n",
        "\n",
        "  X = np.expand_dims(X, axis=1)\n",
        "  y = np.expand_dims(y, axis=1)\n",
        "  data = np.concatenate((X, y), axis=1)\n",
        "  df = pd.DataFrame(data)\n",
        "  df.columns = labels\n",
        "\n",
        "  output_file = \"/content/drive/My Drive/Colab Notebooks/Individual Projects/Fake News/Cleaned_News_Titles.csv\"\n",
        "  df.to_csv(output_file, header=True, index=False)\n",
        "\n",
        "  print(\"Cleaned data successfully written to file!\")"
      ],
      "execution_count": null,
      "outputs": [
        {
          "output_type": "stream",
          "text": [
            "Cleaned data successfully read from file!\n"
          ],
          "name": "stdout"
        }
      ]
    },
    {
      "cell_type": "markdown",
      "metadata": {
        "id": "j4vwZzEulVb3"
      },
      "source": [
        "### Pre-Process and Split:"
      ]
    },
    {
      "cell_type": "code",
      "metadata": {
        "id": "UTfc5onkezFR",
        "colab": {
          "base_uri": "https://localhost:8080/",
          "height": 85
        },
        "outputId": "f9bc8700-a5bb-4897-f17d-c5da974a9a4f"
      },
      "source": [
        "# Oversample if desired.\n",
        "numNews = data.shape[0]\n",
        "print(\"Number of News:\", numNews)\n",
        "print(\"Number of Fake News:\", len(data[data[:, 1] == 1]))\n",
        "print(\"Number of Real News:\", len(data[data[:, 1] == 0]))\n",
        "\n",
        "oversample = False\n",
        "\n",
        "if oversample:\n",
        "  num_copies = 1  # Number of copies to add.\n",
        "  minority = data[:, :][data[:, 1] == 1]\n",
        "  print(minority.shape)\n",
        "  \n",
        "  for i in range(num_copies):\n",
        "    np.random.shuffle(minority)\n",
        "    temp = minority\n",
        "    data = np.append(data, temp[:200, :], axis=0)\n",
        "\n",
        "numNews = data.shape[0]\n",
        "print(\"Final Shape:\", data.shape)"
      ],
      "execution_count": null,
      "outputs": [
        {
          "output_type": "stream",
          "text": [
            "Number of News: 68898\n",
            "Number of Fake News: 32481\n",
            "Number of Real News: 36417\n",
            "Final Shape: (68898, 2)\n"
          ],
          "name": "stdout"
        }
      ]
    },
    {
      "cell_type": "code",
      "metadata": {
        "id": "KYfE_N45euwU",
        "colab": {
          "base_uri": "https://localhost:8080/",
          "height": 85
        },
        "outputId": "bce25f34-cfd3-4f20-e2a1-f4ad17e24e0d"
      },
      "source": [
        "# Check sizes and split into train and test sets.\n",
        "np.random.shuffle(data)\n",
        "\n",
        "# Split into Train, Valid, Test sets.\n",
        "split = [0.5, 0.4, 0.1]\n",
        "split[0] = round(numNews*split[0])\n",
        "for i in range(1, len(split)):\n",
        "  split[i] = round(numNews*split[i]) + split[i-1]\n",
        "print(split)\n",
        "\n",
        "y_train = data[:split[0], 1].astype(int).squeeze()\n",
        "X_train = data[:split[0], 0].astype(str)\n",
        "y_valid = data[split[0]:split[1], 1].astype(int).squeeze()\n",
        "X_valid = data[split[0]:split[1], 0].astype(str)\n",
        "y_test = data[split[1]:split[2], 1].astype(int).squeeze()\n",
        "X_test = data[split[1]:split[2], 0].astype(str)\n",
        "\n",
        "# Print splits, make sure shuffling was done correctly.\n",
        "print(len(X_train))\n",
        "print(len(X_valid))\n",
        "print(len(X_test))"
      ],
      "execution_count": null,
      "outputs": [
        {
          "output_type": "stream",
          "text": [
            "[34449, 62008, 68898]\n",
            "34449\n",
            "27559\n",
            "6890\n"
          ],
          "name": "stdout"
        }
      ]
    },
    {
      "cell_type": "markdown",
      "metadata": {
        "id": "ufWbsumBoo4Y"
      },
      "source": [
        "### Tokenization:"
      ]
    },
    {
      "cell_type": "code",
      "metadata": {
        "id": "BNoQy3_boisj",
        "colab": {
          "base_uri": "https://localhost:8080/",
          "height": 51
        },
        "outputId": "3de8ac36-6c6b-47ac-a027-097b9806b7b2"
      },
      "source": [
        "# Tokenize and standardize lengths for training.\n",
        "token_len = max(find_dim(X_train.astype(str)), find_dim(X_valid.astype(str)))\n",
        "print(\"Padding Length: \" + str(token_len))\n",
        "tokenizer = tf.keras.preprocessing.text.Tokenizer()\n",
        "\n",
        "tokenizer.fit_on_texts(X_train)\n",
        "tokenizer.fit_on_texts(X_valid)\n",
        "# tokenizer.fit_on_texts(X_test)  # Don't fit over test since it's not part of the model.\n",
        "print(\"Number of unique words:\", len(tokenizer.word_index))\n",
        "\n",
        "X_train = tokenizer.texts_to_sequences(X_train)  # Vectorizes into numbers\n",
        "X_train = tf.keras.preprocessing.sequence.pad_sequences(X_train, maxlen=token_len, padding='pre', truncating='post')\n",
        "\n",
        "X_valid = tokenizer.texts_to_sequences(X_valid)  # Vectorizes into numbers\n",
        "X_valid = tf.keras.preprocessing.sequence.pad_sequences(X_valid, maxlen=token_len, padding='pre', truncating='post')\n",
        "\n",
        "X_test = tokenizer.texts_to_sequences(X_test)  # Vectorizes into numbers\n",
        "X_test = tf.keras.preprocessing.sequence.pad_sequences(X_test, maxlen=token_len, padding='pre', truncating='post')"
      ],
      "execution_count": null,
      "outputs": [
        {
          "output_type": "stream",
          "text": [
            "Padding Length: 35\n",
            "Number of unique words: 30500\n"
          ],
          "name": "stdout"
        }
      ]
    },
    {
      "cell_type": "markdown",
      "metadata": {
        "id": "Eqmy7ayulO-K"
      },
      "source": [
        "### Tensorization:"
      ]
    },
    {
      "cell_type": "code",
      "metadata": {
        "id": "24pHafs3lMyG",
        "colab": {
          "base_uri": "https://localhost:8080/",
          "height": 68
        },
        "outputId": "b1cb6b8b-b5da-4c42-966d-04e7cb1ba43a"
      },
      "source": [
        "# Shuffle and batch so the format is correct for embedding.\n",
        "X_train = tf.constant(X_train, dtype=tf.int64)\n",
        "y_train = tf.constant(y_train, dtype=tf.int64)\n",
        "train_data = tf.data.Dataset.from_tensor_slices((X_train, y_train)).shuffle(100).batch(100)\n",
        "print(train_data)\n",
        "\n",
        "X_valid = tf.constant(X_valid, dtype=tf.int64)\n",
        "y_valid = tf.constant(y_valid, dtype=tf.int64)\n",
        "valid_data = tf.data.Dataset.from_tensor_slices((X_valid, y_valid)).shuffle(100).batch(100)\n",
        "print(valid_data)\n",
        "\n",
        "X_test = tf.constant(X_test, dtype=tf.int64)\n",
        "y_test = tf.constant(y_test, dtype=tf.int64)\n",
        "test_data = tf.data.Dataset.from_tensor_slices((X_test, y_test)).shuffle(100).batch(100)\n",
        "print(test_data)"
      ],
      "execution_count": null,
      "outputs": [
        {
          "output_type": "stream",
          "text": [
            "<BatchDataset shapes: ((None, 35), (None,)), types: (tf.int64, tf.int64)>\n",
            "<BatchDataset shapes: ((None, 35), (None,)), types: (tf.int64, tf.int64)>\n",
            "<BatchDataset shapes: ((None, 35), (None,)), types: (tf.int64, tf.int64)>\n"
          ],
          "name": "stdout"
        }
      ]
    },
    {
      "cell_type": "markdown",
      "metadata": {
        "id": "qTEXAb3fe3qA"
      },
      "source": [
        "## Build and Train Models:"
      ]
    },
    {
      "cell_type": "markdown",
      "metadata": {
        "id": "VV0bO3V1KBHx"
      },
      "source": [
        "### 2D:"
      ]
    },
    {
      "cell_type": "code",
      "metadata": {
        "id": "wqJNAiLG_3Mf",
        "colab": {
          "base_uri": "https://localhost:8080/",
          "height": 54
        },
        "outputId": "30f70f4c-c85a-45f5-81dc-d08bd7c0f4a4"
      },
      "source": [
        "\"\"\"\n",
        "# Define model layers with Dense over LSTM for Classification\n",
        "model = tf.keras.Sequential()\n",
        "model.add(tf.keras.layers.Embedding(len(tokenizer.word_index)+1, 1000))\n",
        "# Flatten to 1D to line up with subsequent layers since Embedding can take multiple and Dense cannot\n",
        "model.add(tf.keras.layers.LSTM(100, activation=\"relu\", return_sequences=False, recurrent_dropout=0.1))\n",
        "model.add(tf.keras.layers.Dense(100, activation =\"relu\"))\n",
        "model.add(tf.keras.layers.Dense(100, activation =\"relu\"))\n",
        "model.add(tf.keras.layers.Dense(100, activation =\"relu\"))\n",
        "model.add(tf.keras.layers.Dense(1, activation='sigmoid'))\n",
        "print(model.summary())\n",
        "\"\"\""
      ],
      "execution_count": null,
      "outputs": [
        {
          "output_type": "execute_result",
          "data": {
            "text/plain": [
              "'\\n# Define model layers with Dense over LSTM for Classification\\nmodel = tf.keras.Sequential()\\nmodel.add(tf.keras.layers.Embedding(len(tokenizer.word_index)+1, 1000))\\n# Flatten to 1D to line up with subsequent layers since Embedding can take multiple and Dense cannot\\nmodel.add(tf.keras.layers.LSTM(100, activation=\"relu\", return_sequences=False, recurrent_dropout=0.1))\\nmodel.add(tf.keras.layers.Dense(100, activation =\"relu\"))\\nmodel.add(tf.keras.layers.Dense(100, activation =\"relu\"))\\nmodel.add(tf.keras.layers.Dense(100, activation =\"relu\"))\\nmodel.add(tf.keras.layers.Dense(1, activation=\\'sigmoid\\'))\\nprint(model.summary())\\n'"
            ]
          },
          "metadata": {
            "tags": []
          },
          "execution_count": 12
        }
      ]
    },
    {
      "cell_type": "code",
      "metadata": {
        "id": "00gsVqpRPfzS",
        "colab": {
          "base_uri": "https://localhost:8080/",
          "height": 306
        },
        "outputId": "b71b13e8-2c2a-4f5c-ac48-d23ab4e6826b"
      },
      "source": [
        "# Define model layers with Dense over LSTM for Classification\n",
        "model = tf.keras.Sequential()\n",
        "model.add(tf.keras.layers.Embedding(len(tokenizer.word_index)+1, 2))\n",
        "# Flatten to 1D to line up with subsequent layers since Embedding can take multiple and Dense cannot\n",
        "model.add(tf.keras.layers.LSTM(100, activation=\"relu\", return_sequences=False, recurrent_dropout=0.1))\n",
        "model.add(tf.keras.layers.Dense(10, activation =\"relu\"))\n",
        "model.add(tf.keras.layers.Dense(1, activation='sigmoid'))\n",
        "print(model.summary())"
      ],
      "execution_count": null,
      "outputs": [
        {
          "output_type": "stream",
          "text": [
            "Model: \"sequential\"\n",
            "_________________________________________________________________\n",
            "Layer (type)                 Output Shape              Param #   \n",
            "=================================================================\n",
            "embedding (Embedding)        (None, None, 2)           61002     \n",
            "_________________________________________________________________\n",
            "lstm (LSTM)                  (None, 100)               41200     \n",
            "_________________________________________________________________\n",
            "dense (Dense)                (None, 10)                1010      \n",
            "_________________________________________________________________\n",
            "dense_1 (Dense)              (None, 1)                 11        \n",
            "=================================================================\n",
            "Total params: 103,223\n",
            "Trainable params: 103,223\n",
            "Non-trainable params: 0\n",
            "_________________________________________________________________\n",
            "None\n"
          ],
          "name": "stdout"
        }
      ]
    },
    {
      "cell_type": "code",
      "metadata": {
        "id": "IjjrkOWnlzBy",
        "colab": {
          "base_uri": "https://localhost:8080/",
          "height": 289
        },
        "outputId": "8893b0de-f6a2-44cf-bfc3-1fd5c1d57d8a"
      },
      "source": [
        "# Define model parameters after defining layers with compile:\n",
        "tf.keras.backend.clear_session()\n",
        "model.compile(optimizer='adam', loss='binary_crossentropy', metrics=['accuracy'])\n",
        "# Run the fitting and train the model:\n",
        "batch_size = 100 # Number of observations run per set\n",
        "ES = tf.keras.callbacks.EarlyStopping(monitor='val_loss', mode='min', verbose=1, patience=3)\n",
        "MC = tf.keras.callbacks.ModelCheckpoint('best_model.h5', monitor='val_accuracy', mode='max', verbose=1, save_best_only=True)\n",
        "\n",
        "history = model.fit(train_data, validation_data=valid_data, epochs=4, verbose=1, batch_size=batch_size, callbacks = [ES, MC])"
      ],
      "execution_count": null,
      "outputs": [
        {
          "output_type": "stream",
          "text": [
            "Epoch 1/4\n",
            "345/345 [==============================] - ETA: 0s - loss: 0.5924 - accuracy: 0.7186\n",
            "Epoch 00001: val_accuracy improved from -inf to 0.84299, saving model to best_model.h5\n",
            "345/345 [==============================] - 32s 94ms/step - loss: 0.5924 - accuracy: 0.7186 - val_loss: 0.3983 - val_accuracy: 0.8430\n",
            "Epoch 2/4\n",
            "345/345 [==============================] - ETA: 0s - loss: 0.3478 - accuracy: 0.8625\n",
            "Epoch 00002: val_accuracy improved from 0.84299 to 0.86886, saving model to best_model.h5\n",
            "345/345 [==============================] - 32s 93ms/step - loss: 0.3478 - accuracy: 0.8625 - val_loss: 0.3114 - val_accuracy: 0.8689\n",
            "Epoch 3/4\n",
            "345/345 [==============================] - ETA: 0s - loss: 0.2283 - accuracy: 0.9088\n",
            "Epoch 00003: val_accuracy improved from 0.86886 to 0.87173, saving model to best_model.h5\n",
            "345/345 [==============================] - 32s 93ms/step - loss: 0.2283 - accuracy: 0.9088 - val_loss: 0.3187 - val_accuracy: 0.8717\n",
            "Epoch 4/4\n",
            "345/345 [==============================] - ETA: 0s - loss: 0.1747 - accuracy: 0.9335\n",
            "Epoch 00004: val_accuracy improved from 0.87173 to 0.87641, saving model to best_model.h5\n",
            "345/345 [==============================] - 32s 93ms/step - loss: 0.1747 - accuracy: 0.9335 - val_loss: 0.3035 - val_accuracy: 0.8764\n"
          ],
          "name": "stdout"
        }
      ]
    },
    {
      "cell_type": "markdown",
      "metadata": {
        "id": "MdI-VmRdKGiR"
      },
      "source": [
        "### 3D"
      ]
    },
    {
      "cell_type": "code",
      "metadata": {
        "id": "ssuEaXiNKIWA",
        "colab": {
          "base_uri": "https://localhost:8080/",
          "height": 306
        },
        "outputId": "59a5d29f-c024-4cb2-91b0-96ac100df21d"
      },
      "source": [
        "# Define model layers with Dense over LSTM for Classification\n",
        "model3D = tf.keras.Sequential()\n",
        "model3D.add(tf.keras.layers.Embedding(len(tokenizer.word_index)+1, 3))\n",
        "# Flatten to 1D to line up with subsequent layers since Embedding can take multiple and Dense cannot\n",
        "model3D.add(tf.keras.layers.LSTM(100, activation=\"relu\", return_sequences=False, recurrent_dropout=0.1))\n",
        "model3D.add(tf.keras.layers.Dense(10, activation =\"relu\"))\n",
        "model3D.add(tf.keras.layers.Dense(1, activation='sigmoid'))\n",
        "print(model3D.summary())"
      ],
      "execution_count": null,
      "outputs": [
        {
          "output_type": "stream",
          "text": [
            "Model: \"sequential\"\n",
            "_________________________________________________________________\n",
            "Layer (type)                 Output Shape              Param #   \n",
            "=================================================================\n",
            "embedding (Embedding)        (None, None, 3)           91503     \n",
            "_________________________________________________________________\n",
            "lstm (LSTM)                  (None, 100)               41600     \n",
            "_________________________________________________________________\n",
            "dense (Dense)                (None, 10)                1010      \n",
            "_________________________________________________________________\n",
            "dense_1 (Dense)              (None, 1)                 11        \n",
            "=================================================================\n",
            "Total params: 134,124\n",
            "Trainable params: 134,124\n",
            "Non-trainable params: 0\n",
            "_________________________________________________________________\n",
            "None\n"
          ],
          "name": "stdout"
        }
      ]
    },
    {
      "cell_type": "code",
      "metadata": {
        "id": "-nT5hiriKId2",
        "colab": {
          "base_uri": "https://localhost:8080/",
          "height": 357
        },
        "outputId": "61ed756f-d5c8-45ea-a4ec-ea10ce33fe72"
      },
      "source": [
        "# Define model3D parameters after defining layers with compile:\n",
        "tf.keras.backend.clear_session()\n",
        "model3D.compile(optimizer='adam', loss='binary_crossentropy', metrics=['accuracy'])\n",
        "# Run the fitting and train model3D:\n",
        "batch_size = 100 # Number of observations run per set\n",
        "ES = tf.keras.callbacks.EarlyStopping(monitor='val_loss', mode='min', verbose=1, patience=3)\n",
        "MC = tf.keras.callbacks.ModelCheckpoint('best_model3D.h5', monitor='val_accuracy', mode='max', verbose=1, save_best_only=True)\n",
        "\n",
        "history = model3D.fit(train_data, validation_data=valid_data, epochs=5, verbose=1, batch_size=batch_size, callbacks = [ES, MC])"
      ],
      "execution_count": null,
      "outputs": [
        {
          "output_type": "stream",
          "text": [
            "Epoch 1/5\n",
            "345/345 [==============================] - ETA: 0s - loss: 0.6132 - accuracy: 0.7141\n",
            "Epoch 00001: val_accuracy improved from -inf to 0.82880, saving model to best_model3D.h5\n",
            "345/345 [==============================] - 32s 94ms/step - loss: 0.6132 - accuracy: 0.7141 - val_loss: 0.4323 - val_accuracy: 0.8288\n",
            "Epoch 2/5\n",
            "345/345 [==============================] - ETA: 0s - loss: 0.3345 - accuracy: 0.8662\n",
            "Epoch 00002: val_accuracy improved from 0.82880 to 0.86251, saving model to best_model3D.h5\n",
            "345/345 [==============================] - 32s 94ms/step - loss: 0.3345 - accuracy: 0.8662 - val_loss: 0.3701 - val_accuracy: 0.8625\n",
            "Epoch 3/5\n",
            "345/345 [==============================] - ETA: 0s - loss: 0.2285 - accuracy: 0.9088\n",
            "Epoch 00003: val_accuracy improved from 0.86251 to 0.87590, saving model to best_model3D.h5\n",
            "345/345 [==============================] - 32s 93ms/step - loss: 0.2285 - accuracy: 0.9088 - val_loss: 0.3411 - val_accuracy: 0.8759\n",
            "Epoch 4/5\n",
            "345/345 [==============================] - ETA: 0s - loss: 0.1778 - accuracy: 0.9337\n",
            "Epoch 00004: val_accuracy did not improve from 0.87590\n",
            "345/345 [==============================] - 32s 93ms/step - loss: 0.1778 - accuracy: 0.9337 - val_loss: 0.3386 - val_accuracy: 0.8715\n",
            "Epoch 5/5\n",
            "345/345 [==============================] - ETA: 0s - loss: 0.1372 - accuracy: 0.9506\n",
            "Epoch 00005: val_accuracy did not improve from 0.87590\n",
            "345/345 [==============================] - 32s 94ms/step - loss: 0.1372 - accuracy: 0.9506 - val_loss: 0.3853 - val_accuracy: 0.8748\n"
          ],
          "name": "stdout"
        }
      ]
    },
    {
      "cell_type": "markdown",
      "metadata": {
        "id": "BS0CEZ1me5S4"
      },
      "source": [
        "## Predict and Metrics:"
      ]
    },
    {
      "cell_type": "markdown",
      "metadata": {
        "id": "Z7NGdPhibDHs"
      },
      "source": [
        "### Build-in Metrics:"
      ]
    },
    {
      "cell_type": "code",
      "metadata": {
        "id": "c13DYze_Pgtj",
        "colab": {
          "base_uri": "https://localhost:8080/",
          "height": 34
        },
        "outputId": "9e14c3f3-c9e0-4058-b15e-2a75079c6d64"
      },
      "source": [
        "results = model.evaluate(test_data, verbose=2)"
      ],
      "execution_count": null,
      "outputs": [
        {
          "output_type": "stream",
          "text": [
            "69/69 - 1s - loss: 0.2906 - accuracy: 0.8820\n"
          ],
          "name": "stdout"
        }
      ]
    },
    {
      "cell_type": "code",
      "metadata": {
        "id": "wFz1hgMol3oZ",
        "colab": {
          "base_uri": "https://localhost:8080/",
          "height": 51
        },
        "outputId": "a775ea07-1107-4362-b8d3-9fd362a7f941"
      },
      "source": [
        "for name, value in zip(model.metrics_names, results):\n",
        "  print(\"%s: %.3f\" % (name, value))"
      ],
      "execution_count": null,
      "outputs": [
        {
          "output_type": "stream",
          "text": [
            "loss: 0.291\n",
            "accuracy: 0.882\n"
          ],
          "name": "stdout"
        }
      ]
    },
    {
      "cell_type": "code",
      "metadata": {
        "id": "IL9fvkPol7yn",
        "colab": {
          "base_uri": "https://localhost:8080/",
          "height": 139
        },
        "outputId": "d1eb20ad-cc85-4c19-fe7f-6b7c05104c0c"
      },
      "source": [
        "y_hat = model.predict_classes(X_test).reshape(len(y_test), 1)\n",
        "print(len(y_hat))\n",
        "print(type(y_hat))\n",
        "print(len(y_hat[y_hat==1]))"
      ],
      "execution_count": null,
      "outputs": [
        {
          "output_type": "stream",
          "text": [
            "WARNING:tensorflow:From <ipython-input-19-f3ddd4f79c8c>:1: Sequential.predict_classes (from tensorflow.python.keras.engine.sequential) is deprecated and will be removed after 2021-01-01.\n",
            "Instructions for updating:\n",
            "Please use instead:* `np.argmax(model.predict(x), axis=-1)`,   if your model does multi-class classification   (e.g. if it uses a `softmax` last-layer activation).* `(model.predict(x) > 0.5).astype(\"int32\")`,   if your model does binary classification   (e.g. if it uses a `sigmoid` last-layer activation).\n",
            "6890\n",
            "<class 'numpy.ndarray'>\n",
            "3120\n"
          ],
          "name": "stdout"
        }
      ]
    },
    {
      "cell_type": "code",
      "metadata": {
        "id": "lFUakoNYl-Ei",
        "colab": {
          "base_uri": "https://localhost:8080/",
          "height": 422
        },
        "outputId": "d0b16e39-976d-4531-986f-811241f64380"
      },
      "source": [
        "# Make Confusion Matrix\n",
        "print(accuracy(y_test.numpy().reshape(-1, 1), y_hat))\n",
        "plt.figure(figsize=(9, 6))\n",
        "y_true = pd.Series(y_test.numpy().squeeze(), name=\"Actual Label\")\n",
        "y_pred = pd.Series(y_hat.squeeze(), name=\"Predicted Label\")\n",
        "sns.heatmap(pd.crosstab(y_true, y_pred), annot=True, fmt=\"d\", linewidths=0.25)\n",
        "plt.ylim(len(set(y_test.numpy())), 0)  # Fix limits, matplotlib bugged (ver. 3.11)"
      ],
      "execution_count": null,
      "outputs": [
        {
          "output_type": "stream",
          "text": [
            "0.8820029027576197\n"
          ],
          "name": "stdout"
        },
        {
          "output_type": "execute_result",
          "data": {
            "text/plain": [
              "(2.0, 0.0)"
            ]
          },
          "metadata": {
            "tags": []
          },
          "execution_count": 20
        },
        {
          "output_type": "display_data",
          "data": {
            "image/png": "[encoded data removed]",
            "text/plain": [
              "<Figure size 648x432 with 2 Axes>"
            ]
          },
          "metadata": {
            "tags": [],
            "needs_background": "light"
          }
        }
      ]
    },
    {
      "cell_type": "code",
      "metadata": {
        "id": "TwfJ_iEYmAS8",
        "colab": {
          "base_uri": "https://localhost:8080/",
          "height": 54
        },
        "outputId": "1c20347c-41bd-41ba-c734-b91b194a0be1"
      },
      "source": [
        "\"\"\"\n",
        "output = np.concatenate((data[split[1]:split[2], 0:1].reshape(-1, 1), y_hat, y_test.numpy().reshape(-1, 1)), axis=1)\n",
        "df = pd.DataFrame(output)\n",
        "df.columns = ['Text', 'Prediction', 'Label']\n",
        "\n",
        "output_file = \"/content/drive/My Drive/Colab Notebooks/Individual Projects/Fake News/Predictions.csv\"\n",
        "df.to_csv(output_file, header=True, index=False)\n",
        "\"\"\""
      ],
      "execution_count": null,
      "outputs": [
        {
          "output_type": "execute_result",
          "data": {
            "text/plain": [
              "'\\noutput = np.concatenate((data[split[1]:split[2], 0:1].reshape(-1, 1), y_hat, y_test.numpy().reshape(-1, 1)), axis=1)\\ndf = pd.DataFrame(output)\\ndf.columns = [\\'Text\\', \\'Prediction\\', \\'Label\\']\\n\\noutput_file = \"/content/drive/My Drive/Colab Notebooks/Individual Projects/Fake News/Predictions.csv\"\\ndf.to_csv(output_file, header=True, index=False)\\n'"
            ]
          },
          "metadata": {
            "tags": []
          },
          "execution_count": 21
        }
      ]
    },
    {
      "cell_type": "markdown",
      "metadata": {
        "id": "4iGRhGizlKVD"
      },
      "source": [
        "### Adjusted Threshold:"
      ]
    },
    {
      "cell_type": "code",
      "metadata": {
        "id": "TivlJBXexRfB",
        "colab": {
          "base_uri": "https://localhost:8080/",
          "height": 282
        },
        "outputId": "a1f6b404-1d07-4e1a-a23b-d77dca2624d8"
      },
      "source": [
        "y_hat = model.predict(X_test).reshape(len(y_test), 1)\n",
        "\n",
        "temp = []\n",
        "for i in range(len(y_hat)):\n",
        "  temp.append(i)\n",
        "temp = np.array(temp)\n",
        "\n",
        "plt.scatter(temp, y_hat)"
      ],
      "execution_count": null,
      "outputs": [
        {
          "output_type": "execute_result",
          "data": {
            "text/plain": [
              "<matplotlib.collections.PathCollection at 0x7f15b00ac278>"
            ]
          },
          "metadata": {
            "tags": []
          },
          "execution_count": 22
        },
        {
          "output_type": "display_data",
          "data": {
            "image/png": "[encoded data removed]",
            "text/plain": [
              "<Figure size 432x288 with 1 Axes>"
            ]
          },
          "metadata": {
            "tags": [],
            "needs_background": "light"
          }
        }
      ]
    },
    {
      "cell_type": "code",
      "metadata": {
        "id": "kXegKVw3SGrR",
        "colab": {
          "base_uri": "https://localhost:8080/",
          "height": 51
        },
        "outputId": "b83a7b68-35d2-46e0-ccab-920692c32976"
      },
      "source": [
        "# Determine best threshold\n",
        "thresholds = []\n",
        "max_thresh = 0\n",
        "max_test = 0\n",
        "steps = 100\n",
        "for i in range(steps):\n",
        "  thresholds.append(i * (1/steps))\n",
        "\n",
        "temp = np.zeros(shape=y_hat.shape)\n",
        "\n",
        "for thresh in thresholds:\n",
        "  for i in range(len(y_hat)):\n",
        "    if y_hat[i] <= thresh:\n",
        "      temp[i] = 0\n",
        "    else:\n",
        "      temp[i] = 1\n",
        "\n",
        "  test = accuracy(y_test.numpy().reshape(-1, 1), temp)\n",
        "  if test > max_test:\n",
        "    max_test = test\n",
        "    max_thresh = thresh\n",
        "\n",
        "print(\"Treshold Accuracy:\", max_test)\n",
        "print(\"Threshold Value\", max_thresh)"
      ],
      "execution_count": null,
      "outputs": [
        {
          "output_type": "stream",
          "text": [
            "Treshold Accuracy: 0.8820029027576197\n",
            "Threshold Value 0.5\n"
          ],
          "name": "stdout"
        }
      ]
    },
    {
      "cell_type": "code",
      "metadata": {
        "id": "MxF1nK-IlCuX",
        "colab": {
          "base_uri": "https://localhost:8080/",
          "height": 422
        },
        "outputId": "91d05bb9-70d0-4885-b102-f3b4799e7f5b"
      },
      "source": [
        "# Make Confusion Matrix\n",
        "for i in range(len(y_hat)):\n",
        "  if y_hat[i] <= 0.6:\n",
        "    temp[i] = 0\n",
        "  else:\n",
        "    temp[i] = 1\n",
        "\n",
        "print(accuracy(y_test.numpy().reshape(-1, 1), temp))\n",
        "plt.figure(figsize=(9, 6))\n",
        "y_true = pd.Series(y_test.numpy().squeeze(), name=\"Actual Label\")\n",
        "y_pred = pd.Series(temp.squeeze(), name=\"Predicted Label\")\n",
        "sns.heatmap(pd.crosstab(y_true, y_pred), annot=True, fmt=\"d\", linewidths=0.25)\n",
        "plt.ylim(len(set(y_test.numpy())), 0)  # Fix limits, matplotlib bugged (ver. 3.11)"
      ],
      "execution_count": null,
      "outputs": [
        {
          "output_type": "stream",
          "text": [
            "0.879245283018868\n"
          ],
          "name": "stdout"
        },
        {
          "output_type": "execute_result",
          "data": {
            "text/plain": [
              "(2.0, 0.0)"
            ]
          },
          "metadata": {
            "tags": []
          },
          "execution_count": 24
        },
        {
          "output_type": "display_data",
          "data": {
            "image/png": "[encoded data removed]",
            "text/plain": [
              "<Figure size 648x432 with 2 Axes>"
            ]
          },
          "metadata": {
            "tags": [],
            "needs_background": "light"
          }
        }
      ]
    },
    {
      "cell_type": "markdown",
      "metadata": {
        "id": "5xtXDh7NzMuN"
      },
      "source": [
        "## Visualize Concept Space:"
      ]
    },
    {
      "cell_type": "code",
      "metadata": {
        "id": "I1siYf4f1GAE",
        "colab": {
          "base_uri": "https://localhost:8080/",
          "height": 34
        },
        "outputId": "a55b2498-05b0-468f-a6b8-f19608aeae10"
      },
      "source": [
        "# Grab all unique words:\n",
        "single_words = []\n",
        "single_vecs = []\n",
        "\n",
        "for k, v in tokenizer.word_index.items():\n",
        "  single_words.append(k)\n",
        "  single_vecs.append([v])\n",
        "\n",
        "single_words = np.array(single_words).reshape(-1, 1)\n",
        "single_vecs = tf.keras.preprocessing.sequence.pad_sequences(single_vecs, padding = 'pre', truncating = 'post', maxlen = token_len)\n",
        "print(single_words.shape, single_vecs.shape)"
      ],
      "execution_count": null,
      "outputs": [
        {
          "output_type": "stream",
          "text": [
            "(30500, 1) (30500, 35)\n"
          ],
          "name": "stdout"
        }
      ]
    },
    {
      "cell_type": "code",
      "metadata": {
        "id": "8dzWIXeA1uAx",
        "colab": {
          "base_uri": "https://localhost:8080/",
          "height": 153
        },
        "outputId": "504c0adc-14de-4f92-8181-462ded1af46c"
      },
      "source": [
        "# Determine most important words for each class:\n",
        "importance = model.predict(single_vecs).reshape(len(single_vecs), 1)\n",
        "importance = np.concatenate((single_words, importance), axis=1)\n",
        "importance = importance[np.argsort(importance[:, 1])][::-1]\n",
        "\n",
        "# Sanity check:\n",
        "print(importance[0, 1], importance[-1, 1])\n",
        "print(max(importance[:, 1]), min(importance[:, 1]))\n",
        "print(importance.shape)\n",
        "\n",
        "# Grab words of interest from sorted array to plt:\n",
        "numwords = 10\n",
        "fake = importance[0:numwords, 0]\n",
        "real = importance[importance.shape[0]-numwords:importance.shape[0], 0]\n",
        "print(fake.shape, real.shape)\n",
        "print(fake)\n",
        "print(real)"
      ],
      "execution_count": null,
      "outputs": [
        {
          "output_type": "stream",
          "text": [
            "0.8999465 0.0035849214\n",
            "0.8999465 0.0035849214\n",
            "(30500, 2)\n",
            "(10,) (10,)\n",
            "['video' 'breaking' 'hillary' 'watch' 'wow' 'awesome' 'bombshell' 'ck'\n",
            " 'guess' 'illegals']\n",
            "['jailed' 'says' 'seek' 'ireland' 'reuters' 'rohingya' 'myanmar'\n",
            " 'spokesman' 'catalan' 'factbox']\n"
          ],
          "name": "stdout"
        }
      ]
    },
    {
      "cell_type": "code",
      "metadata": {
        "id": "1anj7BhIFeqm",
        "colab": {
          "base_uri": "https://localhost:8080/",
          "height": 34
        },
        "outputId": "91e2d7eb-8f86-4617-c823-3833fc7810bf"
      },
      "source": [
        "# Manually define plotted words to avoid profanity or nonsense on plot:\n",
        "fake_choice = ['video', 'hilarious', 'breaking', 'hillary', 'nation', 'audio', 'illegals', 'images', 'disgusting', 'leftist', 'borders', 'bernie', 'communities', 'protestors', 'neighborhood']\n",
        "real_choice = ['spokesman', 'sources', 'zimbabwe', 'ireland', 'spain', 'kremlin', 'catalan', 'macron', 'brexit', 'india', 'jailed', 'talks', 'ghosts', 'diplomacy', 'watchdog']\n",
        "choice = ['trump', 'illuminati', 'disease', 'unions', 'alligators', 'political']\n",
        "print(len(fake_choice), len(real_choice), len(choice))"
      ],
      "execution_count": null,
      "outputs": [
        {
          "output_type": "stream",
          "text": [
            "15 15 6\n"
          ],
          "name": "stdout"
        }
      ]
    },
    {
      "cell_type": "code",
      "metadata": {
        "id": "D13SUZWuA60_"
      },
      "source": [
        "write = False\n",
        "if write:\n",
        "  df = pd.DataFrame(importance)\n",
        "  df.columns = ['Text', 'Value']\n",
        "\n",
        "  output_file = \"/content/drive/My Drive/Colab Notebooks/Individual Projects/Fake News/Word_Importance.csv\"\n",
        "  df.to_csv(output_file, header=True, index=False)"
      ],
      "execution_count": null,
      "outputs": []
    },
    {
      "cell_type": "markdown",
      "metadata": {
        "id": "jZULtcBtKg8w"
      },
      "source": [
        "### 2D:"
      ]
    },
    {
      "cell_type": "code",
      "metadata": {
        "id": "KbYe0CjxzYHW"
      },
      "source": [
        "# Grab vectorization and of unique words\n",
        "embed = tf.keras.models.Model(inputs = model.inputs, outputs = model.get_layer('embedding').output)\n",
        "f = embed.predict(single_vecs)\n",
        "# print(f)"
      ],
      "execution_count": null,
      "outputs": []
    },
    {
      "cell_type": "code",
      "metadata": {
        "id": "sW2g613306aI",
        "colab": {
          "base_uri": "https://localhost:8080/",
          "height": 806
        },
        "outputId": "be3d3f7d-024f-4049-e925-d65464874028"
      },
      "source": [
        "# Plot highest-valued words in 2D concept space:\n",
        "plt.figure(figsize = (20, 10))\n",
        "center = []\n",
        "count = 0\n",
        "numpoints = 5000\n",
        "\n",
        "for i, (k, v) in enumerate(tokenizer.word_index.items()):\n",
        "  if k in fake:\n",
        "    plt.text(f[i, -1, 0], f[i, -1, 1], k, fontsize=12)\n",
        "    plt.scatter(f[i, -1, 0], f[i, -1, 1], color = 'red', alpha = 0.6)\n",
        "  elif k in real:\n",
        "    plt.text(f[i, -1, 0], f[i, -1, 1], k, fontsize=12)\n",
        "    plt.scatter(f[i, -1, 0], f[i, -1, 1], color = 'green', alpha = 0.6)\n",
        "  elif k in choice:\n",
        "    plt.text(f[i, -1, 0], f[i, -1, 1], k, fontsize=12)\n",
        "    plt.scatter(f[i, -1, 0], f[i, -1, 1], color = 'yellow', alpha = 0.6)\n",
        "  elif i < numpoints:\n",
        "    plt.scatter(f[i, -1, 0], f[i, -1, 1], s = 2, color = 'blue', alpha = 0.2)\n",
        "\n",
        "  if count < 20:\n",
        "    if (0 < abs(f[i, -1, 0]) < 0.01) and (0 < abs(f[i, -1, 1]) < 0.01):\n",
        "      count += 1\n",
        "      center.append(k)\n",
        "\n",
        "plt.set_title('Embedding Outputs: (Real/Fake)\\n Center: {}'.format(center), fontsize = 12)\n",
        "plt.set_xlabel('Embedding Dimension 1')\n",
        "plt.set_ylabel('Embedding Dimension 2')"
      ],
      "execution_count": null,
      "outputs": [
        {
          "output_type": "error",
          "ename": "AttributeError",
          "evalue": "ignored",
          "traceback": [
            "\u001b[0;31m---------------------------------------------------------------------------\u001b[0m",
            "\u001b[0;31mAttributeError\u001b[0m                            Traceback (most recent call last)",
            "\u001b[0;32m<ipython-input-30-351bdb6cc763>\u001b[0m in \u001b[0;36m<module>\u001b[0;34m()\u001b[0m\n\u001b[1;32m     22\u001b[0m       \u001b[0mcenter\u001b[0m\u001b[0;34m.\u001b[0m\u001b[0mappend\u001b[0m\u001b[0;34m(\u001b[0m\u001b[0mk\u001b[0m\u001b[0;34m)\u001b[0m\u001b[0;34m\u001b[0m\u001b[0;34m\u001b[0m\u001b[0m\n\u001b[1;32m     23\u001b[0m \u001b[0;34m\u001b[0m\u001b[0m\n\u001b[0;32m---> 24\u001b[0;31m \u001b[0mplt\u001b[0m\u001b[0;34m.\u001b[0m\u001b[0mset_title\u001b[0m\u001b[0;34m(\u001b[0m\u001b[0;34m'Embedding Outputs: (Real/Fake)\\n Center: {}'\u001b[0m\u001b[0;34m.\u001b[0m\u001b[0mformat\u001b[0m\u001b[0;34m(\u001b[0m\u001b[0mcenter\u001b[0m\u001b[0;34m)\u001b[0m\u001b[0;34m,\u001b[0m \u001b[0mfontsize\u001b[0m \u001b[0;34m=\u001b[0m \u001b[0;36m12\u001b[0m\u001b[0;34m)\u001b[0m\u001b[0;34m\u001b[0m\u001b[0;34m\u001b[0m\u001b[0m\n\u001b[0m\u001b[1;32m     25\u001b[0m \u001b[0mplt\u001b[0m\u001b[0;34m.\u001b[0m\u001b[0mset_xlabel\u001b[0m\u001b[0;34m(\u001b[0m\u001b[0;34m'Embedding Dimension 1'\u001b[0m\u001b[0;34m)\u001b[0m\u001b[0;34m\u001b[0m\u001b[0;34m\u001b[0m\u001b[0m\n\u001b[1;32m     26\u001b[0m \u001b[0mplt\u001b[0m\u001b[0;34m.\u001b[0m\u001b[0mset_ylabel\u001b[0m\u001b[0;34m(\u001b[0m\u001b[0;34m'Embedding Dimension 2'\u001b[0m\u001b[0;34m)\u001b[0m\u001b[0;34m\u001b[0m\u001b[0;34m\u001b[0m\u001b[0m\n",
            "\u001b[0;31mAttributeError\u001b[0m: module 'matplotlib.pyplot' has no attribute 'set_title'"
          ]
        },
        {
          "output_type": "display_data",
          "data": {
            "image/png": "[encoded data removed]",
            "text/plain": [
              "<Figure size 1440x720 with 1 Axes>"
            ]
          },
          "metadata": {
            "tags": [],
            "needs_background": "light"
          }
        }
      ]
    },
    {
      "cell_type": "code",
      "metadata": {
        "id": "tpV9U2jS3Uo1"
      },
      "source": [
        "# Plot select words in 2D concept space:\n",
        "plt.figure(figsize = (20, 10))\n",
        "center = []\n",
        "count = 0\n",
        "numpoints = 5000\n",
        "\n",
        "for i, (k, v) in enumerate(tokenizer.word_index.items()):\n",
        "  if k in fake_choice:\n",
        "    plt.text(f[i, -1, 0], f[i, -1, 1], k, fontsize=12)\n",
        "    plt.scatter(f[i, -1, 0], f[i, -1, 1], color = 'red', alpha = 0.6)\n",
        "  elif k in real_choice:\n",
        "    plt.text(f[i, -1, 0], f[i, -1, 1], k, fontsize=12)\n",
        "    plt.scatter(f[i, -1, 0], f[i, -1, 1], color = 'green', alpha = 0.6)\n",
        "  elif k in choice:\n",
        "    plt.text(f[i, -1, 0], f[i, -1, 1], k, fontsize=12)\n",
        "    plt.scatter(f[i, -1, 0], f[i, -1, 1], color = 'yellow', alpha = 0.6)\n",
        "  elif i < numpoints:\n",
        "    plt.scatter(f[i, -1, 0], f[i, -1, 1], s = 2, color = 'blue', alpha = 0.2)\n",
        "\n",
        "  if count < 20:\n",
        "    if (0 < abs(f[i, -1, 0]) < 0.01) and (0 < abs(f[i, -1, 1]) < 0.01):\n",
        "      count += 1\n",
        "      center.append(k)\n",
        "\n",
        "plt.set_title('Embedding Outputs: (Real/Fake)\\n Center: {}'.format(center), fontsize = 12)\n",
        "plt.set_xlabel('Embedding Dimension 1')\n",
        "plt.set_ylabel('Embedding Dimension 2')"
      ],
      "execution_count": null,
      "outputs": []
    },
    {
      "cell_type": "markdown",
      "metadata": {
        "id": "NSaKtgHKKlSl"
      },
      "source": [
        "### 3D:"
      ]
    },
    {
      "cell_type": "code",
      "metadata": {
        "id": "YYPcophzKnOr"
      },
      "source": [
        "# Grab vectorization and of unique words\n",
        "embed = tf.keras.models.Model(inputs = model3D.inputs, outputs = model3D.get_layer('embedding').output)\n",
        "f = embed.predict(single_vecs)\n",
        "# print(f)"
      ],
      "execution_count": null,
      "outputs": []
    },
    {
      "cell_type": "code",
      "metadata": {
        "id": "sQfvS_mUKqQd"
      },
      "source": [
        "# Plot highest-valued words in 3D concept space:\n",
        "ax = Axes3D(plt.figure(figsize = (20, 10)))\n",
        "center = []\n",
        "count = 0\n",
        "numpoints = 5000\n",
        "\n",
        "for i, (k, v) in enumerate(tokenizer.word_index.items()):\n",
        "  if k in fake:\n",
        "    ax.text(f[i, -1, 0], f[i, -1, 1], f[i, -1, 2], k, None, fontsize=12)\n",
        "    ax.scatter(f[i, -1, 0], f[i, -1, 1], f[i, -1, 2], color = 'red', alpha = 0.6)\n",
        "  elif k in real:\n",
        "    ax.text(f[i, -1, 0], f[i, -1, 1], f[i, -1, 2], k, None, fontsize=12)\n",
        "    ax.scatter(f[i, -1, 0], f[i, -1, 1], f[i, -1, 2], color = 'green', alpha = 0.6)\n",
        "  elif k in choice:\n",
        "    ax.text(f[i, -1, 0], f[i, -1, 1], f[i, -1, 2], k, None, fontsize=12)\n",
        "    ax.scatter(f[i, -1, 0], f[i, -1, 1], f[i, -1, 2], color = 'yellow', alpha = 0.6)\n",
        "  elif i < numpoints:\n",
        "    ax.scatter(f[i, -1, 0], f[i, -1, 1], f[i, -1, 2], s = 2, color = 'blue', alpha = 0.2)\n",
        "\n",
        "  if count < 20:\n",
        "    if (0 < abs(f[i, -1, 0]) < 0.01) and (0 < abs(f[i, -1, 1]) < 0.01) and (0 < abs(f[i, -1, 2]) < 0.01):\n",
        "      count += 1\n",
        "      center.append(k)\n",
        "\n",
        "ax.set_title('Embedding Outputs: (Real/Fake)\\n Center: {}'.format(center), fontsize = 12)\n",
        "ax.set_xlabel('Embedding Dimension 1')\n",
        "ax.set_ylabel('Embedding Dimension 2')\n",
        "ax.set_zlabel('Embedding Dimension 3')\n",
        "\n",
        "# save_spin(ax, '3D_Concept_Space')"
      ],
      "execution_count": null,
      "outputs": []
    },
    {
      "cell_type": "code",
      "metadata": {
        "id": "O_0BT9QQKqT5"
      },
      "source": [
        "# Plot highest-valued words in 3D concept space:\n",
        "ax = Axes3D(plt.figure(figsize = (20, 10)))\n",
        "center = []\n",
        "count = 0\n",
        "numpoints = 5000\n",
        "\n",
        "for i, (k, v) in enumerate(tokenizer.word_index.items()):\n",
        "  if k in fake_choice:\n",
        "    ax.text(f[i, -1, 0], f[i, -1, 1], f[i, -1, 2], k, None, fontsize=12)\n",
        "    ax.scatter(f[i, -1, 0], f[i, -1, 1], f[i, -1, 2], color = 'red', alpha = 0.6)\n",
        "  elif k in real_choice:\n",
        "    ax.text(f[i, -1, 0], f[i, -1, 1], f[i, -1, 2], k, None, fontsize=12)\n",
        "    ax.scatter(f[i, -1, 0], f[i, -1, 1], f[i, -1, 2], color = 'green', alpha = 0.6)\n",
        "  elif k in choice:\n",
        "    ax.text(f[i, -1, 0], f[i, -1, 1], f[i, -1, 2], k, None, fontsize=12)\n",
        "    ax.scatter(f[i, -1, 0], f[i, -1, 1], f[i, -1, 2], color = 'yellow', alpha = 0.6)\n",
        "  elif i < numpoints:\n",
        "    ax.scatter(f[i, -1, 0], f[i, -1, 1], f[i, -1, 2], s = 2, color = 'blue', alpha = 0.2)\n",
        "\n",
        "  if count < 20:\n",
        "    if (0 < abs(f[i, -1, 0]) < 0.01) and (0 < abs(f[i, -1, 1]) < 0.01) and (0 < abs(f[i, -1, 2]) < 0.01):\n",
        "      count += 1\n",
        "      center.append(k)\n",
        "\n",
        "ax.set_title('Embedding Outputs: (Real/Fake)\\n Center: {}'.format(center), fontsize = 12)\n",
        "ax.set_xlabel('Embedding Dimension 1')\n",
        "ax.set_ylabel('Embedding Dimension 2')\n",
        "ax.set_zlabel('Embedding Dimension 3')\n",
        "\n",
        "# save_spin(ax, '3D_Concept_Space_Choice')"
      ],
      "execution_count": null,
      "outputs": []
    },
    {
      "cell_type": "code",
      "metadata": {
        "id": "VwLRCSYDRzb7"
      },
      "source": [
        ""
      ],
      "execution_count": null,
      "outputs": []
    }
  ]
}