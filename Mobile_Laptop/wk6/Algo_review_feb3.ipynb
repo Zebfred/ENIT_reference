{
 "cells": [
  {
   "cell_type": "code",
   "execution_count": null,
   "metadata": {},
   "outputs": [],
   "source": [
    "def centuryFromYear(year):\n",
    "    # No negative value is allow for year\n",
    "    #if (year <= 0):\n",
    "    #    print(\"0 and negative is not allow for a year\")\n",
    "         \n",
    "    # If year is between 1 to 100 it\n",
    "    # will come in 1st century\n",
    "    if (year <= 100):\n",
    "        return 1 \n",
    "    elif (year % 100 == 0):\n",
    "        return year // 100\n",
    "    else:\n",
    "        return year // 100 + 1"
   ]
  },
  {
   "cell_type": "code",
   "execution_count": null,
   "metadata": {},
   "outputs": [],
   "source": [
    "def checkPalindrome(inputString):\n",
    "    str_rev = inputString[::-1]\n",
    "    return inputString == str_rev"
   ]
  },
  {
   "cell_type": "code",
   "execution_count": null,
   "metadata": {},
   "outputs": [],
   "source": [
    "def adjacentElementsProduct(inputArray):\n",
    "    return max(a*b for a, b in zip(inputArray, inputArray[1:]))"
   ]
  }
 ],
 "metadata": {
  "kernelspec": {
   "display_name": "Python 3",
   "language": "python",
   "name": "python3"
  },
  "language_info": {
   "codemirror_mode": {
    "name": "ipython",
    "version": 3
   },
   "file_extension": ".py",
   "mimetype": "text/x-python",
   "name": "python",
   "nbconvert_exporter": "python",
   "pygments_lexer": "ipython3",
   "version": "3.8.5"
  }
 },
 "nbformat": 4,
 "nbformat_minor": 4
}
