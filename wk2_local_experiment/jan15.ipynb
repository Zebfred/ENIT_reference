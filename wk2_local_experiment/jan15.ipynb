{
 "cells": [
  {
   "cell_type": "code",
   "execution_count": null,
   "metadata": {},
   "outputs": [],
   "source": [
    "CREATE PROCEDURE countriesSelection()\n",
    "Begin\n",
    "    select *\n",
    "    from countries\n",
    "    WHERE continent is 'Africa'\n",
    "    ORDER BY name ASC/DESC\n",
    "    \n",
    "    \n",
    "    ;\n",
    "END "
   ]
  },
  {
   "cell_type": "code",
   "execution_count": null,
   "metadata": {},
   "outputs": [],
   "source": [
    "How best to use current energy?\n",
    "porject, dev \n",
    "\n"
   ]
  },
  {
   "cell_type": "code",
   "execution_count": null,
   "metadata": {},
   "outputs": [],
   "source": [
    "lexagraphicall\n",
    "\n"
   ]
  },
  {
   "cell_type": "code",
   "execution_count": null,
   "metadata": {},
   "outputs": [],
   "source": [
    "SQL CONCEPTS\n",
    "NOT IT*\n",
    "AND*\n",
    "ORDER_BY*\n",
    "GROUP_BY*\n",
    "HAVING* (is filter on a aggregate function)\n",
    "COUNT*\n",
    "!=* (NOT EQUAL TO)\n",
    "UNION\n",
    "UNION ALL (keeps duplicates)\n",
    "MINUS (deunion- returns what is in A but not in B)\n",
    "INTERSECT (elements present in both sets)\n",
    "JOIN\n",
    "LEFT JOIN\n",
    "RIGHT JOIN\n",
    "INNER JOIN\n",
    "LEFT OUTER JOIN\n",
    "RIGHT OUTER JOIN\n",
    "CROSS JOIN (cartisian product)\n",
    "\n",
    "CREATE INDEX \n",
    "UNIQUE INDEX\n",
    "CLUSTERED INDEX\n",
    "NON CLUSTERED INDEX\n",
    "SELECT TOP*\n",
    "HAVING*\n",
    "LIKE*\n",
    "NOT LIKE*\n",
    "LEN* (lenght of a string)\n",
    "OLTP*\n",
    "OLAP*\n",
    "1NF (no multivariate attributes)\n",
    "2NF (no columsn should be uniquely identified anything other\n",
    "the primary key)\n",
    "PERCENTILE_RANK*\n",
    "\n",
    "DDL\n",
    "Create*\n",
    "Drop*\n",
    "Truncate*\n",
    "Insert*\n",
    "Update*\n",
    "Grant* (access to a user)\n",
    "Revoke* (access to a user)\n",
    "\n",
    "Aggregate Functions\n",
    "AVG* (average)\n",
    "COUNT*\n",
    "MIN*\n",
    "MAX*\n",
    "FIRST*\n",
    "LAST*\n",
    "STORED PROCEDURES* (BEGIN and END)\n",
    "DELIMITERS*"
   ]
  },
  {
   "cell_type": "code",
   "execution_count": null,
   "metadata": {},
   "outputs": [],
   "source": [
    "SELECT \n",
    "is, \n",
    "scolarship/12 AS purple_monkey\n",
    "FROM scholarships\n",
    "ORDER BY id ASC\n",
    ";\n",
    "\n",
    "\n",
    "\n"
   ]
  },
  {
   "cell_type": "code",
   "execution_count": null,
   "metadata": {},
   "outputs": [],
   "source": [
    "Unions \n",
    "\n",
    "and sub qiueres \n",
    "\n",
    "Built in functions\n",
    "Same syntax, different built in functions"
   ]
  },
  {
   "cell_type": "code",
   "execution_count": null,
   "metadata": {},
   "outputs": [],
   "source": [
    "Select Suspect.id, Suspect.name, Suspect.surname\n",
    "FROM Suspect, \n",
    "WHERE height <= 170\n",
    "AND name LIKE 'b%'\n",
    "AND name Like \"Gre_n\";"
   ]
  },
  {
   "cell_type": "code",
   "execution_count": null,
   "metadata": {},
   "outputs": [],
   "source": [
    "% any characters starting b and what is after \n",
    "\n",
    "_ function as blank"
   ]
  },
  {
   "cell_type": "code",
   "execution_count": null,
   "metadata": {},
   "outputs": [],
   "source": [
    "knowing / responsible \n",
    "\n",
    "\n",
    "Decade ago\n",
    "\n",
    "Data Engineers\n",
    "Big Data\n",
    "\n",
    "\n",
    "6 to 7 years ago\n",
    "\n",
    "Data Scientist \n",
    "\n",
    "Now \n",
    "Machine learning engineer \n",
    "\n",
    "\n",
    "Models are actualling becoming useful\n",
    "\n",
    "Talking to the boss\n",
    "\n",
    "AI implementations\n",
    "\n",
    "Tensor cacalus \n",
    "\n",
    "You have to Understand stuff that not on Google \n",
    "\n",
    "Unsupervised NLP\n",
    "\n",
    "Creating \n"
   ]
  },
  {
   "cell_type": "code",
   "execution_count": null,
   "metadata": {},
   "outputs": [],
   "source": [
    "Chat bot that can be the turning test\n",
    "\n",
    "D\n",
    "\n",
    "There just vectors \n",
    "but very long embedding \n",
    "\n",
    "ML ops difference web and apps \n",
    "\n",
    "More joins \n",
    "\n",
    "Sub quires\n",
    "\n"
   ]
  },
  {
   "cell_type": "code",
   "execution_count": null,
   "metadata": {},
   "outputs": [],
   "source": [
    "Give me the top 3 of something \n",
    "\n",
    "select *\n",
    "FROM \n",
    "\n",
    "\n",
    "WHERE\n",
    "    CASE operation\n",
    "    WHEN \"+\" THEN a + b = c\n",
    "    WHEN \"-\" THEN a- b = c \n",
    "    WHEN \"+\" THEN a * b = c\n",
    "    WHEN \"/\" THEN a / b = c\n",
    "    END;"
   ]
  },
  {
   "cell_type": "code",
   "execution_count": null,
   "metadata": {},
   "outputs": [],
   "source": [
    "SELECT \n",
    "    DATE_FORMAT(date_str, \"%Y-%m-%D\")\n",
    "FROM documents\n",
    "ORDER BY id \n",
    ";\n"
   ]
  },
  {
   "cell_type": "code",
   "execution_count": null,
   "metadata": {},
   "outputs": [],
   "source": [
    "SQL is a subquerie generator \n",
    "\n",
    "alot can be done in pandas "
   ]
  },
  {
   "cell_type": "code",
   "execution_count": null,
   "metadata": {},
   "outputs": [],
   "source": [
    "SELECT\n",
    "    departments.dep_name,\n",
    "    employees.emp_name\n",
    "FROM departments\n",
    "/* does an inner join */\n",
    "JOIN employees\n",
    "OR"
   ]
  },
  {
   "cell_type": "code",
   "execution_count": null,
   "metadata": {},
   "outputs": [],
   "source": [
    "SELECT \n",
    "    candidates.candidate_id AS student_id\n",
    "FROM candidates\n",
    "LEFT JOIN dentions\n",
    "ON detentions.student_id = candidates.candidate_id\n",
    "WHERE detentions.student_id IS NULL\n",
    "ORDER BY student_id ASC;"
   ]
  },
  {
   "cell_type": "code",
   "execution_count": null,
   "metadata": {},
   "outputs": [],
   "source": [
    "PRimary keys \n",
    "secondary keys \n",
    "\n",
    "The famous the same join?\n"
   ]
  },
  {
   "cell_type": "code",
   "execution_count": null,
   "metadata": {},
   "outputs": [],
   "source": [
    "SELECT \n",
    "    ROUND(SUM(ST_DISTANCE(POINT(a.x,a.y ), POINT(b.x,b.y))),9) astotal\n",
    "FROM cities a \n",
    "JOIN cities b \n",
    "on (a.id = b.id + 1);"
   ]
  },
  {
   "cell_type": "code",
   "execution_count": null,
   "metadata": {},
   "outputs": [],
   "source": [
    "w3 schools mysql"
   ]
  },
  {
   "cell_type": "code",
   "execution_count": null,
   "metadata": {},
   "outputs": [],
   "source": [
    "app vs web application\n",
    "\n",
    "it depends\n",
    "\n",
    "or give an api "
   ]
  },
  {
   "cell_type": "code",
   "execution_count": null,
   "metadata": {},
   "outputs": [],
   "source": [
    "Can't use aggrate functon without Group by "
   ]
  },
  {
   "cell_type": "code",
   "execution_count": null,
   "metadata": {},
   "outputs": [],
   "source": [
    "Really cool visual done in matplotlib\n",
    "\n",
    "should look back into matplotlib"
   ]
  },
  {
   "cell_type": "code",
   "execution_count": null,
   "metadata": {},
   "outputs": [],
   "source": [
    "CREATE PROCEDURE monthlyScholarships()\n",
    "BEGIN\n",
    "\t/* Write your SQL here. Terminate each statement with a semicolon. */\n",
    "    SELECT id, scholarship / 12 as scholarship\n",
    "    FROM scholarships ORDER BY id;\n",
    "END"
   ]
  },
  {
   "cell_type": "code",
   "execution_count": null,
   "metadata": {},
   "outputs": [],
   "source": [
    "im = plt.imread('image.jpg')\n",
    "\n",
    "plt."
   ]
  },
  {
   "cell_type": "code",
   "execution_count": null,
   "metadata": {},
   "outputs": [],
   "source": [
    "CREATE PROCEDURE projectsTeam()\n",
    "BEGIN\n",
    "\t/* Write your SQL here. Terminate each statement with a semicolon. */\n",
    "    SELECT DISTINCT name FROM projectLog ORDER BY (name) ASC;\n",
    "END"
   ]
  },
  {
   "cell_type": "code",
   "execution_count": null,
   "metadata": {},
   "outputs": [],
   "source": [
    "MIT material"
   ]
  },
  {
   "cell_type": "code",
   "execution_count": null,
   "metadata": {},
   "outputs": [],
   "source": [
    "CREATE PROCEDURE automaticNotifications()\n",
    "    SELECT email\n",
    "    FROM users\n",
    "    WHERE role NOT IN (\"admin\", \"premium\")\n",
    "\n",
    "    ORDER BY email;\n"
   ]
  },
  {
   "cell_type": "code",
   "execution_count": null,
   "metadata": {},
   "outputs": [],
   "source": [
    "perception mismatch of reality"
   ]
  },
  {
   "cell_type": "code",
   "execution_count": null,
   "metadata": {},
   "outputs": [],
   "source": [
    "import geopie"
   ]
  },
  {
   "cell_type": "code",
   "execution_count": null,
   "metadata": {},
   "outputs": [],
   "source": [
    "# spacial libraries\n",
    "from geopy import Nominatim"
   ]
  },
  {
   "cell_type": "code",
   "execution_count": null,
   "metadata": {},
   "outputs": [],
   "source": [
    "geolocator = Nominatim(user_agent=\"AmericasNTM\")"
   ]
  },
  {
   "cell_type": "code",
   "execution_count": null,
   "metadata": {},
   "outputs": [],
   "source": [
    "location = geolocator.geocode(\"3925 Fraoer RD, Tucson\")"
   ]
  },
  {
   "cell_type": "code",
   "execution_count": null,
   "metadata": {},
   "outputs": [],
   "source": [
    "location.latitude\n"
   ]
  },
  {
   "cell_type": "code",
   "execution_count": null,
   "metadata": {},
   "outputs": [],
   "source": [
    "location.address"
   ]
  },
  {
   "cell_type": "code",
   "execution_count": null,
   "metadata": {},
   "outputs": [],
   "source": [
    "location.point"
   ]
  },
  {
   "cell_type": "code",
   "execution_count": null,
   "metadata": {},
   "outputs": [],
   "source": [
    "location.po"
   ]
  },
  {
   "cell_type": "code",
   "execution_count": 1,
   "metadata": {},
   "outputs": [],
   "source": [
    "import pandas as pd\n"
   ]
  },
  {
   "cell_type": "code",
   "execution_count": null,
   "metadata": {},
   "outputs": [],
   "source": [
    "pd."
   ]
  },
  {
   "cell_type": "code",
   "execution_count": 4,
   "metadata": {},
   "outputs": [
    {
     "ename": "SyntaxError",
     "evalue": "invalid syntax (<ipython-input-4-c8754e05c699>, line 2)",
     "output_type": "error",
     "traceback": [
      "\u001b[1;36m  File \u001b[1;32m\"<ipython-input-4-c8754e05c699>\"\u001b[1;36m, line \u001b[1;32m2\u001b[0m\n\u001b[1;33m    jupyter lab nbextension install --py jupyter_tabnine --user\u001b[0m\n\u001b[1;37m            ^\u001b[0m\n\u001b[1;31mSyntaxError\u001b[0m\u001b[1;31m:\u001b[0m invalid syntax\n"
     ]
    }
   ],
   "source": [
    "!pip install jupyter-tabnine --user\n",
    "jupyter lab nbextension install --py jupyter_tabnine --user\n",
    "jupyter lab nbextension enable --py jupyter_tabnine --user\n",
    "jupyter lab serverextension enable --py jupyter_tabnine --user"
   ]
  },
  {
   "cell_type": "code",
   "execution_count": 5,
   "metadata": {},
   "outputs": [],
   "source": [
    "import numpy as np\n",
    "import pandas as pd \n",
    "import matplotlib.pyplot as plt"
   ]
  },
  {
   "cell_type": "code",
   "execution_count": null,
   "metadata": {},
   "outputs": [],
   "source": [
    "creating\n",
    "\n",
    "be engage best you can in anything you particapate in "
   ]
  },
  {
   "cell_type": "code",
   "execution_count": 6,
   "metadata": {},
   "outputs": [],
   "source": [
    "#Global helper function\n",
    "def OLS(Y, Y_hat , N):\n",
    "    return (1/(2*N))* np.sum((Y-Y_hat)**2)\n",
    "\n",
    "def R2(Y, Y_hat):\n",
    "    return (1 - ( np.sum((Y-Y_hat))**2)/np.sum((Y-np.mean(Y))**2))"
   ]
  },
  {
   "cell_type": "code",
   "execution_count": 9,
   "metadata": {},
   "outputs": [],
   "source": [
    "#Wrote it \n",
    "class OurLinearRegression():\n",
    "    \n",
    "    def fit(self, X, y, epochs=1e3, eta = 1e-3, show_curve = False, lambd = 0 , p = 1):\n",
    "        epochs = int(epochs)\n",
    "        N, D = X.shape\n",
    "        Y = y\n",
    "        \n",
    "        self.W = np.random.randn(D)\n",
    "        # J is a numpy array\n",
    "        J = np.zeros(epochs)\n",
    "        \n",
    "        for epoch in range(epochs):\n",
    "            # int are not itterable\n",
    "            Y_hat = self.predict(X)\n",
    "            \n",
    "            # looks at entire script then compile\n",
    "            \n",
    "            # after the + is our regulazation element\n",
    "            # J[epoch] is the objective function\n",
    "            # W = W - stuff \n",
    "            J[epoch] = OLS(Y,Y_hat, N  ) + (lambd/(p*N))*np.linalg.norm(self.W, ord=p, keepdims=True)\n",
    "            # this is where we actually caculate our weights\n",
    "            #this is the weight update rule  \n",
    "            self.W -= eta*(1/N)*(X.T@(y_hat-Y)) + (1/N)*(lambd*np.abs(self.W)**(p-1)*np.sign(self.W))\n",
    "            \n",
    "            # do we need to derive it? \n",
    "            \n",
    "        if show_curve:\n",
    "            plt.figure()\n",
    "            plt.plot(J)\n",
    "            plt.xlabel(\"epochs\")\n",
    "            # fancy J \n",
    "            plt.ylabel(\"$\\mathcal{J}\")\n",
    "            plt.title(\"Training Curve\")\n",
    "            plt.show()\n",
    "            \n",
    "    def predict(self, X):\n",
    "        # we did matmul last time on the @, both should work\n",
    "        return X@self.W\n",
    "        "
   ]
  },
  {
   "cell_type": "code",
   "execution_count": null,
   "metadata": {},
   "outputs": [],
   "source": [
    "class OURLinearRegression():\n",
    "    \n",
    "    def fit(self, X, y, eta = 1e-3, epochs = 1e3, show_curve = False, lambd = 0, p = 1):\n",
    "        epochs = int(epochs)\n",
    "        N, D = X.shape\n",
    "        Y = y\n",
    "        \n",
    "        self.W = np.random.randn(D)\n",
    "        \n",
    "        J = np.zeros(epochs)\n",
    "        \n",
    "        for epoch in range(epochs):\n",
    "            Y_hat = self.predict(X)\n",
    "            J[epoch] = OLS(Y, Y_hat, N) + (lambd/p*N)*np.linalg.norm(self.W, ord=p, keepdims=True)\n",
    "            self.W -= eta*(1/N)*(X.T@(Y_hat - Y) + (1/N)*(lambd*np.abs(self.W)**(p-1)*np.sign(self.W)))\n",
    "                    \n",
    "        #print(\"This is W:\", self.W)\n",
    "        #print(\"This is J:\", J)\n",
    "        #print(\"This is P_hat:\", P_hat)    \n",
    "        if show_curve:\n",
    "            plt.figure()\n",
    "            plt.plot(J)\n",
    "            plt.xlabel(\"epochs\")\n",
    "            plt.ylabel(\"$\\mathcal{J}$\")\n",
    "            plt.title(\"Training Curve\")\n",
    "            plt.show()        \n",
    "    def predict(self, X):\n",
    "        return X @ self.W"
   ]
  },
  {
   "cell_type": "code",
   "execution_count": null,
   "metadata": {},
   "outputs": [],
   "source": [
    "# adjuxt the J and see how the plots change\n",
    "\n",
    "#were learning and adjusting weights ever so much.\n",
    "\n",
    "#early stopping\n",
    "#we dont\n",
    "# if you dont have a dip then your learning rate is too big\n",
    "\n",
    "#people from asia, like trees\n",
    "\n",
    "# logictic to shallow neural nets\n",
    "# 2 weeks\n",
    "# scannian trunks\n",
    "\n",
    "#Tuesday connect ad download from sql database\n",
    "#logistic classificton\n",
    "# support vector machines\n",
    "\n",
    "#control scaristy\n",
    "\n",
    "#computer vision that can track a target \n",
    "#scanian trunk\n",
    "\n",
    "#will a car braks fail\n",
    "#mnist is use for logistic\n",
    "\n",
    "#96 use an esemble, 100%\n",
    "#present to n ensemble audince\n",
    "\n",
    "#should have appendex\n",
    "#appendex\n",
    "\n",
    "#leading \n",
    "\n",
    "#fancy noise cancellig\n",
    "\n",
    "#20 years research\n",
    "#2010 tech\n",
    "#2015\n",
    "#2020\n",
    "#2022\n",
    "\n",
    "#logic over. religion believe\n",
    "#pandora box\n",
    "\n",
    "# theoritical problems\n",
    "# that will be solved \n",
    "#fussion , protein fold\n",
    "# Franksteinian\n",
    "\n",
    "# we are at the threshold\n",
    "#personal computer \n",
    "\n",
    "#incubation period \n",
    "# tech there something that people will not undersand\n",
    "\n",
    "#demystery\n",
    "\n",
    "#splunk\n",
    "\n",
    "#tools are very small \n",
    "#toys \n",
    "#they can rival and surpass human\n",
    "\n",
    "# alphagozero\n",
    "# 20days plays and beat alphogo\n",
    "\n",
    "# same lego blocks , arrange in a different way\n",
    "\n",
    "# we are looking at the capacity of single neurons\n",
    "\n",
    "#practicing in a way more professional way\n",
    "\n",
    "# appendex \n",
    "having a running model\n",
    "linear with knn, cosine \n",
    "current data, use expended data\n",
    "\n",
    "#top 3 \n",
    "#agile canban\n",
    "#scrum\n",
    "\n",
    "# algorthim with  data"
   ]
  }
 ],
 "metadata": {
  "kernelspec": {
   "display_name": "Python 3",
   "language": "python",
   "name": "python3"
  },
  "language_info": {
   "codemirror_mode": {
    "name": "ipython",
    "version": 3
   },
   "file_extension": ".py",
   "mimetype": "text/x-python",
   "name": "python",
   "nbconvert_exporter": "python",
   "pygments_lexer": "ipython3",
   "version": "3.8.5"
  }
 },
 "nbformat": 4,
 "nbformat_minor": 4
}
